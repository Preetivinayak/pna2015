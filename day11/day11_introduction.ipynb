{
 "metadata": {
  "name": "",
  "signature": "sha256:da581be711eca64523b032e16530b4c771f328d05bac071412240da5cd50d166"
 },
 "nbformat": 3,
 "nbformat_minor": 0,
 "worksheets": [
  {
   "cells": [
    {
     "cell_type": "code",
     "collapsed": false,
     "input": [
      "# - compatibility with Python 3\n",
      "from __future__ import print_function  # print('me') instead of print 'me'\n",
      "from __future__ import division  # 1/2 == 0.5, not 0"
     ],
     "language": "python",
     "metadata": {},
     "outputs": []
    },
    {
     "cell_type": "code",
     "collapsed": false,
     "input": [
      "# - show figures inside the notebook\n",
      "%matplotlib inline"
     ],
     "language": "python",
     "metadata": {},
     "outputs": []
    },
    {
     "cell_type": "code",
     "collapsed": false,
     "input": [
      "# - import common modules\n",
      "import numpy as np  # the Python array package\n",
      "import matplotlib.pyplot as plt  # the Python plotting package"
     ],
     "language": "python",
     "metadata": {},
     "outputs": []
    },
    {
     "cell_type": "code",
     "collapsed": false,
     "input": [
      "# - set gray colormap and nearest neighbor interpolation by default\n",
      "plt.rcParams['image.cmap'] = 'gray'\n",
      "plt.rcParams['image.interpolation'] = 'nearest'"
     ],
     "language": "python",
     "metadata": {},
     "outputs": []
    },
    {
     "cell_type": "code",
     "collapsed": false,
     "input": [
      "# - import numpy.linalg with a shorter name\n",
      "import numpy.linalg as npl"
     ],
     "language": "python",
     "metadata": {},
     "outputs": []
    },
    {
     "cell_type": "markdown",
     "metadata": {},
     "source": [
      "np.diag"
     ]
    },
    {
     "cell_type": "markdown",
     "metadata": {},
     "source": [
      "assert"
     ]
    },
    {
     "cell_type": "markdown",
     "metadata": {},
     "source": [
      "np.random"
     ]
    },
    {
     "cell_type": "markdown",
     "metadata": {},
     "source": [
      "order=1 for resampling."
     ]
    },
    {
     "cell_type": "markdown",
     "metadata": {},
     "source": [
      "## Affine normalization"
     ]
    },
    {
     "cell_type": "markdown",
     "metadata": {},
     "source": [
      "## `map_coordinates`"
     ]
    },
    {
     "cell_type": "markdown",
     "metadata": {},
     "source": [
      "## Distortion fields"
     ]
    },
    {
     "cell_type": "markdown",
     "metadata": {},
     "source": [
      "## Assessing a normalization"
     ]
    }
   ],
   "metadata": {}
  }
 ]
}