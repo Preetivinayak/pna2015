{
 "metadata": {
  "name": "",
  "signature": "sha256:b4c50f99d6d069d9cb816b45f7675506b98a1a1c4ffdc68d099ebfc4d617d8f1"
 },
 "name": "apply_deformation",
 "nbformat": 3,
 "nbformat_minor": 0,
 "worksheets": [
  {
   "cells": [
    {
     "cell_type": "code",
     "collapsed": false,
     "input": [
      "# - compatibility with Python 3\n",
      "from __future__ import print_function  # print('me') instead of print 'me'\n",
      "from __future__ import division  # 1/2 == 0.5, not 0"
     ],
     "language": "python",
     "metadata": {},
     "outputs": []
    },
    {
     "cell_type": "code",
     "collapsed": false,
     "input": [
      "# - show figures inside the notebook\n",
      "%matplotlib inline"
     ],
     "language": "python",
     "metadata": {},
     "outputs": []
    },
    {
     "cell_type": "code",
     "collapsed": false,
     "input": [
      "# - import common modules\n",
      "import numpy as np  # the Python array package\n",
      "import matplotlib.pyplot as plt  # the Python plotting package"
     ],
     "language": "python",
     "metadata": {},
     "outputs": []
    },
    {
     "cell_type": "code",
     "collapsed": false,
     "input": [
      "# - set gray colormap and nearest neighbor interpolation by default\n",
      "plt.rcParams['image.cmap'] = 'gray'\n",
      "plt.rcParams['image.interpolation'] = 'nearest'"
     ],
     "language": "python",
     "metadata": {},
     "outputs": []
    },
    {
     "cell_type": "code",
     "collapsed": false,
     "input": [
      "# - import numpy.linalg with a shorter name\n",
      "import numpy.linalg as npl"
     ],
     "language": "python",
     "metadata": {},
     "outputs": []
    },
    {
     "cell_type": "code",
     "collapsed": false,
     "input": [
      "# - make numpy print out values in less verbose form\n",
      "np.set_printoptions(suppress=True, precision=4)"
     ],
     "language": "python",
     "metadata": {},
     "outputs": []
    },
    {
     "cell_type": "markdown",
     "metadata": {},
     "source": [
      "## Applying a deformation field"
     ]
    },
    {
     "cell_type": "markdown",
     "metadata": {},
     "source": [
      "We should have already calculated the deformation field for the image `ds107_sub012_highres.nii`.\n",
      "\n",
      "We did this using the SPM12 `Normalise: Estimate` option from the GUI.\n",
      "\n",
      "This should have left an image called `y_ds107_sub012_highres.nii` in the directory containing this notebook.\n",
      "\n",
      "If not:\n",
      "\n",
      "1) Ask for help;\n",
      "2) If you get stuck, you can download the image from https://nipy.bic.berkeley.edu/pna/results/y_ds107_sub012_highres.nii"
     ]
    },
    {
     "cell_type": "markdown",
     "metadata": {},
     "source": [
      "We make an image object for this deformations image by loading with nibabel."
     ]
    },
    {
     "cell_type": "code",
     "collapsed": false,
     "input": [
      "# - Load y_ds107_sub012_highres.nii with nibabel\n",
      "# Get the image array data\n",
      "import nibabel as nib\n",
      "deformations_img = nib.load('y_ds107_sub012_highres.nii')\n",
      "deformations_data = deformations_img.get_data()\n",
      "deformations_data.shape"
     ],
     "language": "python",
     "metadata": {},
     "outputs": []
    },
    {
     "cell_type": "markdown",
     "metadata": {},
     "source": [
      "We are going to work out how to apply this *deformations* image to reslice our original image `ds107_sub012_highres.nii`."
     ]
    },
    {
     "cell_type": "markdown",
     "metadata": {},
     "source": [
      "Oddly - this is a 5 dimensional image, where the 4th dimension is length 1.\n",
      "\n",
      "The length-1 4th dimension is an artefact of the NIfTI image format - so let's get rid of this dimension with `np.squeeze`:"
     ]
    },
    {
     "cell_type": "code",
     "collapsed": false,
     "input": [
      "# - Remove length-1 4th dimension from deformation data\n",
      "deformations_data = np.squeeze(deformations_data)\n",
      "deformations_data.shape"
     ],
     "language": "python",
     "metadata": {},
     "outputs": []
    },
    {
     "cell_type": "markdown",
     "metadata": {},
     "source": [
      "The data is now a 4-dimensional image, containing 3 volumes.  These volumes are:\n",
      "\n",
      "* x coordinates;\n",
      "* y coordinates;\n",
      "* z coordinates\n",
      "\n",
      "respectively."
     ]
    },
    {
     "cell_type": "markdown",
     "metadata": {},
     "source": [
      "Put another way, the vector `deformations_data[i, j, k, :]` gives the (x, y, z) coordinates for the voxel `[i, j, k]`.  More on this later."
     ]
    },
    {
     "cell_type": "markdown",
     "metadata": {},
     "source": [
      "If you were looking carefully on the SPM interface, SPM has calculated the distortions necessary to go from a template of *tissue probability maps* (called `TPM.nii`) to the `ds107_sub012_highres.nii` image."
     ]
    },
    {
     "cell_type": "markdown",
     "metadata": {},
     "source": [
      "We can get the original 3D shape and affine of `TPM.nii` because SPM stored them in `y_ds107_sub012_highres.nii`:"
     ]
    },
    {
     "cell_type": "code",
     "collapsed": false,
     "input": [
      "# - get original TPM.nii 3D shape and affine\n",
      "tpm_shape = deformations_data.shape[:3]\n",
      "tpm_affine = deformations_img.affine\n",
      "tpm_affine"
     ],
     "language": "python",
     "metadata": {},
     "outputs": []
    },
    {
     "cell_type": "markdown",
     "metadata": {},
     "source": [
      "First we look at the images before the normalization has been applied.\n",
      "\n",
      "To do that, we will make a new copy of the MNI template, with the same shape as the TPM image.\n",
      "\n",
      "The MNI template image we will use is `mni_icbm152_t1_tal_nlin_asym_09a.nii`"
     ]
    },
    {
     "cell_type": "code",
     "collapsed": false,
     "input": [
      "# - load the template image we will resample from\n",
      "template_img = nib.load('mni_icbm152_t1_tal_nlin_asym_09a.nii')\n",
      "template_data = template_img.get_data()\n",
      "template_data.shape"
     ],
     "language": "python",
     "metadata": {},
     "outputs": []
    },
    {
     "cell_type": "markdown",
     "metadata": {},
     "source": [
      "To do this, we need the mapping from voxels in `TPM.nii` to voxels in `mni_icbm152_t1_tal_nlin_asym_09a.nii`.\n",
      "\n",
      "We can break this down into two transforms:\n",
      "\n",
      "* from voxels in `TPM.nii` to mm;\n",
      "* from mm to voxels in `mni_icbm152_t1_tal_nlin_asym_09a.nii`.\n",
      "\n",
      "We have these already.  So the full transform is:"
     ]
    },
    {
     "cell_type": "code",
     "collapsed": false,
     "input": [
      "# - voxels in TPM.nii to voxels in mni_icbm152_t1_tal_nlin_asym_09a.nii\n",
      "# Matrix multiplication is right to left\n",
      "vox2vox = npl.inv(template_img.affine).dot(tpm_affine)\n",
      "vox2vox"
     ],
     "language": "python",
     "metadata": {},
     "outputs": []
    },
    {
     "cell_type": "markdown",
     "metadata": {},
     "source": [
      "We break this down into 3x3 `mat` and length 3 `vec` components:"
     ]
    },
    {
     "cell_type": "code",
     "collapsed": false,
     "input": [
      "# - to mat and vec\n",
      "mat, vec = nib.affines.to_matvec(vox2vox)\n",
      "mat, vec"
     ],
     "language": "python",
     "metadata": {},
     "outputs": []
    },
    {
     "cell_type": "markdown",
     "metadata": {},
     "source": [
      "Then we resample from the MNI template, into the voxel grid of the `TPM.nii`:"
     ]
    },
    {
     "cell_type": "code",
     "collapsed": false,
     "input": [
      "# - resample MNI template onto TPM grid\n",
      "from scipy.ndimage import affine_transform\n",
      "template_into_tpm = affine_transform(template_data, mat, vec, output_shape=tpm_shape)\n",
      "template_into_tpm.shape"
     ],
     "language": "python",
     "metadata": {},
     "outputs": []
    },
    {
     "cell_type": "markdown",
     "metadata": {},
     "source": [
      "Here is the new version of the template image:"
     ]
    },
    {
     "cell_type": "code",
     "collapsed": false,
     "input": [
      "# - plot the template image resampled onto the TPM grid\n",
      "plt.imshow(template_into_tpm[:, :, 60])"
     ],
     "language": "python",
     "metadata": {},
     "outputs": []
    },
    {
     "cell_type": "markdown",
     "metadata": {},
     "source": [
      "Now, what do with with the SPM distortion field in `deformations_data`?"
     ]
    },
    {
     "cell_type": "markdown",
     "metadata": {},
     "source": [
      "By checking in the SPM source code, it is possible work out that `deformations_data` contains, for every voxel in TPM, the corresponding mm coordinate in the mm space of the subject image.\n",
      "\n",
      "That is, `deformations_data[i, j, k]` is a length 3 vector `[x, y, z]` where `[x, y, z]` are the mm coordinates of voxel `[i, j, k]` when mapped into millimeters for the subject image.\n",
      "\n",
      "Here is the subject data, and the image, which contains the affine:"
     ]
    },
    {
     "cell_type": "code",
     "collapsed": false,
     "input": [
      "# - load the subject data that we will resample from\n",
      "subject_img = nib.load('ds107_sub012_highres.nii')\n",
      "subject_data = subject_img.get_data()\n",
      "subject_data.shape"
     ],
     "language": "python",
     "metadata": {},
     "outputs": []
    },
    {
     "cell_type": "markdown",
     "metadata": {},
     "source": [
      "With this information, and with the `scipy.ndimage.map_coordinates` function, you should be able to:\n",
      "\n",
      "* get the mapping from voxels in TPM to voxels in the subject image and\n",
      "* resample the subject image into the grid of the TPM image using this mapping.\n",
      "\n",
      "Hint: remember that `map_coordinates` expects the 3-length coordinate dimension to be first, but `deformations_data` - at the moment - has the 3-length coordinate dimension last."
     ]
    },
    {
     "cell_type": "code",
     "collapsed": false,
     "input": [
      "# * get the mapping from voxels in TPM to voxels in the subject image and\n",
      "# * resample the subject image into the grid of the TPM image using this mapping."
     ],
     "language": "python",
     "metadata": {},
     "outputs": []
    },
    {
     "cell_type": "markdown",
     "metadata": {},
     "source": [
      "Show an example slice from the template resampled into TPM and the subject resampled into TPM"
     ]
    },
    {
     "cell_type": "code",
     "collapsed": false,
     "input": [
      "# - show an example slice from the resampled template and resampled subject\n",
      "fig, axes = plt.subplots(1, 2, figsize=(10, 5))\n",
      "axes[0].imshow(template_into_tpm[:, :, 60])\n",
      "axes[1].imshow(subject_into_tpm[:, :, 60])"
     ],
     "language": "python",
     "metadata": {},
     "outputs": []
    }
   ],
   "metadata": {}
  }
 ]
}