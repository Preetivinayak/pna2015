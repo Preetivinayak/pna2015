{
 "metadata": {
  "name": "",
  "signature": "sha256:3d5674e4d755a4f1dc22207ea0fcfdfd3fbc3b8a6fa8776bdd3ce0e07f2ef1fd"
 },
 "nbformat": 3,
 "nbformat_minor": 0,
 "worksheets": [
  {
   "cells": [
    {
     "cell_type": "markdown",
     "metadata": {},
     "source": [
      "# Parameter estimates for correlated regressors"
     ]
    },
    {
     "cell_type": "markdown",
     "metadata": {},
     "source": [
      "By JB Poline and Matthew Brett."
     ]
    },
    {
     "cell_type": "code",
     "collapsed": false,
     "input": [
      "# Compatibility with Python 3\n",
      "from __future__ import print_function  # print('me') instead of print 'me'\n",
      "from __future__ import division  # 1/2 == 0.5, not 0"
     ],
     "language": "python",
     "metadata": {},
     "outputs": [],
     "prompt_number": 1
    },
    {
     "cell_type": "code",
     "collapsed": false,
     "input": [
      "# Array and plotting libraries\n",
      "import numpy as np\n",
      "import numpy.linalg as npl\n",
      "import matplotlib.pyplot as plt"
     ],
     "language": "python",
     "metadata": {},
     "outputs": [],
     "prompt_number": 2
    },
    {
     "cell_type": "code",
     "collapsed": false,
     "input": [
      "# Display plots inside the notebook\n",
      "%matplotlib inline"
     ],
     "language": "python",
     "metadata": {},
     "outputs": [],
     "prompt_number": 3
    },
    {
     "cell_type": "code",
     "collapsed": false,
     "input": [
      "# Make numpy print 4 significant digits for prettiness\n",
      "np.set_printoptions(precision=4, suppress=True)"
     ],
     "language": "python",
     "metadata": {},
     "outputs": [],
     "prompt_number": 4
    },
    {
     "cell_type": "code",
     "collapsed": false,
     "input": [
      "# Set random number seed to make random numbers reproducible\n",
      "np.random.seed(42)"
     ],
     "language": "python",
     "metadata": {},
     "outputs": [],
     "prompt_number": 5
    },
    {
     "cell_type": "markdown",
     "metadata": {},
     "source": [
      "## Some models with correlated regressors"
     ]
    },
    {
     "cell_type": "markdown",
     "metadata": {},
     "source": [
      "Imagine we have a TR (image) every 2 seconds, for 30 seconds.  Here are the times of the TR onsets, in seconds:"
     ]
    },
    {
     "cell_type": "code",
     "collapsed": false,
     "input": [
      "times = np.arange(0, 30, 2)\n",
      "times"
     ],
     "language": "python",
     "metadata": {},
     "outputs": [
      {
       "metadata": {},
       "output_type": "pyout",
       "prompt_number": 6,
       "text": [
        "array([ 0,  2,  4,  6,  8, 10, 12, 14, 16, 18, 20, 22, 24, 26, 28])"
       ]
      }
     ],
     "prompt_number": 6
    },
    {
     "cell_type": "markdown",
     "metadata": {},
     "source": [
      "Now we make a function returning an HRF shape for an input vector of times:"
     ]
    },
    {
     "cell_type": "code",
     "collapsed": false,
     "input": [
      "# Gamma distribution from scipy\n",
      "from scipy.stats import gamma\n",
      "\n",
      "def spm_hrf(times):\n",
      "    \"\"\" Return values for SPM-like HRF at given times \"\"\"\n",
      "    # Make output vector\n",
      "    values = np.zeros(len(times))\n",
      "    # Only evaluate gamma above 0 (undefined at <= 0)\n",
      "    valid_times = times[times > 0]\n",
      "    # Gamma pdf for the peak\n",
      "    peak_values = gamma.pdf(valid_times, 6)\n",
      "    # Gamma pdf for the undershoot\n",
      "    undershoot_values = gamma.pdf(valid_times, 12)\n",
      "    # Combine them, put back into values vector\n",
      "    values[times > 0] = peak_values - 0.35 * undershoot_values\n",
      "    # Scale area under curve to 1\n",
      "    return values / np.sum(values)"
     ],
     "language": "python",
     "metadata": {},
     "outputs": [],
     "prompt_number": 7
    },
    {
     "cell_type": "markdown",
     "metadata": {},
     "source": [
      "We will sample the HRF at the given times (to simulate an event starting at time 0), and at times - 2 (simulating an event starting at time 2).\n",
      "\n",
      "Call the t=0 sample vector `hrf1` and the t=2 sample vector `hrf2`."
     ]
    },
    {
     "cell_type": "code",
     "collapsed": false,
     "input": [
      "hrf1 = spm_hrf(times) # An HRF starting at t=2\n",
      "hrf2 = spm_hrf(times - 2) # An HRF with 2 seconds (one TR) delay\n",
      "# Remove the mean from both HRF regressors\n",
      "hrf1 = (hrf1 - hrf1.mean())\n",
      "hrf2 = (hrf2 - hrf2.mean())"
     ],
     "language": "python",
     "metadata": {},
     "outputs": [],
     "prompt_number": 8
    },
    {
     "cell_type": "code",
     "collapsed": false,
     "input": [
      "plt.plot(times, hrf1, label='hrf1 starts t=0')\n",
      "plt.plot(times, hrf2, label='hrf2 start t=2')\n",
      "plt.legend()"
     ],
     "language": "python",
     "metadata": {},
     "outputs": [
      {
       "metadata": {},
       "output_type": "pyout",
       "prompt_number": 9,
       "text": [
        "<matplotlib.legend.Legend at 0x1080c0b90>"
       ]
      },
      {
       "metadata": {},
       "output_type": "display_data",
       "png": "[encoded data removed]",
       "text": [
        "<matplotlib.figure.Figure at 0x10659cc90>"
       ]
      }
     ],
     "prompt_number": 9
    },
    {
     "cell_type": "markdown",
     "metadata": {},
     "source": [
      "The Pearson correlation coefficient between the HRFs for the two events:"
     ]
    },
    {
     "cell_type": "code",
     "collapsed": false,
     "input": [
      "np.corrcoef(hrf1, hrf2)"
     ],
     "language": "python",
     "metadata": {},
     "outputs": [
      {
       "metadata": {},
       "output_type": "pyout",
       "prompt_number": 10,
       "text": [
        "array([[ 1.    ,  0.7023],\n",
        "       [ 0.7023,  1.    ]])"
       ]
      }
     ],
     "prompt_number": 10
    },
    {
     "cell_type": "markdown",
     "metadata": {},
     "source": [
      "Now we are going to make some simulated data.\n",
      "\n",
      "We make the data from some *signal* and some *noise*.\n",
      "\n",
      "The *signal* comes from the sum of `hrf1` and `hrf2`.  This simulates the occurence of two events, one starting at t=0, one at t=2, both causing an HRF response:"
     ]
    },
    {
     "cell_type": "code",
     "collapsed": false,
     "input": [
      "signal = hrf1 + hrf2\n",
      "plt.plot(hrf1, label='hrf1')\n",
      "plt.plot(hrf2, label='hrf2')\n",
      "plt.plot(signal, label='signal (combined hrfs)')\n",
      "plt.legend()"
     ],
     "language": "python",
     "metadata": {},
     "outputs": [
      {
       "metadata": {},
       "output_type": "pyout",
       "prompt_number": 11,
       "text": [
        "<matplotlib.legend.Legend at 0x10836e7d0>"
       ]
      },
      {
       "metadata": {},
       "output_type": "display_data",
       "png": "[encoded data removed]",
       "text": [
        "<matplotlib.figure.Figure at 0x1080e5cd0>"
       ]
      }
     ],
     "prompt_number": 11
    },
    {
     "cell_type": "markdown",
     "metadata": {},
     "source": [
      "The simulated data is this signal combined with some random noise:"
     ]
    },
    {
     "cell_type": "code",
     "collapsed": false,
     "input": [
      "noise = np.random.normal(size=times.shape)\n",
      "Y = signal + noise\n",
      "plt.plot(times, signal, label='signal')\n",
      "plt.plot(times, Y, '+', label='signal + noise')\n",
      "plt.legend()"
     ],
     "language": "python",
     "metadata": {},
     "outputs": [
      {
       "metadata": {},
       "output_type": "pyout",
       "prompt_number": 12,
       "text": [
        "<matplotlib.legend.Legend at 0x1084a1e10>"
       ]
      },
      {
       "metadata": {},
       "output_type": "display_data",
       "png": "[encoded data removed]",
       "text": [
        "<matplotlib.figure.Figure at 0x108324b90>"
       ]
      }
     ],
     "prompt_number": 12
    },
    {
     "cell_type": "markdown",
     "metadata": {},
     "source": [
      "We are going apply several linear models to these simulated data.\n",
      "\n",
      "All our models include a regressor of a vector of ones, modeling the mean. Call this regressor $\\vec{1}$: \n",
      "\n",
      "* A model with `hrf1` and $\\vec{1}$;\n",
      "* A model with `hrf1, hrf2` and $\\vec{1}$;\n",
      "* A model with `hrf1`, $\\vec{w}$ and $\\vec{1}$, where $\\vec{w}$ is `hrf2` *orthogonalized with respect to* `hrf1`.  We explain what we mean by this further down the page.\n",
      "\n",
      "First, the model with `hrf1`, $\\vec{1}$:"
     ]
    },
    {
     "cell_type": "code",
     "collapsed": false,
     "input": [
      "X_s = np.vstack((hrf1, np.ones_like(hrf1))).T\n",
      "plt.imshow(X_s, interpolation='nearest', cmap='gray')\n",
      "plt.title('Model with hrf1 regressor')"
     ],
     "language": "python",
     "metadata": {},
     "outputs": [
      {
       "metadata": {},
       "output_type": "pyout",
       "prompt_number": 13,
       "text": [
        "<matplotlib.text.Text at 0x1085125d0>"
       ]
      },
      {
       "metadata": {},
       "output_type": "display_data",
       "png": "[encoded data removed]",
       "text": [
        "<matplotlib.figure.Figure at 0x108463250>"
       ]
      }
     ],
     "prompt_number": 13
    },
    {
     "cell_type": "markdown",
     "metadata": {},
     "source": [
      "## Simulating the effect of noise on parameter estimates"
     ]
    },
    {
     "cell_type": "markdown",
     "metadata": {},
     "source": [
      "Remember that the students-t statistic is:\n",
      "\n",
      "$$\n",
      "t = \\frac{c^T \\hat\\beta}{\\sqrt{\\mathrm{var}(c^T \\hat\\beta)}}\n",
      "$$\n",
      "\n",
      "where $c^T$ is a row vector of contrast weights, $\\hat{\\beta}$ is our vector of estimated parameters, and $\\mathrm{var}(c^T \\hat\\beta)$ is the variance of $c^T \\hat\\beta$.\n",
      "\n",
      "On the assumption of zero mean normally distributed independent noise:\n",
      "\n",
      "$$\n",
      "\\mathrm{var}(c^T \\hat\\beta) = \\hat{\\sigma}^2 c^T (X^T X)^+ c\n",
      "$$\n",
      "\n",
      "where $\\hat{\\sigma}^2$ is our estimate of variance in the residuals, and $(X^T X)^+$ is the [pseudo-inverse](https://en.wikipedia.org/wiki/Moore%E2%80%93Penrose_pseudoinverse) of $X^T X$.\n",
      "\n",
      "Therefore:\n",
      "\n",
      "$$\n",
      "t = \\frac{c^T \\hat\\beta}{\\sqrt{\\hat{\\sigma}^2 c^T (X^T X)^+ c}}\n",
      "$$\n",
      "\n"
     ]
    },
    {
     "cell_type": "markdown",
     "metadata": {},
     "source": [
      "We will see that this expection of variance correctly predicts that parameter estimates for correlated regressors will have higher variance for a given level of noise (where the level of noise can be captured by $\\hat{\\sigma}^2$)."
     ]
    },
    {
     "cell_type": "markdown",
     "metadata": {},
     "source": [
      "Put another way, the parameter estimates of correlated regressors are more susceptible to the effect of noise."
     ]
    },
    {
     "cell_type": "markdown",
     "metadata": {},
     "source": [
      "We can look at the variability of the parameter estimates, by estimating our models on many different simulated data vectors.\n",
      "\n",
      "Each of the data vectors are made of the *signal* (the sum of `hrf1` and `hrf2`) and some *noise*.  We take a new sample of noise for each data vector:"
     ]
    },
    {
     "cell_type": "code",
     "collapsed": false,
     "input": [
      "n_times = len(times) # number of elements in single data vector\n",
      "n_data_vectors = 100000\n",
      "# Make many noise vectors (new noise for each column)\n",
      "noise_vectors = np.random.normal(size=(n_times, n_data_vectors))\n",
      "# add signal to make data vectors\n",
      "# Use numpy broadcasting to add vector elementwise to 2D array\n",
      "Ys = noise_vectors + signal.reshape(n_times, 1)\n",
      "Ys.shape"
     ],
     "language": "python",
     "metadata": {},
     "outputs": [
      {
       "metadata": {},
       "output_type": "pyout",
       "prompt_number": 14,
       "text": [
        "(15, 100000)"
       ]
      }
     ],
     "prompt_number": 14
    },
    {
     "cell_type": "markdown",
     "metadata": {},
     "source": [
      "We first fit the model with only the first HRF regressor to every (signal + noise) sample vector.\n",
      "\n",
      "We will fit our model for each data vector, to make a estimated parameter vector for each data vector.  We can stack these estimated parameter vectors into a 2 by `n_data_vectors` array.\n",
      "\n",
      "Call this array $\\beta^s$ (where the $s$ superscript is for the *single* HRF model)."
     ]
    },
    {
     "cell_type": "code",
     "collapsed": false,
     "input": [
      "# Fit X_one to signals + noise\n",
      "n_regressors = X_s.shape[1]\n",
      "# beta (parameter estimate) matrix, one column per data vector\n",
      "B_s = np.zeros((n_regressors, n_data_vectors))\n",
      "# Estimate the parameters of the model for each data vector\n",
      "X_pinv = npl.pinv(X_s)\n",
      "for i in range(n_data_vectors):\n",
      "    B_s[:, i] = X_pinv.dot(Ys[:, i])"
     ],
     "language": "python",
     "metadata": {},
     "outputs": [],
     "prompt_number": 15
    },
    {
     "cell_type": "markdown",
     "metadata": {},
     "source": [
      "In fact, because of the way that matrix multiplications works, we can do exactly the same calculation as we did in the loop above, in one matrix multiplication:"
     ]
    },
    {
     "cell_type": "code",
     "collapsed": false,
     "input": [
      "B_again = X_pinv.dot(Ys)\n",
      "assert np.allclose(B_s, B_again)"
     ],
     "language": "python",
     "metadata": {},
     "outputs": [],
     "prompt_number": 16
    },
    {
     "cell_type": "markdown",
     "metadata": {},
     "source": [
      "We will use this trick to estimate the parameter matrices for the rest of our models."
     ]
    },
    {
     "cell_type": "markdown",
     "metadata": {},
     "source": [
      "Let us look at the variance of the first parameter estimate (the parameter for the `hrf1` regressor).\n",
      "\n",
      "Here is the variance we observe:"
     ]
    },
    {
     "cell_type": "code",
     "collapsed": false,
     "input": [
      "plt.hist(B_s[0], bins=100)\n",
      "print('Observed B[0] variance for single hrf model:', np.var(B_s[0]))"
     ],
     "language": "python",
     "metadata": {},
     "outputs": [
      {
       "output_type": "stream",
       "stream": "stdout",
       "text": [
        "Observed B[0] variance for single hrf model: 2.2014181026\n"
       ]
      },
      {
       "metadata": {},
       "output_type": "display_data",
       "png": "[encoded data removed]",
       "text": [
        "<matplotlib.figure.Figure at 0x1087007d0>"
       ]
      }
     ],
     "prompt_number": 17
    },
    {
     "cell_type": "markdown",
     "metadata": {},
     "source": [
      "We can compare the observed variance of the first parameter estimate with that expected from the formula above:\n",
      "\n",
      "$$\n",
      "\\mathrm{var}(c^T \\hat\\beta) = \\hat{\\sigma}^2 c^T (X^T X)^+ c\n",
      "$$\n",
      "\n",
      "To select only the first regressor, we use a contrast vector of\n",
      "\n",
      "$$\n",
      "c = \\left[\n",
      "\\begin{array}{\\cvec}\n",
      "1 \\\\\n",
      "0 \\\\\n",
      "\\end{array}\n",
      "\\right]\n",
      "$$"
     ]
    },
    {
     "cell_type": "markdown",
     "metadata": {},
     "source": [
      "Our $\\hat{\\sigma}^2$ will be close to 1, because we added noise with variance 1:"
     ]
    },
    {
     "cell_type": "code",
     "collapsed": false,
     "input": [
      "# Estimate sigma^2 for every data vector\n",
      "predicted = X_s.dot(B_s)\n",
      "residuals = Ys - predicted\n",
      "# Residuals have N-P degrees of freedom\n",
      "N = n_times\n",
      "P = npl.matrix_rank(X_s) # number of independent columns in design\n",
      "sigma_hat_squared = (residuals ** 2).sum(axis=0) / (N - P)\n",
      "print('Mean sigma^2 estimate:', np.mean(sigma_hat_squared))"
     ],
     "language": "python",
     "metadata": {},
     "outputs": [
      {
       "output_type": "stream",
       "stream": "stdout",
       "text": [
        "Mean sigma^2 estimate: 1.01980818886\n"
       ]
      }
     ],
     "prompt_number": 18
    },
    {
     "cell_type": "markdown",
     "metadata": {},
     "source": [
      "Because $\\hat{\\sigma}^2 \\approx 1$, $\\mathrm{var}(c^T \\hat\\beta) \\approx c^T (X^T X)^+ c$:"
     ]
    },
    {
     "cell_type": "code",
     "collapsed": false,
     "input": [
      "C_s = np.array([[1], [0]]) # column vector\n",
      "# c.T{X.T X}+ c\n",
      "C_s.T.dot(npl.pinv(X_s.T.dot(X_s)).dot(C_s))"
     ],
     "language": "python",
     "metadata": {},
     "outputs": [
      {
       "metadata": {},
       "output_type": "pyout",
       "prompt_number": 19,
       "text": [
        "array([[ 2.2051]])"
       ]
      }
     ],
     "prompt_number": 19
    },
    {
     "cell_type": "markdown",
     "metadata": {},
     "source": [
      "Notice that the mean of the parameter estimates for `hrf1`, is somewhere above one, even though we only added 1 times the first HRF as the signal:"
     ]
    },
    {
     "cell_type": "code",
     "collapsed": false,
     "input": [
      "print('Observed B[0] mean for single hrf model:', np.mean(B_s[0]))"
     ],
     "language": "python",
     "metadata": {},
     "outputs": [
      {
       "output_type": "stream",
       "stream": "stdout",
       "text": [
        "Observed B[0] mean for single hrf model: 1.70137132637\n"
       ]
      }
     ],
     "prompt_number": 20
    },
    {
     "cell_type": "markdown",
     "metadata": {},
     "source": [
      "This is because the single first regresssor has to fit *both* `hrf1` in the signal, and as much as possible of `hrf2` in the signal, because there is nothing else in the model to fit `hrf2`."
     ]
    },
    {
     "cell_type": "markdown",
     "metadata": {},
     "source": [
      "Now let us construct the model with both HRFs as regressors:"
     ]
    },
    {
     "cell_type": "code",
     "collapsed": false,
     "input": [
      "X_b = np.vstack((hrf1, hrf2, np.ones_like(hrf1))).T\n",
      "plt.imshow(X_b, interpolation='nearest', cmap='gray')\n",
      "plt.title('Model with hrf1, hrf2 regressors')"
     ],
     "language": "python",
     "metadata": {},
     "outputs": [
      {
       "metadata": {},
       "output_type": "pyout",
       "prompt_number": 21,
       "text": [
        "<matplotlib.text.Text at 0x10cf9c790>"
       ]
      },
      {
       "metadata": {},
       "output_type": "display_data",
       "png": "[encoded data removed]",
       "text": [
        "<matplotlib.figure.Figure at 0x10659cc10>"
       ]
      }
     ],
     "prompt_number": 21
    },
    {
     "cell_type": "markdown",
     "metadata": {},
     "source": [
      "We will call the resulting 3 by `n_data_vectors` parameter array : $\\beta^b$ (where the $b$ superscript is for *both* HRF regressors).\n",
      "\n",
      "We will use the matrix multiplication trick above to fit all the data vectors at the same time:"
     ]
    },
    {
     "cell_type": "code",
     "collapsed": false,
     "input": [
      "# Fit X_both to signals + noise\n",
      "B_b = npl.pinv(X_b).dot(Ys)"
     ],
     "language": "python",
     "metadata": {},
     "outputs": [],
     "prompt_number": 22
    },
    {
     "cell_type": "markdown",
     "metadata": {},
     "source": [
      "What estimates do we get for the first regressor, when we have both regressors in the model?"
     ]
    },
    {
     "cell_type": "code",
     "collapsed": false,
     "input": [
      "plt.hist(B_b[0], bins=100)\n",
      "print('Observed B[0] mean for two hrf model', np.mean(B_b[0]))\n",
      "print('Observed B[0] variance for two hrf model', np.var(B_b[0]))"
     ],
     "language": "python",
     "metadata": {},
     "outputs": [
      {
       "output_type": "stream",
       "stream": "stdout",
       "text": [
        "Observed B[0] mean for two hrf model 1.00299905499\n",
        "Observed B[0] variance for two hrf model 4.35228828591\n"
       ]
      },
      {
       "metadata": {},
       "output_type": "display_data",
       "png": "[encoded data removed]",
       "text": [
        "<matplotlib.figure.Figure at 0x10659c6d0>"
       ]
      }
     ],
     "prompt_number": 23
    },
    {
     "cell_type": "markdown",
     "metadata": {},
     "source": [
      "Two things have happened now we added the second (correlated) `hrf2` regressor.  First, the mean of the parameter for the `hrf1` regressor has dropped to 1, because `hrf1` is no longer having to model the signal due to `hrf2`.   Second, the variability of the estimate has increased.  This is what the bottom half of the t-statistic predicts:"
     ]
    },
    {
     "cell_type": "code",
     "collapsed": false,
     "input": [
      "C_b = np.array([[1], [0], [0]])  # column vector\n",
      "C_b.T.dot(npl.pinv(X_b.T.dot(X_b)).dot(C_b))"
     ],
     "language": "python",
     "metadata": {},
     "outputs": [
      {
       "metadata": {},
       "output_type": "pyout",
       "prompt_number": 24,
       "text": [
        "array([[ 4.3517]])"
       ]
      }
     ],
     "prompt_number": 24
    },
    {
     "cell_type": "markdown",
     "metadata": {},
     "source": [
      "The estimate of the parameter for `hrf2` has a mean of around 1, like the parameter estimates for `hrf1`."
     ]
    },
    {
     "cell_type": "code",
     "collapsed": false,
     "input": [
      "plt.hist(B_b[1], bins=100)\n",
      "print('Observed B[1] mean for two hrf model', np.mean(B_b[1]))"
     ],
     "language": "python",
     "metadata": {},
     "outputs": [
      {
       "output_type": "stream",
       "stream": "stdout",
       "text": [
        "Observed B[1] mean for two hrf model 0.994533613539\n"
       ]
      },
      {
       "metadata": {},
       "output_type": "display_data",
       "png": "[encoded data removed]",
       "text": [
        "<matplotlib.figure.Figure at 0x10d000450>"
       ]
      }
     ],
     "prompt_number": 25
    },
    {
     "cell_type": "markdown",
     "metadata": {},
     "source": [
      "This mean of 1 is what we expect because we have `1 * hrf1 + 1 * hrf2` in the signal.  Not surprisingly, the `hrf2` parameter estimate has a similar variability to that for the `hrf1` parameter estimate:"
     ]
    },
    {
     "cell_type": "code",
     "collapsed": false,
     "input": [
      "print('Observed B[1] variance for two hrf model', np.var(B_b[1]))"
     ],
     "language": "python",
     "metadata": {},
     "outputs": [
      {
       "output_type": "stream",
       "stream": "stdout",
       "text": [
        "Observed B[1] variance for two hrf model 4.37365440675\n"
       ]
      }
     ],
     "prompt_number": 26
    },
    {
     "cell_type": "markdown",
     "metadata": {},
     "source": [
      "The observed variance is very similar to the predicted variance:"
     ]
    },
    {
     "cell_type": "code",
     "collapsed": false,
     "input": [
      "C_b_1 = np.array([0, 1, 0])[:, None]  # column vector\n",
      "C_b_1.T.dot(npl.pinv(X_b.T.dot(X_b)).dot(C_b_1))"
     ],
     "language": "python",
     "metadata": {},
     "outputs": [
      {
       "metadata": {},
       "output_type": "pyout",
       "prompt_number": 27,
       "text": [
        "array([[ 4.3533]])"
       ]
      }
     ],
     "prompt_number": 27
    },
    {
     "cell_type": "markdown",
     "metadata": {},
     "source": [
      "The parameter estimates for `hrf1` and `hrf2` are anti-correlated:"
     ]
    },
    {
     "cell_type": "code",
     "collapsed": false,
     "input": [
      "# Relationship of estimated parameter of hrf1 and hrf2\n",
      "plt.plot(B_b[0], B_b[1], '.')\n",
      "np.corrcoef(B_b[0], B_b[1])"
     ],
     "language": "python",
     "metadata": {},
     "outputs": [
      {
       "metadata": {},
       "output_type": "pyout",
       "prompt_number": 28,
       "text": [
        "array([[ 1.   , -0.703],\n",
        "       [-0.703,  1.   ]])"
       ]
      },
      {
       "metadata": {},
       "output_type": "display_data",
       "png": "[encoded data removed]",
       "text": [
        "<matplotlib.figure.Figure at 0x1084636d0>"
       ]
      }
     ],
     "prompt_number": 28
    },
    {
     "cell_type": "heading",
     "level": 3,
     "metadata": {},
     "source": [
      "Orthogonalizing hrf2 with respect to hrf1"
     ]
    },
    {
     "cell_type": "markdown",
     "metadata": {},
     "source": [
      "`hrf2` is correlated with `hrf1`.\n",
      "\n",
      "We can think of `hrf2` as the sum of two vectors.  Let us write vectors `hrf1, hrf2` as $\\vec{h_1}, \\vec{h_2}$.  Then:\n",
      "\n",
      "$$\n",
      "\\vec{h_2} = p (\\vec{h_1}) + \\vec{w}\n",
      "$$\n",
      "\n",
      "where $p$ is some scalar, and\n",
      "\n",
      "$$\n",
      "\\vec{w} = \\vec{h_2} - p (\\vec{h_1})\n",
      "$$\n",
      "\n",
      "So, we can think of $\\vec{h_2}$ as the sum of some scalar amount of $\\vec{h_1}$ plus $\\vec{w}$.\n",
      "\n",
      "We might want to chose $p$ such that $\\vec{w} = \\vec{h_2} - p (\\vec{h_1})$ is orthogonal to $\\vec{h_1}$.  In this case $\\vec{w}$ is the part of $\\vec{h_2}$ that cannot be explained by $\\vec{h_1}$.\n",
      "\n",
      "If $\\vec{w}$ is orthogonal to $\\vec{h_1}$ then we call $\\vec{w}$ : $\\vec{h_2}$ *orthogonalized with respect to* $\\vec{h_1}$.\n",
      "\n",
      "Following the same logic as for [projection](http://practical-neuroimaging.github.io/day7.html#key-video-on-projecting-vectors), given $\\vec{w} - p (\\vec{h_1})$ is orthogonal to $\\vec{h_1}$:\n",
      "\n",
      "$$\n",
      "(\\vec{w} - p (\\vec{h_1})) \\cdot \\vec{h_1} = 0 \\implies \\\\\n",
      "\\vec{w} \\cdot \\vec{h_1} - p (\\vec{h_1}) \\cdot \\vec{h_1} = 0 \\implies \\\\\n",
      "\\frac{\\vec{w} \\cdot \\vec{h_1}}{\\vec{h_1} \\cdot \\vec{h_1}} = p\n",
      "$$\n",
      "\n",
      "Put another way, $p (\\vec{h_1})$ such that $\\vec{w} = \\vec{h_2} - p (\\vec{h_1})$ is orthogonal to $\\vec{h_1}$ - is also the projection of $\\vec{h_2}$ onto $\\vec{h_1}$."
     ]
    },
    {
     "cell_type": "code",
     "collapsed": false,
     "input": [
      "# Project hrf2 onto hrf1\n",
      "p = hrf2.dot(hrf1) / hrf1.dot(hrf1)\n",
      "projection = p * hrf1\n",
      "# Get \\vec{w} \n",
      "w = hrf2 - projection\n",
      "# w and hrf1 are now orthogonal\n",
      "assert np.allclose(w.dot(hrf1), 0)"
     ],
     "language": "python",
     "metadata": {},
     "outputs": [],
     "prompt_number": 29
    },
    {
     "cell_type": "code",
     "collapsed": false,
     "input": [
      "# Plot the vector parts\n",
      "plt.plot(times, hrf1, label=r'$\\vec{h_1}$')\n",
      "plt.plot(times, hrf2, label=r'$\\vec{h_2}$')\n",
      "plt.plot(times, projection, label=r'$p (\\vec{h_1})$')\n",
      "plt.plot(times, w, label=r'$\\vec{w}$')\n",
      "plt.legend()\n",
      "# hrf1 part of hrf2, plus unique part, equals original hrf2\n",
      "assert np.allclose(hrf2, projection + w)"
     ],
     "language": "python",
     "metadata": {},
     "outputs": [
      {
       "metadata": {},
       "output_type": "display_data",
       "png": "[encoded data removed]",
       "text": [
        "<matplotlib.figure.Figure at 0x10aabf950>"
       ]
      }
     ],
     "prompt_number": 30
    },
    {
     "cell_type": "markdown",
     "metadata": {},
     "source": [
      "How much of the first regressor did we find in the second regressor?"
     ]
    },
    {
     "cell_type": "code",
     "collapsed": false,
     "input": [
      "p"
     ],
     "language": "python",
     "metadata": {},
     "outputs": [
      {
       "metadata": {},
       "output_type": "pyout",
       "prompt_number": 31,
       "text": [
        "0.70221082713823191"
       ]
      }
     ],
     "prompt_number": 31
    },
    {
     "cell_type": "markdown",
     "metadata": {},
     "source": [
      "Let us rewrite our original model containing `hrf1, hrf2`:\n",
      "\n",
      "$$\n",
      "\\vec{y} = \\beta^b_1 \\vec{h_1} + \\beta^b_2 \\vec{h_2} + \\beta^b_3 1\n",
      "$$\n",
      "\n",
      "where $\\vec{y}$ is our data vector.\n",
      "\n",
      "Now we know we can also write this as:\n",
      "\n",
      "$$\n",
      "\\vec{y} = \\beta^b_1 \\vec{h_1} + \n",
      "  \\beta^b_2 (p (\\vec{h_1}) + \\vec{w}) + \\beta^b_3 1 \\\\\n",
      "= \\beta^b_1 \\vec{h_1} + \n",
      "  \\beta^b_2 p (\\vec{h_1}) + \\beta^b_2 \\vec{w} + \\beta^b_3 1 \\\\\n",
      "= (\\beta^b_1 + p \\beta^b_2) \\vec{h_1} + \\beta^b_2 \\vec{w} + \\beta^b_3 1\n",
      "$$"
     ]
    },
    {
     "cell_type": "markdown",
     "metadata": {},
     "source": [
      "So, what will happen if we drop $\\vec{h_2}$ from our model and leave only $\\vec{w}$?\n",
      "\n",
      "We have called the parameters from the model with $\\vec{h_1}, \\vec{h_2}$ : $\\beta^b$.  Call the parameters from the model with $\\vec{h_1}, \\vec{w}$ : $\\beta^w$. \n",
      "\n",
      "We can see that we are going to get the exact same fit to the data with these two models if $\\beta^w_2 = \\beta^b_2$ and $\\beta^w_1 = p \\beta^b_2 + \\beta^b_1$."
     ]
    },
    {
     "cell_type": "markdown",
     "metadata": {},
     "source": [
      "Let us try this new model and see:"
     ]
    },
    {
     "cell_type": "code",
     "collapsed": false,
     "input": [
      "X_w = np.vstack((hrf1, w, np.ones_like(hrf1))).T\n",
      "plt.imshow(X_w, interpolation='nearest', cmap='gray')"
     ],
     "language": "python",
     "metadata": {},
     "outputs": [
      {
       "metadata": {},
       "output_type": "pyout",
       "prompt_number": 32,
       "text": [
        "<matplotlib.image.AxesImage at 0x1085ccdd0>"
       ]
      },
      {
       "metadata": {},
       "output_type": "display_data",
       "png": "[encoded data removed]",
       "text": [
        "<matplotlib.figure.Figure at 0x10aacd4d0>"
       ]
      }
     ],
     "prompt_number": 32
    },
    {
     "cell_type": "code",
     "collapsed": false,
     "input": [
      "plt.plot(times, X_w[:,0], times, X_w[:,1]) "
     ],
     "language": "python",
     "metadata": {},
     "outputs": [
      {
       "metadata": {},
       "output_type": "pyout",
       "prompt_number": 33,
       "text": [
        "[<matplotlib.lines.Line2D at 0x10ab12590>,\n",
        " <matplotlib.lines.Line2D at 0x10aacdcd0>]"
       ]
      },
      {
       "metadata": {},
       "output_type": "display_data",
       "png": "[encoded data removed]",
       "text": [
        "<matplotlib.figure.Figure at 0x10abdd8d0>"
       ]
      }
     ],
     "prompt_number": 33
    },
    {
     "cell_type": "code",
     "collapsed": false,
     "input": [
      "B_w = npl.pinv(X_w).dot(Ys)"
     ],
     "language": "python",
     "metadata": {},
     "outputs": [],
     "prompt_number": 34
    },
    {
     "cell_type": "markdown",
     "metadata": {},
     "source": [
      "Let us first look at the distribution of $\\beta^w_1$ `== B_w[0]`."
     ]
    },
    {
     "cell_type": "code",
     "collapsed": false,
     "input": [
      "# Distribution of parameter for hrf1 in orth model\n",
      "plt.hist(B_w[0], bins=100)\n",
      "print('Observed B[0] mean for two hrf orth model',\n",
      "      np.mean(B_w[0]))"
     ],
     "language": "python",
     "metadata": {},
     "outputs": [
      {
       "output_type": "stream",
       "stream": "stdout",
       "text": [
        "Observed B[0] mean for two hrf orth model 1.70137132637\n"
       ]
      },
      {
       "metadata": {},
       "output_type": "display_data",
       "png": "[encoded data removed]",
       "text": [
        "<matplotlib.figure.Figure at 0x10aae6c10>"
       ]
      }
     ],
     "prompt_number": 35
    },
    {
     "cell_type": "markdown",
     "metadata": {},
     "source": [
      "Notice that $\\beta^w_1$ now has the same values as for the single HRF model  : $\\beta^s_1$:"
     ]
    },
    {
     "cell_type": "code",
     "collapsed": false,
     "input": [
      "assert np.allclose(B_s[0, :], B_w[0, :])"
     ],
     "language": "python",
     "metadata": {},
     "outputs": [],
     "prompt_number": 36
    },
    {
     "cell_type": "markdown",
     "metadata": {},
     "source": [
      "It therefore has the same variance, and the predicted variance matches:"
     ]
    },
    {
     "cell_type": "code",
     "collapsed": false,
     "input": [
      "print('Observed B[0] variance for two hrf orth model',\n",
      "      np.var(B_w[0]))\n",
      "pred_var = C_b.T.dot(npl.pinv(X_w.T.dot(X_w)).dot(C_b))\n",
      "print('Predicted B[0] variance for two hrf orth model', pred_var)"
     ],
     "language": "python",
     "metadata": {},
     "outputs": [
      {
       "output_type": "stream",
       "stream": "stdout",
       "text": [
        "Observed B[0] variance for two hrf orth model 2.2014181026\n",
        "Predicted B[0] variance for two hrf orth model [[ 2.2051]]\n"
       ]
      }
     ],
     "prompt_number": 37
    },
    {
     "cell_type": "markdown",
     "metadata": {},
     "source": [
      "The fact that the single hrf and orthogonalized model parameters match may make sense when we remember that adding the $\\vec{w}$ regressor to the model cannot change the parameter for the $\\vec{h_1}$ regressor as $\\vec{w}$ is orthogonal to $\\vec{h_1}$."
     ]
    },
    {
     "cell_type": "markdown",
     "metadata": {},
     "source": [
      "We predicted above that $\\beta^w_2$ would stay the same as $\\beta^b_2$ from the not-orthogonalized model:"
     ]
    },
    {
     "cell_type": "code",
     "collapsed": false,
     "input": [
      "assert np.allclose(B_b[1, :], B_w[1, :])"
     ],
     "language": "python",
     "metadata": {},
     "outputs": [],
     "prompt_number": 38
    },
    {
     "cell_type": "markdown",
     "metadata": {},
     "source": [
      "We predicted that $\\beta^w_1$ would become $\\beta^b_1 + p \\beta^b_2$ from the not-orthogonalized model:"
     ]
    },
    {
     "cell_type": "code",
     "collapsed": false,
     "input": [
      "predicted_beta1 = B_b[0, :] + p * B_b[1, :]\n",
      "assert np.allclose(predicted_beta1, B_w[0, :])"
     ],
     "language": "python",
     "metadata": {},
     "outputs": [],
     "prompt_number": 39
    },
    {
     "cell_type": "markdown",
     "metadata": {},
     "source": [
      "Our predictions were correct.  So let us revise what happened:\n",
      "\n",
      "* We estimated our original model with correlated $\\vec{h_1}, \\vec{h_2}$ to get corresponding estimated parameters $\\beta^b_1, \\beta^b_2$;\n",
      "* we orthogonalized $\\vec{h_2}$ with respect to $\\vec{h_1}$ to give $p$ and $\\vec{w}$;\n",
      "* we replaced $\\vec{h_2}$ with $\\vec{w}$ in the model, and re-estimated, giving new parameters $\\beta^w_1$ for $\\vec{h_1}$, $\\beta^w_2$ for $\\vec{w}$;\n",
      "* $\\beta^w_2 = \\beta^b_2$ - the parameter for the new orthogonalized regressor is unchanged from the non-orthogonalized case;\n",
      "* $\\beta^w_1 = \\beta^b_1 + p \\beta^b_2$ - the parameter for the *unchanged* regressor has increased by $\\beta^b_2$ times the amount of $\\vec{h_2}$ present in $\\vec{h_1}$."
     ]
    },
    {
     "cell_type": "markdown",
     "metadata": {},
     "source": [
      "Here we show some example parameters from the three model fits:"
     ]
    },
    {
     "cell_type": "code",
     "collapsed": false,
     "input": [
      "# Example parameters from the single hrf model\n",
      "B_s[:,:5]"
     ],
     "language": "python",
     "metadata": {},
     "outputs": [
      {
       "metadata": {},
       "output_type": "pyout",
       "prompt_number": 40,
       "text": [
        "array([[ 0.003 ,  1.2187,  2.2889,  0.2178,  3.4499],\n",
        "       [-0.0969,  0.0488,  0.006 , -0.1493, -0.4889]])"
       ]
      }
     ],
     "prompt_number": 40
    },
    {
     "cell_type": "code",
     "collapsed": false,
     "input": [
      "# Example parameters from the non-orth two-hrf model\n",
      "B_b[:,:5]"
     ],
     "language": "python",
     "metadata": {},
     "outputs": [
      {
       "metadata": {},
       "output_type": "pyout",
       "prompt_number": 41,
       "text": [
        "array([[-1.3014,  1.676 ,  0.3588, -0.6153,  0.8819],\n",
        "       [ 1.8576, -0.6512,  2.7485,  1.1865,  3.657 ],\n",
        "       [-0.0969,  0.0488,  0.006 , -0.1493, -0.4889]])"
       ]
      }
     ],
     "prompt_number": 41
    },
    {
     "cell_type": "code",
     "collapsed": false,
     "input": [
      "# Example parameters from the orth model\n",
      "B_w[:,:5]"
     ],
     "language": "python",
     "metadata": {},
     "outputs": [
      {
       "metadata": {},
       "output_type": "pyout",
       "prompt_number": 42,
       "text": [
        "array([[ 0.003 ,  1.2187,  2.2889,  0.2178,  3.4499],\n",
        "       [ 1.8576, -0.6512,  2.7485,  1.1865,  3.657 ],\n",
        "       [-0.0969,  0.0488,  0.006 , -0.1493, -0.4889]])"
       ]
      }
     ],
     "prompt_number": 42
    },
    {
     "cell_type": "code",
     "collapsed": false,
     "input": [
      "# The parameter for the hrf1 regressor in the non-orth model\n",
      "# is correlated with the parameter for the hrf1 regressor\n",
      "# in the orth model.\n",
      "plt.plot(B_b[0], B_w[0], '.')\n",
      "plt.title('Orth and non-orth hrf1 parameters correlate')\n",
      "np.corrcoef(B_b[0], B_w[0])"
     ],
     "language": "python",
     "metadata": {},
     "outputs": [
      {
       "metadata": {},
       "output_type": "pyout",
       "prompt_number": 43,
       "text": [
        "array([[ 1.    ,  0.7103],\n",
        "       [ 0.7103,  1.    ]])"
       ]
      },
      {
       "metadata": {},
       "output_type": "display_data",
       "png": "[encoded data removed]",
       "text": [
        "<matplotlib.figure.Figure at 0x10d30c690>"
       ]
      }
     ],
     "prompt_number": 43
    },
    {
     "cell_type": "code",
     "collapsed": false,
     "input": [
      "# Relationship of estimated parameters for hrf1 and orthogonalized hrf2\n",
      "# (they should be independent)\n",
      "plt.plot(B_w[0], B_w[1], '+')\n",
      "plt.title('hrf1 and orth hrf2 parameters are independent')\n",
      "np.corrcoef(B_w[0], B_w[1])"
     ],
     "language": "python",
     "metadata": {},
     "outputs": [
      {
       "metadata": {},
       "output_type": "pyout",
       "prompt_number": 44,
       "text": [
        "array([[ 1.    ,  0.0013],\n",
        "       [ 0.0013,  1.    ]])"
       ]
      },
      {
       "metadata": {},
       "output_type": "display_data",
       "png": "[encoded data removed]",
       "text": [
        "<matplotlib.figure.Figure at 0x10ac94410>"
       ]
      }
     ],
     "prompt_number": 44
    }
   ],
   "metadata": {}
  }
 ]
}