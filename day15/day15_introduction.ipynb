{
 "metadata": {
  "name": "",
  "signature": "sha256:90d3dbd78d3e07fbfae51cc1a32f49f908a40eedb612340db8af2156e334c1a2"
 },
 "nbformat": 3,
 "nbformat_minor": 0,
 "worksheets": [
  {
   "cells": [
    {
     "cell_type": "code",
     "collapsed": false,
     "input": [
      "# - compatibility with Python 3\n",
      "from __future__ import print_function  # print('me') instead of print 'me'\n",
      "from __future__ import division  # 1/2 == 0.5, not 0"
     ],
     "language": "python",
     "metadata": {},
     "outputs": [],
     "prompt_number": 1
    },
    {
     "cell_type": "code",
     "collapsed": false,
     "input": [
      "# - show figures inside the notebook\n",
      "%matplotlib inline"
     ],
     "language": "python",
     "metadata": {},
     "outputs": [],
     "prompt_number": 2
    },
    {
     "cell_type": "code",
     "collapsed": false,
     "input": [
      "# - import common modules\n",
      "import numpy as np  # the Python array package\n",
      "import matplotlib.pyplot as plt  # the Python plotting package"
     ],
     "language": "python",
     "metadata": {},
     "outputs": [],
     "prompt_number": 3
    },
    {
     "cell_type": "code",
     "collapsed": false,
     "input": [
      "# - set gray colormap and nearest neighbor interpolation by default\n",
      "plt.rcParams['image.cmap'] = 'gray'\n",
      "plt.rcParams['image.interpolation'] = 'nearest'"
     ],
     "language": "python",
     "metadata": {},
     "outputs": [],
     "prompt_number": 4
    },
    {
     "cell_type": "code",
     "collapsed": false,
     "input": [
      "# - import numpy.linalg with a shorter name\n",
      "import numpy.linalg as npl"
     ],
     "language": "python",
     "metadata": {},
     "outputs": [],
     "prompt_number": 5
    },
    {
     "cell_type": "markdown",
     "metadata": {},
     "source": [
      "## Reshape and transpose"
     ]
    },
    {
     "cell_type": "markdown",
     "metadata": {},
     "source": [
      "This is partly revision from the [introduction for day 7](../day7/introduction.ipynb).\n",
      "\n",
      "Reshape first ravels the data to 1D, then fills the required shape from the raveled array.\n",
      "\n",
      "We typically use reshape to unroll two or more axes into one axis.\n",
      "\n",
      "For example:"
     ]
    },
    {
     "cell_type": "code",
     "collapsed": false,
     "input": [
      "arr_3d = np.array([ # define first of 2 2D arrays (arr_3d[0, :, :])\n",
      "                    [[0,  1,  2,  3],\n",
      "                     [4,  5,  6,  7],\n",
      "                     [8,  9, 10, 11]],\n",
      "                    # define second of 2 2D arrays (arr_3d[1, :, :])\n",
      "                    [[12, 13, 14, 15],\n",
      "                     [16, 17, 18, 19],\n",
      "                     [20, 21, 22, 23]]\n",
      "                  ])\n",
      "arr_3d"
     ],
     "language": "python",
     "metadata": {},
     "outputs": [
      {
       "metadata": {},
       "output_type": "pyout",
       "prompt_number": 6,
       "text": [
        "array([[[ 0,  1,  2,  3],\n",
        "        [ 4,  5,  6,  7],\n",
        "        [ 8,  9, 10, 11]],\n",
        "\n",
        "       [[12, 13, 14, 15],\n",
        "        [16, 17, 18, 19],\n",
        "        [20, 21, 22, 23]]])"
       ]
      }
     ],
     "prompt_number": 6
    },
    {
     "cell_type": "code",
     "collapsed": false,
     "input": [
      "arr_3d.shape"
     ],
     "language": "python",
     "metadata": {},
     "outputs": [
      {
       "metadata": {},
       "output_type": "pyout",
       "prompt_number": 7,
       "text": [
        "(2, 3, 4)"
       ]
      }
     ],
     "prompt_number": 7
    },
    {
     "cell_type": "markdown",
     "metadata": {},
     "source": [
      "We might use `reshape` to unroll all three axes into one axis:"
     ]
    },
    {
     "cell_type": "code",
     "collapsed": false,
     "input": [
      "arr_3d.reshape(2 * 3 * 4)"
     ],
     "language": "python",
     "metadata": {},
     "outputs": [
      {
       "metadata": {},
       "output_type": "pyout",
       "prompt_number": 8,
       "text": [
        "array([ 0,  1,  2,  3,  4,  5,  6,  7,  8,  9, 10, 11, 12, 13, 14, 15, 16,\n",
        "       17, 18, 19, 20, 21, 22, 23])"
       ]
      }
     ],
     "prompt_number": 8
    },
    {
     "cell_type": "markdown",
     "metadata": {},
     "source": [
      "Or we might want to unroll only two of the axes, to make two axes.  For example, here we keep the first axis the same, but unroll the last two into one axis:"
     ]
    },
    {
     "cell_type": "code",
     "collapsed": false,
     "input": [
      "arr_3d.reshape(2, 3 * 4)"
     ],
     "language": "python",
     "metadata": {},
     "outputs": [
      {
       "metadata": {},
       "output_type": "pyout",
       "prompt_number": 9,
       "text": [
        "array([[ 0,  1,  2,  3,  4,  5,  6,  7,  8,  9, 10, 11],\n",
        "       [12, 13, 14, 15, 16, 17, 18, 19, 20, 21, 22, 23]])"
       ]
      }
     ],
     "prompt_number": 9
    },
    {
     "cell_type": "markdown",
     "metadata": {},
     "source": [
      "In fact, numpy could predict we wanted `3 * 4` as the length of the second axis, because it knows the first axis is length 2 and there are 24 elements.  We can use the shortcut value `-1` to tall numpy \"make an axis the right length to use all the data, given the axis lengths you already know\".\n",
      "\n",
      "For example:"
     ]
    },
    {
     "cell_type": "code",
     "collapsed": false,
     "input": [
      "arr_3d.reshape(-1)"
     ],
     "language": "python",
     "metadata": {},
     "outputs": [
      {
       "metadata": {},
       "output_type": "pyout",
       "prompt_number": 10,
       "text": [
        "array([ 0,  1,  2,  3,  4,  5,  6,  7,  8,  9, 10, 11, 12, 13, 14, 15, 16,\n",
        "       17, 18, 19, 20, 21, 22, 23])"
       ]
      }
     ],
     "prompt_number": 10
    },
    {
     "cell_type": "code",
     "collapsed": false,
     "input": [
      "arr_3d.reshape(2, -1)"
     ],
     "language": "python",
     "metadata": {},
     "outputs": [
      {
       "metadata": {},
       "output_type": "pyout",
       "prompt_number": 11,
       "text": [
        "array([[ 0,  1,  2,  3,  4,  5,  6,  7,  8,  9, 10, 11],\n",
        "       [12, 13, 14, 15, 16, 17, 18, 19, 20, 21, 22, 23]])"
       ]
      }
     ],
     "prompt_number": 11
    },
    {
     "cell_type": "markdown",
     "metadata": {},
     "source": [
      "Remember that `reshape` is different from `transpose`.\n",
      "\n",
      "`transpose` or the `.T` attribute can reverse the axis order so that the first axis is last and the last first.  This is most obvious for 2D:"
     ]
    },
    {
     "cell_type": "code",
     "collapsed": false,
     "input": [
      "arr_2d = np.array([[0, 1], [2, 3], [4, 5]])\n",
      "arr_2d"
     ],
     "language": "python",
     "metadata": {},
     "outputs": [
      {
       "metadata": {},
       "output_type": "pyout",
       "prompt_number": 12,
       "text": [
        "array([[0, 1],\n",
        "       [2, 3],\n",
        "       [4, 5]])"
       ]
      }
     ],
     "prompt_number": 12
    },
    {
     "cell_type": "code",
     "collapsed": false,
     "input": [
      "arr_2d.T"
     ],
     "language": "python",
     "metadata": {},
     "outputs": [
      {
       "metadata": {},
       "output_type": "pyout",
       "prompt_number": 13,
       "text": [
        "array([[0, 2, 4],\n",
        "       [1, 3, 5]])"
       ]
      }
     ],
     "prompt_number": 13
    },
    {
     "cell_type": "code",
     "collapsed": false,
     "input": [
      "arr_2d_transposed = arr_2d.transpose()\n",
      "arr_2d_transposed"
     ],
     "language": "python",
     "metadata": {},
     "outputs": [
      {
       "metadata": {},
       "output_type": "pyout",
       "prompt_number": 14,
       "text": [
        "array([[0, 2, 4],\n",
        "       [1, 3, 5]])"
       ]
      }
     ],
     "prompt_number": 14
    },
    {
     "cell_type": "markdown",
     "metadata": {},
     "source": [
      "The result of the 2D transpose is that we get the same result from indexing the first axis of `arr_2d` as we do from indexing the second axis of `arr_2d_transposed`.  So:\n",
      "\n",
      "* `np.all(arr_2d[i, :] == arr_2d_tranposed[:, i])` for all `i` and\n",
      "* `np.all(arr_2d[:, j] == arr_2d_tranposed[j, :])` for all `j'"
     ]
    },
    {
     "cell_type": "code",
     "collapsed": false,
     "input": [
      "arr_2d[0, :] == arr_2d_transposed[:, 0]"
     ],
     "language": "python",
     "metadata": {},
     "outputs": [
      {
       "metadata": {},
       "output_type": "pyout",
       "prompt_number": 15,
       "text": [
        "array([ True,  True], dtype=bool)"
       ]
      }
     ],
     "prompt_number": 15
    },
    {
     "cell_type": "markdown",
     "metadata": {},
     "source": [
      "This is not the same as a reshape even though the shape is changing.  For a transpose, the data move with the axes, for a reshape, we have to take care that we do not mess up the relationship of the data to the axes.  Remember that `reshape` is first unrolling to 1D, then refilling the desired shape from the unrolled data:"
     ]
    },
    {
     "cell_type": "code",
     "collapsed": false,
     "input": [
      "arr_2d_reshaped = arr_2d.reshape((2, 3))\n",
      "arr_2d_reshaped"
     ],
     "language": "python",
     "metadata": {},
     "outputs": [
      {
       "metadata": {},
       "output_type": "pyout",
       "prompt_number": 16,
       "text": [
        "array([[0, 1, 2],\n",
        "       [3, 4, 5]])"
       ]
      }
     ],
     "prompt_number": 16
    },
    {
     "cell_type": "markdown",
     "metadata": {},
     "source": [
      "Here the first row contains contains the first row of the original array and the first element of the second row of the original."
     ]
    },
    {
     "cell_type": "markdown",
     "metadata": {},
     "source": [
      "## 'auto' aspect for long thin matplotlib images"
     ]
    },
    {
     "cell_type": "markdown",
     "metadata": {},
     "source": [
      "It's useful to display design matrices as images so we can see the model at a glance.\n",
      "\n",
      "Design matrices often have a lot of rows and not many columns.\n",
      "\n",
      "When we do `imshow`, by default matplotlib will make the width of one column the same as the height of one row.  This is the `aspect='equal'` setting."
     ]
    },
    {
     "cell_type": "code",
     "collapsed": false,
     "input": [
      "X = np.random.normal(size=(50, 3))\n",
      "plt.imshow(X)"
     ],
     "language": "python",
     "metadata": {},
     "outputs": [
      {
       "metadata": {},
       "output_type": "pyout",
       "prompt_number": 17,
       "text": [
        "<matplotlib.image.AxesImage at 0x105de3410>"
       ]
      },
      {
       "metadata": {},
       "output_type": "display_data",
       "png": "[encoded data removed]",
       "text": [
        "<matplotlib.figure.Figure at 0x105d31510>"
       ]
      }
     ],
     "prompt_number": 17
    },
    {
     "cell_type": "code",
     "collapsed": false,
     "input": [
      "plt.imshow(X, aspect='equal')"
     ],
     "language": "python",
     "metadata": {},
     "outputs": [
      {
       "metadata": {},
       "output_type": "pyout",
       "prompt_number": 18,
       "text": [
        "<matplotlib.image.AxesImage at 0x105ebbcd0>"
       ]
      },
      {
       "metadata": {},
       "output_type": "display_data",
       "png": "[encoded data removed]",
       "text": [
        "<matplotlib.figure.Figure at 0x105d980d0>"
       ]
      }
     ],
     "prompt_number": 18
    },
    {
     "cell_type": "markdown",
     "metadata": {},
     "source": [
      "We can set `aspect='auto'` to ask matplotlib to change the column and row widths so the resulting image is much closer to being a square.  If the image to be displayed has many more rows then columns, then the column width will be much larger than the row height."
     ]
    },
    {
     "cell_type": "code",
     "collapsed": false,
     "input": [
      "plt.imshow(X, aspect='auto')"
     ],
     "language": "python",
     "metadata": {},
     "outputs": [
      {
       "metadata": {},
       "output_type": "pyout",
       "prompt_number": 19,
       "text": [
        "<matplotlib.image.AxesImage at 0x1060a6f50>"
       ]
      },
      {
       "metadata": {},
       "output_type": "display_data",
       "png": "[encoded data removed]",
       "text": [
        "<matplotlib.figure.Figure at 0x105e7f150>"
       ]
      }
     ],
     "prompt_number": 19
    },
    {
     "cell_type": "markdown",
     "metadata": {},
     "source": [
      "## Estimation for many voxels at the same time"
     ]
    },
    {
     "cell_type": "markdown",
     "metadata": {},
     "source": [
      "You might have already seen this trick in the [correlated regressors](../day13/correlated_regressors.ipynb) notebook."
     ]
    },
    {
     "cell_type": "markdown",
     "metadata": {},
     "source": [
      "We often want to fit the same design to many different voxels."
     ]
    },
    {
     "cell_type": "markdown",
     "metadata": {},
     "source": [
      "Let's make a design with a linear trend and a constant term:"
     ]
    },
    {
     "cell_type": "code",
     "collapsed": false,
     "input": [
      "X = np.ones((12, 2))\n",
      "X[:, 0] = np.linspace(-1, 1, 12)\n",
      "plt.imshow(X)"
     ],
     "language": "python",
     "metadata": {},
     "outputs": [
      {
       "metadata": {},
       "output_type": "pyout",
       "prompt_number": 20,
       "text": [
        "<matplotlib.image.AxesImage at 0x106303ad0>"
       ]
      },
      {
       "metadata": {},
       "output_type": "display_data",
       "png": "[encoded data removed]",
       "text": [
        "<matplotlib.figure.Figure at 0x10600b910>"
       ]
      }
     ],
     "prompt_number": 20
    },
    {
     "cell_type": "markdown",
     "metadata": {},
     "source": [
      "To fit this design to any data, we take the pseudoinverse:"
     ]
    },
    {
     "cell_type": "code",
     "collapsed": false,
     "input": [
      "piX = npl.pinv(X)\n",
      "piX.shape"
     ],
     "language": "python",
     "metadata": {},
     "outputs": [
      {
       "metadata": {},
       "output_type": "pyout",
       "prompt_number": 21,
       "text": [
        "(2, 12)"
       ]
      }
     ],
     "prompt_number": 21
    },
    {
     "cell_type": "markdown",
     "metadata": {},
     "source": [
      "Now let's make some data to fit to:"
     ]
    },
    {
     "cell_type": "code",
     "collapsed": false,
     "input": [
      "y_0 = np.random.normal(size=12)\n",
      "beta_0 = piX.dot(y_0)\n",
      "beta_0"
     ],
     "language": "python",
     "metadata": {},
     "outputs": [
      {
       "metadata": {},
       "output_type": "pyout",
       "prompt_number": 22,
       "text": [
        "array([-0.20756433, -0.44756437])"
       ]
      }
     ],
     "prompt_number": 22
    },
    {
     "cell_type": "markdown",
     "metadata": {},
     "source": [
      "We can fit this same design to another set of data:"
     ]
    },
    {
     "cell_type": "code",
     "collapsed": false,
     "input": [
      "y_1 = np.random.normal(size=12)\n",
      "beta_1 = piX.dot(y_1)\n",
      "beta_1"
     ],
     "language": "python",
     "metadata": {},
     "outputs": [
      {
       "metadata": {},
       "output_type": "pyout",
       "prompt_number": 23,
       "text": [
        "array([-0.65808648, -0.33514573])"
       ]
      }
     ],
     "prompt_number": 23
    },
    {
     "cell_type": "markdown",
     "metadata": {},
     "source": [
      "Now the trick.  Because of the way that matrix multiplication works, we can fit to these two sets of data with the same call to `dot`:"
     ]
    },
    {
     "cell_type": "code",
     "collapsed": false,
     "input": [
      "Y = np.vstack((y_0, y_1)).T\n",
      "betas = piX.dot(Y)\n",
      "betas"
     ],
     "language": "python",
     "metadata": {},
     "outputs": [
      {
       "metadata": {},
       "output_type": "pyout",
       "prompt_number": 24,
       "text": [
        "array([[-0.20756433, -0.65808648],\n",
        "       [-0.44756437, -0.33514573]])"
       ]
      }
     ],
     "prompt_number": 24
    },
    {
     "cell_type": "markdown",
     "metadata": {},
     "source": [
      "Of course this is true for any number of columns of Y."
     ]
    },
    {
     "cell_type": "markdown",
     "metadata": {},
     "source": [
      "## Matrix rank"
     ]
    },
    {
     "cell_type": "markdown",
     "metadata": {},
     "source": [
      "The *rank* of a matrix is the number of independent rows and / or columns of a matrix.\n",
      "\n",
      "For a matrix with more columns than rows, it is the number of indepedent rows.\n",
      "\n",
      "For a matrix with more rows than columns, like a design matrix, it is the number of indepedent columns.\n",
      "\n",
      "In fact, linear algebra tells us that it is impossible to have more independent columns than there are rows, or more independent rows than there are columns.  Try it and see!\n",
      "\n",
      "A column is dependent on other columns if the values in the column can be generated by a weighted sum of one or more other columns.\n",
      "\n",
      "To put this more formally - let's say we have a matrix $\\mathbf{X}$ with $M$ rows and $N$ columns.  Write column $i$ of $\\mathbf{X}$ as $X_{:,i}$.  Column $i$ is independent of the rest of $\\mathbf{X}$ if there is no length $N$ column vector of weights $\\vec{c}$, where $c_i = 0$, such that $\\mathbf{X} \\cdot \\vec{c} = X_{:,i}$.\n",
      "\n",
      "Let's make a design with independent columns:"
     ]
    },
    {
     "cell_type": "code",
     "collapsed": false,
     "input": [
      "trend = np.linspace(0, 1, 10)\n",
      "X = np.ones((10, 3))\n",
      "X[:, 0] = trend\n",
      "X[:, 1] = trend ** 2\n",
      "plt.imshow(X)"
     ],
     "language": "python",
     "metadata": {},
     "outputs": [
      {
       "metadata": {},
       "output_type": "pyout",
       "prompt_number": 25,
       "text": [
        "<matplotlib.image.AxesImage at 0x1063b1810>"
       ]
      },
      {
       "metadata": {},
       "output_type": "display_data",
       "png": "[encoded data removed]",
       "text": [
        "<matplotlib.figure.Figure at 0x105e511d0>"
       ]
      }
     ],
     "prompt_number": 25
    },
    {
     "cell_type": "markdown",
     "metadata": {},
     "source": [
      "In this case, no column can be generated by a weighted sum of the other two.  We can test this with `np.linalg.matrix_rank`:"
     ]
    },
    {
     "cell_type": "code",
     "collapsed": false,
     "input": [
      "npl.matrix_rank(X)"
     ],
     "language": "python",
     "metadata": {},
     "outputs": [
      {
       "metadata": {},
       "output_type": "pyout",
       "prompt_number": 26,
       "text": [
        "3"
       ]
      }
     ],
     "prompt_number": 26
    },
    {
     "cell_type": "markdown",
     "metadata": {},
     "source": [
      "This does not mean the columns are orthogonal (or that they have zero correlation). "
     ]
    },
    {
     "cell_type": "code",
     "collapsed": false,
     "input": [
      "X.T.dot(X)  # Orthogonal columns have dot products of zero"
     ],
     "language": "python",
     "metadata": {},
     "outputs": [
      {
       "metadata": {},
       "output_type": "pyout",
       "prompt_number": 27,
       "text": [
        "array([[  3.51851852,   2.77777778,   5.        ],\n",
        "       [  2.77777778,   2.33699131,   3.51851852],\n",
        "       [  5.        ,   3.51851852,  10.        ]])"
       ]
      }
     ],
     "prompt_number": 27
    },
    {
     "cell_type": "code",
     "collapsed": false,
     "input": [
      "np.corrcoef(X[:,0], X[:, 1])"
     ],
     "language": "python",
     "metadata": {},
     "outputs": [
      {
       "metadata": {},
       "output_type": "pyout",
       "prompt_number": 28,
       "text": [
        "array([[ 1.        ,  0.96269074],\n",
        "       [ 0.96269074,  1.        ]])"
       ]
      }
     ],
     "prompt_number": 28
    },
    {
     "cell_type": "markdown",
     "metadata": {},
     "source": [
      "As long as each column cannot be *fully* predicted by the others, the column is independent."
     ]
    },
    {
     "cell_type": "markdown",
     "metadata": {},
     "source": [
      "Now let's add a fourth column that is a weighted sum of the first three:"
     ]
    },
    {
     "cell_type": "code",
     "collapsed": false,
     "input": [
      "X_not_full_rank = np.zeros((10, 4))\n",
      "X_not_full_rank[:, :3] = X\n",
      "X_not_full_rank[:, 3] = np.dot(X, [-1, 0.5, 0.5])\n",
      "plt.imshow(X_not_full_rank)"
     ],
     "language": "python",
     "metadata": {},
     "outputs": [
      {
       "metadata": {},
       "output_type": "pyout",
       "prompt_number": 29,
       "text": [
        "<matplotlib.image.AxesImage at 0x106465d50>"
       ]
      },
      {
       "metadata": {},
       "output_type": "display_data",
       "png": "[encoded data removed]",
       "text": [
        "<matplotlib.figure.Figure at 0x1063e8b50>"
       ]
      }
     ],
     "prompt_number": 29
    },
    {
     "cell_type": "markdown",
     "metadata": {},
     "source": [
      "`matrix_rank` is up to the job:"
     ]
    },
    {
     "cell_type": "code",
     "collapsed": false,
     "input": [
      "npl.matrix_rank(X_not_full_rank)"
     ],
     "language": "python",
     "metadata": {},
     "outputs": [
      {
       "metadata": {},
       "output_type": "pyout",
       "prompt_number": 30,
       "text": [
        "3"
       ]
      }
     ],
     "prompt_number": 30
    },
    {
     "cell_type": "markdown",
     "metadata": {},
     "source": [
      "A more typical situation with design matrices, is that we have some dummy variable columns coding for group membership, that sum up to a column of ones."
     ]
    },
    {
     "cell_type": "code",
     "collapsed": false,
     "input": [
      "dummies = np.kron(np.eye(3), np.ones((4, 1)))\n",
      "plt.imshow(dummies)"
     ],
     "language": "python",
     "metadata": {},
     "outputs": [
      {
       "metadata": {},
       "output_type": "pyout",
       "prompt_number": 31,
       "text": [
        "<matplotlib.image.AxesImage at 0x10651dc10>"
       ]
      },
      {
       "metadata": {},
       "output_type": "display_data",
       "png": "[encoded data removed]",
       "text": [
        "<matplotlib.figure.Figure at 0x1064b91d0>"
       ]
      }
     ],
     "prompt_number": 31
    },
    {
     "cell_type": "markdown",
     "metadata": {},
     "source": [
      "So far, so good:"
     ]
    },
    {
     "cell_type": "code",
     "collapsed": false,
     "input": [
      "npl.matrix_rank(dummies)"
     ],
     "language": "python",
     "metadata": {},
     "outputs": [
      {
       "metadata": {},
       "output_type": "pyout",
       "prompt_number": 32,
       "text": [
        "3"
       ]
      }
     ],
     "prompt_number": 32
    },
    {
     "cell_type": "markdown",
     "metadata": {},
     "source": [
      "But if we add a column of ones to model the mean:"
     ]
    },
    {
     "cell_type": "code",
     "collapsed": false,
     "input": [
      "dummies_with_mean = np.hstack((dummies, np.ones((12, 1))))\n",
      "plt.imshow(dummies_with_mean)"
     ],
     "language": "python",
     "metadata": {},
     "outputs": [
      {
       "metadata": {},
       "output_type": "pyout",
       "prompt_number": 33,
       "text": [
        "<matplotlib.image.AxesImage at 0x1065d09d0>"
       ]
      },
      {
       "metadata": {},
       "output_type": "display_data",
       "png": "[encoded data removed]",
       "text": [
        "<matplotlib.figure.Figure at 0x10655d6d0>"
       ]
      }
     ],
     "prompt_number": 33
    },
    {
     "cell_type": "code",
     "collapsed": false,
     "input": [
      "npl.matrix_rank(dummies_with_mean)"
     ],
     "language": "python",
     "metadata": {},
     "outputs": [
      {
       "metadata": {},
       "output_type": "pyout",
       "prompt_number": 34,
       "text": [
        "3"
       ]
      }
     ],
     "prompt_number": 34
    }
   ],
   "metadata": {}
  }
 ]
}