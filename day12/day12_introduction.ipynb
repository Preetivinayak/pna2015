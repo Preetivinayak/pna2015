{
 "metadata": {
  "name": "",
  "signature": "sha256:f2d20022db20f456b81964d6862401921a6dc44e76e09b4f8ace612543e3d856"
 },
 "nbformat": 3,
 "nbformat_minor": 0,
 "worksheets": [
  {
   "cells": [
    {
     "cell_type": "code",
     "collapsed": false,
     "input": [
      "# - compatibility with Python 3\n",
      "from __future__ import print_function  # print('me') instead of print 'me'\n",
      "from __future__ import division  # 1/2 == 0.5, not 0"
     ],
     "language": "python",
     "metadata": {},
     "outputs": [],
     "prompt_number": 1
    },
    {
     "cell_type": "code",
     "collapsed": false,
     "input": [
      "# - show figures inside the notebook\n",
      "%matplotlib inline"
     ],
     "language": "python",
     "metadata": {},
     "outputs": [],
     "prompt_number": 2
    },
    {
     "cell_type": "code",
     "collapsed": false,
     "input": [
      "# - import common modules\n",
      "import numpy as np  # the Python array package\n",
      "import matplotlib.pyplot as plt  # the Python plotting package"
     ],
     "language": "python",
     "metadata": {},
     "outputs": [],
     "prompt_number": 3
    },
    {
     "cell_type": "code",
     "collapsed": false,
     "input": [
      "# - set gray colormap and nearest neighbor interpolation by default\n",
      "plt.rcParams['image.cmap'] = 'gray'\n",
      "plt.rcParams['image.interpolation'] = 'nearest'"
     ],
     "language": "python",
     "metadata": {},
     "outputs": [],
     "prompt_number": 4
    },
    {
     "cell_type": "code",
     "collapsed": false,
     "input": [
      "# - import numpy.linalg with a shorter name\n",
      "import numpy.linalg as npl"
     ],
     "language": "python",
     "metadata": {},
     "outputs": [],
     "prompt_number": 5
    },
    {
     "cell_type": "markdown",
     "metadata": {},
     "source": [
      "## Comparing arrays"
     ]
    },
    {
     "cell_type": "markdown",
     "metadata": {},
     "source": [
      "A comparison between two arrays returns the *elementwise* result of the comparison:"
     ]
    },
    {
     "cell_type": "code",
     "collapsed": false,
     "input": [
      "arr1 = np.array([[0, 1, 2],\n",
      "                [3, 4, 5]])\n",
      "arr2 = np.array([[1, 1, 2],\n",
      "                 [3, 4, 6]])\n",
      "arr1 == arr2"
     ],
     "language": "python",
     "metadata": {},
     "outputs": [
      {
       "metadata": {},
       "output_type": "pyout",
       "prompt_number": 6,
       "text": [
        "array([[False,  True,  True],\n",
        "       [ True,  True, False]], dtype=bool)"
       ]
      }
     ],
     "prompt_number": 6
    },
    {
     "cell_type": "markdown",
     "metadata": {},
     "source": [
      "Sometimes we want to know if two arrays are equal, in the sense that all the elements of the two arrays are equal to each other.  For this we use `np.all`.  `np.all` accepts an array as input, and returns True if all the elements are non-zero (evaluate to True if forced to a True / False value):"
     ]
    },
    {
     "cell_type": "code",
     "collapsed": false,
     "input": [
      "np.all([True, True, True])"
     ],
     "language": "python",
     "metadata": {},
     "outputs": [
      {
       "metadata": {},
       "output_type": "pyout",
       "prompt_number": 7,
       "text": [
        "True"
       ]
      }
     ],
     "prompt_number": 7
    },
    {
     "cell_type": "code",
     "collapsed": false,
     "input": [
      "np.all([True, False, True])"
     ],
     "language": "python",
     "metadata": {},
     "outputs": [
      {
       "metadata": {},
       "output_type": "pyout",
       "prompt_number": 8,
       "text": [
        "False"
       ]
      }
     ],
     "prompt_number": 8
    },
    {
     "cell_type": "markdown",
     "metadata": {},
     "source": [
      "To ask whether all the elements in two arrays are equal, we can pass the result of the elementwise comparison to `np.all`:"
     ]
    },
    {
     "cell_type": "code",
     "collapsed": false,
     "input": [
      "np.all(arr1 == arr2)"
     ],
     "language": "python",
     "metadata": {},
     "outputs": [
      {
       "metadata": {},
       "output_type": "pyout",
       "prompt_number": 9,
       "text": [
        "False"
       ]
      }
     ],
     "prompt_number": 9
    },
    {
     "cell_type": "code",
     "collapsed": false,
     "input": [
      "arr3 = arr1.copy()\n",
      "np.all(arr1 == arr3)"
     ],
     "language": "python",
     "metadata": {},
     "outputs": [
      {
       "metadata": {},
       "output_type": "pyout",
       "prompt_number": 10,
       "text": [
        "True"
       ]
      }
     ],
     "prompt_number": 10
    },
    {
     "cell_type": "markdown",
     "metadata": {},
     "source": [
      "Sometimes we want to know if any of the values in an array are non-zero (evaluate to True if forced to a True / False value).  Enter `np.any`:"
     ]
    },
    {
     "cell_type": "code",
     "collapsed": false,
     "input": [
      "np.any([False, False, False])"
     ],
     "language": "python",
     "metadata": {},
     "outputs": [
      {
       "metadata": {},
       "output_type": "pyout",
       "prompt_number": 11,
       "text": [
        "False"
       ]
      }
     ],
     "prompt_number": 11
    },
    {
     "cell_type": "code",
     "collapsed": false,
     "input": [
      "np.any([False, False, True])"
     ],
     "language": "python",
     "metadata": {},
     "outputs": [
      {
       "metadata": {},
       "output_type": "pyout",
       "prompt_number": 12,
       "text": [
        "True"
       ]
      }
     ],
     "prompt_number": 12
    },
    {
     "cell_type": "code",
     "collapsed": false,
     "input": [
      "np.any(arr1 == arr2)"
     ],
     "language": "python",
     "metadata": {},
     "outputs": [
      {
       "metadata": {},
       "output_type": "pyout",
       "prompt_number": 13,
       "text": [
        "True"
       ]
      }
     ],
     "prompt_number": 13
    },
    {
     "cell_type": "code",
     "collapsed": false,
     "input": [
      "np.any(arr1 != arr3)"
     ],
     "language": "python",
     "metadata": {},
     "outputs": [
      {
       "metadata": {},
       "output_type": "pyout",
       "prompt_number": 14,
       "text": [
        "False"
       ]
      }
     ],
     "prompt_number": 14
    },
    {
     "cell_type": "markdown",
     "metadata": {},
     "source": [
      "## Formatting output when printing"
     ]
    },
    {
     "cell_type": "markdown",
     "metadata": {},
     "source": [
      "We sometimes want to print numbers or strings with particular formatting. For example, we might want to print a floating point number to only 2 digits of precision.  One good way to do this is using the Python curly brace string formatting.  It works like this:"
     ]
    },
    {
     "cell_type": "code",
     "collapsed": false,
     "input": [
      "'Here is a {} floating point number'.format(3.33333)"
     ],
     "language": "python",
     "metadata": {},
     "outputs": [
      {
       "metadata": {},
       "output_type": "pyout",
       "prompt_number": 15,
       "text": [
        "'Here is a 3.33333 floating point number'"
       ]
      }
     ],
     "prompt_number": 15
    },
    {
     "cell_type": "markdown",
     "metadata": {},
     "source": [
      "The curly braces indicate that the number should go at that position in the string.  Calling the `format` method with the number as an argument makes the number into a string and replaces the curly braces with the number represented as a string.\n",
      "\n",
      "You can use multiple values in the formatting, and mix strings and numbers:"
     ]
    },
    {
     "cell_type": "code",
     "collapsed": false,
     "input": [
      "'Here is a number - {}; here is a string - {}'.format(2.0, 'Hello')"
     ],
     "language": "python",
     "metadata": {},
     "outputs": [
      {
       "metadata": {},
       "output_type": "pyout",
       "prompt_number": 16,
       "text": [
        "'Here is a number - 2.0; here is a string - Hello'"
       ]
      }
     ],
     "prompt_number": 16
    },
    {
     "cell_type": "markdown",
     "metadata": {},
     "source": [
      "This system allows us to give formatting instructions for things like numbers, by using a `:` inside the curly braces, followed by the formatting instructions.  Here is an example of printing a fixed precision floating point value (`f`) with exactly `4` digits after the decimal point:"
     ]
    },
    {
     "cell_type": "code",
     "collapsed": false,
     "input": [
      "'A formatted number - {:.4f}'.format(.2)"
     ],
     "language": "python",
     "metadata": {},
     "outputs": [
      {
       "metadata": {},
       "output_type": "pyout",
       "prompt_number": 17,
       "text": [
        "'A formatted number - 0.2000'"
       ]
      }
     ],
     "prompt_number": 17
    },
    {
     "cell_type": "markdown",
     "metadata": {},
     "source": [
      "See the [Python string formatting docs](https://docs.python.org/2/library/string.html#format-string-syntax) for more details and examples."
     ]
    },
    {
     "cell_type": "markdown",
     "metadata": {},
     "source": [
      "## Comparing floats and floating point error"
     ]
    },
    {
     "cell_type": "markdown",
     "metadata": {},
     "source": [
      "There are an infinite number of real - er - numbers, for example, there are an infinite number of real numbers between 0 and 1.\n",
      "\n",
      "The computer stores real numbers as floating point numbers. The typical format the computer uses for floating point numbers uses 8 bytes (64 bits of memory) per number.  That means the computer can only represent some of the numbers between 0 and 1 (for example)."
     ]
    },
    {
     "cell_type": "markdown",
     "metadata": {},
     "source": [
      "One number that standard floating point numbers cannot represent exactly is 0.1.  Here we print the value with 20 digits after the decimal point to show that:"
     ]
    },
    {
     "cell_type": "code",
     "collapsed": false,
     "input": [
      "print('{:.20f}'.format(0.1))"
     ],
     "language": "python",
     "metadata": {},
     "outputs": [
      {
       "output_type": "stream",
       "stream": "stdout",
       "text": [
        "0.10000000000000000555\n"
       ]
      }
     ],
     "prompt_number": 18
    },
    {
     "cell_type": "markdown",
     "metadata": {},
     "source": [
      "This means that when we do mathematical operations on floating point numbers, the actual result of the operation may be a number that the computer cannot represent exactly.  In that case the software implementing the calculation can at best give us the nearest floating point number that it can represent:"
     ]
    },
    {
     "cell_type": "code",
     "collapsed": false,
     "input": [
      "print('{:1.20f}'.format(1 / 10))"
     ],
     "language": "python",
     "metadata": {},
     "outputs": [
      {
       "output_type": "stream",
       "stream": "stdout",
       "text": [
        "0.10000000000000000555\n"
       ]
      }
     ],
     "prompt_number": 19
    },
    {
     "cell_type": "markdown",
     "metadata": {},
     "source": [
      "For this reason, sometimes the results of doing floating point calculations are not exactly accurate.  This is called [floating point error](https://matthew-brett.github.io/pydagogue/floating_error.html).  In the case above the floating point error is very small - 0.00000000000000000555."
     ]
    },
    {
     "cell_type": "markdown",
     "metadata": {},
     "source": [
      "Floating point error means that we have to be careful comparing results of floating point calculations, because the result may be off by some small amount, due to floating point error:"
     ]
    },
    {
     "cell_type": "code",
     "collapsed": false,
     "input": [
      "c = np.cos(1)\n",
      "# We hope that the inverse cos should give back the original number, but\n",
      "np.arccos(c) == 1"
     ],
     "language": "python",
     "metadata": {},
     "outputs": [
      {
       "metadata": {},
       "output_type": "pyout",
       "prompt_number": 20,
       "text": [
        "False"
       ]
      }
     ],
     "prompt_number": 20
    },
    {
     "cell_type": "code",
     "collapsed": false,
     "input": [
      "np.arccos(c)"
     ],
     "language": "python",
     "metadata": {},
     "outputs": [
      {
       "metadata": {},
       "output_type": "pyout",
       "prompt_number": 21,
       "text": [
        "0.99999999999999989"
       ]
      }
     ],
     "prompt_number": 21
    },
    {
     "cell_type": "markdown",
     "metadata": {},
     "source": [
      "In this case, we probably want to check that the result is equal within some reasonable error due to the limited precision of floating point.  For example, `np.allclose` checks whether two numbers are almost equal within some default tolerance levels:"
     ]
    },
    {
     "cell_type": "code",
     "collapsed": false,
     "input": [
      "np.allclose(np.arccos(c), 1)"
     ],
     "language": "python",
     "metadata": {},
     "outputs": [
      {
       "metadata": {},
       "output_type": "pyout",
       "prompt_number": 22,
       "text": [
        "True"
       ]
      }
     ],
     "prompt_number": 22
    },
    {
     "cell_type": "markdown",
     "metadata": {},
     "source": [
      "## Making and saving new images in nibabel"
     ]
    },
    {
     "cell_type": "markdown",
     "metadata": {},
     "source": [
      "We often want to do some processing on an image, then save the processed image back to an image file on disk."
     ]
    },
    {
     "cell_type": "markdown",
     "metadata": {},
     "source": [
      "When we load an image from disk, we get back an image object.  When we load a NIfTI `.nii` image, we get an image object of type `Nifti1Image`."
     ]
    },
    {
     "cell_type": "code",
     "collapsed": false,
     "input": [
      "import nibabel as nib\n",
      "img = nib.load('ds114_sub009_highres.nii')\n",
      "type(img)"
     ],
     "language": "python",
     "metadata": {},
     "outputs": [
      {
       "metadata": {},
       "output_type": "pyout",
       "prompt_number": 23,
       "text": [
        "nibabel.nifti1.Nifti1Image"
       ]
      }
     ],
     "prompt_number": 23
    },
    {
     "cell_type": "markdown",
     "metadata": {},
     "source": [
      "Maybe we were worried about some very high values in the image, and we wanted to clip them down to a more reasonable number:"
     ]
    },
    {
     "cell_type": "code",
     "collapsed": false,
     "input": [
      "data = img.get_data()\n",
      "data.max()"
     ],
     "language": "python",
     "metadata": {},
     "outputs": [
      {
       "metadata": {},
       "output_type": "pyout",
       "prompt_number": 24,
       "text": [
        "memmap(3237.0, dtype=float32)"
       ]
      }
     ],
     "prompt_number": 24
    },
    {
     "cell_type": "markdown",
     "metadata": {},
     "source": [
      "We might consider clipping the top 5 percent of voxel values:"
     ]
    },
    {
     "cell_type": "code",
     "collapsed": false,
     "input": [
      "data = img.get_data()\n",
      "top_95_thresh = np.percentile(data.ravel(), 95)\n",
      "top_95_thresh"
     ],
     "language": "python",
     "metadata": {},
     "outputs": [
      {
       "metadata": {},
       "output_type": "pyout",
       "prompt_number": 25,
       "text": [
        "722.0"
       ]
      }
     ],
     "prompt_number": 25
    },
    {
     "cell_type": "code",
     "collapsed": false,
     "input": [
      "new_data = data.copy()\n",
      "new_data[new_data > top_95_thresh] = top_95_thresh\n",
      "new_data.max()"
     ],
     "language": "python",
     "metadata": {},
     "outputs": [
      {
       "metadata": {},
       "output_type": "pyout",
       "prompt_number": 26,
       "text": [
        "memmap(722.0, dtype=float32)"
       ]
      }
     ],
     "prompt_number": 26
    },
    {
     "cell_type": "markdown",
     "metadata": {},
     "source": [
      "We can make a new `Nifti1Image` by constructing directly, passing the new data, the image affine, and (optionally) a template header for the image:"
     ]
    },
    {
     "cell_type": "code",
     "collapsed": false,
     "input": [
      "clipped_img = nib.Nifti1Image(new_data, img.affine, img.header)\n",
      "type(clipped_img)"
     ],
     "language": "python",
     "metadata": {},
     "outputs": [
      {
       "metadata": {},
       "output_type": "pyout",
       "prompt_number": 27,
       "text": [
        "nibabel.nifti1.Nifti1Image"
       ]
      }
     ],
     "prompt_number": 27
    },
    {
     "cell_type": "markdown",
     "metadata": {},
     "source": [
      "The `nib.Nifti1Image` routine copies and adapts the passed header to the new image data shape, and affine."
     ]
    },
    {
     "cell_type": "code",
     "collapsed": false,
     "input": [
      "# Show the original data array shape from the original header\n",
      "img.header.get_data_shape()"
     ],
     "language": "python",
     "metadata": {},
     "outputs": [
      {
       "metadata": {},
       "output_type": "pyout",
       "prompt_number": 28,
       "text": [
        "(256, 156, 256)"
       ]
      }
     ],
     "prompt_number": 28
    },
    {
     "cell_type": "code",
     "collapsed": false,
     "input": [
      "# Here we construct a new empty header\n",
      "empty_header = nib.Nifti1Header()\n",
      "empty_header.get_data_shape()"
     ],
     "language": "python",
     "metadata": {},
     "outputs": [
      {
       "metadata": {},
       "output_type": "pyout",
       "prompt_number": 29,
       "text": [
        "(0,)"
       ]
      }
     ],
     "prompt_number": 29
    },
    {
     "cell_type": "markdown",
     "metadata": {},
     "source": [
      "If we make a new image with this header, the constructor routine fixes the header to have the correct shape for the data array:"
     ]
    },
    {
     "cell_type": "code",
     "collapsed": false,
     "input": [
      "another_img = nib.Nifti1Image(new_data, img.affine, empty_header)\n",
      "another_img.header.get_data_shape()"
     ],
     "language": "python",
     "metadata": {},
     "outputs": [
      {
       "metadata": {},
       "output_type": "pyout",
       "prompt_number": 30,
       "text": [
        "(256, 156, 256)"
       ]
      }
     ],
     "prompt_number": 30
    },
    {
     "cell_type": "markdown",
     "metadata": {},
     "source": [
      "We can save our new image with `nib.save`:"
     ]
    },
    {
     "cell_type": "code",
     "collapsed": false,
     "input": [
      "nib.save(clipped_img, 'clipped_image.nii')"
     ],
     "language": "python",
     "metadata": {},
     "outputs": [],
     "prompt_number": 31
    },
    {
     "cell_type": "markdown",
     "metadata": {},
     "source": [
      "This image has the clipped data:"
     ]
    },
    {
     "cell_type": "code",
     "collapsed": false,
     "input": [
      "nib.load('clipped_image.nii').get_data().max()"
     ],
     "language": "python",
     "metadata": {},
     "outputs": [
      {
       "metadata": {},
       "output_type": "pyout",
       "prompt_number": 32,
       "text": [
        "memmap(722.0, dtype=float32)"
       ]
      }
     ],
     "prompt_number": 32
    },
    {
     "cell_type": "markdown",
     "metadata": {},
     "source": [
      "## Sometimes, the TR in a NIfTI image is in the header"
     ]
    },
    {
     "cell_type": "markdown",
     "metadata": {},
     "source": [
      "The NIfTI standard suggests putting the TR of a functional image, into the voxel dimension field of the header.\n",
      "\n",
      "You can get the voxel (plus TR) dimensions with the `get_zooms` method of the header object:"
     ]
    },
    {
     "cell_type": "code",
     "collapsed": false,
     "input": [
      "func_img = nib.load('ds114_sub009_t2r1.nii')\n",
      "header = func_img.header\n",
      "header.get_zooms()"
     ],
     "language": "python",
     "metadata": {},
     "outputs": [
      {
       "metadata": {},
       "output_type": "pyout",
       "prompt_number": 33,
       "text": [
        "(4.0, 4.0, 4.0000162, 2.5)"
       ]
      }
     ],
     "prompt_number": 33
    },
    {
     "cell_type": "markdown",
     "metadata": {},
     "source": [
      "In this case, the TR is 2.5 seconds."
     ]
    },
    {
     "cell_type": "markdown",
     "metadata": {},
     "source": [
      "In fact these values come from the NIfTI header field called `pixdim`:"
     ]
    },
    {
     "cell_type": "code",
     "collapsed": false,
     "input": [
      "print(header)"
     ],
     "language": "python",
     "metadata": {},
     "outputs": [
      {
       "output_type": "stream",
       "stream": "stdout",
       "text": [
        "<class 'nibabel.nifti1.Nifti1Header'> object, endian='<'\n",
        "sizeof_hdr      : 348\n",
        "data_type       : \n",
        "db_name         : ?TR:2500.000 TE:50\n",
        "extents         : 0\n",
        "session_error   : 0\n",
        "regular         : r\n",
        "dim_info        : 0\n",
        "dim             : [  4  64  64  30 173   1   1   1]\n",
        "intent_p1       : 0.0\n",
        "intent_p2       : 0.0\n",
        "intent_p3       : 0.0\n",
        "intent_code     : none\n",
        "datatype        : int16\n",
        "bitpix          : 16\n",
        "slice_start     : 0\n",
        "pixdim          : [-1.          4.          4.          4.00001621  2.5         1.          1.\n",
        "  1.        ]\n",
        "vox_offset      : 0.0\n",
        "scl_slope       : nan\n",
        "scl_inter       : nan\n",
        "slice_end       : 0\n",
        "slice_code      : unknown\n",
        "xyzt_units      : 10\n",
        "cal_max         : 0.0\n",
        "cal_min         : 0.0\n",
        "slice_duration  : 0.0\n",
        "toffset         : 0.0\n",
        "glmax           : 255\n",
        "glmin           : 0\n",
        "descrip         : \n",
        "aux_file        : \n",
        "qform_code      : scanner\n",
        "sform_code      : scanner\n",
        "quatern_b       : 0.0\n",
        "quatern_c       : 0.9958999753\n",
        "quatern_d       : -0.0904608666897\n",
        "qoffset_x       : 124.244003296\n",
        "qoffset_y       : -103.449684143\n",
        "qoffset_z       : -33.4928588867\n",
        "srow_x          : [  -4.           0.           0.         124.2440033]\n",
        "srow_y          : [   0.            3.93453455    0.72072268 -103.44968414]\n",
        "srow_z          : [  0.          -0.72071975   3.93455052 -33.49285889]\n",
        "intent_name     : \n",
        "magic           : n+1\n"
       ]
      }
     ],
     "prompt_number": 34
    },
    {
     "cell_type": "markdown",
     "metadata": {},
     "source": [
      "Unfortunately, it is common for people writing NIfTI images, not to write this information correctly into the header, so we have to be careful, and very suspicious, if the TR value appears to be 0 or 1."
     ]
    }
   ],
   "metadata": {}
  }
 ]
}