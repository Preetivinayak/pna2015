{
 "metadata": {
  "name": "",
  "signature": "sha256:498de1fad0a1f849a1bcc1ed231de288f94bffe69e9538d40ba715ba5d2ef4f7"
 },
 "nbformat": 3,
 "nbformat_minor": 0,
 "worksheets": [
  {
   "cells": [
    {
     "cell_type": "code",
     "collapsed": false,
     "input": [
      "# - compatibility with Python 3\n",
      "from __future__ import print_function  # print('me') instead of print 'me'\n",
      "from __future__ import division  # 1/2 == 0.5, not 0"
     ],
     "language": "python",
     "metadata": {},
     "outputs": [],
     "prompt_number": 1
    },
    {
     "cell_type": "code",
     "collapsed": false,
     "input": [
      "# - show figures inside the notebook\n",
      "%matplotlib inline"
     ],
     "language": "python",
     "metadata": {},
     "outputs": [],
     "prompt_number": 2
    },
    {
     "cell_type": "code",
     "collapsed": false,
     "input": [
      "# - import common modules\n",
      "import numpy as np  # the Python array package\n",
      "import matplotlib.pyplot as plt  # the Python plotting package"
     ],
     "language": "python",
     "metadata": {},
     "outputs": [],
     "prompt_number": 3
    },
    {
     "cell_type": "code",
     "collapsed": false,
     "input": [
      "# - set gray colormap and nearest neighbor interpolation by default\n",
      "plt.rcParams['image.cmap'] = 'gray'\n",
      "plt.rcParams['image.interpolation'] = 'nearest'"
     ],
     "language": "python",
     "metadata": {},
     "outputs": [],
     "prompt_number": 4
    },
    {
     "cell_type": "markdown",
     "metadata": {},
     "source": [
      "## Parameters for SPM slice timing"
     ]
    },
    {
     "cell_type": "markdown",
     "metadata": {},
     "source": [
      "First we need the number of 'slices' (length of the third image dimension):"
     ]
    },
    {
     "cell_type": "code",
     "collapsed": false,
     "input": [
      "import nibabel as nib\n",
      "img = nib.load('fds114_sub009_t2r1.nii')\n",
      "num_slices = img.shape[2]\n",
      "num_slices"
     ],
     "language": "python",
     "metadata": {},
     "outputs": [
      {
       "metadata": {},
       "output_type": "pyout",
       "prompt_number": 5,
       "text": [
        "30"
       ]
      }
     ],
     "prompt_number": 5
    },
    {
     "cell_type": "markdown",
     "metadata": {},
     "source": [
      "Next we need the TR:"
     ]
    },
    {
     "cell_type": "code",
     "collapsed": false,
     "input": [
      "TR = img.header.get_zooms()[-1]\n",
      "TR"
     ],
     "language": "python",
     "metadata": {},
     "outputs": [
      {
       "metadata": {},
       "output_type": "pyout",
       "prompt_number": 6,
       "text": [
        "2.5"
       ]
      }
     ],
     "prompt_number": 6
    },
    {
     "cell_type": "markdown",
     "metadata": {},
     "source": [
      "We need the time to acquire all but the last slice (don't ask!). SPM calls this `TA` (time of acqusition?):"
     ]
    },
    {
     "cell_type": "code",
     "collapsed": false,
     "input": [
      "time_for_one_slice = TR / num_slices\n",
      "TA = TR - time_for_one_slice\n",
      "TA"
     ],
     "language": "python",
     "metadata": {},
     "outputs": [
      {
       "metadata": {},
       "output_type": "pyout",
       "prompt_number": 7,
       "text": [
        "2.4166666666666665"
       ]
      }
     ],
     "prompt_number": 7
    },
    {
     "cell_type": "markdown",
     "metadata": {},
     "source": [
      "Next we need the acquisition order.  This is an array `acq_order` of length `num_slices` where `acq_order[i]` gives the slice index of the slice acquired at position `i` in time.  So, if `acq_order` is `[0, 2, 4, 6, 8, 1, 3, 5, 7, 9]` that means that the first slice acquired was slice index 0, followed by slice index 2, followed by slice index 4, and so on."
     ]
    },
    {
     "cell_type": "markdown",
     "metadata": {},
     "source": [
      "For our image, the scanner collected the even index slices first, starting at the bottom, and then came back and collected the odd index slices:"
     ]
    },
    {
     "cell_type": "code",
     "collapsed": false,
     "input": [
      "acq_order = np.zeros(num_slices)\n",
      "acq_order[:num_slices/2] = range(0, num_slices, 2)\n",
      "acq_order[num_slices/2:] = range(1, num_slices, 2)\n",
      "acq_order"
     ],
     "language": "python",
     "metadata": {},
     "outputs": [
      {
       "metadata": {},
       "output_type": "pyout",
       "prompt_number": 8,
       "text": [
        "array([  0.,   2.,   4.,   6.,   8.,  10.,  12.,  14.,  16.,  18.,  20.,\n",
        "        22.,  24.,  26.,  28.,   1.,   3.,   5.,   7.,   9.,  11.,  13.,\n",
        "        15.,  17.,  19.,  21.,  23.,  25.,  27.,  29.])"
       ]
      }
     ],
     "prompt_number": 8
    },
    {
     "cell_type": "markdown",
     "metadata": {},
     "source": [
      "Python thinks in terms of 0-based indices, but MATLAB thinks in terms of 1-based indices, so for SPM, we need this array plus 1:"
     ]
    },
    {
     "cell_type": "code",
     "collapsed": false,
     "input": [
      "acq_order = acq_order + 1\n",
      "print(acq_order)"
     ],
     "language": "python",
     "metadata": {},
     "outputs": [
      {
       "output_type": "stream",
       "stream": "stdout",
       "text": [
        "[  1.   3.   5.   7.   9.  11.  13.  15.  17.  19.  21.  23.  25.  27.  29.\n",
        "   2.   4.   6.   8.  10.  12.  14.  16.  18.  20.  22.  24.  26.  28.  30.]\n"
       ]
      }
     ],
     "prompt_number": 9
    }
   ],
   "metadata": {}
  }
 ]
}