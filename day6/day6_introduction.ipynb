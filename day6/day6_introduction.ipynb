{
 "metadata": {
  "name": "",
  "signature": "sha256:a66b4fcc0f6cb56057aed996b40d7e100e31b584058c42b928a4101bb3354d61"
 },
 "nbformat": 3,
 "nbformat_minor": 0,
 "worksheets": [
  {
   "cells": [
    {
     "cell_type": "code",
     "collapsed": false,
     "input": [
      "# - compatibility with Python 3\n",
      "from __future__ import print_function  # print('me') instead of print 'me'\n",
      "from __future__ import division  # 1/2 == 0.5, not 0"
     ],
     "language": "python",
     "metadata": {},
     "outputs": []
    },
    {
     "cell_type": "code",
     "collapsed": false,
     "input": [
      "# - show figures inside the notebook\n",
      "%matplotlib inline"
     ],
     "language": "python",
     "metadata": {},
     "outputs": []
    },
    {
     "cell_type": "code",
     "collapsed": false,
     "input": [
      "# - import common modules\n",
      "import numpy as np  # the Python array package\n",
      "import matplotlib.pyplot as plt  # the Python plotting package"
     ],
     "language": "python",
     "metadata": {},
     "outputs": []
    },
    {
     "cell_type": "markdown",
     "metadata": {},
     "source": [
      "## Git, backups, collaborating"
     ]
    },
    {
     "cell_type": "markdown",
     "metadata": {},
     "source": [
      "So far we have only seen git working on our own machine.\n",
      "\n",
      "One of the best features of git is the ability to have multiple copies of your files in different places.  Git makes it easy to synchronize your snapshots between disks and machines.\n",
      "\n",
      "The way git does this is using *remotes*.  The same feature allows other people to work on the same set of files, and share work with you.\n",
      "\n",
      "Here I'll make a new repo, then back it up online."
     ]
    },
    {
     "cell_type": "markdown",
     "metadata": {},
     "source": [
      "First I make the new repo:\n",
      "\n",
      "```\n",
      "$ cd\n",
      "$ mkdir new-repo\n",
      "$ cd new-repo\n",
      "$ git init\n",
      "Initialized empty Git repository in /Users/mb312/new-repo/.git/\n",
      "$ ls -a\n",
      ".\t..\t.git\n",
      "$ vim README.txt\n",
      "$ git status\n",
      "On branch master\n",
      "\n",
      "Initial commit\n",
      "\n",
      "Untracked files:\n",
      "  (use \"git add <file>...\" to include in what will be committed)\n",
      "\n",
      "\tREADME.txt\n",
      "\n",
      "nothing added to commit but untracked files present (use \"git add\" to track)\n",
      "$ git add README.txt\n",
      "$ git commit\n",
      "[master (root-commit) e298170] Start of a new repository\n",
      " 1 file changed, 1 insertion(+)\n",
      " create mode 100644 README.txt\n",
      "```"
     ]
    },
    {
     "cell_type": "markdown",
     "metadata": {},
     "source": [
      "At the moment I only have a single branch - `master`:\n",
      "\n",
      "```\n",
      "$ git branch\n",
      "* master\n",
      "```\n",
      "\n",
      "I can pass the ``--all`` flag to `git branch` to show me any *remote branch references* as well.  I don't have any remote branch references at the moment:\n",
      "\n",
      "```\n",
      "$ git branch --all\n",
      "* master\n",
      "```"
     ]
    },
    {
     "cell_type": "markdown",
     "metadata": {},
     "source": [
      "Next I make a place to back up this repo.  In my case, I'm going to use my Github account to host the repository.  Off I go to my account page:  https://github.com/matthew-brett\n",
      "\n",
      "I click on the plus button.\n",
      "\n",
      "I create a new repository `new-repo`.\n",
      "\n",
      "Github gives me nice instructions what to do next.  I do that."
     ]
    },
    {
     "cell_type": "markdown",
     "metadata": {},
     "source": [
      "```\n",
      "$ git remote add origin git@github.com:matthew-brett/new-repo.git\n",
      "$ git push -u origin master\n",
      "Counting objects: 3, done.\n",
      "Writing objects: 100% (3/3), 271 bytes | 0 bytes/s, done.\n",
      "Total 3 (delta 0), reused 0 (delta 0)\n",
      "To git@github.com:matthew-brett/new-repo.git\n",
      " * [new branch]      master -> master\n",
      "Branch master set up to track remote branch master from origin.\n",
      "```"
     ]
    },
    {
     "cell_type": "markdown",
     "metadata": {},
     "source": [
      "Git has added a *remote*.  A git remote is a reference to another git repository.  When we do commands like `git push` or `git fetch` we send data or receive data from this other repository."
     ]
    },
    {
     "cell_type": "markdown",
     "metadata": {},
     "source": [
      "Now what branch references do I have?\n",
      "\n",
      "```\n",
      "$ git branch --all\n",
      "* master\n",
      "  remotes/origin/master\n",
      "$ git branch --all -v\n",
      "* master                e298170 Start of a new repository\n",
      "  remotes/origin/master e298170 Start of a new repository\n",
      "```"
     ]
    },
    {
     "cell_type": "markdown",
     "metadata": {},
     "source": [
      "Now let's say I do some more work on my computer:\n",
      "\n",
      "```\n",
      "$ vim another_file.txt\n",
      "$ git add another_file.txt\n",
      "$ git commit\n",
      "[master b9fed1d] A second commit\n",
      " 1 file changed, 1 insertion(+)\n",
      " create mode 100644 another_file.txt\n",
      "```\n",
      "\n",
      "I did this work on my computer, so the repository pointed to by the remote does not know anything about it until I `push`.   The old remote branch position has not changed - it does not point to the position of our local branch but to the position of the branch on the other machine (at Github):\n",
      "\n",
      "```\n",
      "$ git branch --all -v\n",
      "* master                b9fed1d [ahead 1] A second commit\n",
      "  remotes/origin/master e298170 Start of a new repository\n",
      "```"
     ]
    },
    {
     "cell_type": "markdown",
     "metadata": {},
     "source": [
      "If I want to sync the branch positions, and the new data, to the other repository, I use `git push`:\n",
      "\n",
      "```\n",
      "$ git push origin master\n",
      "Counting objects: 4, done.\n",
      "Delta compression using up to 4 threads.\n",
      "Compressing objects: 100% (2/2), done.\n",
      "Writing objects: 100% (3/3), 305 bytes | 0 bytes/s, done.\n",
      "Total 3 (delta 0), reused 0 (delta 0)\n",
      "To git@github.com:matthew-brett/new-repo.git\n",
      "   e298170..b9fed1d  master -> master\n",
      "```\n",
      "\n",
      "Now git knows that the other repository branch position has changed, and it updates this in the data is has about this other repository.  The \"remote\" is the data that git has about this repository.\n",
      "\n",
      "```\n",
      "$ git branch --all -v\n",
      "* master                b9fed1d A second commit\n",
      "  remotes/origin/master b9fed1d A second commit\n",
      "```"
     ]
    },
    {
     "cell_type": "markdown",
     "metadata": {},
     "source": [
      "As you will soon see in the exercises, I can also get any new data from this other repository, using `git fetch`."
     ]
    },
    {
     "cell_type": "markdown",
     "metadata": {},
     "source": [
      "## Testing"
     ]
    },
    {
     "cell_type": "markdown",
     "metadata": {},
     "source": [
      "Today we will start using a utility called `nose` to test our utility code."
     ]
    },
    {
     "cell_type": "markdown",
     "metadata": {},
     "source": [
      "When we write code, most of the time, we make mistakes.  These mistakes can be hard to see.\n",
      "\n",
      "Most untrained programmers write code, try it a few times at the interactive prompt, get the answers they expect, and then assume the code is OK.\n",
      "\n",
      "Long experience shows that this is rarely true.  \"Code that is not tested, must be assumed to be broken\".\n",
      "\n",
      "* The code may give the right answer for some inputs and the wrong answer for others that you didn't test;\n",
      "* The code may not work on another system or configuration.\n",
      "\n",
      "The main way to reduce these problems is to write tests.\n",
      "\n",
      "For example, let's say I had a module called 'mymodule', like this:"
     ]
    },
    {
     "cell_type": "code",
     "collapsed": false,
     "input": [
      "%%file mymodule.py\n",
      "def do_div(arg1, arg2):\n",
      "    return arg1 / arg2   "
     ],
     "language": "python",
     "metadata": {},
     "outputs": []
    },
    {
     "cell_type": "markdown",
     "metadata": {},
     "source": [
      "Interactively, I might try a few numbers:"
     ]
    },
    {
     "cell_type": "code",
     "collapsed": false,
     "input": [
      "from mymodule import do_div\n",
      "do_div(1, 1)"
     ],
     "language": "python",
     "metadata": {},
     "outputs": []
    },
    {
     "cell_type": "code",
     "collapsed": false,
     "input": [
      "do_div(0, 1)"
     ],
     "language": "python",
     "metadata": {},
     "outputs": []
    },
    {
     "cell_type": "markdown",
     "metadata": {},
     "source": [
      "That looks right so far.  But I forgot that Python 2.7 does integer division by default:"
     ]
    },
    {
     "cell_type": "code",
     "collapsed": false,
     "input": [
      "do_div(1, 2)"
     ],
     "language": "python",
     "metadata": {},
     "outputs": []
    },
    {
     "cell_type": "markdown",
     "metadata": {},
     "source": [
      "Oops, that wasn't what I wanted.  What I should have done, was write a test for this function.  A test written for `nose` looks like this:"
     ]
    },
    {
     "cell_type": "code",
     "collapsed": false,
     "input": [
      "%%file test_mymodule.py\n",
      "from nose.tools import assert_equal\n",
      "\n",
      "from mymodule import do_div\n",
      "\n",
      "def test_do_div():  # any name starting with 'test is a test\n",
      "    assert_equal(do_div(1, 1), 1)\n",
      "    assert_equal(do_div(0, 1), 0)\n",
      "    assert_equal(do_div(1, 2), 0.5)  # The one that I got wrong"
     ],
     "language": "python",
     "metadata": {},
     "outputs": []
    },
    {
     "cell_type": "markdown",
     "metadata": {},
     "source": [
      "We usually write these out as a seperate file module, named after the module it is testing.  In this case the file is `test_mymoodule.py`."
     ]
    },
    {
     "cell_type": "markdown",
     "metadata": {},
     "source": [
      "I run the tests using the `nosetests` command line utility:"
     ]
    },
    {
     "cell_type": "code",
     "collapsed": false,
     "input": [
      "# The ! tells IPython to run the line via the terminal\n",
      "# You would normally run this direct from the terminal\n",
      "!nosetests test_mymodule.py"
     ],
     "language": "python",
     "metadata": {},
     "outputs": []
    },
    {
     "cell_type": "markdown",
     "metadata": {},
     "source": [
      "Luckily I thought to test this case. Now I have tested it, I can fix it (how?), and then I can keep testing it every time I edit the code, to make sure I haven't broken anything.  This turns out to be very important."
     ]
    },
    {
     "cell_type": "markdown",
     "metadata": {},
     "source": [
      "## Some reminders of things past"
     ]
    },
    {
     "cell_type": "markdown",
     "metadata": {},
     "source": [
      "### Ones and zeros"
     ]
    },
    {
     "cell_type": "code",
     "collapsed": false,
     "input": [
      "np.zeros(3)"
     ],
     "language": "python",
     "metadata": {},
     "outputs": []
    },
    {
     "cell_type": "code",
     "collapsed": false,
     "input": [
      "np.zeros((2, 3))  # note the shape is a tuple"
     ],
     "language": "python",
     "metadata": {},
     "outputs": []
    },
    {
     "cell_type": "code",
     "collapsed": false,
     "input": [
      "np.ones((4, 2))"
     ],
     "language": "python",
     "metadata": {},
     "outputs": []
    },
    {
     "cell_type": "markdown",
     "metadata": {},
     "source": [
      "### Scatterplots need line markers"
     ]
    },
    {
     "cell_type": "markdown",
     "metadata": {},
     "source": [
      "For scatterplots, instead of line plots, you need to specify a *line marker* to the plot command:"
     ]
    },
    {
     "cell_type": "code",
     "collapsed": false,
     "input": [
      "# Some random numbers\n",
      "x = np.random.normal(size=20)\n",
      "y = np.random.normal(size=20)\n",
      "plt.plot(x, y)  # no line marker, points joined by lines"
     ],
     "language": "python",
     "metadata": {},
     "outputs": []
    },
    {
     "cell_type": "code",
     "collapsed": false,
     "input": [
      "# You need a line-marker for a scatterplot\n",
      "plt.plot(x, y, '+')"
     ],
     "language": "python",
     "metadata": {},
     "outputs": []
    },
    {
     "cell_type": "markdown",
     "metadata": {},
     "source": [
      "### dot products, matrix multiplication, again"
     ]
    },
    {
     "cell_type": "markdown",
     "metadata": {},
     "source": [
      "Remember the dot product between two vectors:\n",
      "\n",
      "$$\n",
      "\\mathbf{a}\\cdot \\mathbf{b} = \\sum_{i=0}^{n-1} a_ib_i = a_0b_0 + a_1b_1 + \\cdots + a_{n-1}b_{n-1}\n",
      "$$"
     ]
    },
    {
     "cell_type": "code",
     "collapsed": false,
     "input": [
      "a = np.array([0, 1, 2])  # 1D vector\n",
      "b = np.array([2, 1, 3])  # 1D vector\n",
      "print(np.sum(a * b))\n",
      "print(a.dot(b))"
     ],
     "language": "python",
     "metadata": {},
     "outputs": []
    },
    {
     "cell_type": "markdown",
     "metadata": {},
     "source": [
      "This is between 1D vectors.  But `dot` with 2D arrays does *matrix multiplication*:"
     ]
    },
    {
     "cell_type": "code",
     "collapsed": false,
     "input": [
      "X = np.array([[0, 1, 2], [3, 4, 5]])\n",
      "X"
     ],
     "language": "python",
     "metadata": {},
     "outputs": []
    },
    {
     "cell_type": "code",
     "collapsed": false,
     "input": [
      "Y = np.array([[2, 5], [1, 0], [3, 6]])\n",
      "Y"
     ],
     "language": "python",
     "metadata": {},
     "outputs": []
    },
    {
     "cell_type": "code",
     "collapsed": false,
     "input": [
      "X.dot(Y)"
     ],
     "language": "python",
     "metadata": {},
     "outputs": []
    },
    {
     "cell_type": "code",
     "collapsed": false,
     "input": [
      "# vector dot product of first row with first and second columns\n",
      "print(X[0, :].dot(Y[:, 0]))\n",
      "print(X[0, :].dot(Y[:, 1]))"
     ],
     "language": "python",
     "metadata": {},
     "outputs": []
    },
    {
     "cell_type": "code",
     "collapsed": false,
     "input": [
      "# vector dot product of second row with first and second columns\n",
      "print(X[1, :].dot(Y[:, 0]))\n",
      "print(X[1, :].dot(Y[:, 1]))"
     ],
     "language": "python",
     "metadata": {},
     "outputs": []
    },
    {
     "cell_type": "markdown",
     "metadata": {},
     "source": [
      "## Some small new things"
     ]
    },
    {
     "cell_type": "markdown",
     "metadata": {},
     "source": [
      "### Standard import of numpy.linalg"
     ]
    },
    {
     "cell_type": "markdown",
     "metadata": {},
     "source": [
      "We have so far seen that we always import numpy with the name ``np``.  As in:"
     ]
    },
    {
     "cell_type": "code",
     "collapsed": false,
     "input": [
      "import numpy as np"
     ],
     "language": "python",
     "metadata": {},
     "outputs": []
    },
    {
     "cell_type": "markdown",
     "metadata": {},
     "source": [
      "This is just a convention - if we always use the same name, it is easy for us to remember that `np` is always a short-cut for `numpy`."
     ]
    },
    {
     "cell_type": "markdown",
     "metadata": {},
     "source": [
      "You can import sub-packages in the same way.  For example, if you are going to be doing any linear algebra, it's common to import the numpy `linalg` sub-package like this:"
     ]
    },
    {
     "cell_type": "code",
     "collapsed": false,
     "input": [
      "import numpy.linalg as npl"
     ],
     "language": "python",
     "metadata": {},
     "outputs": []
    },
    {
     "cell_type": "markdown",
     "metadata": {},
     "source": [
      "### np.linspace for N points between start and end"
     ]
    },
    {
     "cell_type": "markdown",
     "metadata": {},
     "source": [
      "So far we have generally used `np.arange` to make arrays with a given start and (not-inclusive) stop and step value.\n",
      "\n",
      "Sometimes you don't care about the step value, you just want N numbers between (and including) the start and stop values.  Use `np.linspace` for this:"
     ]
    },
    {
     "cell_type": "code",
     "collapsed": false,
     "input": [
      "# 5 equally-spaced values going from -2 to 2 inclusive\n",
      "np.linspace(-2, 2, 5)"
     ],
     "language": "python",
     "metadata": {},
     "outputs": []
    },
    {
     "cell_type": "code",
     "collapsed": false,
     "input": [
      "# 20 equally-spaced values from -1 to 1 inclusive\n",
      "np.linspace(-1, 1, 20)"
     ],
     "language": "python",
     "metadata": {},
     "outputs": []
    }
   ],
   "metadata": {}
  }
 ]
}