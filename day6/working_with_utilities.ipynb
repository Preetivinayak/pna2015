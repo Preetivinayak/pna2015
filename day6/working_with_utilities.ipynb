{
 "metadata": {
  "name": "",
  "signature": "sha256:4fda2d056ef63771b08a684563ae8592b7f6db8cb19991b4c85f4380ab8d9eda"
 },
 "nbformat": 3,
 "nbformat_minor": 0,
 "worksheets": [
  {
   "cells": [
    {
     "cell_type": "markdown",
     "metadata": {},
     "source": [
      "# Working with utility functions"
     ]
    },
    {
     "cell_type": "markdown",
     "metadata": {},
     "source": [
      "We are to use `git` and `nose` to work on our utility functions."
     ]
    },
    {
     "cell_type": "markdown",
     "metadata": {},
     "source": [
      "Change to your home directory:\n",
      "\n",
      "```\n",
      "cd\n",
      "```\n",
      "\n",
      "Change to the `pna_code` directory we worked on before.\n",
      "\n",
      "```\n",
      "cd pna_code\n",
      "```\n",
      "\n",
      "(if you don't have this directory, ask your instructor to fix that for you before you continue)."
     ]
    },
    {
     "cell_type": "markdown",
     "metadata": {},
     "source": [
      "Check that all is calm and well in this, your git repository:\n",
      "\n",
      "```\n",
      "git status\n",
      "```\n",
      "\n",
      "This command might show you one or more files with a ``.pyc`` extension.  You can ignore these.  If there are any other files not committed, ask your instructor."
     ]
    },
    {
     "cell_type": "markdown",
     "metadata": {},
     "source": [
      "Now add a link to my version of this repository:\n",
      "\n",
      "```\n",
      "git remote add class-repo https://github.com/practical-neuroimaging/pna2015_code\n",
      "```"
     ]
    },
    {
     "cell_type": "markdown",
     "metadata": {},
     "source": [
      "You have not yet done a `git fetch`, so you do not yet have any information from the `pna2015_code` class repository.  For example, we do not have any branch positions in the remote repository.  Confirm this by listing *all* branches (including any known branch locations on the remote):\n",
      "\n",
      "```\n",
      "git branch --all\n",
      "```"
     ]
    },
    {
     "cell_type": "markdown",
     "metadata": {},
     "source": [
      "Fetch the commits, file snapshots and branch references from the class repository, so they are available in your repository:\n",
      "\n",
      "```\n",
      "git fetch class-repo\n",
      "```"
     ]
    },
    {
     "cell_type": "markdown",
     "metadata": {},
     "source": [
      "Now confirm that you have got the branch locations for the remote repository:\n",
      "\n",
      "```\n",
      "git branch --all\n",
      "```"
     ]
    },
    {
     "cell_type": "markdown",
     "metadata": {},
     "source": [
      "Start a new git branch, based off the current state of the `master` branch class repository:\n",
      "\n",
      "```\n",
      "git branch for-class class-repo/master\n",
      "```\n",
      "\n",
      "Confirm you have a new branch with:\n",
      "\n",
      "```\n",
      "git branch\n",
      "```\n",
      "\n",
      "Checkout the new branch, to get the files from the class repo into your working tree:\n",
      "\n",
      "```\n",
      "git checkout for-class\n",
      "```"
     ]
    },
    {
     "cell_type": "markdown",
     "metadata": {},
     "source": [
      "Have a look at the new version of `spm_funcs.py`.  You'll see a hemodynamic response function rather like the one we were working with in the last class.  We will use that for the exercises this week.\n",
      "\n",
      "Run the tests for ``spm_funcs.py`` to check all is working OK:\n",
      "\n",
      "```\n",
      "nosetests test_spm_funcs.py\n",
      "```\n",
      "\n",
      "You might also want to use the `-v` flag to `nosetests` to get more output about which tests it has found and run:\n",
      "\n",
      "```\n",
      "nosetests -v test_spm_funcs.py\n",
      "```"
     ]
    },
    {
     "cell_type": "markdown",
     "metadata": {},
     "source": [
      "Have a look at the new file `stimuli.py`.  It has the function we used last week to load the stimulus file (see the exercise notebook from day5).\n",
      "\n",
      "Run the tests for `stimuli.py` to check all is working OK:\n",
      "\n",
      "```\n",
      "nosetests test_stimuli.py\n",
      "```\n",
      "\n",
      "It looks like there is a bug.\n",
      "\n",
      "Edit `stimuli.py` to fix the bug.\n",
      "\n",
      "Check that ``nosetests test_stimuli.py`` is now OK.\n",
      "\n",
      "Now we do our normal workflow in git:\n",
      "\n",
      "Check which files have changed:\n",
      "\n",
      "```\n",
      "git status\n",
      "```\n",
      "\n",
      "Check what the changes are:\n",
      "\n",
      "```\n",
      "git diff\n",
      "```\n",
      "\n",
      "If you are happy with the changes, then add them to the staging area:\n",
      "\n",
      "```\n",
      "git add stimuli.py\n",
      "```\n",
      "\n",
      "Commit this change.\n",
      "\n",
      "```\n",
      "git commit -m \"your message here\"\n",
      "```"
     ]
    },
    {
     "cell_type": "markdown",
     "metadata": {},
     "source": [
      "Now you are ready for the next notebook of exercises."
     ]
    }
   ],
   "metadata": {}
  }
 ]
}