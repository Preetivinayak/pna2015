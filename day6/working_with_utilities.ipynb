{
 "metadata": {
  "name": "",
  "signature": "sha256:3777b6141149b1e290f7f4a3b4113cdb35763fe98289643d84e614fe20b87de9"
 },
 "nbformat": 3,
 "nbformat_minor": 0,
 "worksheets": [
  {
   "cells": [
    {
     "cell_type": "markdown",
     "metadata": {},
     "source": [
      "# Working with utility functions"
     ]
    },
    {
     "cell_type": "markdown",
     "metadata": {},
     "source": [
      "We are to use `git` and `nose` to work on our utility functions."
     ]
    },
    {
     "cell_type": "markdown",
     "metadata": {},
     "source": [
      "Change to your home directory:\n",
      "\n",
      "```\n",
      "cd\n",
      "```\n",
      "\n",
      "Change to the `pna_code` directory we worked on before.\n",
      "\n",
      "```\n",
      "cd pna_code\n",
      "```\n",
      "\n",
      "(if you don't have this directory, ask your instructor to fix that for you before you continue)."
     ]
    },
    {
     "cell_type": "markdown",
     "metadata": {},
     "source": [
      "Check that all is calm and well in this, your git repository:\n",
      "\n",
      "```\n",
      "git status\n",
      "```\n",
      "\n",
      "This command might show you one or more files with a ``.pyc`` extension.  You can ignore these.  If there are any other files not committed, ask your instructor."
     ]
    },
    {
     "cell_type": "markdown",
     "metadata": {},
     "source": [
      "Now add a link to my version of this repository:\n",
      "\n",
      "```\n",
      "git remote add class-repo https://github.com/practical-neuroimaging/pna2015_code\n",
      "```"
     ]
    },
    {
     "cell_type": "markdown",
     "metadata": {},
     "source": [
      "You have not yet done a `git fetch`, so you do not yet have any of the file snapshots or commits or branch references from the remote repository.  Confirm this by listing *all* branches (including any known branch locations on the remote):\n",
      "\n",
      "```\n",
      "git branch --all\n",
      "```"
     ]
    },
    {
     "cell_type": "markdown",
     "metadata": {},
     "source": [
      "Fetch the file snapshots and commits from this version, so they are available in your repository:\n",
      "\n",
      "```\n",
      "git fetch class-repo\n",
      "```"
     ]
    },
    {
     "cell_type": "markdown",
     "metadata": {},
     "source": [
      "Now confirm that you have got the branch locations for the remote repository:\n",
      "\n",
      "```\n",
      "git branch --all\n",
      "```"
     ]
    },
    {
     "cell_type": "markdown",
     "metadata": {},
     "source": [
      "Start a new git branch, based off the current state of the `master` branch class repository:\n",
      "\n",
      "```\n",
      "git branch for-class class-repo/master\n",
      "```\n",
      "\n",
      "Confirm you have a new branch with:\n",
      "\n",
      "```\n",
      "git branch\n",
      "```\n",
      "\n",
      "Checkout the new branch, to get the files from the class repo into your working tree:\n",
      "\n",
      "```\n",
      "git checkout for-class\n",
      "```"
     ]
    },
    {
     "cell_type": "markdown",
     "metadata": {},
     "source": [
      "Have a look at the new version of `spm_funcs.py`.  You'll see a hemodynamic response function rather like the one we were working with in the last class.  We will use that for the exercises this week.\n",
      "\n",
      "Run the tests for ``spm_funcs.py`` to check all is working OK:\n",
      "\n",
      "```\n",
      "nosetests test_spm_funcs.py\n",
      "```"
     ]
    },
    {
     "cell_type": "markdown",
     "metadata": {},
     "source": [
      "Have a look at the new file `stimuli.py`.  It has the function we used last week to load the stimulus file (see the exercise notebook from day5).\n",
      "\n",
      "Run the tests for `stimuli.py` to check all is working OK:\n",
      "\n",
      "```\n",
      "nosetests test_stimuli.py\n",
      "```\n",
      "\n",
      "It looks like there is a bug.\n",
      "\n",
      "Edit `stimuli.py` to fix the bug.\n",
      "\n",
      "Check that ``nosetests test_stimuli.py`` is now OK.\n",
      "\n",
      "Add your your fixed version to git:\n",
      "\n",
      "```\n",
      "git add stimuli.py\n",
      "```\n",
      "\n",
      "Commit this change."
     ]
    },
    {
     "cell_type": "markdown",
     "metadata": {},
     "source": [
      "Now you are ready for the next notebook of exercises."
     ]
    }
   ],
   "metadata": {}
  }
 ]
}