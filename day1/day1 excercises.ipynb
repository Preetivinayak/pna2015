{
 "metadata": {
  "name": "",
  "signature": "sha256:61d809943bc043be14226f3fd887013c3689b5dcec9b99aefd52c1f32a2bb366"
 },
 "nbformat": 3,
 "nbformat_minor": 0,
 "worksheets": [
  {
   "cells": [
    {
     "cell_type": "markdown",
     "metadata": {},
     "source": [
      "Define a \u201cnumber_of_subjects\u201d and assign value 20 to it. Display the statement: \u201cWe have x subjects\u201d where \u201cx\u201d is the number of subjects."
     ]
    },
    {
     "cell_type": "code",
     "collapsed": false,
     "input": [],
     "language": "python",
     "metadata": {},
     "outputs": [],
     "prompt_number": 0
    },
    {
     "cell_type": "markdown",
     "metadata": {},
     "source": [
      "Define two variable: \u201ccontrol_subjects\u201d and \u201cdrug_subjects\u201d and assign values 18 and 22 respectively. Now define a new variable \u201call_subjects\u201d which is a sum of the two."
     ]
    },
    {
     "cell_type": "code",
     "collapsed": false,
     "input": [],
     "language": "python",
     "metadata": {},
     "outputs": [],
     "prompt_number": 0
    },
    {
     "cell_type": "markdown",
     "metadata": {},
     "source": [
      "Print a list of subject identifiers for each subject from the previous exercise. Subject identifiers go from \u201csub001\u201d, \u201csub002\u201d, to \u201csub030\u201d."
     ]
    },
    {
     "cell_type": "code",
     "collapsed": false,
     "input": [],
     "language": "python",
     "metadata": {},
     "outputs": [],
     "prompt_number": 0
    },
    {
     "cell_type": "markdown",
     "metadata": {},
     "source": [
      "Create a variable \u201clist_of_subjects\u201d containing a list of identifiers you just printed."
     ]
    },
    {
     "cell_type": "code",
     "collapsed": false,
     "input": [],
     "language": "python",
     "metadata": {},
     "outputs": [],
     "prompt_number": 0
    },
    {
     "cell_type": "markdown",
     "metadata": {},
     "source": [
      "Unfortunately the data from some subjects were corrupted. Create another variable \"list_of_excluded_subjects\" containing identifiers \u201csub005\u201d and \u201csub008\u201d. Now create a list of all subjects apart from those in the \u201clist_of_excluded_subjects\u201d. Print the identifiers in it. Tip: use the for loop."
     ]
    },
    {
     "cell_type": "code",
     "collapsed": false,
     "input": [],
     "language": "python",
     "metadata": {},
     "outputs": [],
     "prompt_number": 0
    },
    {
     "cell_type": "markdown",
     "metadata": {},
     "source": [
      "Do we expect the same identifier to be on the list of subjects twice? If not what other data structure is more appropriate for such use? Modify your code accordingly."
     ]
    },
    {
     "cell_type": "code",
     "collapsed": false,
     "input": [],
     "language": "python",
     "metadata": {},
     "outputs": [],
     "prompt_number": 0
    },
    {
     "cell_type": "markdown",
     "metadata": {},
     "source": [
      "Could you achieve the task from exercise 5 using an operator specific to the new datatype?"
     ]
    },
    {
     "cell_type": "code",
     "collapsed": false,
     "input": [],
     "language": "python",
     "metadata": {},
     "outputs": [],
     "prompt_number": 0
    },
    {
     "cell_type": "markdown",
     "metadata": {},
     "source": [
      "Write the list of all subjects after exclusion to a file called \u201cusable_subjects.txt\u201d. Use one identifier per line."
     ]
    },
    {
     "cell_type": "code",
     "collapsed": false,
     "input": [],
     "language": "python",
     "metadata": {},
     "outputs": [],
     "prompt_number": 0
    },
    {
     "cell_type": "markdown",
     "metadata": {},
     "source": [
      "For the rest of the class we would like you to work on the following task: You are given a log file (see github repository: https://raw.githubusercontent.com/chrisfilo/pna2015/master/day1/24719.f3_beh_CHYM.csv) from a behavioural experiment. Each line (apart from the first one which the header) corresponds to one trial of the experiment. We are interested in the average response time on trials where response was the \u201cspace\u201d key and displayed shape (\u201ctrial_shape\u201d) was a red square. This is how the first few lines of this task look like"
     ]
    },
    {
     "cell_type": "code",
     "collapsed": false,
     "input": [],
     "language": "python",
     "metadata": {},
     "outputs": [],
     "prompt_number": 0
    },
    {
     "cell_type": "markdown",
     "metadata": {},
     "source": [
      "Bonus exercise: Have a look at the pandas package especially the read_csv method. Could you solve the previous exercise using this functionality?"
     ]
    },
    {
     "cell_type": "code",
     "collapsed": false,
     "input": [],
     "language": "python",
     "metadata": {},
     "outputs": [],
     "prompt_number": 0
    }
   ],
   "metadata": {}
  }
 ]
}