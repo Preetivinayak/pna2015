{
 "metadata": {
  "name": "",
  "signature": "sha256:056fb393cbc5e71effb6b955e635c73f0e822a156d9040e16179cf7ebe4ebbd3"
 },
 "nbformat": 3,
 "nbformat_minor": 0,
 "worksheets": [
  {
   "cells": [
    {
     "cell_type": "markdown",
     "metadata": {},
     "source": [
      "Define a \u201cnumber_of_subjects\u201d and assign value 20 to it. Display the statement: \u201cWe have x subjects\u201d where \u201cx\u201d is the number of subjects."
     ]
    },
    {
     "cell_type": "code",
     "collapsed": false,
     "input": [
      "number_of_subjects = 20\n",
      "print \"We have %d subjects\"%number_of_subjects"
     ],
     "language": "python",
     "metadata": {},
     "outputs": [
      {
       "output_type": "stream",
       "stream": "stdout",
       "text": [
        "We have 20 subjects\n"
       ]
      }
     ],
     "prompt_number": 1
    },
    {
     "cell_type": "markdown",
     "metadata": {},
     "source": [
      "Define two variable: \u201ccontrol_subjects\u201d and \u201cdrug_subjects\u201d and assign values 18 and 22 respectively. Now define a new variable \u201call_subjects\u201d which is a sum of the two."
     ]
    },
    {
     "cell_type": "code",
     "collapsed": false,
     "input": [
      "control_subjects = 18\n",
      "drug_subjects = 22\n",
      "all_subjects = control_subjects + drug_subjects"
     ],
     "language": "python",
     "metadata": {},
     "outputs": [],
     "prompt_number": 2
    },
    {
     "cell_type": "markdown",
     "metadata": {},
     "source": [
      "Print a list of subject identifiers for each subject from the previous exercise. Subject identifiers go from \u201csub001\u201d, \u201csub002\u201d, to \u201csub030\u201d."
     ]
    },
    {
     "cell_type": "code",
     "collapsed": false,
     "input": [
      "for i in range(all_subjects):\n",
      "    print \"sub%03d\"%(i+1)"
     ],
     "language": "python",
     "metadata": {},
     "outputs": [
      {
       "output_type": "stream",
       "stream": "stdout",
       "text": [
        "sub001\n",
        "sub002\n",
        "sub003\n",
        "sub004\n",
        "sub005\n",
        "sub006\n",
        "sub007\n",
        "sub008\n",
        "sub009\n",
        "sub010\n",
        "sub011\n",
        "sub012\n",
        "sub013\n",
        "sub014\n",
        "sub015\n",
        "sub016\n",
        "sub017\n",
        "sub018\n",
        "sub019\n",
        "sub020\n",
        "sub021\n",
        "sub022\n",
        "sub023\n",
        "sub024\n",
        "sub025\n",
        "sub026\n",
        "sub027\n",
        "sub028\n",
        "sub029\n",
        "sub030\n",
        "sub031\n",
        "sub032\n",
        "sub033\n",
        "sub034\n",
        "sub035\n",
        "sub036\n",
        "sub037\n",
        "sub038\n",
        "sub039\n",
        "sub040\n"
       ]
      }
     ],
     "prompt_number": 4
    },
    {
     "cell_type": "markdown",
     "metadata": {},
     "source": [
      "Create a variable \u201clist_of_subjects\u201d containing a list of identifiers you just printed."
     ]
    },
    {
     "cell_type": "code",
     "collapsed": false,
     "input": [
      "list_of_subjects = []\n",
      "for i in range(all_subjects):\n",
      "    list_of_subjects.append(\"sub%03d\"%(i+1))"
     ],
     "language": "python",
     "metadata": {},
     "outputs": [],
     "prompt_number": 5
    },
    {
     "cell_type": "markdown",
     "metadata": {},
     "source": [
      "Unfortunately the data from some subjects were corrupted. Create another variable \"list_of_excluded_subjects\" containing identifiers \u201csub005\u201d and \u201csub008\u201d. Now create a list of all subjects apart from those in the \u201clist_of_excluded_subjects\u201d. Print the identifiers in it. Tip: use the for loop."
     ]
    },
    {
     "cell_type": "code",
     "collapsed": false,
     "input": [
      "list_of_excluded_subjects = [\"sub005\", \"sub008\"]\n",
      "good_subjects = []\n",
      "for subject in list_of_subjects:\n",
      "    if subject in list_of_excluded_subjects:\n",
      "        continue\n",
      "    else:\n",
      "        good_subjects.append(subject)\n",
      "print good_subjects"
     ],
     "language": "python",
     "metadata": {},
     "outputs": [
      {
       "output_type": "stream",
       "stream": "stdout",
       "text": [
        "['sub001', 'sub002', 'sub003', 'sub004', 'sub006', 'sub007', 'sub009', 'sub010', 'sub011', 'sub012', 'sub013', 'sub014', 'sub015', 'sub016', 'sub017', 'sub018', 'sub019', 'sub020', 'sub021', 'sub022', 'sub023', 'sub024', 'sub025', 'sub026', 'sub027', 'sub028', 'sub029', 'sub030', 'sub031', 'sub032', 'sub033', 'sub034', 'sub035', 'sub036', 'sub037', 'sub038', 'sub039', 'sub040']\n"
       ]
      }
     ],
     "prompt_number": 7
    },
    {
     "cell_type": "markdown",
     "metadata": {},
     "source": [
      "Do we expect the same identifier to be on the list of subjects twice? If not what other data structure is more appropriate for such use? Modify your code accordingly."
     ]
    },
    {
     "cell_type": "code",
     "collapsed": false,
     "input": [
      "list_of_subjects = set()\n",
      "for i in range(all_subjects):\n",
      "    list_of_subjects.add(\"sub%03d\"%(i+1))\n",
      "    \n",
      "list_of_excluded_subjects = set([\"sub005\", \"sub008\"])\n",
      "good_subjects = set()\n",
      "for subject in list_of_subjects:\n",
      "    if subject in list_of_excluded_subjects:\n",
      "        continue\n",
      "    else:\n",
      "        good_subjects.add(subject)\n",
      "print good_subjects"
     ],
     "language": "python",
     "metadata": {},
     "outputs": [
      {
       "output_type": "stream",
       "stream": "stdout",
       "text": [
        "set(['sub013', 'sub012', 'sub011', 'sub010', 'sub017', 'sub016', 'sub015', 'sub014', 'sub019', 'sub018', 'sub039', 'sub038', 'sub031', 'sub030', 'sub033', 'sub032', 'sub035', 'sub034', 'sub037', 'sub036', 'sub004', 'sub006', 'sub007', 'sub001', 'sub002', 'sub003', 'sub009', 'sub040', 'sub028', 'sub029', 'sub022', 'sub023', 'sub020', 'sub021', 'sub026', 'sub027', 'sub024', 'sub025'])\n"
       ]
      }
     ],
     "prompt_number": 10
    },
    {
     "cell_type": "markdown",
     "metadata": {},
     "source": [
      "Could you achieve the task from exercise 5 using an operator specific to the new datatype?"
     ]
    },
    {
     "cell_type": "code",
     "collapsed": false,
     "input": [
      "good_subjects = list_of_subjects - list_of_excluded_subjects"
     ],
     "language": "python",
     "metadata": {},
     "outputs": [
      {
       "metadata": {},
       "output_type": "pyout",
       "prompt_number": 11,
       "text": [
        "{'sub001',\n",
        " 'sub002',\n",
        " 'sub003',\n",
        " 'sub004',\n",
        " 'sub006',\n",
        " 'sub007',\n",
        " 'sub009',\n",
        " 'sub010',\n",
        " 'sub011',\n",
        " 'sub012',\n",
        " 'sub013',\n",
        " 'sub014',\n",
        " 'sub015',\n",
        " 'sub016',\n",
        " 'sub017',\n",
        " 'sub018',\n",
        " 'sub019',\n",
        " 'sub020',\n",
        " 'sub021',\n",
        " 'sub022',\n",
        " 'sub023',\n",
        " 'sub024',\n",
        " 'sub025',\n",
        " 'sub026',\n",
        " 'sub027',\n",
        " 'sub028',\n",
        " 'sub029',\n",
        " 'sub030',\n",
        " 'sub031',\n",
        " 'sub032',\n",
        " 'sub033',\n",
        " 'sub034',\n",
        " 'sub035',\n",
        " 'sub036',\n",
        " 'sub037',\n",
        " 'sub038',\n",
        " 'sub039',\n",
        " 'sub040'}"
       ]
      }
     ],
     "prompt_number": 11
    },
    {
     "cell_type": "markdown",
     "metadata": {},
     "source": [
      "Write the list of all subjects after exclusion to a file called \u201cusable_subjects.txt\u201d. Use one identifier per line."
     ]
    },
    {
     "cell_type": "code",
     "collapsed": false,
     "input": [
      "f = open(\"usable_subjects.txt\", \"w\")\n",
      "for id in good_subjects:\n",
      "    f.write(\"%s\\n\"%id)\n",
      "f.close()\n",
      "!cat usable_subjects.txt"
     ],
     "language": "python",
     "metadata": {},
     "outputs": [
      {
       "output_type": "stream",
       "stream": "stdout",
       "text": [
        "sub013\r\n",
        "sub012\r\n",
        "sub011\r\n",
        "sub010\r\n",
        "sub017\r\n",
        "sub016\r\n",
        "sub015\r\n",
        "sub014\r\n",
        "sub019\r\n",
        "sub018\r\n",
        "sub039\r\n",
        "sub038\r\n",
        "sub031\r\n",
        "sub030\r\n",
        "sub033\r\n",
        "sub032\r\n",
        "sub035\r\n",
        "sub034\r\n",
        "sub037\r\n",
        "sub036\r\n",
        "sub004\r\n",
        "sub006\r\n",
        "sub007\r\n",
        "sub001\r\n",
        "sub002\r\n",
        "sub003\r\n",
        "sub009\r\n",
        "sub040\r\n",
        "sub028\r\n",
        "sub029\r\n",
        "sub022\r\n",
        "sub023\r\n",
        "sub020\r\n",
        "sub021\r\n",
        "sub026\r\n",
        "sub027\r\n",
        "sub024\r\n",
        "sub025\r\n"
       ]
      }
     ],
     "prompt_number": 15
    },
    {
     "cell_type": "markdown",
     "metadata": {},
     "source": [
      "For the rest of the class we would like you to work on the following task: You are given a log file (see github repository) from a behavioural experiment. Each line (apart from the first one which the header) corresponds to one trial of the experiment. We are interested in the average response time on trials where response was the \u201cspace\u201d key and displayed shape (\u201ctrial_shape\u201d) was a red square. This is how the first few lines of this task look like"
     ]
    },
    {
     "cell_type": "code",
     "collapsed": false,
     "input": [
      "f = open(\"/Users/filo/krzysztof.gorgolewski@gmail.com/projects/LSD/CCPT_clean/13081.67_beh_CHOF.csv\")\n",
      "f.readline()\n",
      "response_times_sum = 0\n",
      "response_times_count = 0\n",
      "for line in f:\n",
      "    items = line.split(\",\")\n",
      "    if items[0] == \"space\" and items[3] == \"red_square\\n\":\n",
      "        response_times_sum += float(items[1])\n",
      "        response_times_count += 1\n",
      "\n",
      "print response_times_sum/response_times_count"
     ],
     "language": "python",
     "metadata": {},
     "outputs": [
      {
       "output_type": "stream",
       "stream": "stdout",
       "text": [
        "436.135416667\n"
       ]
      }
     ],
     "prompt_number": 20
    },
    {
     "cell_type": "markdown",
     "metadata": {},
     "source": [
      "Bonus exercise: Have a look at the pandas package especially the read_csv method. Could you solve the previous exercise using this functionality?"
     ]
    },
    {
     "cell_type": "code",
     "collapsed": false,
     "input": [
      "from pandas import read_csv\n",
      "df = read_csv(\"/Users/filo/krzysztof.gorgolewski@gmail.com/projects/LSD/CCPT_clean/13081.67_beh_CHOF.csv\", nrows=320)\n",
      "df.response_time[(df.response == \"space\") & (df.trial_shape == \"red_square\")].mean()"
     ],
     "language": "python",
     "metadata": {},
     "outputs": [],
     "prompt_number": 22
    },
    {
     "cell_type": "code",
     "collapsed": false,
     "input": [],
     "language": "python",
     "metadata": {},
     "outputs": []
    }
   ],
   "metadata": {}
  }
 ]
}