{
 "cells": [
  {
   "cell_type": "markdown",
   "metadata": {},
   "source": [
    "## Introduction to fixed / random effects "
   ]
  },
  {
   "cell_type": "markdown",
   "metadata": {},
   "source": [
    "We will need to know :\n",
    "    - what is the variance of a linear combinaison of variables\n",
    "    - play with the kroneker product\n",
    "    - look at scipy.stat module"
   ]
  },
  {
   "cell_type": "markdown",
   "metadata": {
    "collapsed": true
   },
   "source": [
    "### First, checkout pna2015 and create your own day14 branch"
   ]
  },
  {
   "cell_type": "markdown",
   "metadata": {},
   "source": [
    "### Variance of linear combinaison"
   ]
  },
  {
   "cell_type": "markdown",
   "metadata": {},
   "source": [
    "Let's $\\textbf{y}$ for instance the value of a voxel in an fmri image) be our variable. If we repeat the experiment, we will observe $y_1, y_2, ..$. $\\textbf{y}$ could also be the value of a contrast for a given subject, and we observe multiple subjects. \n",
    "\n",
    "\n",
    "Let's $\\textbf{z}$ be another variable. \n",
    "\n",
    "Computing the variance (or, estimating the variance) of $\\textbf{y}$ or $\\textbf{z}$ necessitate that we have several observations.\n",
    "\n",
    "The variance is defined as the true mean of the squared deviation of the observation to the true mean of the data. We need to estimate this. \n",
    "\n",
    "First, we estimate the mean : $\\bar{y} = \\frac{1}{n}\\sum_i^n{y_i}$\n",
    "Second we estimate the variation around this mean: \n",
    "\n",
    "$$ \\widehat{\\textrm{Var}}(\\textbf{y}) = \\frac{1}{n}\\sum_i^n{(y_i - \\bar{y})}^2$$\n",
    "\n",
    "Notice again that this is just an estimation. The true variance is a fixed number, but we will get a different answer each time we have a different dataset. \n",
    "\n",
    "Now, we can show that:\n",
    "\n",
    "$$ \\textrm{Var}(\\textbf{y} + \\textbf{z}) = \\textrm{Var}(\\textbf{y}) + \\textrm{Var}(\\textbf{z}) + 2\\textrm{Cov}(\\textbf{y},\\textbf{z})\n",
    "$$\n",
    "\n",
    "and that\n",
    "\n",
    "$$ \\textrm{Var}(a \\, \\textbf{y}) = a^2 \\textrm{Var}(\\textbf{y}) $$"
   ]
  },
  {
   "cell_type": "code",
   "execution_count": 1,
   "metadata": {
    "collapsed": true
   },
   "outputs": [],
   "source": [
    "import numpy as np"
   ]
  },
  {
   "cell_type": "code",
   "execution_count": 2,
   "metadata": {
    "collapsed": true
   },
   "outputs": [],
   "source": [
    "one_matrix = np.asarray([[2, 3],[4,1]])\n",
    "the_identity = np.eye(2)"
   ]
  },
  {
   "cell_type": "code",
   "execution_count": 3,
   "metadata": {
    "collapsed": true
   },
   "outputs": [],
   "source": [
    "K = np.kron(the_identity, one_matrix)"
   ]
  },
  {
   "cell_type": "code",
   "execution_count": 4,
   "metadata": {
    "collapsed": false
   },
   "outputs": [
    {
     "data": {
      "text/plain": [
       "array([[2, 3],\n",
       "       [4, 1]])"
      ]
     },
     "execution_count": 4,
     "metadata": {},
     "output_type": "execute_result"
    }
   ],
   "source": [
    "one_matrix"
   ]
  },
  {
   "cell_type": "code",
   "execution_count": 5,
   "metadata": {
    "collapsed": false
   },
   "outputs": [
    {
     "data": {
      "text/plain": [
       "array([[ 1.,  0.],\n",
       "       [ 0.,  1.]])"
      ]
     },
     "execution_count": 5,
     "metadata": {},
     "output_type": "execute_result"
    }
   ],
   "source": [
    "the_identity"
   ]
  },
  {
   "cell_type": "code",
   "execution_count": 6,
   "metadata": {
    "collapsed": false
   },
   "outputs": [
    {
     "data": {
      "text/plain": [
       "array([[ 2.,  3.,  0.,  0.],\n",
       "       [ 4.,  1.,  0.,  0.],\n",
       "       [ 0.,  0.,  2.,  3.],\n",
       "       [ 0.,  0.,  4.,  1.]])"
      ]
     },
     "execution_count": 6,
     "metadata": {},
     "output_type": "execute_result"
    }
   ],
   "source": [
    "K\n"
   ]
  },
  {
   "cell_type": "code",
   "execution_count": 7,
   "metadata": {
    "collapsed": true
   },
   "outputs": [],
   "source": [
    "c = np.array([1, -1, 0, 0 ])\n",
    "o = np.ones((3))\n",
    "k = np.kron(o, c)"
   ]
  },
  {
   "cell_type": "code",
   "execution_count": 8,
   "metadata": {
    "collapsed": false
   },
   "outputs": [
    {
     "data": {
      "text/plain": [
       "array([ 1., -1.,  0.,  0.,  1., -1.,  0.,  0.,  1., -1.,  0.,  0.])"
      ]
     },
     "execution_count": 8,
     "metadata": {},
     "output_type": "execute_result"
    }
   ],
   "source": [
    "k"
   ]
  },
  {
   "cell_type": "code",
   "execution_count": 9,
   "metadata": {
    "collapsed": false
   },
   "outputs": [
    {
     "data": {
      "text/plain": [
       "array([ 1.,  1.,  1.])"
      ]
     },
     "execution_count": 9,
     "metadata": {},
     "output_type": "execute_result"
    }
   ],
   "source": [
    "o"
   ]
  },
  {
   "cell_type": "code",
   "execution_count": null,
   "metadata": {
    "collapsed": true
   },
   "outputs": [],
   "source": []
  }
 ],
 "metadata": {
  "kernelspec": {
   "display_name": "Python 2",
   "language": "python",
   "name": "python2"
  },
  "language_info": {
   "codemirror_mode": {
    "name": "ipython",
    "version": 2
   },
   "file_extension": ".py",
   "mimetype": "text/x-python",
   "name": "python",
   "nbconvert_exporter": "python",
   "pygments_lexer": "ipython2",
   "version": "2.7.6"
  }
 },
 "nbformat": 4,
 "nbformat_minor": 0
}
