{
 "metadata": {
  "name": "",
  "signature": "sha256:2b29fd7d1970e86fb312f0869d3aebe82e84edf18e994efb825f5ddc8396bb59"
 },
 "nbformat": 3,
 "nbformat_minor": 0,
 "worksheets": [
  {
   "cells": [
    {
     "cell_type": "heading",
     "level": 1,
     "metadata": {},
     "source": [
      "Calculating transformations between images"
     ]
    },
    {
     "cell_type": "markdown",
     "metadata": {},
     "source": [
      "In which we discover optimization and cost functions and how to use them."
     ]
    },
    {
     "cell_type": "code",
     "collapsed": false,
     "input": [
      "# - compatibility with Python 3\n",
      "from __future__ import print_function  # print('me') instead of print 'me'\n",
      "from __future__ import division  # 1/2 == 0.5, not 0"
     ],
     "language": "python",
     "metadata": {},
     "outputs": [],
     "prompt_number": 1
    },
    {
     "cell_type": "code",
     "collapsed": false,
     "input": [
      "# - show figures inside the notebook\n",
      "%matplotlib inline"
     ],
     "language": "python",
     "metadata": {},
     "outputs": [],
     "prompt_number": 2
    },
    {
     "cell_type": "code",
     "collapsed": false,
     "input": [
      "# - import common modules\n",
      "import numpy as np  # the Python array package\n",
      "import matplotlib.pyplot as plt  # the Python plotting package"
     ],
     "language": "python",
     "metadata": {},
     "outputs": [],
     "prompt_number": 3
    },
    {
     "cell_type": "code",
     "collapsed": false,
     "input": [
      "# - set gray colormap and nearest neighbor interpolation by default\n",
      "plt.rcParams['image.cmap'] = 'gray'\n",
      "plt.rcParams['image.interpolation'] = 'nearest'"
     ],
     "language": "python",
     "metadata": {},
     "outputs": [],
     "prompt_number": 4
    },
    {
     "cell_type": "markdown",
     "metadata": {},
     "source": [
      "We start with a single slice from the EPI"
     ]
    },
    {
     "cell_type": "markdown",
     "metadata": {},
     "source": [
      "We load the example image, and get the data:"
     ]
    },
    {
     "cell_type": "code",
     "collapsed": false,
     "input": [
      "import nibabel as nib\n",
      "img = nib.load('ds107_sub012_t1r2.nii')\n",
      "data = img.get_data()\n",
      "data.shape"
     ],
     "language": "python",
     "metadata": {},
     "outputs": [
      {
       "metadata": {},
       "output_type": "pyout",
       "prompt_number": 5,
       "text": [
        "(64, 64, 35, 166)"
       ]
      }
     ],
     "prompt_number": 5
    },
    {
     "cell_type": "markdown",
     "metadata": {},
     "source": [
      "We need to make our data into floating point to make processing easier later"
     ]
    },
    {
     "cell_type": "code",
     "collapsed": false,
     "input": [
      "data = data.astype(np.float32)"
     ],
     "language": "python",
     "metadata": {},
     "outputs": [],
     "prompt_number": 6
    },
    {
     "cell_type": "markdown",
     "metadata": {},
     "source": [
      "Get the first and second volumes:"
     ]
    },
    {
     "cell_type": "code",
     "collapsed": false,
     "input": [
      "vol0 = data[..., 0]\n",
      "vol1 = data[..., 1]\n",
      "vol1.shape"
     ],
     "language": "python",
     "metadata": {},
     "outputs": [
      {
       "metadata": {},
       "output_type": "pyout",
       "prompt_number": 7,
       "text": [
        "(64, 64, 35)"
       ]
      }
     ],
     "prompt_number": 7
    },
    {
     "cell_type": "markdown",
     "metadata": {},
     "source": [
      "Now we get our slices.  Here I am getting slice index 17 in z, from the first volume:"
     ]
    },
    {
     "cell_type": "code",
     "collapsed": false,
     "input": [
      "mid_vol0 = vol0[:, :, 17]\n",
      "plt.imshow(mid_vol0)"
     ],
     "language": "python",
     "metadata": {},
     "outputs": [
      {
       "metadata": {},
       "output_type": "pyout",
       "prompt_number": 8,
       "text": [
        "<matplotlib.image.AxesImage at 0x1100b9050>"
       ]
      },
      {
       "metadata": {},
       "output_type": "display_data",
       "png": "[encoded data removed]",
       "text": [
        "<matplotlib.figure.Figure at 0x1077c7e50>"
       ]
      }
     ],
     "prompt_number": 8
    },
    {
     "cell_type": "markdown",
     "metadata": {},
     "source": [
      "We might want to match the two volumes is for motion correction.  For motion correction we need calculate how far volume 1 has moved relative to volume 0, so we can correct that movement.\n",
      "\n",
      "Let's start by trying to match this slice in volume 0 to the matching slice in volume 1.\n",
      "\n",
      "Here is the matching slice from volume1:"
     ]
    },
    {
     "cell_type": "code",
     "collapsed": false,
     "input": [
      "mid_vol1 = vol1[:, :, 17]\n",
      "plt.imshow(mid_vol1)"
     ],
     "language": "python",
     "metadata": {},
     "outputs": [
      {
       "metadata": {},
       "output_type": "pyout",
       "prompt_number": 9,
       "text": [
        "<matplotlib.image.AxesImage at 0x110446210>"
       ]
      },
      {
       "metadata": {},
       "output_type": "display_data",
       "png": "[encoded data removed]",
       "text": [
        "<matplotlib.figure.Figure at 0x110254890>"
       ]
      }
     ],
     "prompt_number": 9
    },
    {
     "cell_type": "markdown",
     "metadata": {},
     "source": [
      "At the moment it is rather hard to see any difference between these two.  That is still true even if we put the slices side by side:"
     ]
    },
    {
     "cell_type": "code",
     "collapsed": false,
     "input": [
      "fig, axes = plt.subplots(1, 2)\n",
      "axes[0].imshow(mid_vol0)\n",
      "axes[1].imshow(mid_vol1)"
     ],
     "language": "python",
     "metadata": {},
     "outputs": [
      {
       "metadata": {},
       "output_type": "pyout",
       "prompt_number": 10,
       "text": [
        "<matplotlib.image.AxesImage at 0x1105f9d10>"
       ]
      },
      {
       "metadata": {},
       "output_type": "display_data",
       "png": "[encoded data removed]",
       "text": [
        "<matplotlib.figure.Figure at 0x110456910>"
       ]
      }
     ],
     "prompt_number": 10
    },
    {
     "cell_type": "markdown",
     "metadata": {},
     "source": [
      "The volumes are very similar, because the movement between them is very small - usually considerably less than a single voxel.  So, in order to find the movement between them, we will have to do an automated calculation."
     ]
    },
    {
     "cell_type": "markdown",
     "metadata": {},
     "source": [
      "To see how an automated calculation might work, let's push ``mid_vol1`` 10 voxels down, and then try and match the moved version to ``mid_vol0``:"
     ]
    },
    {
     "cell_type": "code",
     "collapsed": false,
     "input": [
      "# Make slice full of zeros like mid_vol1 slice\n",
      "moved_mid_vol1 = np.zeros(mid_vol1.shape)\n",
      "# Fill the lower 54 (of 64) x lines with mid_vol1\n",
      "moved_mid_vol1[10:, :] = mid_vol1[:-10, :]\n",
      "# Now we have something like mid_vol1 but translated in the first dimension\n",
      "plt.imshow(moved_mid_vol1)"
     ],
     "language": "python",
     "metadata": {},
     "outputs": [
      {
       "metadata": {},
       "output_type": "pyout",
       "prompt_number": 11,
       "text": [
        "<matplotlib.image.AxesImage at 0x110731ed0>"
       ]
      },
      {
       "metadata": {},
       "output_type": "display_data",
       "png": "[encoded data removed]",
       "text": [
        "<matplotlib.figure.Figure at 0x110670a50>"
       ]
      }
     ],
     "prompt_number": 11
    },
    {
     "cell_type": "markdown",
     "metadata": {},
     "source": [
      "Let's say we did not know how many voxels the image was translated.  We might want a good way to find out. How are we going to do that?\n",
      "\n",
      "Let's put our problem in a more concrete form.  We are going to try translating our `moved_mid_vol1` over the first ($x$) axis.  Call this translation $t$, so a movement of -5 voxels in $x$ gives $t=-5$.\n",
      "\n",
      "Call the first image $\\mathbf{X}$ (`mid_vol0` in our case).  Call the second image  $\\mathbf{Y}$ (`moved_mid_vol1` in our case).  $\\mathbf{Y}_t$ is $\\mathbf{Y}$ translated in $x$ by $t$ voxels.\n",
      "\n",
      "How will we know if $t$ is a good translation?  It is a good translation if the image $\\mathbf{Y}_t$ is a good match for image $\\mathbf{X}$.\n",
      "\n",
      "We need to quantify what we mean by good match.  That is, we need some measure of quality of match, given two images $\\mathbf{X}$ and $\\mathbf{Y}$.  Call this measure $M(\\mathbf{X}, \\mathbf{Y})$, and let us specify that the value of $M(\\mathbf{X}, \\mathbf{Y})$ should be lower when the images match well.  We could therefore call $M(\\mathbf{X}, \\mathbf{Y})$ a *mismatch* function.\n",
      "\n",
      "Now we can formulate our problem - we want to find the translation $t$ that gives the lowest value of $M(\\mathbf{X}, \\mathbf{Y_t})$.\n",
      "\n",
      "Practically, we are going to need the following things:\n",
      "\n",
      "* A function to generate $\\mathbf{Y_t}$;\n",
      "* A function to give the mismatch between two images.\n",
      "\n",
      "Here's the function to generate $\\mathbf{Y_t}$ - the image $\\mathbf{Y}$ moved by $t$ voxels in $x$:"
     ]
    },
    {
     "cell_type": "code",
     "collapsed": false,
     "input": [
      "def x_trans_slice(img_slice, x_vox_trans):\n",
      "    \"\"\" Make a new copy of `img_slice` translated by `x_vox_trans` voxels\n",
      "    \n",
      "    `x_vox_trans` can be positive or negative\n",
      "    \"\"\"\n",
      "    # Make a 0-filled array of same shape as `img_slice`\n",
      "    trans_slice = np.zeros(img_slice.shape)\n",
      "    # Use slicing to select voxels out of the image and move them\n",
      "    # Up or down on the first (x) axis\n",
      "    if x_vox_trans < 0:\n",
      "        trans_slice[:x_vox_trans, :] = img_slice[-x_vox_trans:, :]\n",
      "    elif x_vox_trans == 0:\n",
      "        trans_slice[:, :] = img_slice\n",
      "    else:\n",
      "        trans_slice[x_vox_trans:, :] = img_slice[:-x_vox_trans, :]\n",
      "    return trans_slice"
     ],
     "language": "python",
     "metadata": {},
     "outputs": [],
     "prompt_number": 12
    },
    {
     "cell_type": "markdown",
     "metadata": {},
     "source": [
      "Next we need a mismatch function that accepts two images, and returns a scalar value that is low when the images are well matched.\n",
      "\n",
      "This is also called a *cost function*, from the idea that we are trying to measure how much an individual translation costs in terms of image matching."
     ]
    },
    {
     "cell_type": "markdown",
     "metadata": {},
     "source": [
      "We could imagine a mismatch measure that used the values from subtracting the two images:"
     ]
    },
    {
     "cell_type": "code",
     "collapsed": false,
     "input": [
      "plt.imshow(mid_vol0 - moved_mid_vol1)"
     ],
     "language": "python",
     "metadata": {},
     "outputs": [
      {
       "metadata": {},
       "output_type": "pyout",
       "prompt_number": 13,
       "text": [
        "<matplotlib.image.AxesImage at 0x11097dc90>"
       ]
      },
      {
       "metadata": {},
       "output_type": "display_data",
       "png": "[encoded data removed]",
       "text": [
        "<matplotlib.figure.Figure at 0x1106fe290>"
       ]
      }
     ],
     "prompt_number": 13
    },
    {
     "cell_type": "markdown",
     "metadata": {},
     "source": [
      "Can we take the sum of this difference as our scalar measure of mismatch?\n",
      "\n",
      "No, because the negative numbers (black) will cancel out the positive numbers (white).  We need something better:"
     ]
    },
    {
     "cell_type": "code",
     "collapsed": false,
     "input": [
      "def mean_abs_cost(slice0, slice1):\n",
      "    \"\"\" Mean absoute difference between images\n",
      "    \"\"\"\n",
      "    return np.mean(np.abs(slice0 - slice1))"
     ],
     "language": "python",
     "metadata": {},
     "outputs": [],
     "prompt_number": 14
    },
    {
     "cell_type": "markdown",
     "metadata": {},
     "source": [
      "Now we can check different values of translation with our mismatch (cost) function.  We move the image up and down for a range of values of $t$ and recalculate the cost function for every candidate translation:"
     ]
    },
    {
     "cell_type": "code",
     "collapsed": false,
     "input": [
      "costs = []\n",
      "translations = range(-25, 15)\n",
      "for t in translations:\n",
      "    # Make the translated image Y_t\n",
      "    shifted = x_trans_slice(moved_mid_vol1, t)\n",
      "    # Calculate the cost (mismatch)\n",
      "    cost = mean_abs_cost(shifted, mid_vol0)\n",
      "    # Store it for later\n",
      "    costs.append(cost)"
     ],
     "language": "python",
     "metadata": {},
     "outputs": [],
     "prompt_number": 15
    },
    {
     "cell_type": "code",
     "collapsed": false,
     "input": [
      "plt.plot(translations, costs)\n",
      "plt.xlabel('translation (t)')\n",
      "plt.ylabel('mean absolute difference cost')"
     ],
     "language": "python",
     "metadata": {},
     "outputs": [
      {
       "metadata": {},
       "output_type": "pyout",
       "prompt_number": 16,
       "text": [
        "<matplotlib.text.Text at 0x110609ad0>"
       ]
      },
      {
       "metadata": {},
       "output_type": "display_data",
       "png": "[encoded data removed]",
       "text": [
        "<matplotlib.figure.Figure at 0x1109a4790>"
       ]
      }
     ],
     "prompt_number": 16
    },
    {
     "cell_type": "markdown",
     "metadata": {},
     "source": [
      "We can try other cost functions.  Another measure of how well the images match might be the correlation of the voxel values at each voxel.  When the images are well matched, we expect black values in one image to be matched with black in the other, ditto for white."
     ]
    },
    {
     "cell_type": "code",
     "collapsed": false,
     "input": [
      "# Number of voxels in the image\n",
      "n_voxels = np.prod(mid_vol1.shape)\n",
      "# Reshape vol0 slice as 1D vector\n",
      "mid_vol0_as_1d = mid_vol0.reshape(n_voxels)\n",
      "# Reshape vol1 slice as 1D vector\n",
      "mid_vol1_as_1d = mid_vol1.reshape(n_voxels)\n",
      "# These original slices should be very close to each other already\n",
      "# So - plotting one set of image values against the other should\n",
      "# be close to a straight line\n",
      "plt.plot(mid_vol0_as_1d, mid_vol1_as_1d, '.')\n",
      "plt.xlabel('voxels in vol0 slice')\n",
      "plt.ylabel('voxels in original vol1 slice')\n",
      "# Correlation coefficient between them\n",
      "np.corrcoef(mid_vol0_as_1d, mid_vol1_as_1d)[0, 1]"
     ],
     "language": "python",
     "metadata": {},
     "outputs": [
      {
       "metadata": {},
       "output_type": "pyout",
       "prompt_number": 17,
       "text": [
        "0.9981194331127774"
       ]
      },
      {
       "metadata": {},
       "output_type": "display_data",
       "png": "[encoded data removed]",
       "text": [
        "<matplotlib.figure.Figure at 0x110ae9710>"
       ]
      }
     ],
     "prompt_number": 17
    },
    {
     "cell_type": "code",
     "collapsed": false,
     "input": [
      "# The moved slice will be less well matched\n",
      "# Therefore the line will be less straight and narrow\n",
      "plt.plot(mid_vol0_as_1d, moved_mid_vol1.ravel(), '.')\n",
      "plt.xlabel('voxels in vol0 slice')\n",
      "plt.ylabel('voxels in moved vol1 slice')\n",
      "# Correlation coefficient between them\n",
      "np.corrcoef(mid_vol0_as_1d, moved_mid_vol1.ravel())[0, 1]"
     ],
     "language": "python",
     "metadata": {},
     "outputs": [
      {
       "metadata": {},
       "output_type": "pyout",
       "prompt_number": 18,
       "text": [
        "0.35064694079304715"
       ]
      },
      {
       "metadata": {},
       "output_type": "display_data",
       "png": "[encoded data removed]",
       "text": [
        "<matplotlib.figure.Figure at 0x110c16050>"
       ]
      }
     ],
     "prompt_number": 18
    },
    {
     "cell_type": "markdown",
     "metadata": {},
     "source": [
      "We expect that the correlation will be high and positive when the images are well matched.  Our cost function should be *low* when the images are well-matched, so we can use the negative correlation as our cost function:"
     ]
    },
    {
     "cell_type": "code",
     "collapsed": false,
     "input": [
      "def correl_cost(slice0, slice1):\n",
      "    \"\"\" Negative correlation between the two images, flattened to 1D \"\"\"\n",
      "    correl = np.corrcoef(slice0.ravel(), slice1.ravel())[0, 1]\n",
      "    return -correl"
     ],
     "language": "python",
     "metadata": {},
     "outputs": [],
     "prompt_number": 19
    },
    {
     "cell_type": "code",
     "collapsed": false,
     "input": [
      "correl_costs = []\n",
      "translations = range(-25, 15)\n",
      "for t in translations:\n",
      "    shifted = x_trans_slice(moved_mid_vol1, t)\n",
      "    cost = correl_cost(shifted, mid_vol0)\n",
      "    correl_costs.append(cost)"
     ],
     "language": "python",
     "metadata": {},
     "outputs": [],
     "prompt_number": 20
    },
    {
     "cell_type": "code",
     "collapsed": false,
     "input": [
      "plt.plot(translations, costs)"
     ],
     "language": "python",
     "metadata": {},
     "outputs": [
      {
       "metadata": {},
       "output_type": "pyout",
       "prompt_number": 21,
       "text": [
        "[<matplotlib.lines.Line2D at 0x110f1e790>]"
       ]
      },
      {
       "metadata": {},
       "output_type": "display_data",
       "png": "[encoded data removed]",
       "text": [
        "<matplotlib.figure.Figure at 0x110d27d50>"
       ]
      }
     ],
     "prompt_number": 21
    },
    {
     "cell_type": "markdown",
     "metadata": {},
     "source": [
      "So far we have only tried translations by exactly one voxel.\n",
      "\n",
      "How about non-integer translations?  Will these work?\n",
      "\n",
      "To do a non-integer translation, we have to think more generally about how to make an image that matches another image, after a transformation."
     ]
    },
    {
     "cell_type": "heading",
     "level": 2,
     "metadata": {},
     "source": [
      "Resampling in 2D"
     ]
    },
    {
     "cell_type": "markdown",
     "metadata": {},
     "source": [
      "We need a more general resampling algorithm.  This is like the interpolation we do for slice timing, but in two dimensions.\n",
      "\n",
      "Let's say we want to do a voxel translation of 0.5 voxels in X.  The way we might go about this is the following.\n",
      "\n",
      "To start, here are some names:\n",
      "\n",
      "* `img0` is the image we are trying to match to (in our case `mid_vol0`);\n",
      "* `img1` is the image we are trying to match by moving (in our case `moved_mid_vol1`);\n",
      "* `trans` the transformation from pixel coordinates in `img1` to pixel coordinates in `img0` (in our case adding 0.5 to the first coordinate value, so that [0, 0] becomes [0.5, 0]);\n",
      "* `itrans` is the inverse of `trans`, and gives the transformation to go from pixel coordinates in `img0` to pixel coordinates in `img1`.  In our case this is subtracting 0.5 from the first coordinate value.\n",
      "\n",
      "The procedure for resampling is:\n",
      "\n",
      "* Make a 2D image the same shape as the image we want to match to (`img0`) - call this `new_img0`;\n",
      "* For each pixel in `new_img0`;\n",
      "    * We will name the pixel coordinate for this pixel `coord_for_img0`;\n",
      "    * transform `coord_for_img0` using `itrans`.  In our case this would be to subtract 0.5 from the first coordinate value ([0, 0] becomes [-0.5, 0]).  Call the transformed coordinate `coord_for_img1`;\n",
      "    * Estimate the pixel value in `img1` at coordinate `coord_for_img1`. Call this value `img1_value_estimate`;\n",
      "    * Insert `img1_value` into `new_img0` at coordinate `coord_for_img0`.\n",
      "    \n",
      "The \"Estimate pixel value\" step is called *resampling*.  As you can see this is the same general idea as interpolating in one dimension.  We saw one dimensional interpolation for slice timing.  There are various ways of interpolating in two or three dimensions, but one of the most obvious is the simple extension of linear interpolation to two (or more) dimensions - [bilinear interpolation](http://en.wikipedia.org/wiki/Bilinear_interpolation)."
     ]
    },
    {
     "cell_type": "markdown",
     "metadata": {},
     "source": [
      "The `scipy.ndimage` library has routines for resampling in 2 or 3 dimensions:"
     ]
    },
    {
     "cell_type": "code",
     "collapsed": false,
     "input": [
      "import scipy.ndimage as snd"
     ],
     "language": "python",
     "metadata": {},
     "outputs": [],
     "prompt_number": 22
    },
    {
     "cell_type": "markdown",
     "metadata": {},
     "source": [
      "In fact the ``affine_transform`` function from `scipy.ndimage` will do the whole process for us:"
     ]
    },
    {
     "cell_type": "code",
     "collapsed": false,
     "input": [
      "def fancy_x_trans_slice(img_slice, x_vox_trans):\n",
      "    \"\"\" Make a new copy of `img_slice` translated by `x_vox_trans` voxels\n",
      "    \n",
      "    `x_vox_trans` can be positive or negative, and can be a float.\n",
      "    \"\"\"\n",
      "    trans_slice = snd.affine_transform(img_slice, [1, 1], [-x_vox_trans, 0])\n",
      "    return trans_slice"
     ],
     "language": "python",
     "metadata": {},
     "outputs": [],
     "prompt_number": 23
    },
    {
     "cell_type": "code",
     "collapsed": false,
     "input": [
      "fine_costs = []\n",
      "fine_translations = np.linspace(-25, 15, 100)\n",
      "for t in fine_translations:\n",
      "    shifted = fancy_x_trans_slice(moved_mid_vol1, t)\n",
      "    cost = correl_cost(shifted, mid_vol0)\n",
      "    fine_costs.append(cost)"
     ],
     "language": "python",
     "metadata": {},
     "outputs": [],
     "prompt_number": 24
    },
    {
     "cell_type": "code",
     "collapsed": false,
     "input": [
      "plt.plot(fine_translations, fine_costs)"
     ],
     "language": "python",
     "metadata": {},
     "outputs": [
      {
       "metadata": {},
       "output_type": "pyout",
       "prompt_number": 25,
       "text": [
        "[<matplotlib.lines.Line2D at 0x1110e0b50>]"
       ]
      },
      {
       "metadata": {},
       "output_type": "display_data",
       "png": "[encoded data removed]",
       "text": [
        "<matplotlib.figure.Figure at 0x110d42790>"
       ]
      }
     ],
     "prompt_number": 25
    },
    {
     "cell_type": "markdown",
     "metadata": {},
     "source": [
      "We are looking for the best x translation.  At the moment we have to sample lots of x translations and then choose the best.  Is there a better way?"
     ]
    },
    {
     "cell_type": "heading",
     "level": 2,
     "metadata": {},
     "source": [
      "Optimization"
     ]
    },
    {
     "cell_type": "markdown",
     "metadata": {},
     "source": [
      "*Optimization* is a field of mathematics / computer science that solves this exact problem:\n",
      "\n",
      "http://en.wikipedia.org/wiki/Mathematical_optimization\n",
      "\n",
      "There are many optimization routines in Python, MATLAB and other languages.  These routines typically allow you to pass some function, and the routine returns the parameters of the function that give the lowest value.\n",
      "\n",
      "In our case, we will to pass to the optimization program the cost function, which accepts one parameter (the x translation value), and which returns our cost function value for that translation.\n",
      "\n",
      "What does it mean to \"pass\" a function in Python.  Remember, in Python, [functions are objects too](functions_are_objects.ipynb).\n",
      "\n",
      "The optimization works by running the function at different values of the parameter (in our case, x translation), and using an algorithm to choose the next value of the parameter to try.  When it finds a parameter value for which very small changes up or down only increase the function value, the routine stops and returns the parameter value.\n",
      "\n",
      "We'll use the fact that Python functions can access variables defined in the [global scope](global_scope.ipynb).  In our case the function `cost_function` can access variables `moved_mid_vol1` and `mid_vol0` that we defined in the top level (global) scope of the notebook:"
     ]
    },
    {
     "cell_type": "code",
     "collapsed": false,
     "input": [
      "def cost_function(x_trans):\n",
      "    # Function can see and use the image slices defined \n",
      "    # in the global (notebook) scope\n",
      "    shifted = fancy_x_trans_slice(moved_mid_vol1, x_trans)\n",
      "    return correl_cost(shifted, mid_vol0)"
     ],
     "language": "python",
     "metadata": {},
     "outputs": [],
     "prompt_number": 26
    },
    {
     "cell_type": "code",
     "collapsed": false,
     "input": [
      "# value of the negative correlation for no translatino\n",
      "cost_function(0)"
     ],
     "language": "python",
     "metadata": {},
     "outputs": [
      {
       "metadata": {},
       "output_type": "pyout",
       "prompt_number": 27,
       "text": [
        "-0.35064694079304715"
       ]
      }
     ],
     "prompt_number": 27
    },
    {
     "cell_type": "code",
     "collapsed": false,
     "input": [
      "# value of the negative correlation for translation of -10 voxels\n",
      "cost_function(-10)"
     ],
     "language": "python",
     "metadata": {},
     "outputs": [
      {
       "metadata": {},
       "output_type": "pyout",
       "prompt_number": 28,
       "text": [
        "-0.99558995228406633"
       ]
      }
     ],
     "prompt_number": 28
    },
    {
     "cell_type": "markdown",
     "metadata": {},
     "source": [
      "Now we get a general optimizing routine from the `scipy` Python library.  `fmin_powell` finds the minimum of a function using [Powell's method](https://en.wikipedia.org/wiki/Powell%27s_method) of numerical optimization:"
     ]
    },
    {
     "cell_type": "code",
     "collapsed": false,
     "input": [
      "from scipy.optimize import fmin_powell"
     ],
     "language": "python",
     "metadata": {},
     "outputs": [],
     "prompt_number": 29
    },
    {
     "cell_type": "markdown",
     "metadata": {},
     "source": [
      "We pass the ``fmin_powell`` routine our Python function, and a starting value of zero for the translation:"
     ]
    },
    {
     "cell_type": "code",
     "collapsed": false,
     "input": [
      "fmin_powell(cost_function, [0])"
     ],
     "language": "python",
     "metadata": {},
     "outputs": [
      {
       "output_type": "stream",
       "stream": "stdout",
       "text": [
        "Optimization terminated successfully.\n",
        "         Current function value: -0.995594\n",
        "         Iterations: 3\n",
        "         Function evaluations: 38\n"
       ]
      },
      {
       "metadata": {},
       "output_type": "pyout",
       "prompt_number": 30,
       "text": [
        "array(-9.992463143534989)"
       ]
      }
     ],
     "prompt_number": 30
    },
    {
     "cell_type": "markdown",
     "metadata": {},
     "source": [
      "The function ran, and found that a translation of very nearly -10 gave the smallest value for our cost function."
     ]
    },
    {
     "cell_type": "markdown",
     "metadata": {},
     "source": [
      "What actually happened there?  Let's track the progress using a callback function:"
     ]
    },
    {
     "cell_type": "code",
     "collapsed": false,
     "input": [
      "def my_callback(params):\n",
      "   print(\"Trying parameters \" + str(params))"
     ],
     "language": "python",
     "metadata": {},
     "outputs": [],
     "prompt_number": 31
    },
    {
     "cell_type": "code",
     "collapsed": false,
     "input": [
      "fmin_powell(cost_function, [0], callback=my_callback)"
     ],
     "language": "python",
     "metadata": {},
     "outputs": [
      {
       "output_type": "stream",
       "stream": "stdout",
       "text": [
        "Trying parameters [-9.87365471]\n",
        "Trying parameters [-9.99223607]\n",
        "Trying parameters [-9.99246314]\n",
        "Optimization terminated successfully.\n",
        "         Current function value: -0.995594\n",
        "         Iterations: 3\n",
        "         Function evaluations: 38\n"
       ]
      },
      {
       "metadata": {},
       "output_type": "pyout",
       "prompt_number": 32,
       "text": [
        "array(-9.992463143534989)"
       ]
      }
     ],
     "prompt_number": 32
    },
    {
     "cell_type": "markdown",
     "metadata": {},
     "source": [
      "The optimization routine `fmin_powell` is trying various different translations, finally coming to the optimimum (minimum) translation of very nearly -10."
     ]
    },
    {
     "cell_type": "heading",
     "level": 2,
     "metadata": {},
     "source": [
      "More than one parameter"
     ]
    },
    {
     "cell_type": "markdown",
     "metadata": {},
     "source": [
      "How about adding y translation as well?\n",
      "\n",
      "Our optimization routine could deal with this in a very simple way - by optimizing the x translation, then the y translation, like this:\n",
      "\n",
      "* Adjust the x translation until it has reached a minimum, then;\n",
      "* Adjust the y translation until it has reached a minimum, then;\n",
      "* Repeat x, y minimization until the minimum for both is stable.\n",
      "\n",
      "Although we could do that, in fact `fmin_powell` does something slightly more complicated when looking for the next best set of parameters to try.  The details aren't important to the general idea of searching over different parameter values to find the lowest for the cost function."
     ]
    },
    {
     "cell_type": "code",
     "collapsed": false,
     "input": [
      "def fancy_xy_trans_slice(img_slice, x_y_trans):\n",
      "    \"\"\" Make a new copy of `img_slice` translated by `x_y_trans` voxels\n",
      "    \n",
      "    x_y_trans is a sequence or array length 2, containing the (x, y) translations in voxels.\n",
      "    \n",
      "    Values in `x_y_trans` can be positive or negative, and can be floats.\n",
      "    \"\"\"\n",
      "    x_y_trans = np.array(x_y_trans)\n",
      "    trans_slice = snd.affine_transform(img_slice, [1, 1], -x_y_trans)\n",
      "    return trans_slice"
     ],
     "language": "python",
     "metadata": {},
     "outputs": [],
     "prompt_number": 33
    },
    {
     "cell_type": "code",
     "collapsed": false,
     "input": [
      "def fancy_cost_at_xy(x_y_trans):\n",
      "    \"\"\" Give cost function at xy translation values `x_y_trans`\n",
      "    \"\"\"\n",
      "    unmoved = fancy_xy_trans_slice(moved_mid_vol1, x_y_trans)\n",
      "    return correl_cost(unmoved, mid_vol0)"
     ],
     "language": "python",
     "metadata": {},
     "outputs": [],
     "prompt_number": 34
    },
    {
     "cell_type": "code",
     "collapsed": false,
     "input": [
      "fmin_powell(fancy_cost_at_xy, [0, 0], callback=my_callback)"
     ],
     "language": "python",
     "metadata": {},
     "outputs": [
      {
       "output_type": "stream",
       "stream": "stdout",
       "text": [
        "Trying parameters [-9.87365471  0.        ]\n",
        "Trying parameters [-9.99223607  0.        ]"
       ]
      },
      {
       "output_type": "stream",
       "stream": "stdout",
       "text": [
        "\n",
        "Trying parameters [-9.99246314  0.        ]"
       ]
      },
      {
       "output_type": "stream",
       "stream": "stdout",
       "text": [
        "\n",
        "Optimization terminated successfully.\n",
        "         Current function value: -0.995594\n",
        "         Iterations: 3\n",
        "         Function evaluations: 194\n"
       ]
      },
      {
       "metadata": {},
       "output_type": "pyout",
       "prompt_number": 35,
       "text": [
        "array([-9.99246314,  0.        ])"
       ]
      }
     ],
     "prompt_number": 35
    },
    {
     "cell_type": "heading",
     "level": 2,
     "metadata": {},
     "source": [
      "Full 3D estimate"
     ]
    },
    {
     "cell_type": "markdown",
     "metadata": {},
     "source": [
      "Now we know how to do two parameters, it's easy to extend this to six parameters.\n",
      "\n",
      "The six parameters are:\n",
      "\n",
      "* x translation\n",
      "* y translation\n",
      "* z translation\n",
      "* rotation around x axis (pitch)\n",
      "* rotation around y axis (roll)\n",
      "* rotation around z axis (yaw)\n",
      "\n",
      "Any transformation with these parameters is called a *rigid body* transformation because the transformation cannot make the object change shape (the object is *rigid*).\n",
      "\n",
      "Implementing the rotations is just slightly out of scope for this tutorial (we would have to convert between angles and [rotation matrices](http://en.wikipedia.org/wiki/Rotation_matrix)), so here is the 3D optimization with the three translation parameters:"
     ]
    },
    {
     "cell_type": "markdown",
     "metadata": {},
     "source": [
      "To make it a bit more interesting, shift the second volume 10 voxels on the first axis, as we did for the 2D case:"
     ]
    },
    {
     "cell_type": "code",
     "collapsed": false,
     "input": [
      "shifted_vol1 = np.zeros(vol1.shape)\n",
      "shifted_vol1[10:, :, :] = vol1[:-10, :, :]\n",
      "plt.imshow(shifted_vol1[:, :, 17])"
     ],
     "language": "python",
     "metadata": {},
     "outputs": [
      {
       "metadata": {},
       "output_type": "pyout",
       "prompt_number": 36,
       "text": [
        "<matplotlib.image.AxesImage at 0x110cb34d0>"
       ]
      },
      {
       "metadata": {},
       "output_type": "display_data",
       "png": "[encoded data removed]",
       "text": [
        "<matplotlib.figure.Figure at 0x110e14910>"
       ]
      }
     ],
     "prompt_number": 36
    },
    {
     "cell_type": "markdown",
     "metadata": {},
     "source": [
      "We define resampling for any given x, y, z translation:"
     ]
    },
    {
     "cell_type": "code",
     "collapsed": false,
     "input": [
      "def xyz_trans_vol(vol, x_y_z_trans):\n",
      "    \"\"\" Make a new copy of `vol` translated by `x_y_z_trans` voxels\n",
      "    \n",
      "    x_y_z_trans is a sequence or array length 3, containing the (x, y, z) translations in voxels.\n",
      "    \n",
      "    Values in `x_y_z_trans` can be positive or negative, and can be floats.\n",
      "    \"\"\"\n",
      "    x_y_z_trans = np.array(x_y_z_trans)\n",
      "    # [1, 1, 1] says to do no zooming or rotation\n",
      "    trans_vol = snd.affine_transform(vol, [1, 1, 1], -x_y_z_trans)\n",
      "    return trans_vol"
     ],
     "language": "python",
     "metadata": {},
     "outputs": [],
     "prompt_number": 37
    },
    {
     "cell_type": "markdown",
     "metadata": {},
     "source": [
      "Our cost function (picking up `vol0`, `shifted_vol1` from the global scope):"
     ]
    },
    {
     "cell_type": "code",
     "collapsed": false,
     "input": [
      "def cost_at_xyz(x_y_z_trans):\n",
      "    \"\"\" Give cost function value at xyz translation values `x_y_z_trans`\n",
      "    \"\"\"\n",
      "    unmoved = xyz_trans_vol(shifted_vol1, x_y_z_trans)\n",
      "    return correl_cost(unmoved, vol0)"
     ],
     "language": "python",
     "metadata": {},
     "outputs": [],
     "prompt_number": 38
    },
    {
     "cell_type": "code",
     "collapsed": false,
     "input": [
      "fmin_powell(cost_at_xyz, [-9, 0, 0], callback=my_callback)"
     ],
     "language": "python",
     "metadata": {},
     "outputs": [
      {
       "output_type": "stream",
       "stream": "stdout",
       "text": [
        "Trying parameters [-9.99637548  0.          0.        ]\n",
        "Trying parameters [-9.99709554  0.          0.        ]"
       ]
      },
      {
       "output_type": "stream",
       "stream": "stdout",
       "text": [
        "\n",
        "Optimization terminated successfully.\n",
        "         Current function value: -0.995563\n",
        "         Iterations: 2\n",
        "         Function evaluations: 239\n"
       ]
      },
      {
       "metadata": {},
       "output_type": "pyout",
       "prompt_number": 39,
       "text": [
        "array([-9.99709554,  0.        ,  0.        ])"
       ]
      }
     ],
     "prompt_number": 39
    }
   ],
   "metadata": {}
  }
 ]
}