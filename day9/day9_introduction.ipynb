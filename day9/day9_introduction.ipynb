{
 "metadata": {
  "name": "",
  "signature": "sha256:39068a8860aa2d4eb5828f9f7903611c98f136a25af174d7d87d1e67bd77dbe7"
 },
 "nbformat": 3,
 "nbformat_minor": 0,
 "worksheets": [
  {
   "cells": [
    {
     "cell_type": "code",
     "collapsed": false,
     "input": [
      "# - compatibility with Python 3\n",
      "from __future__ import print_function  # print('me') instead of print 'me'\n",
      "from __future__ import division  # 1/2 == 0.5, not 0"
     ],
     "language": "python",
     "metadata": {},
     "outputs": []
    },
    {
     "cell_type": "code",
     "collapsed": false,
     "input": [
      "# - show figures inside the notebook\n",
      "%matplotlib inline"
     ],
     "language": "python",
     "metadata": {},
     "outputs": []
    },
    {
     "cell_type": "code",
     "collapsed": false,
     "input": [
      "# - import common modules\n",
      "import numpy as np  # the Python array package\n",
      "import matplotlib.pyplot as plt  # the Python plotting package"
     ],
     "language": "python",
     "metadata": {},
     "outputs": []
    },
    {
     "cell_type": "code",
     "collapsed": false,
     "input": [
      "# - set gray colormap and nearest neighbor interpolation by default\n",
      "plt.rcParams['image.cmap'] = 'gray'\n",
      "plt.rcParams['image.interpolation'] = 'nearest'"
     ],
     "language": "python",
     "metadata": {},
     "outputs": []
    },
    {
     "cell_type": "markdown",
     "metadata": {},
     "source": [
      "## Getting code for the exercises with git"
     ]
    },
    {
     "cell_type": "markdown",
     "metadata": {},
     "source": [
      "Change to your home directory:\n",
      "\n",
      "```\n",
      "cd\n",
      "```\n",
      "\n",
      "Change to the `pna_code` directory:\n",
      "\n",
      "```\n",
      "cd pna_code\n",
      "```"
     ]
    },
    {
     "cell_type": "markdown",
     "metadata": {},
     "source": [
      "Check that all is calm and well in this, your git repository:\n",
      "\n",
      "```\n",
      "git status\n",
      "```"
     ]
    },
    {
     "cell_type": "markdown",
     "metadata": {},
     "source": [
      "If you see any changes with `git status`, investigate with `git diff`"
     ]
    },
    {
     "cell_type": "markdown",
     "metadata": {},
     "source": [
      "If you like the changes, add them, and commit them:\n",
      "\n",
      "```\n",
      "git add my_file_with_changes.py\n",
      "git commit\n",
      "```\n",
      "\n",
      "Now your own text editor should open up for you to type a message."
     ]
    },
    {
     "cell_type": "markdown",
     "metadata": {},
     "source": [
      "Get all the information about the class repository.  First confirm you have a git *remote* for the class repository:\n",
      "\n",
      "```\n",
      "git remote -v\n",
      "```\n",
      "\n",
      "Next fetch all the information from this (and any other) remote:\n",
      "\n",
      "```\n",
      "git fetch --all\n",
      "```"
     ]
    },
    {
     "cell_type": "markdown",
     "metadata": {},
     "source": [
      "Finally, create and checkout the branch for today's class:\n",
      "\n",
      "```\n",
      "git branch for-class-day9 class-repo/for-class-day9\n",
      "git checkout for-class-day9\n",
      "```\n",
      "\n",
      "You should see a file in the working directory called `rotations.py`."
     ]
    },
    {
     "cell_type": "markdown",
     "metadata": {},
     "source": [
      "## Putting stuff on the Python path"
     ]
    },
    {
     "cell_type": "markdown",
     "metadata": {},
     "source": [
      "Remember the Python path?"
     ]
    },
    {
     "cell_type": "code",
     "collapsed": false,
     "input": [
      "import sys\n",
      "print('\\n'.join(sys.path))"
     ],
     "language": "python",
     "metadata": {},
     "outputs": []
    },
    {
     "cell_type": "markdown",
     "metadata": {},
     "source": [
      "We are going to be using the modules in `pna_code` again this week.\n",
      "\n",
      "It is getting a little tiring to keep doing:\n",
      "\n",
      "```\n",
      "import sys\n",
      "sys.path.append('/Users/mb312/pna_code')\n",
      "```\n",
      "\n",
      "Is there any easier way?"
     ]
    },
    {
     "cell_type": "markdown",
     "metadata": {},
     "source": [
      "Why yes - there is.  In fact there are several.\n",
      "\n",
      "The one we are going to use is the `PYTHONPATH` environment variable (see https://docs.python.org/2/using/cmdline.html#envvar-PYTHONPATH)."
     ]
    },
    {
     "cell_type": "markdown",
     "metadata": {},
     "source": [
      "### If you are on a Mac"
     ]
    },
    {
     "cell_type": "markdown",
     "metadata": {},
     "source": [
      "* Open `Terminal.app`;\n",
      "* Open the file `~/.bash_profile` in your text editor;\n",
      "* Add the following line to the end:\n",
      "\n",
      "    ```\n",
      "    export PYTHONPATH=$HOME/pna_code\n",
      "    ```\n",
      "\n",
      "  Save the file.\n",
      "* Close `Terminal.app`;\n",
      "* Start `Terminal.app` again, and type this:\n",
      "\n",
      "    ```\n",
      "    echo $PYTHONPATH\n",
      "    ```\n",
      "\n",
      "  It should show something like `/Users/your_username/pna_code`.  If not, come get one of us."
     ]
    },
    {
     "cell_type": "markdown",
     "metadata": {},
     "source": [
      "### If you are on Linux"
     ]
    },
    {
     "cell_type": "markdown",
     "metadata": {},
     "source": [
      "* Open your favorite terminal program;\n",
      "* Open the file `~/.bashrc` in your text editor;\n",
      "* Add the following line to the end:\n",
      "\n",
      "    ```\n",
      "    export PYTHONPATH=$HOME/pna_code\n",
      "    ```\n",
      "  Save the file.\n",
      "* Close your terminal application;\n",
      "* Start your terminal application again, and type this:\n",
      "\n",
      "    ```\n",
      "    echo $PYTHONPATH\n",
      "    ```\n",
      "\n",
      "  It should show something like `/home/your_username/pna_code`.  If not, come get one of us."
     ]
    },
    {
     "cell_type": "markdown",
     "metadata": {},
     "source": [
      "### If you are on Windows"
     ]
    },
    {
     "cell_type": "markdown",
     "metadata": {},
     "source": [
      "Got to the Windows menu, right-click on \"Computer\" and select \"Properties\": \n",
      "\n",
      "<img src=\"images/win_computer_properties.png\" width=\"50%\"/>"
     ]
    },
    {
     "cell_type": "markdown",
     "metadata": {},
     "source": [
      "From the computer properties dialog, select \"Advanced system settings\" on the left:\n",
      "\n",
      "<img src=\"images/win_adv_sys_settings.png\" width=\"50%\"/>"
     ]
    },
    {
     "cell_type": "markdown",
     "metadata": {},
     "source": [
      "From the advanced system settings dialog, choose the \"Environment variables\" button:\n",
      "\n",
      "<img src=\"images/win_env_vars.png\" width=\"40%\"/>"
     ]
    },
    {
     "cell_type": "markdown",
     "metadata": {},
     "source": [
      "In the Environment variables dialog, click the \"New\" button in the top half of the dialog, to make a new *user* variable:\n",
      "\n",
      "<img src=\"images/win_pythonpath.png\" width=\"40%\"/>\n",
      "\n",
      "Give the variable name as `PYTHONPATH` and the value is the path to the `pna_code` directory.  Choose OK and OK again to save this variable."
     ]
    },
    {
     "cell_type": "markdown",
     "metadata": {},
     "source": [
      "Now open a `cmd` Window (Windows key, then type `cmd` and press Return).  Type:\n",
      "\n",
      "```\n",
      "echo %PYTHONPATH%\n",
      "```\n",
      "\n",
      "to confirm the environment variable is correctly set:\n",
      "\n",
      "<img src=\"images/win_cmd_echo.png\" width=\"40%\"/>"
     ]
    },
    {
     "cell_type": "markdown",
     "metadata": {},
     "source": [
      "If you want the IPython notebook to see this new `PYTHONPATH` variable, you may need to close your terminal, open it again, and restart `ipython notebook`, so that it picks up `PYTHONPATH` from the environment settings."
     ]
    },
    {
     "cell_type": "markdown",
     "metadata": {},
     "source": [
      "You can check the current setting of environment variables, using the `os.environ` dictionary:"
     ]
    },
    {
     "cell_type": "code",
     "collapsed": false,
     "input": [
      "import os\n",
      "os.environ['PYTHONPATH']"
     ],
     "language": "python",
     "metadata": {},
     "outputs": []
    },
    {
     "cell_type": "markdown",
     "metadata": {},
     "source": [
      "## Rotations and rotation matrices"
     ]
    },
    {
     "cell_type": "markdown",
     "metadata": {},
     "source": [
      "In two dimensions, rotating a vector $\\theta$ around the origin can be expressed as a 2 by 2 transformation matrix:\n",
      "\n",
      "$$\n",
      "R(\\beta) = \\begin{bmatrix}\n",
      "\\cos \\beta & -\\sin \\beta \\\\\n",
      "\\sin \\beta & \\cos \\beta \\\\\n",
      "\\end{bmatrix}\n",
      "$$\n",
      "\n",
      "This rotates column vectors by matrix multiplication:\n",
      "\n",
      "$$\n",
      "\\begin{bmatrix}\n",
      "x' \\\\\n",
      "y' \\\\\n",
      "\\end{bmatrix} = \\begin{bmatrix}\n",
      "\\cos \\beta & -\\sin \\beta \\\\\n",
      "\\sin \\beta & \\cos \\beta \\\\\n",
      "\\end{bmatrix}\\begin{bmatrix}\n",
      "x \\\\\n",
      "y \\\\\n",
      "\\end{bmatrix}\n",
      "$$\n",
      "\n",
      "So the coordinates $(x',y')$ of the point $(x,y)$ after rotation are\n",
      "\n",
      "$$\n",
      "x' = x \\cos \\beta - y \\sin \\beta \\\\\n",
      "y' = x \\sin \\beta + y \\cos \\beta\n",
      "$$\n"
     ]
    },
    {
     "cell_type": "markdown",
     "metadata": {},
     "source": [
      "You might be able to see why this is true by looking at this diagram, and remembering:\n",
      "\n",
      "$$\n",
      "\\cos(\\alpha) = x \\\\\n",
      "\\sin(\\alpha) = y\n",
      "$$\n",
      "\n",
      "<img src=\"images/trig_addition.png\" width=\"40%\"/>\n",
      "\n",
      "(Image copyright [Stackexchange user Blue](http://math.stackexchange.com/users/409/blue) licensed with [cc-by-sa](http://creativecommons.org/licenses/by-sa/3.0))"
     ]
    },
    {
     "cell_type": "markdown",
     "metadata": {},
     "source": [
      "Rotations in three dimensions simply extend from 2D.  For example, in 3D, the rotation above would be a rotation around the z axis (z stays constant, (x, y) change):"
     ]
    },
    {
     "cell_type": "markdown",
     "metadata": {},
     "source": [
      "$$\n",
      "\\begin{alignat}{1}\n",
      "R_x(\\theta) &= \\begin{bmatrix}\n",
      "1 & 0 & 0 \\\\\n",
      "0 & \\cos \\theta &  -\\sin \\theta \\\\[3pt]\n",
      "0 & \\sin \\theta  &  \\cos \\theta \\\\[3pt]\n",
      "\\end{bmatrix} \\\\[6pt]\n",
      "R_y(\\theta) &= \\begin{bmatrix}\n",
      "\\cos \\theta & 0 & \\sin \\theta \\\\[3pt]\n",
      "0 & 1 & 0 \\\\[3pt]\n",
      "-\\sin \\theta & 0 & \\cos \\theta \\\\\n",
      "\\end{bmatrix} \\\\[6pt]\n",
      "R_z(\\theta) &= \\begin{bmatrix}\n",
      "\\cos \\theta &  -\\sin \\theta & 0 \\\\[3pt]\n",
      "\\sin \\theta & \\cos \\theta & 0\\\\[3pt]\n",
      "0 & 0 & 1\\\\\n",
      "\\end{bmatrix}\n",
      "\\end{alignat}\n",
      "$$"
     ]
    },
    {
     "cell_type": "markdown",
     "metadata": {},
     "source": [
      "We can combine rotations with matrix multiplication.  For example, here is an rotation around the x axis of $\\gamma$ radians:\n",
      "\n",
      "$$\n",
      "\\begin{bmatrix}\n",
      "x'\\\\\n",
      "y'\\\\\n",
      "z'\\\\\n",
      "\\end{bmatrix} =\n",
      "\\begin{bmatrix}\n",
      "1 & 0 & 0 \\\\\n",
      "0 & \\cos(\\gamma) & 0 & -\\sin(\\gamma) \\\\\n",
      "0 & \\sin(\\gamma) & 0 & \\cos(\\gamma) \\\\\n",
      "\\end{bmatrix}\n",
      "\\begin{bmatrix}\n",
      "x\\\\\n",
      "y\\\\\n",
      "z\\\\\n",
      "\\end{bmatrix}\n",
      "$$"
     ]
    },
    {
     "cell_type": "markdown",
     "metadata": {},
     "source": [
      "We could then apply a rotation around the y axis of $\\phi$ radians:\n",
      "\n",
      "$$\n",
      "\\begin{bmatrix}\n",
      "x''\\\\\n",
      "y''\\\\\n",
      "z''\\\\\n",
      "\\end{bmatrix} =\n",
      "\\begin{bmatrix}\n",
      "\\cos(\\phi) & 0 & \\sin(\\phi) \\\\\n",
      "0 & 1 & 0 \\\\\n",
      "-\\sin(\\phi) & 0 & \\cos(\\phi) \\\\\n",
      "\\end{bmatrix}\n",
      "\\begin{bmatrix}\n",
      "x'\\\\\n",
      "j'\\\\\n",
      "k'\\\\\n",
      "\\end{bmatrix}\n",
      "$$"
     ]
    },
    {
     "cell_type": "markdown",
     "metadata": {},
     "source": [
      "But we could also write this as:\n",
      "\n",
      "$$\n",
      "\\begin{bmatrix}\n",
      "x''\\\\\n",
      "y''\\\\\n",
      "z''\\\\\n",
      "\\end{bmatrix} =\n",
      "\\begin{bmatrix}\n",
      "\\cos(\\phi) & 0 & \\sin(\\phi) \\\\\n",
      "0 & 1 & 0 \\\\\n",
      "-\\sin(\\phi) & 0 & \\cos(\\phi) \\\\\n",
      "\\end{bmatrix}\n",
      "\\begin{bmatrix}\n",
      "1 & 0 & 0 \\\\\n",
      "0 & \\cos(\\gamma) & 0 & -\\sin(\\gamma) \\\\\n",
      "0 & \\sin(\\gamma) & 0 & \\cos(\\gamma) \\\\\n",
      "\\end{bmatrix}\n",
      "\\begin{bmatrix}\n",
      "x\\\\\n",
      "y\\\\\n",
      "z\\\\\n",
      "\\end{bmatrix}\n",
      "$$"
     ]
    },
    {
     "cell_type": "markdown",
     "metadata": {},
     "source": [
      "And, because matrix multiplication is associative:\n",
      "\n",
      "$$\n",
      "\\mathbf{P} = \\begin{bmatrix}\n",
      "\\cos(\\phi) & 0 & \\sin(\\phi) \\\\\n",
      "0 & 1 & 0 \\\\\n",
      "-\\sin(\\phi) & 0 & \\cos(\\phi) \\\\\n",
      "\\end{bmatrix}\n",
      "$$\n",
      "\n",
      "$$\n",
      "\\mathbf{Q} = \\begin{bmatrix}\n",
      "1 & 0 & 0 \\\\\n",
      "0 & \\cos(\\gamma) & 0 & -\\sin(\\gamma) \\\\\n",
      "0 & \\sin(\\gamma) & 0 & \\cos(\\gamma) \\\\\n",
      "\\end{bmatrix}\n",
      "$$\n",
      "\n",
      "$$\n",
      "\\mathbf{M} = \\mathbf{P} \\cdot \\mathbf{Q}\n",
      "$$\n",
      "\n",
      "$$\n",
      "\\begin{bmatrix}\n",
      "x''\\\\\n",
      "y''\\\\\n",
      "z''\\\\\n",
      "\\end{bmatrix} =\n",
      "\\mathbf{M}\n",
      "\\begin{bmatrix}\n",
      "x\\\\\n",
      "y\\\\\n",
      "z\\\\\n",
      "\\end{bmatrix}\n",
      "$$\n",
      "\n",
      "Here $\\mathbf{M}$ is our rotation matrix that encodes a rotation by $\\gamma$ radians around the x axis *followed by* (right to left matrix multiplication) a rotation by $\\phi$ radians around the y axis."
     ]
    },
    {
     "cell_type": "markdown",
     "metadata": {},
     "source": [
      "Have a look at the file `rotations.py` in `pna_code`.  It has routines that will make these 3 by 3 matrices for given angles of rotation around the x, y, and z axes."
     ]
    },
    {
     "cell_type": "markdown",
     "metadata": {},
     "source": [
      "## Reampling, pull, push"
     ]
    },
    {
     "cell_type": "markdown",
     "metadata": {},
     "source": [
      "Let's say I have two images $\\mathbf{I}$ and $\\mathbf{J}$.\n",
      "\n",
      "There is some spatial transform between them, such as a translation, or rotation.\n",
      "\n",
      "We could either think of the transformation that maps $\\mathbf{I} \\to \\mathbf{J}$ or $\\mathbf{I} \\to \\mathbf{J}$.\n",
      "\n",
      "The transformation maps voxel coordinates in one image to coordinates in the other.\n",
      "\n",
      "For example, write a coordinate in $\\mathbf{I}$ as $(x_i, y_i, z_i)$, and a coordinate in $\\mathbf{J}$ as $(x_j, y_j, z_j)$.\n",
      "\n",
      "The mapping $\\mathbf{I} \\to \\mathbf{J}$ maps $(x_i, y_i, z_i) \\to (x_j, y_j, z_j)$.\n",
      "\n",
      "Now let's say that I want to move image $\\mathbf{J}$ to match image $\\mathbf{I}$.\n",
      "\n",
      "To do this moving, I need to resample $\\mathbf{J}$ onto the same voxel grid as $\\mathbf{I}$.\n",
      "\n",
      "Specifically, I am going to do the following:\n",
      "\n",
      "* make a new empty image $\\mathbf{K}$ that has the same voxel grid as $\\mathbf{I}$;\n",
      "* for each coordinate in $\\mathbf{I} : (x_i, y_i, z_i)$ I will apply the transform $\\mathbf{I} \\to \\mathbf{J}$ to get $(x_j, y_j, z_j)$;\n",
      "* I will probably need to estimate a value $v$ from $\\mathbf{J}$ at $(x_j, y_j, z_j)$ because the coordinate values $(x_j, y_j, z_j)$ will probably not be integers, and so there is no exactly matching value in $\\mathbf{J}$;\n",
      "* I place $v$ into $\\mathbf{K}$ at coordinate $(x_i, y_i, z_i)$.\n",
      "\n",
      "Notice that, in order to move $\\mathbf{J}$ to match $\\mathbf{I}$ I needed the opposite transform - that is $\\mathbf{I} \\to \\mathbf{J}$.  This is called *pull resampling*.\n",
      "\n",
      "I will call the $\\mathbf{I} \\to \\mathbf{J}$ transform the *resampling transform*."
     ]
    },
    {
     "cell_type": "markdown",
     "metadata": {},
     "source": [
      "## Scipy ndimage and affine_transform"
     ]
    },
    {
     "cell_type": "markdown",
     "metadata": {},
     "source": [
      "Scipy has a function for doing reampling with transformations, called `scipy.ndimage.affine_transform`."
     ]
    },
    {
     "cell_type": "code",
     "collapsed": false,
     "input": [
      "from scipy.ndimage import affine_transform"
     ],
     "language": "python",
     "metadata": {},
     "outputs": []
    },
    {
     "cell_type": "markdown",
     "metadata": {},
     "source": [
      "It does all the heavy work of resampling for us.\n",
      "\n",
      "For example, lets say I have an image volume $\\mathbf{I}$:"
     ]
    },
    {
     "cell_type": "code",
     "collapsed": false,
     "input": [
      "import nibabel as nib\n",
      "img = nib.load('ds107_sub012_t1r2.nii')\n",
      "data = img.get_data()\n",
      "I = data[..., 0]  # I is the first volume"
     ],
     "language": "python",
     "metadata": {},
     "outputs": []
    },
    {
     "cell_type": "markdown",
     "metadata": {},
     "source": [
      "And another image volume $\\mathbf{J}$:"
     ]
    },
    {
     "cell_type": "code",
     "collapsed": false,
     "input": [
      "J = data[..., 0]  # I is the second volume"
     ],
     "language": "python",
     "metadata": {},
     "outputs": []
    },
    {
     "cell_type": "markdown",
     "metadata": {},
     "source": [
      "Let's say I know that the resampling transformation $\\mathbf{I} \\to \\mathbf{J}$ is given by:\n",
      "\n",
      "* A rotation by 0.2 radians about the x axis\n",
      "* A translation of [1, 2, 3] voxels."
     ]
    },
    {
     "cell_type": "code",
     "collapsed": false,
     "input": [
      "from rotations import x_rotmat  # rotations from `pna_code`\n",
      "M = x_rotmat(0.2)  # rotation matrix for rotation of 0.2 radians around x axis\n",
      "translation = [1, 2, 3]  # Translation from I to J\n",
      "M, translation"
     ],
     "language": "python",
     "metadata": {},
     "outputs": []
    },
    {
     "cell_type": "markdown",
     "metadata": {},
     "source": [
      "`affine_transform` now does the work for me:"
     ]
    },
    {
     "cell_type": "code",
     "collapsed": false,
     "input": [
      "K = affine_transform(J, M, translation, order=1)  # order=1 for linear interpolation\n",
      "K.shape"
     ],
     "language": "python",
     "metadata": {},
     "outputs": []
    },
    {
     "cell_type": "markdown",
     "metadata": {},
     "source": [
      "Here `affine_transform` \n",
      "\n",
      "* makes the new empty volume `K`, assuming it will be the same shape as `J`;\n",
      "* for each coordinate $(x_i, y_i, z_i)$ implied by the volume `K`:\n",
      "    * applies the transformations implied by `M` and `translation` to $(x_i, y_i, z_i)$ to get the corresponding point in `J` : $(x_j, y_j, z_j)$;\n",
      "    * resamples `J` at $(x_j, y_j, z_j)$ to get $v$;\n",
      "    * places $v$ at $(x_i, y_i, z_i)$ in `K`"
     ]
    }
   ],
   "metadata": {}
  }
 ]
}