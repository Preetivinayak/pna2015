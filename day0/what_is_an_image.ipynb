{
 "metadata": {
  "name": "",
  "signature": "sha256:92ec894e3e51c0c2ecd4987f801f50f2c1602c05ebf4ea6e87562d958bb8a620"
 },
 "nbformat": 3,
 "nbformat_minor": 0,
 "worksheets": [
  {
   "cells": [
    {
     "cell_type": "markdown",
     "metadata": {},
     "source": [
      "In this notebook we explore the nature of NIfTI images."
     ]
    },
    {
     "cell_type": "markdown",
     "metadata": {},
     "source": [
      "We are currently working in the IPython notebook.  The notebook contains \"cells\".  The cells can contain text or code.  This is  the second cell in the notebook, and it is a text cell.  You can see what kind of cell this is by navigating to the cell and then  looking in the toolbar at the top of the page.  The text cells are of type \"Markdown\".\n",
      "\n",
      "Press Shift-Return to execute the contents and move down one cell."
     ]
    },
    {
     "cell_type": "code",
     "collapsed": false,
     "input": [
      "# We always put these at the top of our files for compatibility with Python 3\n",
      "# We always use \"print('my string')\" instead of \"print 'my string'\"\n",
      "from __future__ import print_function\n",
      "# We always want division to be floating point division, so\n",
      "# 1 / 2 is 0.5 rather than 0\n",
      "from __future__ import division"
     ],
     "language": "python",
     "metadata": {},
     "outputs": []
    },
    {
     "cell_type": "markdown",
     "metadata": {},
     "source": [
      "First we will have a look at Python strings.  Here is a variable called `my_string` with value \"PNA is hard but fair\""
     ]
    },
    {
     "cell_type": "code",
     "collapsed": false,
     "input": [
      "my_string = \"PNA is hard but fair\""
     ],
     "language": "python",
     "metadata": {},
     "outputs": []
    },
    {
     "cell_type": "markdown",
     "metadata": {},
     "source": [
      "We can see what type of thing this variable contains (points to) using the `type` function:"
     ]
    },
    {
     "cell_type": "code",
     "collapsed": false,
     "input": [
      "type(my_string)"
     ],
     "language": "python",
     "metadata": {},
     "outputs": []
    },
    {
     "cell_type": "markdown",
     "metadata": {},
     "source": [
      "We can see how many characters the string has with the `len` function:"
     ]
    },
    {
     "cell_type": "code",
     "collapsed": false,
     "input": [
      "len(my_string)"
     ],
     "language": "python",
     "metadata": {},
     "outputs": []
    },
    {
     "cell_type": "code",
     "collapsed": false,
     "input": [
      "# The first character of the string\n",
      "print(my_string[0])"
     ],
     "language": "python",
     "metadata": {},
     "outputs": []
    },
    {
     "cell_type": "code",
     "collapsed": false,
     "input": [
      "# The last character of the string (don't forget indexing starts at 0)\n",
      "print(my_string[19])"
     ],
     "language": "python",
     "metadata": {},
     "outputs": []
    },
    {
     "cell_type": "markdown",
     "metadata": {},
     "source": [
      "Now we introduce string *slicing*.  This is where you take some sequential characters from the string, using the colon (`:`) between the square brackets.  The value before the colon is the index to the first character you want, and the value after the colon is the index to the character *after* the last character you want.  It sounds strange, but you will get used to it..."
     ]
    },
    {
     "cell_type": "code",
     "collapsed": false,
     "input": [
      "# The first two characters of the string\n",
      "print(my_string[0:2])  # from index 0 up to, but not including, 2"
     ],
     "language": "python",
     "metadata": {},
     "outputs": []
    },
    {
     "cell_type": "code",
     "collapsed": false,
     "input": [
      "# The first 5 characters of the string\n",
      "print(my_string[0:5])  # from index 0 up to, but not including, 5"
     ],
     "language": "python",
     "metadata": {},
     "outputs": []
    },
    {
     "cell_type": "markdown",
     "metadata": {},
     "source": [
      "We will go into more details on strings and slicing next week."
     ]
    },
    {
     "cell_type": "markdown",
     "metadata": {},
     "source": [
      "Now we will try loading an example image and seeing if we can understand the image data."
     ]
    },
    {
     "cell_type": "code",
     "collapsed": false,
     "input": [
      "# This is a Python module (more next week)\n",
      "import os  # module for interacting with the operating system"
     ],
     "language": "python",
     "metadata": {},
     "outputs": []
    },
    {
     "cell_type": "markdown",
     "metadata": {},
     "source": [
      "If you want to explore modules or objects, type their name in a new cell, followed by a period, and press tab to see what functions or classes are available. Press 'b' to open up a new code cell below this one.  Press Return to start editing the contents, and then type `os.` (`os` then a period) followed by a tab to see what functions are in the ``os`` module.  Continue typing so you have ``os.getcwd``, and then type `?` followed by Shift-Return.  This shows you the help for the ``os.getcwd`` function.  You can close the help window by clicking on the thin horizontal grey bar."
     ]
    },
    {
     "cell_type": "code",
     "collapsed": false,
     "input": [
      "# Your cell above this one"
     ],
     "language": "python",
     "metadata": {},
     "outputs": []
    },
    {
     "cell_type": "markdown",
     "metadata": {},
     "source": [
      "The image we are going to explore is in the notebook working directory"
     ]
    },
    {
     "cell_type": "code",
     "collapsed": false,
     "input": [
      "cwd = os.getcwd()   # Get the current working directory (CWD)\n",
      "print(cwd)"
     ],
     "language": "python",
     "metadata": {},
     "outputs": []
    },
    {
     "cell_type": "code",
     "collapsed": false,
     "input": [
      "print(os.listdir(cwd))  # List files and directories in the current working directory"
     ],
     "language": "python",
     "metadata": {},
     "outputs": []
    },
    {
     "cell_type": "markdown",
     "metadata": {},
     "source": [
      "Let's read the image into memory."
     ]
    },
    {
     "cell_type": "code",
     "collapsed": false,
     "input": [
      "fobj = open('highres001.nii', 'rb')  # Open a file in Read Binary mode\n",
      "print(fobj)"
     ],
     "language": "python",
     "metadata": {},
     "outputs": []
    },
    {
     "cell_type": "code",
     "collapsed": false,
     "input": [
      "contents = fobj.read()  # read all the characters into a variable in memory"
     ],
     "language": "python",
     "metadata": {},
     "outputs": []
    },
    {
     "cell_type": "markdown",
     "metadata": {},
     "source": [
      "How do I find out what `type` of object is attached to this variable called `contents`?"
     ]
    },
    {
     "cell_type": "code",
     "collapsed": true,
     "input": [
      "# here you will print out the type of `contents`"
     ],
     "language": "python",
     "metadata": {},
     "outputs": []
    },
    {
     "cell_type": "markdown",
     "metadata": {},
     "source": [
      "How big is this file in terms of bytes?  Can you find out from the `contents` variable?  (Hint: you want to know the length of `contents`)."
     ]
    },
    {
     "cell_type": "code",
     "collapsed": false,
     "input": [
      "# n_bytes = ?"
     ],
     "language": "python",
     "metadata": {},
     "outputs": []
    },
    {
     "cell_type": "markdown",
     "metadata": {},
     "source": [
      "If 1 mebibyte (MiB) (http://en.wikipedia.org/wiki/Megabyte) is size 1024 * 1024, what is the file size in MiB?  (Hint - the right answer is between 0 and 100)."
     ]
    },
    {
     "cell_type": "code",
     "collapsed": false,
     "input": [
      "# n_mib = ?"
     ],
     "language": "python",
     "metadata": {},
     "outputs": []
    },
    {
     "cell_type": "markdown",
     "metadata": {},
     "source": [
      "This is a [NIfTI1 format](http://nifti.nimh.nih.gov/nifti-1) file.  That means that the first 352 bytes contains the \"header\" that describes the parameters of the image and the data following.\n",
      "\n",
      "We want to print out the contents of the first 352 bytes of `contents` to have a look at it.  \n",
      "\n",
      "To do this, we are going to need string slicing to get the first 352 bytes:"
     ]
    },
    {
     "cell_type": "code",
     "collapsed": false,
     "input": [
      "# Here you print out the first 352 characters of `contents`"
     ],
     "language": "python",
     "metadata": {},
     "outputs": []
    },
    {
     "cell_type": "markdown",
     "metadata": {},
     "source": [
      "Which software wrote this image?"
     ]
    },
    {
     "cell_type": "markdown",
     "metadata": {},
     "source": [
      "Here is the format of the NIfTI1 header : http://nifti.nimh.nih.gov/nifti-1/documentation/nifti1fields\n",
      "\n",
      "We are now going to try and work out the `datatype` of this image.  This is stored in the `datatype` field of the header.  Careful - there is also a `data_type` field (with an underscore), which we will ignore.\n",
      "\n",
      "Looking at the web page above, how many bytes is the `datatype` value stored in? \n",
      "\n",
      "How would you get the bytes in `contents` that contain the `datatype` value? (Hint - you need slicing again, and the information from ``Byte offset`` column in the NIfTI1 header page above):"
     ]
    },
    {
     "cell_type": "code",
     "collapsed": false,
     "input": [
      "# data_type_chars = ?"
     ],
     "language": "python",
     "metadata": {},
     "outputs": []
    },
    {
     "cell_type": "markdown",
     "metadata": {},
     "source": [
      "The `datatype` value is stored in binary form (rather than text form).  The value for `datatype` is stored in the header in the same format that the computer stores the number in memory.  We want to convert this binary format to a number that Python understands.  To do that, we use the [struct module](https://docs.python.org/2/library/struct.html)."
     ]
    },
    {
     "cell_type": "code",
     "collapsed": false,
     "input": [
      "import struct"
     ],
     "language": "python",
     "metadata": {},
     "outputs": []
    },
    {
     "cell_type": "markdown",
     "metadata": {},
     "source": [
      "We are going to use the ``struct.unpack`` function.  Open a new cell below this one with `b` and type ``struct.unpack?`` followed by Shift-Return to see the help for this function."
     ]
    },
    {
     "cell_type": "markdown",
     "metadata": {},
     "source": [
      "Now we have read the help, we know we need two things.  The first is a string that give the code for the binary format of the data.  This is the \"format string\".  The second is the string containing the bytes of the data."
     ]
    },
    {
     "cell_type": "markdown",
     "metadata": {},
     "source": [
      "We first need to specify the format of the character data.  Have a look at the [help on format strings](https://docs.python.org/2/library/struct.html#format-characters) in the Python documentation and the NIfTI web page above.\n",
      "\n",
      "Here is the format specifier for our value:"
     ]
    },
    {
     "cell_type": "code",
     "collapsed": false,
     "input": [
      "fmt_specifier = 'h' # Why? (check the web pages above)"
     ],
     "language": "python",
     "metadata": {},
     "outputs": []
    },
    {
     "cell_type": "markdown",
     "metadata": {},
     "source": [
      "Now we read the datatype value into a number that Python understands:"
     ]
    },
    {
     "cell_type": "code",
     "collapsed": false,
     "input": [
      "# data_type_chars = '\\x10\\x00'\n",
      "datatype = struct.unpack(fmt_specifier, data_type_chars)\n",
      "print(datatype)"
     ],
     "language": "python",
     "metadata": {},
     "outputs": []
    },
    {
     "cell_type": "markdown",
     "metadata": {},
     "source": [
      "This is a numerical *code* for a data type.  What actual data type is this?  (See: http://nifti.nimh.nih.gov/nifti-1/documentation/nifti1fields/nifti1fields_pages/datatype.html)"
     ]
    },
    {
     "cell_type": "markdown",
     "metadata": {},
     "source": [
      "We could continue reading the NIfTI header in the same way, but luckily someone has done that work for us.  Enter the `nibabel` package:"
     ]
    },
    {
     "cell_type": "code",
     "collapsed": false,
     "input": [
      "import nibabel"
     ],
     "language": "python",
     "metadata": {},
     "outputs": []
    },
    {
     "cell_type": "markdown",
     "metadata": {},
     "source": [
      "For now, we will use this package without worrying much about how it works.  Have a look to see what `nibabel` can do by opening up a new cell with `b` and typing `nibabel?` and `nibabel.` followed by Tab."
     ]
    },
    {
     "cell_type": "markdown",
     "metadata": {},
     "source": [
      "As with most Python packages, you can check what version of nibabel you have by printing the ``__version__`` variable of the package:"
     ]
    },
    {
     "cell_type": "code",
     "collapsed": false,
     "input": [
      "print(nibabel.__version__)"
     ],
     "language": "python",
     "metadata": {},
     "outputs": []
    },
    {
     "cell_type": "markdown",
     "metadata": {},
     "source": [
      "If you have a nibabel version below 2.0.0, please let your instructor know so they can fix that."
     ]
    },
    {
     "cell_type": "markdown",
     "metadata": {},
     "source": [
      "You can load an image into memory like this:"
     ]
    },
    {
     "cell_type": "code",
     "collapsed": false,
     "input": [
      "img = nibabel.load('highres001.nii')"
     ],
     "language": "python",
     "metadata": {},
     "outputs": []
    },
    {
     "cell_type": "markdown",
     "metadata": {},
     "source": [
      "Let's have a look at the header:"
     ]
    },
    {
     "cell_type": "code",
     "collapsed": false,
     "input": [
      "print(img.header)"
     ],
     "language": "python",
     "metadata": {},
     "outputs": []
    },
    {
     "cell_type": "markdown",
     "metadata": {},
     "source": [
      "As you can see, it has worked out the datatype for us."
     ]
    },
    {
     "cell_type": "markdown",
     "metadata": {},
     "source": [
      "In the next class, we do some more work to get used to basic Python.  After that we will start playing with the image using the Python tools for arrays, and for plotting."
     ]
    }
   ],
   "metadata": {}
  }
 ]
}