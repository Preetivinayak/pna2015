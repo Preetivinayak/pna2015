{
 "metadata": {
  "name": "",
  "signature": "sha256:84025198da5d808e184bda0318559197d9558a78f46148fddd80317182a30fc3"
 },
 "nbformat": 3,
 "nbformat_minor": 0,
 "worksheets": [
  {
   "cells": [
    {
     "cell_type": "markdown",
     "metadata": {},
     "source": [
      "# Basic git"
     ]
    },
    {
     "cell_type": "markdown",
     "metadata": {},
     "source": [
      "## Afore ye start"
     ]
    },
    {
     "cell_type": "markdown",
     "metadata": {},
     "source": [
      "Tell git who you are (to put author names into the commits (snapshots). Don't forget the quotes around your name.\n",
      "\n",
      "```\n",
      "git config --global user.name \"Matthew Brett\"\n",
      "git config --global user.email matthew.brett@gmail.com\n",
      "```"
     ]
    },
    {
     "cell_type": "markdown",
     "metadata": {},
     "source": [
      "### Creating a repository\n",
      "\n",
      "Let's go ahead and create our first git repository, which will contain a small calculator.\n",
      "\n",
      "1. Create a directory called \"pna_code\"\n",
      "\n",
      "```\n",
      "$ cd ~  # home directory\n",
      "$ mkdir repos\n",
      "$ cd repos\n",
      "$ mkdir pna_code\n",
      "```\n",
      "\n",
      "2. Change into this directory\n",
      "\n",
      "```\n",
      "$ cd pna_code\n",
      "```\n",
      "\n",
      "3. Execute the command \"git init\"\n",
      "\n",
      "```\n",
      "$ git init\n",
      "Initialized empty Git repository in <home>/repos/pna_code/.git/\n",
      "```\n",
      "\n",
      "Git now created a directory (called ``.git``) in which it tracks the changes that you make to the project.\n",
      "\n",
      "```\n",
      "$ ls .git\n",
      "```"
     ]
    },
    {
     "cell_type": "markdown",
     "metadata": {},
     "source": [
      "### Adding changes\n",
      "\n",
      "Now, we are ready to start tracking our files and any changes we make to them.  \n",
      "\n",
      "Copy the `spm_funcs.py`, and `test_spm_funcs.py` files into this directory:\n",
      "\n",
      "```\n",
      "$ cp ~/pna/pna2015/day3/spm_funcs.py .\n",
      "$ cp ~/pna/pna2015/day3/test_spm_funcs.py .\n",
      "```\n",
      "\n",
      "This is our *working tree*:\n",
      "\n",
      "```\n",
      "$ ls\n",
      "```"
     ]
    },
    {
     "cell_type": "markdown",
     "metadata": {},
     "source": [
      "## Monitoring the status of things\n",
      "\n",
      "Now we have a git repository, we can ask git to tell us about the *status* of the working tree:\n",
      "\n",
      "```\n",
      "On branch master\n",
      "\n",
      "Initial commit\n",
      "\n",
      "Untracked files:\n",
      "  (use \"git add <file>...\" to include in what will be committed)\n",
      "\n",
      "\tspm_funcs.py\n",
      "\ttest_spm_funcs.py\n",
      "```\n",
      "\n",
      "Git says that it is on a branch called 'master'.  This is the default branch that git creates for us.  Of course it doesn't have any commits (snaphots) yet.\n",
      "\n",
      "There are two files in the working tree, but git doesn't know anything about these yet (they haven't gone into the staging area, or a commit == snapshot).  Git calls these type of files \"untracked\"."
     ]
    },
    {
     "cell_type": "markdown",
     "metadata": {},
     "source": [
      "Now let's add these files to the staging area, ready for a commit:\n",
      "\n",
      "```\n",
      "$ git add spm_funcs.py\n",
      "$ git add test_spm_funcs.py\n",
      "```\n",
      "\n",
      "Now what does `git status` say?"
     ]
    },
    {
     "cell_type": "markdown",
     "metadata": {},
     "source": [
      "```\n",
      "On branch master\n",
      "\n",
      "Initial commit\n",
      "\n",
      "Changes to be committed:\n",
      "  (use \"git rm --cached <file>...\" to unstage)\n",
      "\n",
      "\tnew file:   spm_funcs.py\n",
      "\tnew file:   test_spm_funcs.py\n",
      "```"
     ]
    },
    {
     "cell_type": "markdown",
     "metadata": {},
     "source": [
      "Now we have the files in the staging area, we are ready to make a commit.\n",
      "\n",
      "```\n",
      "$ git commit -m \"First commit\"\n",
      "[master (root-commit) 5c1885f] First commit\n",
      " 2 files changed, 46 insertions(+)\n",
      " create mode 100644 spm_funcs.py\n",
      " create mode 100644 test_spm_funcs.py\n",
      "```"
     ]
    },
    {
     "cell_type": "markdown",
     "metadata": {},
     "source": [
      "Get our history so far:\n",
      "\n",
      "```\n",
      "$ git log\n",
      "[master (root-commit) 5c1885f] First commit\n",
      " 2 files changed, 46 insertions(+)\n",
      " create mode 100644 spm_funcs.py\n",
      " create mode 100644 test_spm_funcs.py\n",
      "```"
     ]
    }
   ],
   "metadata": {}
  }
 ]
}