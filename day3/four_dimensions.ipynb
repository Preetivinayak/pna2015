{
 "metadata": {
  "name": "",
  "signature": "sha256:46f1071d97d4a9556d3d41790851b11facfe0f03f22ce9ae7d22d50238950bfa"
 },
 "nbformat": 3,
 "nbformat_minor": 0,
 "worksheets": [
  {
   "cells": [
    {
     "cell_type": "markdown",
     "metadata": {},
     "source": [
      "## Setup"
     ]
    },
    {
     "cell_type": "code",
     "collapsed": false,
     "input": [
      "# Compatibility with Python 3\n",
      "from __future__ import print_function  # print('me') instead of print 'me'\n",
      "from __future__ import division  # 1/2 == 0.5, not 0"
     ],
     "language": "python",
     "metadata": {},
     "outputs": [],
     "prompt_number": 1
    },
    {
     "cell_type": "code",
     "collapsed": false,
     "input": [
      "# Show figures inside the notebook\n",
      "%matplotlib inline"
     ],
     "language": "python",
     "metadata": {},
     "outputs": [],
     "prompt_number": 2
    },
    {
     "cell_type": "code",
     "collapsed": false,
     "input": [
      "import numpy as np  # the Python array package\n",
      "import matplotlib.pyplot as plt  # the Python plotting package"
     ],
     "language": "python",
     "metadata": {},
     "outputs": [],
     "prompt_number": 3
    },
    {
     "cell_type": "markdown",
     "metadata": {},
     "source": [
      "<hr/>"
     ]
    },
    {
     "cell_type": "markdown",
     "metadata": {},
     "source": [
      "## Technical principles\n",
      "\n",
      "In this section we practice the Python and NumPy techniques you will need for the neuro-imaging exercize below, based on real-world data."
     ]
    },
    {
     "cell_type": "markdown",
     "metadata": {},
     "source": [
      "### Defining a function\n",
      "\n",
      "A function takes input arguments, transforms them, and returns the output.  E.g., the following function adds two numbers:"
     ]
    },
    {
     "cell_type": "code",
     "collapsed": false,
     "input": [
      "def add(a, b):\n",
      "    return a + b"
     ],
     "language": "python",
     "metadata": {},
     "outputs": [],
     "prompt_number": 4
    },
    {
     "cell_type": "markdown",
     "metadata": {},
     "source": [
      "Functions can also return multiple values, for example:"
     ]
    },
    {
     "cell_type": "code",
     "collapsed": false,
     "input": [
      "def weather():\n",
      "    return 'hot', 'north-east', 78\n",
      "\n",
      "sun, wind, temp = weather()\n",
      "\n",
      "print('Sun:', sun)\n",
      "print('Window:', wind)\n",
      "print('Temperature:', temp)"
     ],
     "language": "python",
     "metadata": {},
     "outputs": [
      {
       "output_type": "stream",
       "stream": "stdout",
       "text": [
        "Sun: hot\n",
        "Window: north-east\n",
        "Temperature: 78\n"
       ]
      }
     ],
     "prompt_number": 5
    },
    {
     "cell_type": "markdown",
     "metadata": {},
     "source": [
      "In the current directory, there is a file called ``global_signal.txt``, containing one number per line.\n",
      "Write a function that\n",
      "\n",
      "1. Opens the file (use the ``open`` command)\n",
      "2. Reads in its lines (``f.readlines()``)\n",
      "3. Convert each line to a number (``float(line)``)\n",
      "4. Return the numbers\n",
      "\n",
      "Start with the following skeleton:"
     ]
    },
    {
     "cell_type": "code",
     "collapsed": false,
     "input": [
      "def read_numbers(filename):\n",
      "    numbers = []\n",
      "    ...\n",
      "    ...\n",
      "    return numbers"
     ],
     "language": "python",
     "metadata": {},
     "outputs": [],
     "prompt_number": 6
    },
    {
     "cell_type": "markdown",
     "metadata": {},
     "source": [
      "### Working with 4-dimensional numpy arrays\n",
      "\n",
      "I have an array of shape ``(10, 20, 7, 9)``, representing 9 three-dimensional blocks, each ``(10, 20, 7)``:"
     ]
    },
    {
     "cell_type": "code",
     "collapsed": false,
     "input": [
      "shape = (10, 20, 7, 5)\n",
      "x = np.random.random(shape)\n",
      "print(x.shape)"
     ],
     "language": "python",
     "metadata": {},
     "outputs": [
      {
       "output_type": "stream",
       "stream": "stdout",
       "text": [
        "(10, 20, 7, 5)\n"
       ]
      }
     ],
     "prompt_number": 7
    },
    {
     "cell_type": "markdown",
     "metadata": {},
     "source": [
      "We can access an individual slice, let's say the first one, as follows:"
     ]
    },
    {
     "cell_type": "code",
     "collapsed": false,
     "input": [
      "vol0 = x[:, :, :, 0]"
     ],
     "language": "python",
     "metadata": {},
     "outputs": [],
     "prompt_number": 8
    },
    {
     "cell_type": "markdown",
     "metadata": {},
     "source": [
      "Which is equivalent to the following shorthand:"
     ]
    },
    {
     "cell_type": "code",
     "collapsed": false,
     "input": [
      "vol0 = x[..., 0]"
     ],
     "language": "python",
     "metadata": {},
     "outputs": [],
     "prompt_number": 9
    },
    {
     "cell_type": "markdown",
     "metadata": {},
     "source": [
      "Now, see if you can understand the following function, which does a certain operation\n",
      "on each volume inside a data-set:"
     ]
    },
    {
     "cell_type": "code",
     "collapsed": false,
     "input": [
      "def on_each_volume(data, operation):\n",
      "    out = []\n",
      "    \n",
      "    X, Y, Z, T = data.shape\n",
      "    \n",
      "    print('Processing %d volumes...' % T)\n",
      "    \n",
      "    for t in range(T):\n",
      "        vol = data[..., t]\n",
      "        out.append(operation(vol))\n",
      "        \n",
      "    return out\n",
      "    \n",
      "\n",
      "ans = on_each_volume(x, np.sum)\n",
      "\n",
      "print()\n",
      "print('Input shape:', x.shape)\n",
      "print('Output:', ans)"
     ],
     "language": "python",
     "metadata": {},
     "outputs": [
      {
       "output_type": "stream",
       "stream": "stdout",
       "text": [
        "Processing 5 volumes...\n",
        "\n",
        "Input shape: (10, 20, 7, 5)\n",
        "Output: [692.66660146008837, 677.23165006918885, 687.80124523487348, 712.86254328203722, 691.93392579508532]\n"
       ]
      }
     ],
     "prompt_number": 10
    },
    {
     "cell_type": "markdown",
     "metadata": {},
     "source": [
      "<hr/>"
     ]
    },
    {
     "cell_type": "markdown",
     "metadata": {},
     "source": [
      "## Using git\n",
      "\n",
      "This part of the exercize will be done mainly on the shell (command line).  I indicate the shell with a dollar sign, so the echo command would look as follows:\n",
      "\n",
      "```\n",
      "$ echo \"Hello world\"\n",
      "```"
     ]
    },
    {
     "cell_type": "markdown",
     "metadata": {},
     "source": [
      "### Creating a repository\n",
      "\n",
      "Let's go ahead and create our first git repository, which will contain a small calculator.\n",
      "\n",
      "1. Create a directory called \"calc\"\n",
      "\n",
      "```\n",
      "$ mkdir calc\n",
      "```\n",
      "\n",
      "2. Change into this directory\n",
      "\n",
      "```\n",
      "$ cd calc\n",
      "```\n",
      "\n",
      "3. Execute the command \"git init\"\n",
      "\n",
      "```\n",
      "$ git init\n",
      "Initialized empty Git repository in /tmp/calc/.git/\n",
      "```\n",
      "\n",
      "Git now created a directory (called ``.git``) in which it tracks the changes that you make to the project."
     ]
    },
    {
     "cell_type": "markdown",
     "metadata": {},
     "source": [
      "### Adding changes\n",
      "\n",
      "Now, we are ready to start tracking our files and any changes we make to them.  We'll begin with an arithmetic module, so place the following in a file called ``arithmetic.py``:\n",
      "\n",
      "```python\n",
      "def add(a, b):\n",
      "    return a + b\n",
      "```\n",
      "\n",
      "After you've saved the file, you should be able to do the following from the Python interpreter:\n",
      "\n",
      "```ipython\n",
      "In [1]: import arithmetic\n",
      "\n",
      "In [2]: arithmetic.add(1, 2)\n",
      "Out[2]: 3\n",
      "```\n",
      "\n",
      "Our next step is to tell git to start watching ``arithmetic.py``:\n",
      "\n",
      "```\n",
      "$ git add arithmetic.py\n",
      "```"
     ]
    },
    {
     "cell_type": "markdown",
     "metadata": {},
     "source": [
      "### Monitoring the status of things\n",
      "\n",
      "Now that git is aware of the file, we can ask it what its status is:\n",
      "\n",
      "```\n",
      "$ git status\n",
      "On branch master\n",
      "\n",
      "Initial commit\n",
      "\n",
      "Changes to be committed:\n",
      "  (use \"git rm --cached <file>...\" to unstage)\n",
      "\n",
      "\tnew file:   arithmetic.py\n",
      "```\n",
      "\n",
      "Git says that you have added changes that will be committed to its database.  Let's\n",
      "make that happen, with a message describing the change:\n",
      "\n",
      "```\n",
      "git commit -m \"Add arithmetic module\"\n",
      "[master (root-commit) 33d2dfd] Add arithmetic module\n",
      " 1 file changed, 2 insertions(+)\n",
      " create mode 100644 arithmetic.py\n",
      "```\n",
      "\n",
      "Excellent!  Git now stores the current copy of ``arithmetic.py``, and is able to track\n",
      "any changes we make to it."
     ]
    },
    {
     "cell_type": "markdown",
     "metadata": {},
     "source": [
      "### Tracking changes\n",
      "\n",
      "We'll now add subtraction functionality (by editing the file):\n",
      "\n",
      "```python\n",
      "def sub(a, b):\n",
      "    return a - b\n",
      "```\n",
      "\n",
      "Git noticed that we modified the file:\n",
      "\n",
      "```\n",
      "$ git status\n",
      "On branch master\n",
      "Changes not staged for commit:\n",
      "  (use \"git add <file>...\" to update what will be committed)\n",
      "  (use \"git checkout -- <file>...\" to discard changes in working directory)\n",
      "\n",
      "\tmodified:   arithmetic.py\n",
      "    \n",
      "no changes added to commit (use \"git add\" and/or \"git commit -a\")\n",
      "```\n",
      "\n",
      "But what changed?\n",
      "\n",
      "```\n",
      "$ git diff\n",
      "diff --git a/arithmetic.py b/arithmetic.py\n",
      "index 4693ad3..6cddd28 100644\n",
      "--- a/arithmetic.py\n",
      "+++ b/arithmetic.py\n",
      "@@ -1,2 +1,5 @@\n",
      " def add(a, b):\n",
      "     return a + b\n",
      "+\n",
      "+def sub(a, b):\n",
      "+    return a - b\n",
      "```\n",
      "\n",
      "It says that I added three lines (indicated by plusses) to ``arithmetic.py``.\n",
      "\n",
      "Tell git to add those changes to the database, and then commit the changes:\n",
      "\n",
      "```\n",
      "git add arithmetic.py\n",
      "git commit -m \"Add subtraction\"\n",
      "[master e151805] Add subtraction\n",
      " 1 file changed, 3 insertions(+)\n",
      "```"
     ]
    },
    {
     "cell_type": "markdown",
     "metadata": {},
     "source": [
      "### Project history\n",
      "\n",
      "Now that we've made some changes, let's look back over the *history* of our project:\n",
      "\n",
      "```\n",
      "$ git log\n",
      "commit e151805f5f5572f22afbd4f9f67e67fd30146b59\n",
      "Author: Stefan van der Walt <stefan@sun.ac.za>\n",
      "Date:   Wed Mar 4 18:29:31 2015 -0800\n",
      "\n",
      "    Add subtraction\n",
      "\n",
      "commit 33d2dfdca350d1f4c8b6438adb23501d9b249d00\n",
      "Author: Stefan van der Walt <stefan@sun.ac.za>\n",
      "Date:   Wed Mar 4 18:26:02 2015 -0800\n",
      "\n",
      "    Add arithmetic module\n",
      "```\n",
      "\n",
      "Git allows you to examine history, see what you did, and even roll back\n",
      "the code to the way it looked on a specific date."
     ]
    },
    {
     "cell_type": "markdown",
     "metadata": {},
     "source": [
      "<hr/>"
     ]
    },
    {
     "cell_type": "markdown",
     "metadata": {},
     "source": [
      "## Analysing BOLD data\n",
      "\n",
      "There is a four-dimensional (X, Y, Z, t) BOLD image in the same directory as this notebook, called `bold.nii`.   Import the `nibabel` module, and load the image with nibabel to create an image object.  See the [day0 introduction notebook](http://nbviewer.ipython.org/github/practical-neuroimaging/pna2015/blob/master/day0/what_is_an_image.ipynb) to refresh your memory on how to do this."
     ]
    },
    {
     "cell_type": "code",
     "collapsed": false,
     "input": [
      "# Load image object using nibabel"
     ],
     "language": "python",
     "metadata": {},
     "outputs": [],
     "prompt_number": 11
    },
    {
     "cell_type": "markdown",
     "metadata": {},
     "source": [
      "In the usual way get the array data from this image and show the image shape."
     ]
    },
    {
     "cell_type": "code",
     "collapsed": false,
     "input": [
      "# Get image array data from image object"
     ],
     "language": "python",
     "metadata": {},
     "outputs": [],
     "prompt_number": 12
    },
    {
     "cell_type": "markdown",
     "metadata": {},
     "source": [
      "Select the 10th volume (time index 9) from 4D image data array, by slicing over the last dimension.  What shape is it?"
     ]
    },
    {
     "cell_type": "code",
     "collapsed": false,
     "input": [
      "# Get the 10th volume and show shape"
     ],
     "language": "python",
     "metadata": {},
     "outputs": [],
     "prompt_number": 13
    },
    {
     "cell_type": "markdown",
     "metadata": {},
     "source": [
      "Get the standard deviation across all voxels in this 3D volume:"
     ]
    },
    {
     "cell_type": "code",
     "collapsed": false,
     "input": [
      "# Standard deviation across all voxels for 10th volume"
     ],
     "language": "python",
     "metadata": {},
     "outputs": [],
     "prompt_number": 14
    },
    {
     "cell_type": "markdown",
     "metadata": {},
     "source": [
      "Loop over all volumes in the 4D image and store the standard deviation for each volume in a list.  Plot these to see if there are any volumes with particularly high standard deviation."
     ]
    },
    {
     "cell_type": "code",
     "collapsed": false,
     "input": [
      "# Get standard deviation for each volume and plot"
     ],
     "language": "python",
     "metadata": {},
     "outputs": [],
     "prompt_number": 15
    },
    {
     "cell_type": "markdown",
     "metadata": {},
     "source": [
      "SPM uses a measure called \"global signal\" to give a very rough estimate of the signal within the brain.  The idea is that you need a threshold to select voxels with signal high enough to be inside the brain, and not in the air around the brain, which has very low (near 0) signal.\n",
      "\n",
      "The algorithm goes like this.\n",
      "\n",
      "* Get a single 3D volume V;\n",
      "* Calculate the mean signal of the voxels in V; call that M;\n",
      "* Make a threshold T where T = M / 8.\n",
      "* Select all voxel values in V that are greater than T; call these values W;\n",
      "* Return the mean of all values in W.\n",
      "\n",
      "See [SPM global image signal](http://imaging.mrc-cbu.cam.ac.uk/imaging/PrinciplesStatistics#Global_image_signal).\n",
      "\n",
      "In the SPM code, the algorithm is implemented in a MATLAB function called `spm_global`.  "
     ]
    },
    {
     "cell_type": "markdown",
     "metadata": {},
     "source": [
      "I used the MATLAB script `get_global_signals.m` (in this directory) to run the `spm_global` MATLAB function on the volumes of `bold.nii`.  The script saved the SPM global values to a text file `global_signals.txt` in this directory.   The first four lines of the `global_signals.txt` file look like this:\n",
      "\n",
      "```\n",
      "1100.21\n",
      "803.63\n",
      "806.19\n",
      "779.35\n",
      "```\n",
      "\n",
      "Read the global values calculated by SPM into a list, and plot the values."
     ]
    },
    {
     "cell_type": "code",
     "collapsed": false,
     "input": [
      "# Read global signal values calculated by SPM, and plot"
     ],
     "language": "python",
     "metadata": {},
     "outputs": [],
     "prompt_number": 16
    },
    {
     "cell_type": "markdown",
     "metadata": {},
     "source": [
      "Now implement the algorithm above to recalculate the SPM global signal for the first volume (volume index zero).  Hint: you will likely need to index using a boolean (mask) array.  Remember, the steps are:\n",
      "\n",
      "* Get a single 3D volume V;\n",
      "* Calculate the mean signal of the voxels in V; call that M;\n",
      "* Make a threshold T where T = M / 8.\n",
      "* Select all voxel values in V that are greater than T; call these values W;\n",
      "* Return the mean of all values in W."
     ]
    },
    {
     "cell_type": "code",
     "collapsed": false,
     "input": [
      "# Apply algorithm for SPM global calculation to first volume"
     ],
     "language": "python",
     "metadata": {},
     "outputs": [],
     "prompt_number": 17
    },
    {
     "cell_type": "markdown",
     "metadata": {},
     "source": [
      "Make a function called `spm_global` that accepts a 3D array as input, and returns the global signal using the SPM algorithm.  Call that function on the first volume to show that it is working (as in `print(spm_global(data[:, :, :, 0]))`)."
     ]
    },
    {
     "cell_type": "code",
     "collapsed": false,
     "input": [
      "# Make a `spm_global` function that applies the SPM alogorithm to a single volume of data"
     ],
     "language": "python",
     "metadata": {},
     "outputs": [],
     "prompt_number": 18
    },
    {
     "cell_type": "markdown",
     "metadata": {},
     "source": [
      "Make a function called `get_spm_globals` that accepts an image filename as an argument.  The function will load the image, get the array data for the image, use your new `spm_global` function calculate the global value for each volume, and return these values as a list.  Finally, show this is working by plotting the values for the `bold.nii` image with something like: `plt.plot(get_spm_globals('bold.nii'))`"
     ]
    },
    {
     "cell_type": "code",
     "collapsed": false,
     "input": [
      "# Write a function `get_spm_globals` that returns the global values for each volume\n",
      "# Plot the values returned from calling this function with filename 'bold.nii'."
     ],
     "language": "python",
     "metadata": {},
     "outputs": [],
     "prompt_number": 19
    }
   ],
   "metadata": {}
  }
 ]
}