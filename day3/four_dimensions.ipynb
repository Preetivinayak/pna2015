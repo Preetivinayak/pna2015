{
 "metadata": {
  "name": "",
  "signature": "sha256:82dc553075965f93218083b1b984bc8eb49c721f0b6215409d0977596e81483a"
 },
 "nbformat": 3,
 "nbformat_minor": 0,
 "worksheets": [
  {
   "cells": [
    {
     "cell_type": "markdown",
     "metadata": {},
     "source": [
      "## Setup"
     ]
    },
    {
     "cell_type": "code",
     "collapsed": false,
     "input": [
      "# Compatibility with Python 3\n",
      "from __future__ import print_function  # print('me') instead of print 'me'\n",
      "from __future__ import division  # 1/2 == 0.5, not 0"
     ],
     "language": "python",
     "metadata": {},
     "outputs": [],
     "prompt_number": 1
    },
    {
     "cell_type": "code",
     "collapsed": false,
     "input": [
      "# Show figures inside the notebook\n",
      "%matplotlib inline"
     ],
     "language": "python",
     "metadata": {},
     "outputs": [],
     "prompt_number": 2
    },
    {
     "cell_type": "code",
     "collapsed": false,
     "input": [
      "import numpy as np  # the Python array package\n",
      "import matplotlib.pyplot as plt  # the Python plotting package"
     ],
     "language": "python",
     "metadata": {},
     "outputs": [],
     "prompt_number": 3
    },
    {
     "cell_type": "markdown",
     "metadata": {},
     "source": [
      "There is a four-dimensional (X, Y, Z, t) BOLD image in the same directory as this notebook, called `ds107_sub012_t1r2.nii`.   Import the `nibabel` module, and load the image with nibabel to create an image object.  Turn off memory mapping with the load command."
     ]
    },
    {
     "cell_type": "code",
     "collapsed": false,
     "input": [
      "# Load image object using nibabel, turning off memory mapping.\n",
      "fname = 'ds107_sub012_t1r2.nii'"
     ],
     "language": "python",
     "metadata": {},
     "outputs": [],
     "prompt_number": 4
    },
    {
     "cell_type": "markdown",
     "metadata": {},
     "source": [
      "In the usual way get the array data from this image and show the image shape."
     ]
    },
    {
     "cell_type": "code",
     "collapsed": false,
     "input": [
      "# Get image array data from image object\n",
      "import nibabel as nib\n",
      "img = nib.load(fname, mmap=False)\n",
      "data = img.get_data()\n",
      "#data = np.asarray(img.get_data())\n",
      "type(data)"
     ],
     "language": "python",
     "metadata": {},
     "outputs": [
      {
       "metadata": {},
       "output_type": "pyout",
       "prompt_number": 12,
       "text": [
        "numpy.ndarray"
       ]
      }
     ],
     "prompt_number": 12
    },
    {
     "cell_type": "code",
     "collapsed": false,
     "input": [
      "V = data[...,9]\n",
      "V.shape"
     ],
     "language": "python",
     "metadata": {},
     "outputs": [
      {
       "metadata": {},
       "output_type": "pyout",
       "prompt_number": 13,
       "text": [
        "(64, 64, 35)"
       ]
      }
     ],
     "prompt_number": 13
    },
    {
     "cell_type": "markdown",
     "metadata": {},
     "source": [
      "Select the 10th volume (time index 9) from 4D image data array, by slicing over the last dimension.  What shape is it?"
     ]
    },
    {
     "cell_type": "code",
     "collapsed": false,
     "input": [
      "# Get the 10th volume and show shape\n",
      "Vstd = V.std()"
     ],
     "language": "python",
     "metadata": {},
     "outputs": [],
     "prompt_number": 14
    },
    {
     "cell_type": "markdown",
     "metadata": {},
     "source": [
      "Get the standard deviation across all voxels in this 3D volume:"
     ]
    },
    {
     "cell_type": "code",
     "collapsed": false,
     "input": [
      "# Standard deviation across all voxels for 10th volume\n",
      "stdlist = [V.std() for V in data.transpose(3,0,1,2)]\n",
      "plt.plot(stdlist)"
     ],
     "language": "python",
     "metadata": {},
     "outputs": [
      {
       "metadata": {},
       "output_type": "pyout",
       "prompt_number": 16,
       "text": [
        "[<matplotlib.lines.Line2D at 0x33a6510>]"
       ]
      },
      {
       "metadata": {},
       "output_type": "display_data",
       "png": "[encoded data removed]",
       "text": [
        "<matplotlib.figure.Figure at 0x32ef950>"
       ]
      }
     ],
     "prompt_number": 16
    },
    {
     "cell_type": "markdown",
     "metadata": {},
     "source": [
      "Loop over all volumes in the 4D image and store the standard deviation for each volume in a list.  Plot these to see if there are any volumes with particularly unusual standard deviation."
     ]
    },
    {
     "cell_type": "code",
     "collapsed": false,
     "input": [
      "# Get standard deviation for each volume; then plot the values"
     ],
     "language": "python",
     "metadata": {},
     "outputs": []
    },
    {
     "cell_type": "markdown",
     "metadata": {},
     "source": [
      "SPM uses a measure called \"global signal\" to give a very rough estimate of the average signal value within the brain.  The idea is that you need a threshold to select voxels with signal high enough to be inside the brain, and not in the air around the brain, which has very low (near 0) signal.\n",
      "\n",
      "The algorithm goes like this.\n",
      "\n",
      "* Get a single 3D volume V;\n",
      "* Calculate the mean signal of the voxels in V; call that M;\n",
      "* Make a threshold T where T = M / 8.\n",
      "* Select all voxel values in V that are greater than T; call these values W;\n",
      "* Return the mean of all values in W.\n",
      "\n",
      "See [SPM global image signal](http://imaging.mrc-cbu.cam.ac.uk/imaging/PrinciplesStatistics#Global_image_signal).\n",
      "\n",
      "In the SPM code, the algorithm is implemented in a MATLAB function called `spm_global`.  "
     ]
    },
    {
     "cell_type": "markdown",
     "metadata": {},
     "source": [
      "I used the MATLAB script `get_global_signals.m` (in this directory) to run the `spm_global` MATLAB function on the volumes of `ds107_sub012_t1r2.nii`.  The script saved the SPM global values to a text file `global_signals.txt` in this directory.   The first four lines of the `global_signals.txt` file look like this:\n",
      "\n",
      "```\n",
      "376.53\n",
      "375.75\n",
      "375.26\n",
      "376.01\n",
      "```\n",
      "\n",
      "Read these global values calculated by SPM into a list, and plot the values."
     ]
    },
    {
     "cell_type": "code",
     "collapsed": false,
     "input": [
      "# Read global signal values calculated by SPM, and plot\n",
      "def spm_mean(fname):\n",
      "    return [V[V > V.mean()/8].mean() for V in nib.load(fname).get_data().T]\n",
      "\n",
      "spm_globals = spm_mean('ds107_sub012_t1r2.nii')\n",
      "plt.plot(spm_globals)\n",
      "print(spm_globals[:5])"
     ],
     "language": "python",
     "metadata": {},
     "outputs": [
      {
       "output_type": "stream",
       "stream": "stdout",
       "text": [
        "[376.53382753187225, 375.75022022330285, 375.26113600893456, 376.00757342351704, 376.83132797616491]\n"
       ]
      },
      {
       "metadata": {},
       "output_type": "display_data",
       "png": "[encoded data removed]",
       "text": [
        "<matplotlib.figure.Figure at 0x3327c90>"
       ]
      }
     ],
     "prompt_number": 29
    },
    {
     "cell_type": "markdown",
     "metadata": {},
     "source": [
      "Now implement the algorithm above to recalculate the SPM global signal for the first volume (volume index zero).  Hint: you will likely need to index using a boolean (mask) array.  Remember, the steps are:\n",
      "\n",
      "* Get a single 3D volume V;\n",
      "* Calculate the mean signal of the voxels in V; call that M;\n",
      "* Make a threshold T where T = M / 8.\n",
      "* Select all voxel values in V that are greater than T; call these values W;\n",
      "* Get the mean of all values in W.\n",
      "\n",
      "You should get the same value as SPM - the first value you read from `global_signals.txt`."
     ]
    },
    {
     "cell_type": "code",
     "collapsed": false,
     "input": [
      "# Apply algorithm for SPM global calculation to first volume"
     ],
     "language": "python",
     "metadata": {},
     "outputs": []
    },
    {
     "cell_type": "markdown",
     "metadata": {},
     "source": [
      "Make a function called `spm_global` that accepts a 3D array as input, and returns the global signal using the SPM algorithm.  Call that function on the first volume to show that it is working (as in `print(spm_global(data[:, :, :, 0]))`)."
     ]
    },
    {
     "cell_type": "code",
     "collapsed": false,
     "input": [
      "# Make a `spm_global` function that accepts a 3D array as input,\n",
      "# and returns the global mean for the volume according to the SPM algorithm"
     ],
     "language": "python",
     "metadata": {},
     "outputs": []
    },
    {
     "cell_type": "markdown",
     "metadata": {},
     "source": [
      "Make a function called `get_spm_globals` that accepts an image filename as an argument.  The function will load the image, get the array data for the image, use your new `spm_global` function calculate the global value for each volume, and return these values as a list.  Finally, show this is working by plotting the values for the `ds107_sub012_t1r2.nii` image with something like: \n",
      "\n",
      "```\n",
      "all_globals = get_spm_globals('ds107_sub012_t1r2.nii')\n",
      "plt.plot(all_globals)\n",
      "```"
     ]
    },
    {
     "cell_type": "code",
     "collapsed": false,
     "input": [
      "# Write a function `get_spm_globals` that returns the global values \n",
      "# for each volume"
     ],
     "language": "python",
     "metadata": {},
     "outputs": []
    }
   ],
   "metadata": {}
  }
 ]
}