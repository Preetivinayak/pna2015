{
 "metadata": {
  "name": "",
  "signature": "sha256:e516a6d85f7be3aca99c6e0e7bc8ee38ec4909197b7a6f3dd888b98a0245743d"
 },
 "nbformat": 3,
 "nbformat_minor": 0,
 "worksheets": [
  {
   "cells": [
    {
     "cell_type": "code",
     "collapsed": false,
     "input": [
      "# - compatibility with Python 3\n",
      "from __future__ import print_function  # print('me') instead of print 'me'\n",
      "from __future__ import division  # 1/2 == 0.5, not 0"
     ],
     "language": "python",
     "metadata": {},
     "outputs": [],
     "prompt_number": 1
    },
    {
     "cell_type": "code",
     "collapsed": false,
     "input": [
      "# - show figures inside the notebook\n",
      "%matplotlib inline"
     ],
     "language": "python",
     "metadata": {},
     "outputs": [],
     "prompt_number": 2
    },
    {
     "cell_type": "code",
     "collapsed": false,
     "input": [
      "# - import common modules\n",
      "import numpy as np  # the Python array package\n",
      "import matplotlib.pyplot as plt  # the Python plotting package"
     ],
     "language": "python",
     "metadata": {},
     "outputs": [],
     "prompt_number": 3
    },
    {
     "cell_type": "code",
     "collapsed": false,
     "input": [
      "# - import numpy.linalg with a shorter name\n",
      "import numpy.linalg as npl"
     ],
     "language": "python",
     "metadata": {},
     "outputs": [],
     "prompt_number": 4
    },
    {
     "cell_type": "markdown",
     "metadata": {},
     "source": [
      "## Introducing principal component analysis"
     ]
    },
    {
     "cell_type": "markdown",
     "metadata": {},
     "source": [
      "This page was largely inspired by these two excellent tutorials:\n",
      "\n",
      "* http://randomanalyses.blogspot.com/2012/01/principal-components-analysis.html\n",
      "* https://liorpachter.wordpress.com/2014/05/26/what-is-principal-component-analysis\n",
      "\n",
      "Let's say I have some data in a 2D array $\\mathbf{X}$.\n",
      "\n",
      "I have taken two different measures - or *variables* - and 50 samples.  So, I have two variables for each of the 50 samples.\n",
      "\n",
      "Each column is one sample (I have 50 columns).  Each row is one variable (I have two rows)."
     ]
    },
    {
     "cell_type": "code",
     "collapsed": false,
     "input": [
      "# Make some random, but predictable data\n",
      "np.random.seed(1966)\n",
      "X = np.random.multivariate_normal([0, 0], [[3, 1.5], [1.5, 1]], size=50).T\n",
      "X.shape"
     ],
     "language": "python",
     "metadata": {},
     "outputs": [
      {
       "metadata": {},
       "output_type": "pyout",
       "prompt_number": 5,
       "text": [
        "(2, 50)"
       ]
      }
     ],
     "prompt_number": 5
    },
    {
     "cell_type": "markdown",
     "metadata": {},
     "source": [
      "To make things simpler, I will subtract the mean from each variable:"
     ]
    },
    {
     "cell_type": "code",
     "collapsed": false,
     "input": [
      "x_mean = X.mean(axis=1)\n",
      "X[0] = X[0] - x_mean[0]\n",
      "X[1] = X[1] - x_mean[1]"
     ],
     "language": "python",
     "metadata": {},
     "outputs": [],
     "prompt_number": 6
    },
    {
     "cell_type": "markdown",
     "metadata": {},
     "source": [
      "The values for the two variables (rows) in $\\mathbf{X}$ are somewhat correlated:"
     ]
    },
    {
     "cell_type": "code",
     "collapsed": false,
     "input": [
      "plt.scatter(X[0], X[1])\n",
      "plt.axis('equal')"
     ],
     "language": "python",
     "metadata": {},
     "outputs": [
      {
       "metadata": {},
       "output_type": "pyout",
       "prompt_number": 7,
       "text": [
        "(-5.0, 4.0, -3.0, 3.0)"
       ]
      },
      {
       "metadata": {},
       "output_type": "display_data",
       "png": "[encoded data removed]",
       "text": [
        "<matplotlib.figure.Figure at 0x105fca610>"
       ]
      }
     ],
     "prompt_number": 7
    },
    {
     "cell_type": "markdown",
     "metadata": {},
     "source": [
      "We want to explain the variation in these data."
     ]
    },
    {
     "cell_type": "markdown",
     "metadata": {},
     "source": [
      "The variation we want to explain is given by the sum of squares of the data values.  "
     ]
    },
    {
     "cell_type": "code",
     "collapsed": false,
     "input": [
      "squares = X ** 2\n",
      "squares.sum()"
     ],
     "language": "python",
     "metadata": {},
     "outputs": [
      {
       "metadata": {},
       "output_type": "pyout",
       "prompt_number": 8,
       "text": [
        "155.66928985835315"
       ]
      }
     ],
     "prompt_number": 8
    },
    {
     "cell_type": "markdown",
     "metadata": {},
     "source": [
      "The sums of squares of the data can be thought of as the squared lengths of the 50 2D vectors in the columns of $\\mathbf{X}$.\n",
      "\n",
      "We can think of each sample as being a point on a 2D coordinate system, where the first variable is the position on the x axis, and the second is the position on the y axis.  In fact, this is how we just plotted the values in the scatter plot.  We can also think of each column as a 2D *vector*.  Call $\\vec{v_j}$ the vector contained in column $j$ of matrix $\\mathbf{X}$, where $j \\in 1..50$."
     ]
    },
    {
     "cell_type": "markdown",
     "metadata": {},
     "source": [
      "The sum of squares across the variables, is also the squared distance of the point (column) from the origin (0, 0).  That is the same as saying that the sum of squares is the squared *length* of $\\vec{v_j}$. This can be written as $\\|\\vec{v_j}\\|^2$"
     ]
    },
    {
     "cell_type": "markdown",
     "metadata": {},
     "source": [
      "Take the first column / point / vector as an example ($\\vec{v_1}$):"
     ]
    },
    {
     "cell_type": "code",
     "collapsed": false,
     "input": [
      "v1 = X[:, 0]\n",
      "v1"
     ],
     "language": "python",
     "metadata": {},
     "outputs": [
      {
       "metadata": {},
       "output_type": "pyout",
       "prompt_number": 9,
       "text": [
        "array([ 3.3783217 ,  2.06815777])"
       ]
      }
     ],
     "prompt_number": 9
    },
    {
     "cell_type": "code",
     "collapsed": false,
     "input": [
      "# Show first vector as sum of x and y axis vectors\n",
      "x, y = v1\n",
      "\n",
      "# Plot points at either end of vector\n",
      "plt.plot([0, x], [0, y], 'ro')\n",
      "\n",
      "# Vectors as arrows\n",
      "def show_vector(from_x, from_y, to_x, to_y, color):\n",
      "    plt.arrow(from_x, from_y, to_x - from_x, to_y - from_y,\n",
      "              color=color, length_includes_head=True, width=0.01)\n",
      "\n",
      "show_vector(0, 0, x, 0, 'r')\n",
      "show_vector(x, 0, x, y, 'b')\n",
      "show_vector(0, 0, x, y, 'k')\n",
      "\n",
      "def label_point(label, x, y, x_off, y_off):\n",
      "    plt.annotate(label, (x, y), xytext=(x_off, y_off), \n",
      "                 textcoords='offset points', fontsize=16)\n",
      "\n",
      "label_point('$(0, 0)$', 0, 0, -40, -10)\n",
      "label_point('$({:.2f}, {:.2f})$'.format(x, y), x, y, 5, 5)\n",
      "label_point(r'$\\vec{{v_1}} = ({x:.2f}, {y:.2f})$'.format(x=x, y=y),\n",
      "            x / 2, y / 2, -115, 0)\n",
      "label_point(r'$\\vec{{x}} = ({x:.2f}, 0)$'.format(x=x),\n",
      "            x / 2, 0, -30, -20)\n",
      "label_point(r'$\\vec{{y}} = (0, {y:.2f})$'.format(y=y),\n",
      "            x, y / 2, 10, -10)\n",
      "plt.axis((-1, 5.5, -1, 3))\n",
      "plt.gca().set_aspect('equal', adjustable='box')\n",
      "plt.title(r'x- and y- axis components of $\\vec{v_1}$')"
     ],
     "language": "python",
     "metadata": {},
     "outputs": [
      {
       "metadata": {},
       "output_type": "pyout",
       "prompt_number": 10,
       "text": [
        "<matplotlib.text.Text at 0x1062b1690>"
       ]
      },
      {
       "metadata": {},
       "output_type": "display_data",
       "png": "[encoded data removed]",
       "text": [
        "<matplotlib.figure.Figure at 0x1061fd3d0>"
       ]
      }
     ],
     "prompt_number": 10
    },
    {
     "cell_type": "markdown",
     "metadata": {},
     "source": [
      "The length of $\\vec{v_1}$ is given by the squared length of the x component plus the squared length of the y component.  In symbols: $\\|\\vec{v_1}\\|^2 = \\|\\vec{x}\\|^2 + \\|\\vec{y}\\|^2 = 3.38^2 + 2.07^2$."
     ]
    },
    {
     "cell_type": "markdown",
     "metadata": {},
     "source": [
      "So, the sums of squares we are trying to explain can be expressed as the sum of the squared distance of each point from the origin, where the points (vectors) are the columns of $\\mathbf{X}$:"
     ]
    },
    {
     "cell_type": "code",
     "collapsed": false,
     "input": [
      "plt.scatter(X[0], X[1])\n",
      "for point in X.T:  # iterate over columns\n",
      "    plt.plot(0, 0)\n",
      "    plt.plot([0, point[0]], [0, point[1]], 'r:')\n",
      "plt.axis('equal')"
     ],
     "language": "python",
     "metadata": {},
     "outputs": [
      {
       "metadata": {},
       "output_type": "pyout",
       "prompt_number": 11,
       "text": [
        "(-5.0, 4.0, -3.0, 3.0)"
       ]
      },
      {
       "metadata": {},
       "output_type": "display_data",
       "png": "[encoded data removed]",
       "text": [
        "<matplotlib.figure.Figure at 0x106121ed0>"
       ]
      }
     ],
     "prompt_number": 11
    },
    {
     "cell_type": "markdown",
     "metadata": {},
     "source": [
      "Put another way, we are trying to explain the squares of the lengths of the dotted red lines on the plot.\n",
      "\n",
      "At the moment, we have not explained anything, so our current unexplained sum of squares is:"
     ]
    },
    {
     "cell_type": "code",
     "collapsed": false,
     "input": [
      "np.sum(X ** 2)"
     ],
     "language": "python",
     "metadata": {},
     "outputs": [
      {
       "metadata": {},
       "output_type": "pyout",
       "prompt_number": 12,
       "text": [
        "155.66928985835315"
       ]
      }
     ],
     "prompt_number": 12
    },
    {
     "cell_type": "markdown",
     "metadata": {},
     "source": [
      "Let us now say that we want to try and find a line that will explain the maximum sum of squares in the data.\n",
      "\n",
      "We define our line with a unit vector $\\hat{u}$.  All points on the line can be expressed with $c\\hat{u}$ where $c$ is a scalar.\n",
      "\n",
      "Our best fitting line $c\\hat{u}$ is the line that comes closest to the points, in the sense of minimizing the squared distance between the line and points.\n",
      "\n",
      "Put a little more formally, for each point $\\vec{v_j}$ we will find the distance $d_j$ between $\\vec{v_j}$ and the line.  We want the line with the smallest $\\sum_j{d_j^2}$."
     ]
    },
    {
     "cell_type": "markdown",
     "metadata": {},
     "source": [
      "What do we mean by the *distance* in this case?  The distance $d_i$ is the distance between the point $\\vec{v_i}$ and the projection of that point onto the line $c\\hat{u}$.  The projection of $\\vec{v_i}$ onto the line defined by $\\hat{u}$ is, as we remember, given by $c\\hat{u}$ where $c = \\vec{v_i}\\cdot\\hat{u}$."
     ]
    },
    {
     "cell_type": "markdown",
     "metadata": {},
     "source": [
      "Looking at the scatterplot, we might consider trying a unit vector at 45 degrees angle to the x axis:"
     ]
    },
    {
     "cell_type": "code",
     "collapsed": false,
     "input": [
      "u_guessed = np.array([np.cos(np.pi / 4), np.sin(np.pi / 4)])\n",
      "u_guessed"
     ],
     "language": "python",
     "metadata": {},
     "outputs": [
      {
       "metadata": {},
       "output_type": "pyout",
       "prompt_number": 13,
       "text": [
        "array([ 0.70710678,  0.70710678])"
       ]
      }
     ],
     "prompt_number": 13
    },
    {
     "cell_type": "markdown",
     "metadata": {},
     "source": [
      "This is a unit vector:"
     ]
    },
    {
     "cell_type": "code",
     "collapsed": false,
     "input": [
      "(u_guessed ** 2).sum()"
     ],
     "language": "python",
     "metadata": {},
     "outputs": [
      {
       "metadata": {},
       "output_type": "pyout",
       "prompt_number": 14,
       "text": [
        "1.0"
       ]
      }
     ],
     "prompt_number": 14
    },
    {
     "cell_type": "code",
     "collapsed": false,
     "input": [
      "plt.scatter(X[0], X[1])\n",
      "plt.arrow(0, 0, u_guessed[0], u_guessed[1], width=0.01, color='r')\n",
      "plt.axis('equal')\n",
      "plt.title('Guessed unit vector')"
     ],
     "language": "python",
     "metadata": {},
     "outputs": [
      {
       "metadata": {},
       "output_type": "pyout",
       "prompt_number": 15,
       "text": [
        "<matplotlib.text.Text at 0x106b3ec90>"
       ]
      },
      {
       "metadata": {},
       "output_type": "display_data",
       "png": "[encoded data removed]",
       "text": [
        "<matplotlib.figure.Figure at 0x1061215d0>"
       ]
      }
     ],
     "prompt_number": 15
    },
    {
     "cell_type": "markdown",
     "metadata": {},
     "source": [
      "Let's project all the points onto that line:"
     ]
    },
    {
     "cell_type": "code",
     "collapsed": false,
     "input": [
      "u_guessed_row = u_guessed.reshape(1, 2)  # A row vector\n",
      "c_values = u_guessed_row.dot(X)  # c values for scaling u\n",
      "projected = u_guessed_row.T.dot(c_values)  # scale u by values to get projection"
     ],
     "language": "python",
     "metadata": {},
     "outputs": [],
     "prompt_number": 16
    },
    {
     "cell_type": "code",
     "collapsed": false,
     "input": [
      "plt.scatter(X[0], X[1], label='actual')\n",
      "plt.scatter(projected[0], projected[1], color='r', label='projected')\n",
      "for i in range(X.shape[1]):\n",
      "    # Plot line between projected and actual point\n",
      "    proj_pt = projected[:, i]\n",
      "    actual_pt = X[:, i]\n",
      "    plt.plot([proj_pt[0], actual_pt[0]], [proj_pt[1], actual_pt[1]], 'k')\n",
      "plt.axis('equal')\n",
      "plt.legend(loc='upper left')\n",
      "plt.title(\"Actual and projected points for guessed $\\hat{u}$\")"
     ],
     "language": "python",
     "metadata": {},
     "outputs": [
      {
       "metadata": {},
       "output_type": "pyout",
       "prompt_number": 17,
       "text": [
        "<matplotlib.text.Text at 0x1061ccf50>"
       ]
      },
      {
       "metadata": {},
       "output_type": "display_data",
       "png": "[encoded data removed]",
       "text": [
        "<matplotlib.figure.Figure at 0x106b67e10>"
       ]
      }
     ],
     "prompt_number": 17
    },
    {
     "cell_type": "markdown",
     "metadata": {},
     "source": [
      "The projected points (in red), are the positions of the points that can be explained by projection onto the guessed line defined by $\\hat{u}$.  The red projected points also have their own sum of squares:"
     ]
    },
    {
     "cell_type": "code",
     "collapsed": false,
     "input": [
      "(projected ** 2).sum()"
     ],
     "language": "python",
     "metadata": {},
     "outputs": [
      {
       "metadata": {},
       "output_type": "pyout",
       "prompt_number": 18,
       "text": [
        "133.38132074316005"
       ]
      }
     ],
     "prompt_number": 18
    },
    {
     "cell_type": "markdown",
     "metadata": {},
     "source": [
      "As we will see later, this is the sum of squares from the original points that have been explained by projection onto $\\hat{u}$."
     ]
    },
    {
     "cell_type": "markdown",
     "metadata": {},
     "source": [
      "Once I have the projected points, I can calculate the remaining distance of the actual points from the projected points:"
     ]
    },
    {
     "cell_type": "code",
     "collapsed": false,
     "input": [
      "remaining = X - projected\n",
      "distances = np.sqrt((remaining ** 2).sum(axis=0))\n",
      "distances"
     ],
     "language": "python",
     "metadata": {},
     "outputs": [
      {
       "metadata": {},
       "output_type": "pyout",
       "prompt_number": 19,
       "text": [
        "array([ 0.9264258 ,  0.71426675,  0.29312499,  0.41527826,  0.06212573,\n",
        "        0.79318814,  0.68455384,  1.68654891,  0.34062881,  0.00674608,\n",
        "        0.30113815,  0.40539657,  0.99582768,  0.17135551,  1.09474195,\n",
        "        0.78058277,  0.18356587,  0.9747337 ,  0.73200779,  0.49583326,\n",
        "        0.9632401 ,  1.36281666,  0.26286832,  0.09259664,  0.47780329,\n",
        "        0.04151855,  0.84132951,  0.33800965,  0.0198244 ,  0.85335614,\n",
        "        0.06981433,  0.24426315,  0.34796767,  0.47006229,  0.70514523,\n",
        "        1.17370933,  0.83870882,  1.00606869,  0.73159401,  0.74942988,\n",
        "        0.34328108,  0.55683988,  0.28791204,  0.47947506,  0.9777346 ,\n",
        "        0.06430814,  0.1273749 ,  0.15742452,  0.0101704 ,  0.51999721])"
       ]
      }
     ],
     "prompt_number": 19
    },
    {
     "cell_type": "markdown",
     "metadata": {},
     "source": [
      "I can also express the overall (squared) remaining distance as the sum of squares:"
     ]
    },
    {
     "cell_type": "code",
     "collapsed": false,
     "input": [
      "(remaining ** 2).sum()"
     ],
     "language": "python",
     "metadata": {},
     "outputs": [
      {
       "metadata": {},
       "output_type": "pyout",
       "prompt_number": 20,
       "text": [
        "22.287969115193118"
       ]
      }
     ],
     "prompt_number": 20
    },
    {
     "cell_type": "markdown",
     "metadata": {},
     "source": [
      "I'm going to try a whole lot of different values for $\\hat{u}$, so I will make a function to calculate the result of projecting the data onto a line defined by a unit vector $\\hat{u}$:"
     ]
    },
    {
     "cell_type": "code",
     "collapsed": false,
     "input": [
      "def line_projection(u, X):\n",
      "    \"\"\" Return columns of X projected onto line defined by u\n",
      "    \"\"\"\n",
      "    u = u.reshape(1, 2)  # A row vector\n",
      "    c_values = u.dot(X)  # c values for scaling u\n",
      "    projected = u.T.dot(c_values)\n",
      "    return projected"
     ],
     "language": "python",
     "metadata": {},
     "outputs": [],
     "prompt_number": 21
    },
    {
     "cell_type": "markdown",
     "metadata": {},
     "source": [
      "Next a small function to return the vectors remaining after removing the projections:"
     ]
    },
    {
     "cell_type": "code",
     "collapsed": false,
     "input": [
      "def line_remaining(u, X):\n",
      "    \"\"\" Return vectors remaining after removing cols of X projected onto u\n",
      "    \"\"\"\n",
      "    projected = line_projection(u, X)\n",
      "    remaining = X - projected\n",
      "    return remaining"
     ],
     "language": "python",
     "metadata": {},
     "outputs": [],
     "prompt_number": 22
    },
    {
     "cell_type": "markdown",
     "metadata": {},
     "source": [
      "Using these little functions, I get the same answer as before:"
     ]
    },
    {
     "cell_type": "code",
     "collapsed": false,
     "input": [
      "(line_remaining(u_guessed, X) ** 2).sum()"
     ],
     "language": "python",
     "metadata": {},
     "outputs": [
      {
       "metadata": {},
       "output_type": "pyout",
       "prompt_number": 23,
       "text": [
        "22.287969115193118"
       ]
      }
     ],
     "prompt_number": 23
    },
    {
     "cell_type": "markdown",
     "metadata": {},
     "source": [
      "Now I will make lots of $\\hat{u}$ vectors spanning half the circle:"
     ]
    },
    {
     "cell_type": "code",
     "collapsed": false,
     "input": [
      "angles = np.linspace(0, np.pi, 10000)\n",
      "x = np.cos(angles)\n",
      "y = np.sin(angles)\n",
      "u_vectors = np.vstack((x, y))\n",
      "u_vectors.shape"
     ],
     "language": "python",
     "metadata": {},
     "outputs": [
      {
       "metadata": {},
       "output_type": "pyout",
       "prompt_number": 24,
       "text": [
        "(2, 10000)"
       ]
      }
     ],
     "prompt_number": 24
    },
    {
     "cell_type": "code",
     "collapsed": false,
     "input": [
      "plt.plot(u_vectors[0], u_vectors[1], '+')\n",
      "plt.axis('equal')"
     ],
     "language": "python",
     "metadata": {},
     "outputs": [
      {
       "metadata": {},
       "output_type": "pyout",
       "prompt_number": 25,
       "text": [
        "(-1.0, 1.0, 0.0, 1.0)"
       ]
      },
      {
       "metadata": {},
       "output_type": "display_data",
       "png": "[encoded data removed]",
       "text": [
        "<matplotlib.figure.Figure at 0x1062f6c10>"
       ]
      }
     ],
     "prompt_number": 25
    },
    {
     "cell_type": "markdown",
     "metadata": {},
     "source": [
      "I then get the remaining sum of squares after projecting onto each of these unit vectors:"
     ]
    },
    {
     "cell_type": "code",
     "collapsed": false,
     "input": [
      "remaining_ss = []\n",
      "for u in u_vectors.T: # iterate over columns\n",
      "    remaining = line_remaining(u, X)\n",
      "    remaining_ss.append((remaining ** 2).sum())"
     ],
     "language": "python",
     "metadata": {},
     "outputs": [],
     "prompt_number": 26
    },
    {
     "cell_type": "code",
     "collapsed": false,
     "input": [
      "plt.plot(angles, remaining_ss)\n",
      "plt.xlabel('Angle of unit vector')\n",
      "plt.ylabel('Remaining sum of squares')"
     ],
     "language": "python",
     "metadata": {},
     "outputs": [
      {
       "metadata": {},
       "output_type": "pyout",
       "prompt_number": 27,
       "text": [
        "<matplotlib.text.Text at 0x106995e90>"
       ]
      },
      {
       "metadata": {},
       "output_type": "display_data",
       "png": "[encoded data removed]",
       "text": [
        "<matplotlib.figure.Figure at 0x10642e750>"
       ]
      }
     ],
     "prompt_number": 27
    },
    {
     "cell_type": "markdown",
     "metadata": {},
     "source": [
      "It looks like the minimum value is for a unit vector at around angle 0.5 radians:"
     ]
    },
    {
     "cell_type": "code",
     "collapsed": false,
     "input": [
      "min_i = np.argmin(remaining_ss)\n",
      "angle_best = angles[min_i]\n",
      "angle_best"
     ],
     "language": "python",
     "metadata": {},
     "outputs": [
      {
       "metadata": {},
       "output_type": "pyout",
       "prompt_number": 28,
       "text": [
        "0.49862061618631881"
       ]
      }
     ],
     "prompt_number": 28
    },
    {
     "cell_type": "code",
     "collapsed": false,
     "input": [
      "u_best = u_vectors[:, min_i]\n",
      "u_best"
     ],
     "language": "python",
     "metadata": {},
     "outputs": [
      {
       "metadata": {},
       "output_type": "pyout",
       "prompt_number": 29,
       "text": [
        "array([ 0.87824304,  0.47821456])"
       ]
      }
     ],
     "prompt_number": 29
    },
    {
     "cell_type": "code",
     "collapsed": false,
     "input": [
      "plt.scatter(X[0], X[1])\n",
      "plt.arrow(0, 0, u_best[0], u_best[1], width=0.01, color='r')\n",
      "plt.axis('equal')\n",
      "plt.title('Best unit vector')"
     ],
     "language": "python",
     "metadata": {},
     "outputs": [
      {
       "metadata": {},
       "output_type": "pyout",
       "prompt_number": 30,
       "text": [
        "<matplotlib.text.Text at 0x106de29d0>"
       ]
      },
      {
       "metadata": {},
       "output_type": "display_data",
       "png": "[encoded data removed]",
       "text": [
        "<matplotlib.figure.Figure at 0x106a40690>"
       ]
      }
     ],
     "prompt_number": 30
    },
    {
     "cell_type": "markdown",
     "metadata": {},
     "source": [
      "Do the projections for this best line look better than before?"
     ]
    },
    {
     "cell_type": "code",
     "collapsed": false,
     "input": [
      "projected = line_projection(u_best, X)\n",
      "plt.scatter(X[0], X[1], label='actual')\n",
      "plt.scatter(projected[0], projected[1], color='r', label='projected')\n",
      "for i in range(X.shape[1]):\n",
      "    # Plot line between projected and actual point\n",
      "    proj_pt = projected[:, i]\n",
      "    actual_pt = X[:, i]\n",
      "    plt.plot([proj_pt[0], actual_pt[0]], [proj_pt[1], actual_pt[1]], 'k')\n",
      "plt.axis('equal')\n",
      "plt.legend(loc='upper left')\n",
      "plt.title(\"Actual and projected points for $\\hat{u_{best}}$\")"
     ],
     "language": "python",
     "metadata": {},
     "outputs": [
      {
       "metadata": {},
       "output_type": "pyout",
       "prompt_number": 31,
       "text": [
        "<matplotlib.text.Text at 0x106fcae50>"
       ]
      },
      {
       "metadata": {},
       "output_type": "display_data",
       "png": "[encoded data removed]",
       "text": [
        "<matplotlib.figure.Figure at 0x106ee0790>"
       ]
      }
     ],
     "prompt_number": 31
    },
    {
     "cell_type": "markdown",
     "metadata": {},
     "source": [
      "Now we have found a reasonable choice for our first best fitting line, we have a set of remaining vectors that we have not explained.  These are the vectors between the projected and actual points."
     ]
    },
    {
     "cell_type": "code",
     "collapsed": false,
     "input": [
      "remaining = X - projected"
     ],
     "language": "python",
     "metadata": {},
     "outputs": [],
     "prompt_number": 32
    },
    {
     "cell_type": "code",
     "collapsed": false,
     "input": [
      "plt.scatter(remaining[0], remaining[1], label='remaining')\n",
      "plt.arrow(0, 0, u_best[0], u_best[1], width=0.01, color='r')\n",
      "plt.annotate('$\\hat{u_{best}}$', u_best, xytext=(20, 20), textcoords='offset points', fontsize=20)\n",
      "plt.legend(loc='upper left')\n",
      "plt.axis('equal')"
     ],
     "language": "python",
     "metadata": {},
     "outputs": [
      {
       "metadata": {},
       "output_type": "pyout",
       "prompt_number": 33,
       "text": [
        "(-1.0, 0.60000000000000009, -1.5, 2.0)"
       ]
      },
      {
       "metadata": {},
       "output_type": "display_data",
       "png": "[encoded data removed]",
       "text": [
        "<matplotlib.figure.Figure at 0x106249810>"
       ]
      }
     ],
     "prompt_number": 33
    },
    {
     "cell_type": "markdown",
     "metadata": {},
     "source": [
      "Now it is obvious the next line we need to best explain the remaining sum of squares.  We want another unit vector orthogonal to the first.  This is because we have already explained everything that can be explained along the direction of $\\hat{u_{best}}$, and we only have two dimensions, so there is only one remaining direction along which the variation can occur."
     ]
    },
    {
     "cell_type": "code",
     "collapsed": false,
     "input": [
      "u_best_orth = np.array([np.cos(angle_best + np.pi / 2), np.sin(angle_best + np.pi / 2)])\n",
      "plt.scatter(remaining[0], remaining[1], label='remaining')\n",
      "plt.arrow(0, 0, u_best[0], u_best[1], width=0.01, color='r')\n",
      "plt.arrow(0, 0, u_best_orth[0], u_best_orth[1], width=0.01, color='g')\n",
      "plt.annotate('$\\hat{u_{best}}$', u_best, xytext=(20, 20), textcoords='offset points', fontsize=20)\n",
      "plt.annotate('$\\hat{u_{orth}}$', u_best_orth, xytext=(20, 20), textcoords='offset points', fontsize=20)\n",
      "plt.axis('equal')"
     ],
     "language": "python",
     "metadata": {},
     "outputs": [
      {
       "metadata": {},
       "output_type": "pyout",
       "prompt_number": 34,
       "text": [
        "(-1.0, 0.60000000000000009, -1.5, 2.0)"
       ]
      },
      {
       "metadata": {},
       "output_type": "display_data",
       "png": "[encoded data removed]",
       "text": [
        "<matplotlib.figure.Figure at 0x107168ad0>"
       ]
      }
     ],
     "prompt_number": 34
    },
    {
     "cell_type": "markdown",
     "metadata": {},
     "source": [
      "Now the projections onto $\\hat{u_{orth}}$ are the same as the remaining points, because the remaining points already lie along the line defined by $\\hat{u_{orth}}$."
     ]
    },
    {
     "cell_type": "code",
     "collapsed": false,
     "input": [
      "projected_onto_orth = line_projection(u_best_orth, remaining)\n",
      "np.allclose(projected_onto_orth, remaining)"
     ],
     "language": "python",
     "metadata": {},
     "outputs": [
      {
       "metadata": {},
       "output_type": "pyout",
       "prompt_number": 35,
       "text": [
        "True"
       ]
      }
     ],
     "prompt_number": 35
    },
    {
     "cell_type": "markdown",
     "metadata": {},
     "source": [
      "If we have really found the line $\\hat{u_{best}}$ that removes the most sum of squares from the remaining points, then this is the *first principal component* of $\\mathbf{X}$. $\\hat{u_{orth}}$ will be the second principal component of $\\mathbf{X}$."
     ]
    },
    {
     "cell_type": "markdown",
     "metadata": {},
     "source": [
      "Now for a trick.  Remember that the two principal components are orthogonal to one another.  That means, that if I project the data onto the second principal component $\\hat{u_{orth}}$, I will (by the definition of orthogonal) pick up no component of the columns of $\\mathbf{X}$ that is colinear (predictable via projection) with $\\hat{u_{best}}$.\n",
      "\n",
      "This means that I can go straight to the projection onto the second component, from the original array $\\mathbf{X}$."
     ]
    },
    {
     "cell_type": "code",
     "collapsed": false,
     "input": [
      "# project onto second component direct from data\n",
      "projected_onto_orth_again = line_projection(u_best_orth, X)\n",
      "# Gives same answer as projecting remainder from first component\n",
      "np.allclose(projected_onto_orth_again - projected_onto_orth, 0)"
     ],
     "language": "python",
     "metadata": {},
     "outputs": [
      {
       "metadata": {},
       "output_type": "pyout",
       "prompt_number": 36,
       "text": [
        "True"
       ]
      }
     ],
     "prompt_number": 36
    },
    {
     "cell_type": "markdown",
     "metadata": {},
     "source": [
      "For the same reason, I can calculate the projection coefficients $c$ for both components at the same time, by doing matrix multiplication:"
     ]
    },
    {
     "cell_type": "code",
     "collapsed": false,
     "input": [
      "# Components as rows in a 2 by 2 array\n",
      "components = np.vstack((u_best, u_best_orth))\n",
      "components"
     ],
     "language": "python",
     "metadata": {},
     "outputs": [
      {
       "metadata": {},
       "output_type": "pyout",
       "prompt_number": 37,
       "text": [
        "array([[ 0.87824304,  0.47821456],\n",
        "       [-0.47821456,  0.87824304]])"
       ]
      }
     ],
     "prompt_number": 37
    },
    {
     "cell_type": "code",
     "collapsed": false,
     "input": [
      "# Calculating projection coefficients with array dot\n",
      "c_values = components.dot(X)"
     ],
     "language": "python",
     "metadata": {},
     "outputs": [],
     "prompt_number": 38
    },
    {
     "cell_type": "code",
     "collapsed": false,
     "input": [
      "# Result of projecting on first component, via array dot\n",
      "u = u_best.reshape(1, 2)  # first component as row vector\n",
      "c = c_values[0].reshape(1, 50)  # c for first component as row vector\n",
      "projected_1 = u.T.dot(c)\n",
      "# The same as doing the original calculation\n",
      "np.allclose(projected_1, line_projection(u_best, X))"
     ],
     "language": "python",
     "metadata": {},
     "outputs": [
      {
       "metadata": {},
       "output_type": "pyout",
       "prompt_number": 39,
       "text": [
        "True"
       ]
      }
     ],
     "prompt_number": 39
    },
    {
     "cell_type": "code",
     "collapsed": false,
     "input": [
      "# Result of projecting on second component, via array dot\n",
      "u = u_best_orth.reshape(1, 2)  # second component as row vector\n",
      "c = c_values[1].reshape(1, 50)  # c for second component as row vector\n",
      "projected_2 = u.T.dot(c)\n",
      "# The same as doing the original calculation\n",
      "np.allclose(projected_2, line_projection(u_best_orth, X))"
     ],
     "language": "python",
     "metadata": {},
     "outputs": [
      {
       "metadata": {},
       "output_type": "pyout",
       "prompt_number": 40,
       "text": [
        "True"
       ]
      }
     ],
     "prompt_number": 40
    },
    {
     "cell_type": "markdown",
     "metadata": {},
     "source": [
      "## The principal component lines are new axes to express the data"
     ]
    },
    {
     "cell_type": "markdown",
     "metadata": {},
     "source": [
      "My original points were expressed in the orthogonal, standard x and y axes.  My principal components give new orthogonal axes.  When I project, I have just re-expressed my original points on these new orthogonal axes.  Let's call the projections of $\\vec{v_1}$ onto the first and second components: $proj_1\\vec{v_1}$, $proj_2\\vec{v_1}$.\n",
      "\n",
      "For example, here is my original first point $\\vec{v_1}$ expressed using the projections onto the principal component axes:"
     ]
    },
    {
     "cell_type": "code",
     "collapsed": false,
     "input": [
      "# Show v1 as sum of projections onto components 1 and 2\n",
      "x, y = v1\n",
      "p1_x, p1_y = projected_1[:, 0]\n",
      "p2_x, p2_y = projected_2[:, 0]\n",
      "# Plot points at either end of vector\n",
      "plt.plot([0, x], [0, y], 'ro')\n",
      "# Show vectors with arrows\n",
      "show_vector(0, 0, p1_x, p1_y, 'r')\n",
      "show_vector(p1_x, p1_y, x, y, 'b')\n",
      "show_vector(0, 0, x, y, 'k')\n",
      "# Label points\n",
      "label_point('$(0, 0)$', 0, 0, -20, -20)\n",
      "label_point('$({:.2f}, {:.2f})$'.format(x, y), x, y, 10, 10)\n",
      "# Label vectors\n",
      "label_point(r'$\\vec{{v_1}} = ({x:.2f}, {y:.2f})$'.format(x=x, y=y),\n",
      "            x / 2, y / 2, -90, 10)\n",
      "label_point(r'$proj_1\\vec{{v_1}} = ({x:.2f}, {y:.2f})$'.format(x=p1_x, y=p1_y),\n",
      "            p1_x / 2, p1_y / 3, 5, -5)\n",
      "label_point(r'$proj_2\\vec{{v_1}} = ({x:.2f}, {y:.2f})$'.format(x=p2_x, y=p2_y),\n",
      "            x, y, 10, -10)\n",
      "plt.axis((-1, 8, -1, 3))\n",
      "plt.gca().set_aspect('equal', adjustable='box')\n",
      "plt.title(r'first and and second principal components of $\\vec{v_1}$')"
     ],
     "language": "python",
     "metadata": {},
     "outputs": [
      {
       "metadata": {},
       "output_type": "pyout",
       "prompt_number": 41,
       "text": [
        "<matplotlib.text.Text at 0x1073901d0>"
       ]
      },
      {
       "metadata": {},
       "output_type": "display_data",
       "png": "[encoded data removed]",
       "text": [
        "<matplotlib.figure.Figure at 0x1073a2a10>"
       ]
      }
     ],
     "prompt_number": 41
    },
    {
     "cell_type": "markdown",
     "metadata": {},
     "source": [
      "We have re-expressed $\\vec{v_1}$ by two new orthogonal vectors $proj_1\\vec{v_1}$ plus $proj_2\\vec{v_1}$.  In symbols: $\\vec{v_1} = proj_1\\vec{v_1} + proj_2\\vec{v_1}$."
     ]
    },
    {
     "cell_type": "markdown",
     "metadata": {},
     "source": [
      "The sum of component 1 projections and the component 2 projections add up to the original vectors (points).\n",
      "\n",
      "Sure enough, if I sum up the data projected onto the first component and the data projected onto the second, I get back the original data:"
     ]
    },
    {
     "cell_type": "code",
     "collapsed": false,
     "input": [
      "np.allclose(projected_1 + projected_2, X)"
     ],
     "language": "python",
     "metadata": {},
     "outputs": [
      {
       "metadata": {},
       "output_type": "pyout",
       "prompt_number": 42,
       "text": [
        "True"
       ]
      }
     ],
     "prompt_number": 42
    },
    {
     "cell_type": "markdown",
     "metadata": {},
     "source": [
      "Doing the sum above is the same operation as matrix multiplication of the transpose of the components with the projection coefficients:"
     ]
    },
    {
     "cell_type": "code",
     "collapsed": false,
     "input": [
      "data_again = components.T.dot(c_values)\n",
      "np.allclose(data_again, X)"
     ],
     "language": "python",
     "metadata": {},
     "outputs": [
      {
       "metadata": {},
       "output_type": "pyout",
       "prompt_number": 43,
       "text": [
        "True"
       ]
      }
     ],
     "prompt_number": 43
    },
    {
     "cell_type": "markdown",
     "metadata": {},
     "source": [
      "## The components partition the sums of squares"
     ]
    },
    {
     "cell_type": "markdown",
     "metadata": {},
     "source": [
      "Notice also that I have partititioned the sums of squares of the data into a part that can be explained by the first component, and a part that can be explained by the second:"
     ]
    },
    {
     "cell_type": "code",
     "collapsed": false,
     "input": [
      "# Total sum of squares\n",
      "np.sum(X ** 2)"
     ],
     "language": "python",
     "metadata": {},
     "outputs": [
      {
       "metadata": {},
       "output_type": "pyout",
       "prompt_number": 44,
       "text": [
        "155.66928985835315"
       ]
      }
     ],
     "prompt_number": 44
    },
    {
     "cell_type": "code",
     "collapsed": false,
     "input": [
      "# The data projected onto the first component\n",
      "proj_onto_first = line_projection(u_best, X)\n",
      "# The data projected onto the second component\n",
      "proj_onto_second = line_projection(u_best_orth, X)\n",
      "# Sum of squares in the projection onto the first\n",
      "ss_in_first = np.sum(proj_onto_first ** 2)\n",
      "# Sum of squares in the projection onto the second\n",
      "ss_in_second = np.sum(proj_onto_second ** 2)\n",
      "# They add up to the total sum of squares\n",
      "ss_in_first, ss_in_second, ss_in_first + ss_in_second"
     ],
     "language": "python",
     "metadata": {},
     "outputs": [
      {
       "metadata": {},
       "output_type": "pyout",
       "prompt_number": 45,
       "text": [
        "(143.97317154347922, 11.696118314873956, 155.66928985835318)"
       ]
      }
     ],
     "prompt_number": 45
    },
    {
     "cell_type": "markdown",
     "metadata": {},
     "source": [
      "Why is this?"
     ]
    },
    {
     "cell_type": "markdown",
     "metadata": {},
     "source": [
      "Consider the first vector in $\\mathbf{X}$ : $\\vec{v_1}$. We have re-expressed the length of $\\vec{v_1}$ with the squared length of $proj_1\\vec{v_1}$ plus the squared length of the $proj_2\\vec{v_1}$.  In symbols: $\\|\\vec{v_1}\\|^2 = \\|proj_1\\vec{v_1}\\|^2 + \\|proj_1\\vec{v_1}\\|^2 = 3.47^2 + 1.89^2 + (-0.10)^2 + 0.18^2$.  The length of $\\vec{v_1}$ is unchanged, but we now have two new orthogonal vectors making up the sides of the right angled triangle of which $\\vec{v_1}$ is the hypotenuse.  The two new sides of this new triangle have lengths, where the squared lengths make up $\\|\\vec{v_1}\\|^2$.  Thus the projections onto component 1 represent a sum of squares, as do the projections onto component 2."
     ]
    },
    {
     "cell_type": "markdown",
     "metadata": {},
     "source": [
      "## Finding the principal components with SVD"
     ]
    },
    {
     "cell_type": "markdown",
     "metadata": {},
     "source": [
      "You now know what a principal component analysis is.\n",
      "\n",
      "It turns out there is a much quicker way to find the components than the slow and dumb search that I did above.\n",
      "\n",
      "For reasons that we don't have space to go into, we can get the components  using Singular Value Decomposition.\n",
      "\n",
      "See http://arxiv.org/abs/1404.1100 for a detailed explanation."
     ]
    },
    {
     "cell_type": "code",
     "collapsed": false,
     "input": [
      "# Finding principal components using SVD\n",
      "covariance = X.dot(X.T)\n",
      "U, S, V = npl.svd(covariance)"
     ],
     "language": "python",
     "metadata": {},
     "outputs": [],
     "prompt_number": 46
    },
    {
     "cell_type": "markdown",
     "metadata": {},
     "source": [
      "The components are in the rows of the returned matrix $\\mathbf{V}$:"
     ]
    },
    {
     "cell_type": "code",
     "collapsed": false,
     "input": [
      "V"
     ],
     "language": "python",
     "metadata": {},
     "outputs": [
      {
       "metadata": {},
       "output_type": "pyout",
       "prompt_number": 47,
       "text": [
        "array([[-0.87829753, -0.47811447],\n",
        "       [-0.47811447,  0.87829753]])"
       ]
      }
     ],
     "prompt_number": 47
    },
    {
     "cell_type": "markdown",
     "metadata": {},
     "source": [
      "Remember that a vector $\\vec{r}$ defines the same line as the vector $-\\vec{r}$, so we do not care about a flip in the sign of the principal components:"
     ]
    },
    {
     "cell_type": "code",
     "collapsed": false,
     "input": [
      "u_best"
     ],
     "language": "python",
     "metadata": {},
     "outputs": [
      {
       "metadata": {},
       "output_type": "pyout",
       "prompt_number": 48,
       "text": [
        "array([ 0.87824304,  0.47821456])"
       ]
      }
     ],
     "prompt_number": 48
    },
    {
     "cell_type": "code",
     "collapsed": false,
     "input": [
      "u_best_orth"
     ],
     "language": "python",
     "metadata": {},
     "outputs": [
      {
       "metadata": {},
       "output_type": "pyout",
       "prompt_number": 49,
       "text": [
        "array([-0.47821456,  0.87824304])"
       ]
      }
     ],
     "prompt_number": 49
    },
    {
     "cell_type": "markdown",
     "metadata": {},
     "source": [
      "The returned vector $\\vec{S}$ contains the explained sum of squares for each component:"
     ]
    },
    {
     "cell_type": "code",
     "collapsed": false,
     "input": [
      "S"
     ],
     "language": "python",
     "metadata": {},
     "outputs": [
      {
       "metadata": {},
       "output_type": "pyout",
       "prompt_number": 50,
       "text": [
        "array([ 143.97317326,   11.6961166 ])"
       ]
      }
     ],
     "prompt_number": 50
    }
   ],
   "metadata": {}
  }
 ]
}