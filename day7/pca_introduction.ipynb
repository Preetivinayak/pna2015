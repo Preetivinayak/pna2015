{
 "metadata": {
  "name": "",
  "signature": "sha256:ca9fa9e9cca15b2a5b6d14fe19a34e1b85e10744ac9bf281c624dd9dbb1e6700"
 },
 "nbformat": 3,
 "nbformat_minor": 0,
 "worksheets": [
  {
   "cells": [
    {
     "cell_type": "code",
     "collapsed": false,
     "input": [
      "# - compatibility with Python 3\n",
      "from __future__ import print_function  # print('me') instead of print 'me'\n",
      "from __future__ import division  # 1/2 == 0.5, not 0"
     ],
     "language": "python",
     "metadata": {},
     "outputs": [],
     "prompt_number": 1
    },
    {
     "cell_type": "code",
     "collapsed": false,
     "input": [
      "# - show figures inside the notebook\n",
      "%matplotlib inline"
     ],
     "language": "python",
     "metadata": {},
     "outputs": [],
     "prompt_number": 2
    },
    {
     "cell_type": "code",
     "collapsed": false,
     "input": [
      "# - import common modules\n",
      "import numpy as np  # the Python array package\n",
      "import matplotlib.pyplot as plt  # the Python plotting package"
     ],
     "language": "python",
     "metadata": {},
     "outputs": [],
     "prompt_number": 3
    },
    {
     "cell_type": "code",
     "collapsed": false,
     "input": [
      "# - import numpy.linalg with a shorter name\n",
      "import numpy.linalg as npl"
     ],
     "language": "python",
     "metadata": {},
     "outputs": [],
     "prompt_number": 4
    },
    {
     "cell_type": "markdown",
     "metadata": {},
     "source": [
      "## Introducing principal component analysis"
     ]
    },
    {
     "cell_type": "markdown",
     "metadata": {},
     "source": [
      "Let's say I have some data in a 2D array $\\mathbf{X}$.\n",
      "\n",
      "I have taken two different measures - or *variables* - and 50 samples.  So, I have two variables for each of the 50 samples.\n",
      "\n",
      "Each column is one sample (I have 50 columns).  Each row is one variable (I have two rows)."
     ]
    },
    {
     "cell_type": "code",
     "collapsed": false,
     "input": [
      "# Make some random, but predictable data\n",
      "np.random.seed(1966)\n",
      "X = np.random.multivariate_normal([0, 0], [[3, 1.5], [1.5, 1]], size=50).T\n",
      "X.shape"
     ],
     "language": "python",
     "metadata": {},
     "outputs": [
      {
       "metadata": {},
       "output_type": "pyout",
       "prompt_number": 5,
       "text": [
        "(2, 50)"
       ]
      }
     ],
     "prompt_number": 5
    },
    {
     "cell_type": "markdown",
     "metadata": {},
     "source": [
      "To make things simpler, I will subtract the mean from each variable:"
     ]
    },
    {
     "cell_type": "code",
     "collapsed": false,
     "input": [
      "X = X - X.mean(axis=1).reshape((2, 1))"
     ],
     "language": "python",
     "metadata": {},
     "outputs": [],
     "prompt_number": 6
    },
    {
     "cell_type": "markdown",
     "metadata": {},
     "source": [
      "The values for the two variables (rows) in $\\mathbf{X}$ are somewhat correlated:"
     ]
    },
    {
     "cell_type": "code",
     "collapsed": false,
     "input": [
      "plt.scatter(X[0], X[1])\n",
      "plt.axis('equal')"
     ],
     "language": "python",
     "metadata": {},
     "outputs": [
      {
       "metadata": {},
       "output_type": "pyout",
       "prompt_number": 7,
       "text": [
        "(-5.0, 4.0, -3.0, 3.0)"
       ]
      },
      {
       "metadata": {},
       "output_type": "display_data",
       "png": "[encoded data removed]",
       "text": [
        "<matplotlib.figure.Figure at 0x1060cb850>"
       ]
      }
     ],
     "prompt_number": 7
    },
    {
     "cell_type": "markdown",
     "metadata": {},
     "source": [
      "We want to explain the variance in these data."
     ]
    },
    {
     "cell_type": "markdown",
     "metadata": {},
     "source": [
      "The variance comes from the squares of the values.  We can take the variance across variables or samples, we still have the same total variance to explain."
     ]
    },
    {
     "cell_type": "code",
     "collapsed": false,
     "input": [
      "squares = X ** 2\n",
      "variance_across_variables = squares.sum(axis=0) / 2\n",
      "variance_across_samples = squares.sum(axis=1) / 50\n",
      "print(np.mean(variance_across_variables), np.mean(variance_across_samples))"
     ],
     "language": "python",
     "metadata": {},
     "outputs": [
      {
       "output_type": "stream",
       "stream": "stdout",
       "text": [
        "1.55669289858 1.55669289858\n"
       ]
      }
     ],
     "prompt_number": 8
    },
    {
     "cell_type": "markdown",
     "metadata": {},
     "source": [
      "Let's concentrate on the variance across variables.\n",
      "\n",
      "We can think of each sample as being a point on a 2D coordinate system, where the first variable is the position on the x axis, and the second is the position on the y axis.  In fact, this is how we just plotted the values in the scatter plot.  We can also think of each column as a 2D *vector*.  Call $\\vec{v_j}$ the vector contained in column $j$ of matrix $\\mathbf{X}$, where $j \\in 1..50$."
     ]
    },
    {
     "cell_type": "markdown",
     "metadata": {},
     "source": [
      "The sum of squares across the variables, is also the squared distance of the point (column) from the origin (0, 0).  That is the same as saying that the sum of squares is the squared *length* of $\\vec{v_j}$. This can be written as $\\|\\vec{v_j}\\|^2$"
     ]
    },
    {
     "cell_type": "markdown",
     "metadata": {},
     "source": [
      "Take the first column / point / vector as an example ($\\vec{v_1}$):"
     ]
    },
    {
     "cell_type": "code",
     "collapsed": false,
     "input": [
      "v1 = X[:, 0]\n",
      "v1"
     ],
     "language": "python",
     "metadata": {},
     "outputs": [
      {
       "metadata": {},
       "output_type": "pyout",
       "prompt_number": 9,
       "text": [
        "array([ 3.3783217 ,  2.06815777])"
       ]
      }
     ],
     "prompt_number": 9
    },
    {
     "cell_type": "code",
     "collapsed": false,
     "input": [
      "x, y = v1\n",
      "x_str, y_str = '{:.2f}'.format(x), '{:.2f}'.format(y)\n",
      "plt.plot(0, 0, 'ro')\n",
      "plt.annotate('$(0, 0)$', (0, 0), xytext=(-40, -20), textcoords='offset points', fontsize=20)\n",
      "plt.annotate('$({}, 0)$'.format(x_str), (x, 0), xytext=(10, -20), textcoords='offset points', fontsize=20)\n",
      "plt.plot(x, y, 'ro')\n",
      "plt.annotate(r'$\\vec{{v_1}} = ({}, {})$'.format(x_str, y_str), (x, y),\n",
      "             xytext=(-40, 10), \n",
      "             textcoords='offset points',\n",
      "             fontsize=20)\n",
      "plt.text(x / 2, y / 2, r'$\\|\\vec{{v_1}}\\|$ ={}$\\sqrt{{{}^2 + {}^2}}$'.format('\\n', x_str, y_str),\n",
      "         horizontalalignment='right', fontsize=20)\n",
      "plt.arrow(0, 0, x, 0, color='r', length_includes_head=True, width=0.01)\n",
      "plt.arrow(x, 0, 0, y, color='b', length_includes_head=True, width=0.01)\n",
      "plt.arrow(0, 0, x, y, color='k', length_includes_head=True, width=0.01)\n",
      "_ = plt.axis((min(0, x) - 2, max(0, x) + 2, min(0, y) - 2, max(0, y) + 2))"
     ],
     "language": "python",
     "metadata": {},
     "outputs": [
      {
       "metadata": {},
       "output_type": "display_data",
       "png": "[encoded data removed]",
       "text": [
        "<matplotlib.figure.Figure at 0x1061f5bd0>"
       ]
      }
     ],
     "prompt_number": 10
    },
    {
     "cell_type": "markdown",
     "metadata": {},
     "source": [
      "So, the variance we are trying to explain can be expressed by the sum of the (squared) distance of each point (vector, column) in $\\mathbf{X}$, from the origin (0, 0):"
     ]
    },
    {
     "cell_type": "code",
     "collapsed": false,
     "input": [
      "plt.scatter(X[0], X[1])\n",
      "for point in X.T:  # iterate over columns\n",
      "    plt.plot(0, 0)\n",
      "    plt.plot([0, point[0]], [0, point[1]], 'r:')\n",
      "plt.axis('equal')"
     ],
     "language": "python",
     "metadata": {},
     "outputs": [
      {
       "metadata": {},
       "output_type": "pyout",
       "prompt_number": 11,
       "text": [
        "(-5.0, 4.0, -3.0, 3.0)"
       ]
      },
      {
       "metadata": {},
       "output_type": "display_data",
       "png": "[encoded data removed]",
       "text": [
        "<matplotlib.figure.Figure at 0x106131b90>"
       ]
      }
     ],
     "prompt_number": 11
    },
    {
     "cell_type": "markdown",
     "metadata": {},
     "source": [
      "We are trying to explain the squares of the lengths of the dotted red lines on the plot.\n",
      "\n",
      "At the moment, we have not explained anything, so our current unexplained sum of squares is:"
     ]
    },
    {
     "cell_type": "code",
     "collapsed": false,
     "input": [
      "np.sum(X ** 2)"
     ],
     "language": "python",
     "metadata": {},
     "outputs": [
      {
       "metadata": {},
       "output_type": "pyout",
       "prompt_number": 12,
       "text": [
        "155.66928985835315"
       ]
      }
     ],
     "prompt_number": 12
    },
    {
     "cell_type": "markdown",
     "metadata": {},
     "source": [
      "Let is now say that we want to try and find a line that will explain the maximum variance (sum of squares).\n",
      "\n",
      "We define our line with a unit vector $\\hat{u}$.  All points on the line can be expressed with $c\\hat{u}$ where $c$ is a scalar.\n",
      "\n",
      "Our best fitting line $c\\hat{u}$ is the line that comes closest to the points, in the sense of minimizing the squared distance between the line and points.\n",
      "\n",
      "Put a little more formally, for each point $\\vec{v_i}$ we will find the distance $d_i$ between $\\vec{v_i}$ and the line.  We want the line with the smallest $\\sum_i{d_i^2}$."
     ]
    },
    {
     "cell_type": "markdown",
     "metadata": {},
     "source": [
      "What do we mean by the *distance* in this case?  The distance $d_i$ is the distance between the point $\\vec{v_i}$ and the projection of that point onto the line $s\\hat{u}$.  The projection of $\\vec{v_i}$ onto the line defined by $\\hat{u}$ is, as we remember, given by $c\\hat{u}$ where $c = \\vec{v_i}\\cdot\\hat{u}$."
     ]
    },
    {
     "cell_type": "markdown",
     "metadata": {},
     "source": [
      "Looking at the scatterplot, we might consider trying a unit vector at 45 degrees angle to the x axis:"
     ]
    },
    {
     "cell_type": "code",
     "collapsed": false,
     "input": [
      "u_guessed = np.array([np.cos(np.pi / 4), np.sin(np.pi / 4)])\n",
      "u_guessed"
     ],
     "language": "python",
     "metadata": {},
     "outputs": [
      {
       "metadata": {},
       "output_type": "pyout",
       "prompt_number": 13,
       "text": [
        "array([ 0.70710678,  0.70710678])"
       ]
      }
     ],
     "prompt_number": 13
    },
    {
     "cell_type": "code",
     "collapsed": false,
     "input": [
      "plt.scatter(X[0], X[1])\n",
      "plt.arrow(0, 0, u_guessed[0], u_guessed[1], width=0.01, color='r')\n",
      "plt.axis('equal')"
     ],
     "language": "python",
     "metadata": {},
     "outputs": [
      {
       "metadata": {},
       "output_type": "pyout",
       "prompt_number": 14,
       "text": [
        "(-5.0, 4.0, -3.0, 3.0)"
       ]
      },
      {
       "metadata": {},
       "output_type": "display_data",
       "png": "[encoded data removed]",
       "text": [
        "<matplotlib.figure.Figure at 0x106131550>"
       ]
      }
     ],
     "prompt_number": 14
    },
    {
     "cell_type": "markdown",
     "metadata": {},
     "source": [
      "Let's project all the points onto that line:"
     ]
    },
    {
     "cell_type": "code",
     "collapsed": false,
     "input": [
      "u_guessed_row = u_guessed.reshape(1, 2)  # A row vector\n",
      "c_values = u_guessed_row.dot(X)  # c values for scaling u\n",
      "projected = u_guessed_row.T.dot(c_values)  # scale u by values to get projection"
     ],
     "language": "python",
     "metadata": {},
     "outputs": [],
     "prompt_number": 15
    },
    {
     "cell_type": "code",
     "collapsed": false,
     "input": [
      "plt.scatter(X[0], X[1], label='actual')\n",
      "plt.scatter(projected[0], projected[1], color='r', label='projected')\n",
      "for i in range(X.shape[1]):\n",
      "    # Plot line between projected and actual point\n",
      "    proj_pt = projected[:, i]\n",
      "    actual_pt = X[:, i]\n",
      "    plt.plot([proj_pt[0], actual_pt[0]], [proj_pt[1], actual_pt[1]], 'k')\n",
      "plt.axis('equal')\n",
      "plt.legend(loc='upper left')\n",
      "plt.title(\"Actual and projected points\")"
     ],
     "language": "python",
     "metadata": {},
     "outputs": [
      {
       "metadata": {},
       "output_type": "pyout",
       "prompt_number": 16,
       "text": [
        "<matplotlib.text.Text at 0x10634c950>"
       ]
      },
      {
       "metadata": {},
       "output_type": "display_data",
       "png": "[encoded data removed]",
       "text": [
        "<matplotlib.figure.Figure at 0x106b61310>"
       ]
      }
     ],
     "prompt_number": 16
    },
    {
     "cell_type": "markdown",
     "metadata": {},
     "source": [
      "Now I can calculate the distances:"
     ]
    },
    {
     "cell_type": "code",
     "collapsed": false,
     "input": [
      "remaining = X - projected\n",
      "distances = np.sqrt((remaining ** 2).sum(axis=0))\n",
      "distances"
     ],
     "language": "python",
     "metadata": {},
     "outputs": [
      {
       "metadata": {},
       "output_type": "pyout",
       "prompt_number": 17,
       "text": [
        "array([ 0.9264258 ,  0.71426675,  0.29312499,  0.41527826,  0.06212573,\n",
        "        0.79318814,  0.68455384,  1.68654891,  0.34062881,  0.00674608,\n",
        "        0.30113815,  0.40539657,  0.99582768,  0.17135551,  1.09474195,\n",
        "        0.78058277,  0.18356587,  0.9747337 ,  0.73200779,  0.49583326,\n",
        "        0.9632401 ,  1.36281666,  0.26286832,  0.09259664,  0.47780329,\n",
        "        0.04151855,  0.84132951,  0.33800965,  0.0198244 ,  0.85335614,\n",
        "        0.06981433,  0.24426315,  0.34796767,  0.47006229,  0.70514523,\n",
        "        1.17370933,  0.83870882,  1.00606869,  0.73159401,  0.74942988,\n",
        "        0.34328108,  0.55683988,  0.28791204,  0.47947506,  0.9777346 ,\n",
        "        0.06430814,  0.1273749 ,  0.15742452,  0.0101704 ,  0.51999721])"
       ]
      }
     ],
     "prompt_number": 17
    },
    {
     "cell_type": "markdown",
     "metadata": {},
     "source": [
      "I can also express the overall (squared) distance as the sum of squares:"
     ]
    },
    {
     "cell_type": "code",
     "collapsed": false,
     "input": [
      "(remaining ** 2).sum()"
     ],
     "language": "python",
     "metadata": {},
     "outputs": [
      {
       "metadata": {},
       "output_type": "pyout",
       "prompt_number": 18,
       "text": [
        "22.287969115193118"
       ]
      }
     ],
     "prompt_number": 18
    },
    {
     "cell_type": "markdown",
     "metadata": {},
     "source": [
      "I'm going to try a whole lot of different values for $\\hat{u}$, so I will make a function to calculate the remaining vectors after projecting onto a line defined by $\\hat{u}$:"
     ]
    },
    {
     "cell_type": "code",
     "collapsed": false,
     "input": [
      "def line_projection(u, X):\n",
      "    u = u.reshape(1, 2)  # A row vector\n",
      "    c_values = u.dot(X)  # c values for scaling u\n",
      "    projected = u.T.dot(c_values)\n",
      "    return projected"
     ],
     "language": "python",
     "metadata": {},
     "outputs": [],
     "prompt_number": 19
    },
    {
     "cell_type": "code",
     "collapsed": false,
     "input": [
      "def line_remaining(u, X):\n",
      "    projected = line_projection(u, X)\n",
      "    remaining = X - projected\n",
      "    return remaining"
     ],
     "language": "python",
     "metadata": {},
     "outputs": [],
     "prompt_number": 20
    },
    {
     "cell_type": "code",
     "collapsed": false,
     "input": [
      "(line_remaining(u_guessed, X) ** 2).sum()"
     ],
     "language": "python",
     "metadata": {},
     "outputs": [
      {
       "metadata": {},
       "output_type": "pyout",
       "prompt_number": 21,
       "text": [
        "22.287969115193118"
       ]
      }
     ],
     "prompt_number": 21
    },
    {
     "cell_type": "markdown",
     "metadata": {},
     "source": [
      "Now I will make $\\hat{u}$ vectors spanning half the circle, and get the corresponding residual sum of squares:"
     ]
    },
    {
     "cell_type": "code",
     "collapsed": false,
     "input": [
      "angles = np.linspace(0, np.pi, 500)\n",
      "x = np.cos(angles)\n",
      "y = np.sin(angles)\n",
      "u_vectors = np.vstack((x, y))\n",
      "u_vectors.shape"
     ],
     "language": "python",
     "metadata": {},
     "outputs": [
      {
       "metadata": {},
       "output_type": "pyout",
       "prompt_number": 22,
       "text": [
        "(2, 500)"
       ]
      }
     ],
     "prompt_number": 22
    },
    {
     "cell_type": "code",
     "collapsed": false,
     "input": [
      "plt.plot(u_vectors[0], u_vectors[1], '+')"
     ],
     "language": "python",
     "metadata": {},
     "outputs": [
      {
       "metadata": {},
       "output_type": "pyout",
       "prompt_number": 23,
       "text": [
        "[<matplotlib.lines.Line2D at 0x10681d3d0>]"
       ]
      },
      {
       "metadata": {},
       "output_type": "display_data",
       "png": "[encoded data removed]",
       "text": [
        "<matplotlib.figure.Figure at 0x10643a350>"
       ]
      }
     ],
     "prompt_number": 23
    },
    {
     "cell_type": "code",
     "collapsed": false,
     "input": [
      "remaining_ss = []\n",
      "for u in u_vectors.T: # iterate over columns\n",
      "    remaining = line_remaining(u, X)\n",
      "    remaining_ss.append((remaining ** 2).sum())"
     ],
     "language": "python",
     "metadata": {},
     "outputs": [],
     "prompt_number": 24
    },
    {
     "cell_type": "code",
     "collapsed": false,
     "input": [
      "plt.plot(angles, remaining_ss)"
     ],
     "language": "python",
     "metadata": {},
     "outputs": [
      {
       "metadata": {},
       "output_type": "pyout",
       "prompt_number": 25,
       "text": [
        "[<matplotlib.lines.Line2D at 0x1069bead0>]"
       ]
      },
      {
       "metadata": {},
       "output_type": "display_data",
       "png": "[encoded data removed]",
       "text": [
        "<matplotlib.figure.Figure at 0x106338f10>"
       ]
      }
     ],
     "prompt_number": 25
    },
    {
     "cell_type": "markdown",
     "metadata": {},
     "source": [
      "It looks like the minimum value is for a unit vector at around angle 0.5 radians:"
     ]
    },
    {
     "cell_type": "code",
     "collapsed": false,
     "input": [
      "min_i = np.argmin(remaining_ss)\n",
      "angle_best = angles[min_i]\n",
      "angle_best"
     ],
     "language": "python",
     "metadata": {},
     "outputs": [
      {
       "metadata": {},
       "output_type": "pyout",
       "prompt_number": 26,
       "text": [
        "0.4973663720112097"
       ]
      }
     ],
     "prompt_number": 26
    },
    {
     "cell_type": "code",
     "collapsed": false,
     "input": [
      "u_best = u_vectors[:, min_i]\n",
      "u_best"
     ],
     "language": "python",
     "metadata": {},
     "outputs": [
      {
       "metadata": {},
       "output_type": "pyout",
       "prompt_number": 27,
       "text": [
        "array([ 0.87884215,  0.47711265])"
       ]
      }
     ],
     "prompt_number": 27
    },
    {
     "cell_type": "markdown",
     "metadata": {},
     "source": [
      "Now we have found a reasonable choice for our first best fitting line, we have a set of remaining vectors that we have not explained.  These are the vectors between the projected and actual points."
     ]
    },
    {
     "cell_type": "code",
     "collapsed": false,
     "input": [
      "remaining = line_remaining(u_best, X)"
     ],
     "language": "python",
     "metadata": {},
     "outputs": [],
     "prompt_number": 28
    },
    {
     "cell_type": "code",
     "collapsed": false,
     "input": [
      "plt.scatter(remaining[0], remaining[1], label='remaining')\n",
      "plt.arrow(0, 0, u_best[0], u_best[1], width=0.01, color='r')\n",
      "plt.annotate('$\\hat{u_{best}}$', u_best, xytext=(20, 20), textcoords='offset points', fontsize=20)\n",
      "plt.legend(loc='upper left')\n",
      "plt.axis('equal')"
     ],
     "language": "python",
     "metadata": {},
     "outputs": [
      {
       "metadata": {},
       "output_type": "pyout",
       "prompt_number": 29,
       "text": [
        "(-1.0, 0.60000000000000009, -1.5, 2.0)"
       ]
      },
      {
       "metadata": {},
       "output_type": "display_data",
       "png": "[encoded data removed]",
       "text": [
        "<matplotlib.figure.Figure at 0x1062ba050>"
       ]
      }
     ],
     "prompt_number": 29
    },
    {
     "cell_type": "markdown",
     "metadata": {},
     "source": [
      "Now it is obvious the next line we need to best explain the remaining sum of squares.  We want another unit vector orthogonal to the first.  This is because we have already explained everything that can be explained along the direction of $\\hat{u_{best}}$, and we only have two dimensions, so there is only one remaining direction along which the variation can occur."
     ]
    },
    {
     "cell_type": "code",
     "collapsed": false,
     "input": [
      "u_best_orth = np.array([np.cos(angle_best + np.pi / 2), np.sin(angle_best + np.pi / 2)])\n",
      "plt.scatter(remaining[0], remaining[1], label='remaining')\n",
      "plt.arrow(0, 0, u_best[0], u_best[1], width=0.01, color='r')\n",
      "plt.arrow(0, 0, u_best_orth[0], u_best_orth[1], width=0.01, color='g')\n",
      "plt.annotate('$\\hat{u_{best}}$', u_best, xytext=(20, 20), textcoords='offset points', fontsize=20)\n",
      "plt.annotate('$\\hat{u_{orth}}$', u_best_orth, xytext=(20, 20), textcoords='offset points', fontsize=20)\n",
      "plt.axis('equal')"
     ],
     "language": "python",
     "metadata": {},
     "outputs": [
      {
       "metadata": {},
       "output_type": "pyout",
       "prompt_number": 30,
       "text": [
        "(-1.0, 0.60000000000000009, -1.5, 2.0)"
       ]
      },
      {
       "metadata": {},
       "output_type": "display_data",
       "png": "[encoded data removed]",
       "text": [
        "<matplotlib.figure.Figure at 0x1068b7950>"
       ]
      }
     ],
     "prompt_number": 30
    },
    {
     "cell_type": "markdown",
     "metadata": {},
     "source": [
      "Now the projections onto $\\hat{u_{orth}}$ are the same as the remaining points, because the remaining points already lie along the line defined by $\\hat{u_{orth}}$."
     ]
    },
    {
     "cell_type": "code",
     "collapsed": false,
     "input": [
      "projected_onto_orth = line_projection(u_best_orth, remaining)\n",
      "np.allclose(projected_onto_orth, remaining)"
     ],
     "language": "python",
     "metadata": {},
     "outputs": [
      {
       "metadata": {},
       "output_type": "pyout",
       "prompt_number": 31,
       "text": [
        "True"
       ]
      }
     ],
     "prompt_number": 31
    },
    {
     "cell_type": "markdown",
     "metadata": {},
     "source": [
      "If we have really found the line $\\hat{u_{best}}$ that removes the most sum of squares from the remaining points, then this is the *first principal component* of $\\mathbf{X}$. $\\hat{u_{orth}}$ will be the second principal component of $\\mathbf{X}$."
     ]
    },
    {
     "cell_type": "markdown",
     "metadata": {},
     "source": [
      "Now for a trick.  Remember that the two principal components are orthogonal to one another.  That means, that if I project the data onto the second principal component $\\hat{u_{orth}}$, I will (by the definition of orthogonal) pick up no component of the vectors $\\vec{v_i}$ that is colinear (predictable via projection) of $\\hat{u_{best}}$.\n",
      "\n",
      "This means that I can go straight to the projection onto the second component, from the original array $\\mathbf{X}$."
     ]
    },
    {
     "cell_type": "code",
     "collapsed": false,
     "input": [
      "projected_onto_orth_again = line_projection(u_best_orth, X)  # project direct from data\n",
      "np.allclose(projected_onto_orth_again - projected_onto_orth, 0)"
     ],
     "language": "python",
     "metadata": {},
     "outputs": [
      {
       "metadata": {},
       "output_type": "pyout",
       "prompt_number": 32,
       "text": [
        "True"
       ]
      }
     ],
     "prompt_number": 32
    },
    {
     "cell_type": "markdown",
     "metadata": {},
     "source": [
      "Notice also that I have partititioned the sums of squares of the data into a part that can be explained by the first component, and a part that can be explained by the second:"
     ]
    },
    {
     "cell_type": "code",
     "collapsed": false,
     "input": [
      "# Total sum of squares\n",
      "np.sum(X ** 2)"
     ],
     "language": "python",
     "metadata": {},
     "outputs": [
      {
       "metadata": {},
       "output_type": "pyout",
       "prompt_number": 33,
       "text": [
        "155.66928985835315"
       ]
      }
     ],
     "prompt_number": 33
    },
    {
     "cell_type": "code",
     "collapsed": false,
     "input": [
      "# The data projected onto the first component\n",
      "proj_onto_first = line_projection(u_best, X)\n",
      "# The data projected onto the second component\n",
      "proj_onto_second = line_projection(u_best_orth, X)\n",
      "# Sum of squares in the projection onto the first\n",
      "ss_in_first = np.sum(proj_onto_first ** 2)\n",
      "# Sum of squares in the projection onto the second\n",
      "ss_in_second = np.sum(proj_onto_second ** 2)\n",
      "# They add up to the total sum of squares\n",
      "ss_in_first, ss_in_second, ss_in_first + ss_in_second"
     ],
     "language": "python",
     "metadata": {},
     "outputs": [
      {
       "metadata": {},
       "output_type": "pyout",
       "prompt_number": 34,
       "text": [
        "(143.97300126847622, 11.696288589876916, 155.66928985835315)"
       ]
      }
     ],
     "prompt_number": 34
    },
    {
     "cell_type": "markdown",
     "metadata": {},
     "source": [
      "## Finding the principal components with SVD"
     ]
    },
    {
     "cell_type": "markdown",
     "metadata": {},
     "source": [
      "You now know what a principal component analysis is.\n",
      "\n",
      "It turns out there is a much quicker way to find the components than the slow and dumb search that I did above.\n",
      "\n",
      "For reasons that we don't have space to go into, we can get the components like this:"
     ]
    },
    {
     "cell_type": "code",
     "collapsed": false,
     "input": [
      "def pca(X):\n",
      "    covariance = X.dot(X.T)\n",
      "    U, S, V = npl.svd(covariance)\n",
      "    return V"
     ],
     "language": "python",
     "metadata": {},
     "outputs": [],
     "prompt_number": 35
    },
    {
     "cell_type": "code",
     "collapsed": false,
     "input": [
      "pca(X)"
     ],
     "language": "python",
     "metadata": {},
     "outputs": [
      {
       "metadata": {},
       "output_type": "pyout",
       "prompt_number": 36,
       "text": [
        "array([[-0.87829753, -0.47811447],\n",
        "       [-0.47811447,  0.87829753]])"
       ]
      }
     ],
     "prompt_number": 36
    },
    {
     "cell_type": "markdown",
     "metadata": {},
     "source": [
      "Remember that a vector $\\vec{r}$ defines the same line as the vector $-\\vec{r}$, so we do not care about a flip in the sign of the principal components:"
     ]
    },
    {
     "cell_type": "code",
     "collapsed": false,
     "input": [
      "u_best"
     ],
     "language": "python",
     "metadata": {},
     "outputs": [
      {
       "metadata": {},
       "output_type": "pyout",
       "prompt_number": 37,
       "text": [
        "array([ 0.87884215,  0.47711265])"
       ]
      }
     ],
     "prompt_number": 37
    },
    {
     "cell_type": "code",
     "collapsed": false,
     "input": [
      "u_best_orth"
     ],
     "language": "python",
     "metadata": {},
     "outputs": [
      {
       "metadata": {},
       "output_type": "pyout",
       "prompt_number": 38,
       "text": [
        "array([-0.47711265,  0.87884215])"
       ]
      }
     ],
     "prompt_number": 38
    }
   ],
   "metadata": {}
  }
 ]
}