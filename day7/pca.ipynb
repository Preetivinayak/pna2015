{
 "metadata": {
  "name": "",
  "signature": "sha256:85584f8a9891a2ee1c176be192473f14be271e4e99725822a92bc229ba217b56"
 },
 "name": "pca",
 "nbformat": 3,
 "nbformat_minor": 0,
 "worksheets": [
  {
   "cells": [
    {
     "cell_type": "code",
     "collapsed": false,
     "input": [
      "# - compatibility with Python 3\n",
      "from __future__ import print_function  # print('me') instead of print 'me'\n",
      "from __future__ import division  # 1/2 == 0.5, not 0"
     ],
     "language": "python",
     "metadata": {},
     "outputs": []
    },
    {
     "cell_type": "code",
     "collapsed": false,
     "input": [
      "# - show figures inside the notebook\n",
      "%matplotlib inline"
     ],
     "language": "python",
     "metadata": {},
     "outputs": []
    },
    {
     "cell_type": "code",
     "collapsed": false,
     "input": [
      "# - import common modules\n",
      "import numpy as np  # the Python array package\n",
      "import matplotlib.pyplot as plt  # the Python plotting package"
     ],
     "language": "python",
     "metadata": {},
     "outputs": []
    },
    {
     "cell_type": "code",
     "collapsed": false,
     "input": [
      "# - import numpy.linalg with a shorter name\n",
      "import numpy.linalg as npl"
     ],
     "language": "python",
     "metadata": {},
     "outputs": []
    },
    {
     "cell_type": "markdown",
     "metadata": {},
     "source": [
      "Load the image `ds114_sub009_t2r1.nii` with nibabel.  Get the data:"
     ]
    },
    {
     "cell_type": "code",
     "collapsed": false,
     "input": [
      "# Load the image 'ds114_sub009_t2r1.nii' with nibabel\n",
      "# Get the data array from the image"
     ],
     "language": "python",
     "metadata": {},
     "outputs": []
    },
    {
     "cell_type": "markdown",
     "metadata": {},
     "source": [
      "We can think of the shape of the data as two parts - the first 3 values are the 3D shape of the individual volumes, and the lasst value is the number of volumes."
     ]
    },
    {
     "cell_type": "markdown",
     "metadata": {},
     "source": [
      "Put the 3D shape into a variable `vol_shape` and the number of volumes into a variable `n_vols`:"
     ]
    },
    {
     "cell_type": "code",
     "collapsed": false,
     "input": [
      "# Make variables:\n",
      "# 'vol_shape' for shape of volumes\n",
      "# 'n_vols' for number of volumes"
     ],
     "language": "python",
     "metadata": {},
     "outputs": []
    },
    {
     "cell_type": "markdown",
     "metadata": {},
     "source": [
      "We are going to start by looking at only the first two \"variables\" (time points)."
     ]
    },
    {
     "cell_type": "markdown",
     "metadata": {},
     "source": [
      "Slice the data array to make a new array that contains only the first two volumes:"
     ]
    },
    {
     "cell_type": "code",
     "collapsed": false,
     "input": [
      "# Slice the image data array to give array with only first two volumes"
     ],
     "language": "python",
     "metadata": {},
     "outputs": []
    },
    {
     "cell_type": "markdown",
     "metadata": {},
     "source": [
      "How many voxels are there in one volume?  Call this number variable `N`:"
     ]
    },
    {
     "cell_type": "code",
     "collapsed": false,
     "input": [
      "# Set N to be the number of voxels in a volume"
     ],
     "language": "python",
     "metadata": {},
     "outputs": []
    },
    {
     "cell_type": "markdown",
     "metadata": {},
     "source": [
      "Reshape the new two-volume data array to have a first dimension length `N` and second dimension length 2. So, each column corresponds to the voxels for one volume."
     ]
    },
    {
     "cell_type": "code",
     "collapsed": false,
     "input": [
      "# Reshape to 2D array with first dimension length N"
     ],
     "language": "python",
     "metadata": {},
     "outputs": []
    },
    {
     "cell_type": "markdown",
     "metadata": {},
     "source": [
      "Take the transpose of this array to get a 2 by `N` array, ready for the PCA:"
     ]
    },
    {
     "cell_type": "code",
     "collapsed": false,
     "input": [
      "# Transpose to 2 by N array"
     ],
     "language": "python",
     "metadata": {},
     "outputs": []
    },
    {
     "cell_type": "markdown",
     "metadata": {},
     "source": [
      "Calculate the mean across columns (row means):"
     ]
    },
    {
     "cell_type": "code",
     "collapsed": false,
     "input": [
      "# Calculate the mean across columns"
     ],
     "language": "python",
     "metadata": {},
     "outputs": []
    },
    {
     "cell_type": "markdown",
     "metadata": {},
     "source": [
      "Expand the row_means vector out to a 2 by N array by using `np.outer` and a vector of ones:"
     ]
    },
    {
     "cell_type": "code",
     "collapsed": false,
     "input": [
      "# Row means copied N times to become a 2 by N array"
     ],
     "language": "python",
     "metadata": {},
     "outputs": []
    },
    {
     "cell_type": "markdown",
     "metadata": {},
     "source": [
      "Subtract this expanded 2 by N means array from the 2 by N data matrix and put the result into a variable `X`. Print the means across columns (row means) to check they are now very close to 0:"
     ]
    },
    {
     "cell_type": "code",
     "collapsed": false,
     "input": [
      "# Subtract the means for each row, put the result into X\n",
      "# Show the means over the columns, after the subtraction"
     ],
     "language": "python",
     "metadata": {},
     "outputs": []
    },
    {
     "cell_type": "markdown",
     "metadata": {},
     "source": [
      "Plot the two rows against each other to get a feel for the variation.  Remember that each row in `X` is a volume, so you are plotting the signal from the first volume against the signal for the second volume."
     ]
    },
    {
     "cell_type": "code",
     "collapsed": false,
     "input": [
      "# Plot the signal in the first row against the signal in the second"
     ],
     "language": "python",
     "metadata": {},
     "outputs": []
    },
    {
     "cell_type": "markdown",
     "metadata": {},
     "source": [
      "Time for the PCA.  \n",
      "\n",
      "We are going to use the *unscaled* covariance.  This is given by the matrix multiplication of `X` with its transpose.  Calculate this:"
     ]
    },
    {
     "cell_type": "code",
     "collapsed": false,
     "input": [
      "# Calculate unscaled covariance matrix for X"
     ],
     "language": "python",
     "metadata": {},
     "outputs": []
    },
    {
     "cell_type": "markdown",
     "metadata": {},
     "source": [
      "Use SVD to get the U, S and V matrices from the unscaled covariance:"
     ]
    },
    {
     "cell_type": "code",
     "collapsed": false,
     "input": [
      "# Use SVD to return U, S, V matrices from unscaled covariance"
     ],
     "language": "python",
     "metadata": {},
     "outputs": []
    },
    {
     "cell_type": "markdown",
     "metadata": {},
     "source": [
      "Confirm that the row vectors in `V` are both unit vectors (have vector length of 1):"
     ]
    },
    {
     "cell_type": "code",
     "collapsed": false,
     "input": [
      "# Show that the rows in V each have vector length 1"
     ],
     "language": "python",
     "metadata": {},
     "outputs": []
    },
    {
     "cell_type": "markdown",
     "metadata": {},
     "source": [
      "Confirm that the first row in `V` is orthogonal to the second:"
     ]
    },
    {
     "cell_type": "code",
     "collapsed": false,
     "input": [
      "# Confirm orthogonality of rows in V"
     ],
     "language": "python",
     "metadata": {},
     "outputs": []
    },
    {
     "cell_type": "markdown",
     "metadata": {},
     "source": [
      "Show the total sum of squares in `X`.   Confirm that the total sum of squares in `X` is the same as the sum of the *singular values* in the `S` vector from the SVD:"
     ]
    },
    {
     "cell_type": "code",
     "collapsed": false,
     "input": [
      "# Show the total sum of squares in X\n",
      "# Is this (nearly) the same as the sum of the values in S?"
     ],
     "language": "python",
     "metadata": {},
     "outputs": []
    },
    {
     "cell_type": "markdown",
     "metadata": {},
     "source": [
      "Plot the first row in `X` against the second row in `X` again.  This time add a line corresponding to the first principal component.  You'll have to scale this line (a unit vector) to make it long enough to see on the axes of the plot.  If the first principal component is flipped ($\\vec{r}$ defines same line as $-\\vec{r}$) you may need to scale by a negative number for it to look nice on the plot:"
     ]
    },
    {
     "cell_type": "code",
     "collapsed": false,
     "input": [
      "# Plot the signal in the first row against the signal in the second\n",
      "# Plot line corresponding to a scaled version of the first principal component\n",
      "# (Scaling may need to be negative)"
     ],
     "language": "python",
     "metadata": {},
     "outputs": []
    },
    {
     "cell_type": "markdown",
     "metadata": {},
     "source": [
      "Use the projection formula $c = \\hat{u} \\cdot \\vec{v}$ and matrix multiplication to calculate the projection coefficients `C` for projecting the data `X` onto the vectors in `V`:"
     ]
    },
    {
     "cell_type": "code",
     "collapsed": false,
     "input": [
      "# Calculate the projection coefficients for projecting X onto the vectors in V\n",
      "# Put the result into a new array C."
     ],
     "language": "python",
     "metadata": {},
     "outputs": []
    },
    {
     "cell_type": "markdown",
     "metadata": {},
     "source": [
      "Remember that `C` - the projection coefficients - has one column per voxel.  We can think of each row as corresponding to a volume where the volumes are contained in: `C[0]` (first row of `C`) - projection coefficients for first principal component; `C[1]` (second row of C) - projection coefficients for second principal component."
     ]
    },
    {
     "cell_type": "markdown",
     "metadata": {},
     "source": [
      "Take the transpose of `C` and reshape the resulting first dimension (length `N`) back to `vol_shape` - the original shape of the 3D volumes in the data."
     ]
    },
    {
     "cell_type": "code",
     "collapsed": false,
     "input": [
      "# Transpose C\n",
      "# Reshape the first dimension of C to have the 3D shape of the original data volumes."
     ],
     "language": "python",
     "metadata": {},
     "outputs": []
    },
    {
     "cell_type": "markdown",
     "metadata": {},
     "source": [
      "Break this 4D array up into two volumes (volume for first component, volume for second component) using slicing:"
     ]
    },
    {
     "cell_type": "code",
     "collapsed": false,
     "input": [
      "# Break 4D array into two 3D volumes"
     ],
     "language": "python",
     "metadata": {},
     "outputs": []
    },
    {
     "cell_type": "markdown",
     "metadata": {},
     "source": [
      "Show the middle slice (slice over the third dimension) from the volume of coefficients for the first component:"
     ]
    },
    {
     "cell_type": "code",
     "collapsed": false,
     "input": [
      "# Show middle slice (over third dimension) from volume of coefficients for first component"
     ],
     "language": "python",
     "metadata": {},
     "outputs": []
    },
    {
     "cell_type": "markdown",
     "metadata": {},
     "source": [
      "Show the middle slice (slice over the third dimension) from the volume of coefficients for the second component:"
     ]
    },
    {
     "cell_type": "code",
     "collapsed": false,
     "input": [
      "# Show middle slice (over third dimension) from volume of coefficients for second component"
     ],
     "language": "python",
     "metadata": {},
     "outputs": []
    },
    {
     "cell_type": "markdown",
     "metadata": {},
     "source": [
      "Now we are ready to do the same thing for all the time points, instead of just the first two."
     ]
    },
    {
     "cell_type": "markdown",
     "metadata": {},
     "source": [
      "Take the original array data matrix with `n_vols` volumes.  Reshape to be shape `(N, nvols)`.  Take the transpose to get an array shape `(n_vols, N)`:"
     ]
    },
    {
     "cell_type": "code",
     "collapsed": false,
     "input": [
      "# Reshape first dimension of whole image data array to N, and take transpose"
     ],
     "language": "python",
     "metadata": {},
     "outputs": []
    },
    {
     "cell_type": "markdown",
     "metadata": {},
     "source": [
      "Calculate the mean across columns (mean per volume).  Expand this 1D shape `(173,)` vector to an array shape `(173, N)`, using `np.outer` and a vector of ones.  Subtract this array from the `(173, N)` data array to remove the mean across columns (mean per volume).  Call this mean-corrected variable `X`:"
     ]
    },
    {
     "cell_type": "code",
     "collapsed": false,
     "input": [
      "# Calculate mean across columns\n",
      "# Expand to (173, N) shape using np.outer\n",
      "# Subtract from data array to remove mean over columns (row means)\n",
      "# Put result into array X"
     ],
     "language": "python",
     "metadata": {},
     "outputs": []
    },
    {
     "cell_type": "markdown",
     "metadata": {},
     "source": [
      "Get the unscaled covariance matrix of X:"
     ]
    },
    {
     "cell_type": "code",
     "collapsed": false,
     "input": [
      "# Calculate unscaled covariance matrix of X"
     ],
     "language": "python",
     "metadata": {},
     "outputs": []
    },
    {
     "cell_type": "markdown",
     "metadata": {},
     "source": [
      "Get U, S, V outputs from the SVD of the unscaled covariance"
     ]
    },
    {
     "cell_type": "code",
     "collapsed": false,
     "input": [
      "# Calculate U, S, V with SVD on unscaled covariance matrix"
     ],
     "language": "python",
     "metadata": {},
     "outputs": []
    },
    {
     "cell_type": "markdown",
     "metadata": {},
     "source": [
      "Use `plt.subplots` to make a column of 10 axes.  Iterate over these axes, plotting one principal component vector per axis.  You should then have a plot of each of the first 10 principal component vectors:"
     ]
    },
    {
     "cell_type": "code",
     "collapsed": false,
     "input": [
      "# Use subplots to make axes to plot first 10 principle component vectors\n",
      "# Plot one component vector per sub-plot."
     ],
     "language": "python",
     "metadata": {},
     "outputs": []
    },
    {
     "cell_type": "markdown",
     "metadata": {},
     "source": [
      "Use `V` and matrix multiplication to calculate the projection coefficients for projecting the data `X` onto the principal components `V`.  Put the result into `C`:"
     ]
    },
    {
     "cell_type": "code",
     "collapsed": false,
     "input": [
      "# Calculate projection coefficients for projecting X onto V\n",
      "# Put results into array C."
     ],
     "language": "python",
     "metadata": {},
     "outputs": []
    },
    {
     "cell_type": "markdown",
     "metadata": {},
     "source": [
      "Remember, each row of `C` is a full volume of projection coefficients, one row per principal component."
     ]
    },
    {
     "cell_type": "markdown",
     "metadata": {},
     "source": [
      "Reconstruct these rows as volumes by taking the transpose of `C` and reshaping the first dimension length `N` to the original three dimensions of the original data volumes."
     ]
    },
    {
     "cell_type": "code",
     "collapsed": false,
     "input": [
      "# Transpose C\n",
      "# Reshape the first dimension of C to have the 3D shape of the original data volumes."
     ],
     "language": "python",
     "metadata": {},
     "outputs": []
    },
    {
     "cell_type": "markdown",
     "metadata": {},
     "source": [
      "Take the first volume (corresponding to the first principal component) and display the middle slice (slicing over the third dimension):"
     ]
    },
    {
     "cell_type": "code",
     "collapsed": false,
     "input": [
      "# Show middle slice (over third dimension) of first principal component volume"
     ],
     "language": "python",
     "metadata": {},
     "outputs": []
    },
    {
     "cell_type": "markdown",
     "metadata": {},
     "source": [
      "Display the middle slice (slicing over the third dimension) for the second principal component volume:"
     ]
    },
    {
     "cell_type": "code",
     "collapsed": false,
     "input": [
      "# Show middle slice (over third dimension) of second principal component volume"
     ],
     "language": "python",
     "metadata": {},
     "outputs": []
    },
    {
     "cell_type": "markdown",
     "metadata": {},
     "source": [
      "Do the same for the third principal component volume:"
     ]
    },
    {
     "cell_type": "code",
     "collapsed": false,
     "input": [
      "# Show middle slice (over third dimension) of third principal component volume"
     ],
     "language": "python",
     "metadata": {},
     "outputs": []
    }
   ],
   "metadata": {}
  }
 ]
}