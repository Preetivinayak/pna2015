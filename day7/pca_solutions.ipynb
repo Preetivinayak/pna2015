{
 "metadata": {
  "name": "",
  "signature": "sha256:5afdf300044f5e18d26e0b3f451658e423f6bcb914bee9ce3a3b1ff9477d4947"
 },
 "nbformat": 3,
 "nbformat_minor": 0,
 "worksheets": [
  {
   "cells": [
    {
     "cell_type": "code",
     "collapsed": false,
     "input": [
      "# - compatibility with Python 3\n",
      "from __future__ import print_function  # print('me') instead of print 'me'\n",
      "from __future__ import division  # 1/2 == 0.5, not 0"
     ],
     "language": "python",
     "metadata": {},
     "outputs": [],
     "prompt_number": 1
    },
    {
     "cell_type": "code",
     "collapsed": false,
     "input": [
      "# - show figures inside the notebook\n",
      "%matplotlib inline"
     ],
     "language": "python",
     "metadata": {},
     "outputs": [],
     "prompt_number": 2
    },
    {
     "cell_type": "code",
     "collapsed": false,
     "input": [
      "# - import common modules\n",
      "import numpy as np  # the Python array package\n",
      "import matplotlib.pyplot as plt  # the Python plotting package"
     ],
     "language": "python",
     "metadata": {},
     "outputs": [],
     "prompt_number": 3
    },
    {
     "cell_type": "code",
     "collapsed": false,
     "input": [
      "# - import numpy.linalg with a shorter name\n",
      "import numpy.linalg as npl"
     ],
     "language": "python",
     "metadata": {},
     "outputs": [],
     "prompt_number": 4
    },
    {
     "cell_type": "markdown",
     "metadata": {},
     "source": [
      "Load the image `ds114_sub009_t2r1.nii` with nibabel.  Get the data:"
     ]
    },
    {
     "cell_type": "code",
     "collapsed": false,
     "input": [
      "# Load the image 'ds114_sub009_t2r1.nii' with nibabel\n",
      "# Get the data array from the image\n",
      "import nibabel as nib\n",
      "img = nib.load('ds114_sub009_t2r1.nii')\n",
      "data = img.get_data()\n",
      "data.shape"
     ],
     "language": "python",
     "metadata": {},
     "outputs": [
      {
       "metadata": {},
       "output_type": "pyout",
       "prompt_number": 5,
       "text": [
        "(64, 64, 30, 173)"
       ]
      }
     ],
     "prompt_number": 5
    },
    {
     "cell_type": "markdown",
     "metadata": {},
     "source": [
      "Slice the data array to make a new array that contains only the first two volumes:"
     ]
    },
    {
     "cell_type": "code",
     "collapsed": false,
     "input": [
      "# Slice the image data array to give array with only first two volumes\n",
      "first_two = data[..., :2]\n",
      "first_two.shape"
     ],
     "language": "python",
     "metadata": {},
     "outputs": [
      {
       "metadata": {},
       "output_type": "pyout",
       "prompt_number": 6,
       "text": [
        "(64, 64, 30, 2)"
       ]
      }
     ],
     "prompt_number": 6
    },
    {
     "cell_type": "markdown",
     "metadata": {},
     "source": [
      "How many voxels are there in one volume?  Call this number variable `N`:"
     ]
    },
    {
     "cell_type": "code",
     "collapsed": false,
     "input": [
      "# Set N to be the number of voxels in a volume\n",
      "N = np.prod(first_two.shape[:-1])"
     ],
     "language": "python",
     "metadata": {},
     "outputs": [],
     "prompt_number": 7
    },
    {
     "cell_type": "markdown",
     "metadata": {},
     "source": [
      "Reshape the new two-volume data array to have a first dimension length `N` and second dimension length 2. So, each column corresponds to the voxels for one volume."
     ]
    },
    {
     "cell_type": "code",
     "collapsed": false,
     "input": [
      "first_two = first_two.reshape((N, 2))\n",
      "first_two.shape"
     ],
     "language": "python",
     "metadata": {},
     "outputs": [
      {
       "metadata": {},
       "output_type": "pyout",
       "prompt_number": 8,
       "text": [
        "(122880, 2)"
       ]
      }
     ],
     "prompt_number": 8
    },
    {
     "cell_type": "markdown",
     "metadata": {},
     "source": [
      "Take the transpose of this array to get a 2 by `N` array, ready for the PCA:"
     ]
    },
    {
     "cell_type": "code",
     "collapsed": false,
     "input": [
      "# Transpose to 2 by N array\n",
      "first_two = first_two.T\n",
      "first_two.shape"
     ],
     "language": "python",
     "metadata": {},
     "outputs": [
      {
       "metadata": {},
       "output_type": "pyout",
       "prompt_number": 9,
       "text": [
        "(2, 122880)"
       ]
      }
     ],
     "prompt_number": 9
    },
    {
     "cell_type": "markdown",
     "metadata": {},
     "source": [
      "Use numpy `newaxis` and broadcasting to remove the mean across the columns (row means).  Put the result into a variable `X`:"
     ]
    },
    {
     "cell_type": "code",
     "collapsed": false,
     "input": [
      "# Subtract the mean from each row, put the result into X\n",
      "# Show the means over the columns, after the subtraction\n",
      "X = first_two - np.mean(first_two, axis=1)[:, np.newaxis]\n",
      "np.mean(X, axis=1)"
     ],
     "language": "python",
     "metadata": {},
     "outputs": [
      {
       "metadata": {},
       "output_type": "pyout",
       "prompt_number": 10,
       "text": [
        "memmap([ -2.04811004e-10,  -1.46482780e-10])"
       ]
      }
     ],
     "prompt_number": 10
    },
    {
     "cell_type": "markdown",
     "metadata": {},
     "source": [
      "Plot the two rows against each other to get a feel for the variation.  Remember that each row in `X` is a volume, so you are plotting the signal from the first volume against the signal for the second volume."
     ]
    },
    {
     "cell_type": "code",
     "collapsed": false,
     "input": [
      "# Plot the signal in the first row against the signal in the second\n",
      "plt.plot(X[0], X[1], '+')"
     ],
     "language": "python",
     "metadata": {},
     "outputs": [
      {
       "metadata": {},
       "output_type": "pyout",
       "prompt_number": 11,
       "text": [
        "[<matplotlib.lines.Line2D at 0x106f9c510>]"
       ]
      },
      {
       "metadata": {},
       "output_type": "display_data",
       "png": "[encoded data removed]",
       "text": [
        "<matplotlib.figure.Figure at 0x101e31cd0>"
       ]
      }
     ],
     "prompt_number": 11
    },
    {
     "cell_type": "markdown",
     "metadata": {},
     "source": [
      "Time for the PCA.  Calculate the matrix dot product of `X` with its tranpose to get a version of the variance-covariance matrix (but not divided by N):"
     ]
    },
    {
     "cell_type": "code",
     "collapsed": false,
     "input": [
      "XXt = X.dot(first_two.T)\n",
      "XXt"
     ],
     "language": "python",
     "metadata": {},
     "outputs": [
      {
       "metadata": {},
       "output_type": "pyout",
       "prompt_number": 12,
       "text": [
        "memmap([[  8.04237807e+10,   6.12641298e+10],\n",
        "       [  6.12641298e+10,   4.92491046e+10]])"
       ]
      }
     ],
     "prompt_number": 12
    },
    {
     "cell_type": "markdown",
     "metadata": {},
     "source": [
      "Use SVD to get the U, S and V matrices from this version of the variance, covariance matrix:"
     ]
    },
    {
     "cell_type": "code",
     "collapsed": false,
     "input": [
      "U, S, V = npl.svd(XXt)"
     ],
     "language": "python",
     "metadata": {},
     "outputs": [],
     "prompt_number": 13
    },
    {
     "cell_type": "code",
     "collapsed": false,
     "input": [
      "S"
     ],
     "language": "python",
     "metadata": {},
     "outputs": [
      {
       "metadata": {},
       "output_type": "pyout",
       "prompt_number": 14,
       "text": [
        "array([  1.28052411e+11,   1.62047385e+09])"
       ]
      }
     ],
     "prompt_number": 14
    },
    {
     "cell_type": "markdown",
     "metadata": {},
     "source": [
      "Confirm that the row vectors in `V` are both unit vectors (have vector length of 1):"
     ]
    },
    {
     "cell_type": "code",
     "collapsed": false,
     "input": [
      "np.sum(V ** 2, axis=1)"
     ],
     "language": "python",
     "metadata": {},
     "outputs": [
      {
       "metadata": {},
       "output_type": "pyout",
       "prompt_number": 15,
       "text": [
        "memmap([ 1.,  1.])"
       ]
      }
     ],
     "prompt_number": 15
    },
    {
     "cell_type": "markdown",
     "metadata": {},
     "source": [
      "Confirm that the two rows in `V` are orthogonal to each other:"
     ]
    },
    {
     "cell_type": "code",
     "collapsed": false,
     "input": [
      "V[0].dot(V[1])"
     ],
     "language": "python",
     "metadata": {},
     "outputs": [
      {
       "metadata": {},
       "output_type": "pyout",
       "prompt_number": 16,
       "text": [
        "0.0"
       ]
      }
     ],
     "prompt_number": 16
    },
    {
     "cell_type": "markdown",
     "metadata": {},
     "source": [
      "Confirm that the total sum of squares in `X` is the same as the sum of the values in the `S` vector from the SVD:"
     ]
    },
    {
     "cell_type": "code",
     "collapsed": false,
     "input": [
      "print(np.sum(X ** 2))\n",
      "print(np.sum(S))"
     ],
     "language": "python",
     "metadata": {},
     "outputs": [
      {
       "output_type": "stream",
       "stream": "stdout",
       "text": [
        "1.29672885307e+11\n",
        "129672885307.0\n"
       ]
      }
     ],
     "prompt_number": 17
    },
    {
     "cell_type": "markdown",
     "metadata": {},
     "source": [
      "Use the projection formula $c = \\hat{u} \\cdot \\vec{v}$ and matrix multiplication to calculate the projection coefficients `C` for projecting the data `X` onto the vectors in `V`:"
     ]
    },
    {
     "cell_type": "code",
     "collapsed": false,
     "input": [
      "C = V.dot(first_two)\n",
      "C.shape"
     ],
     "language": "python",
     "metadata": {},
     "outputs": [
      {
       "metadata": {},
       "output_type": "pyout",
       "prompt_number": 18,
       "text": [
        "(2, 122880)"
       ]
      }
     ],
     "prompt_number": 18
    },
    {
     "cell_type": "markdown",
     "metadata": {},
     "source": [
      "Remember that `C` - the projection coefficients - have one column per voxel.  We can think of each row as corresponding to a volume where the volumes are: `C[0]` - projection coefficients for first principal component; `C[1]` - projection coefficients for second principal component."
     ]
    },
    {
     "cell_type": "markdown",
     "metadata": {},
     "source": [
      "Take the transpose of `C` and reshape the resulting first dimension (length `N`) back to three dimensions corresponding to the original data:"
     ]
    },
    {
     "cell_type": "code",
     "collapsed": false,
     "input": [
      "out_shape = data.shape[:-1] + (2,)\n",
      "C_vols = C.T.reshape(out_shape)\n",
      "C_vols.shape"
     ],
     "language": "python",
     "metadata": {},
     "outputs": [
      {
       "metadata": {},
       "output_type": "pyout",
       "prompt_number": 19,
       "text": [
        "(64, 64, 30, 2)"
       ]
      }
     ],
     "prompt_number": 19
    },
    {
     "cell_type": "markdown",
     "metadata": {},
     "source": [
      "Break this array up into two volumes (volume for first component, volume for second component) using slicing:"
     ]
    },
    {
     "cell_type": "code",
     "collapsed": false,
     "input": [
      "vol0 = C_vols[..., 0]\n",
      "vol1 = C_vols[..., 1]"
     ],
     "language": "python",
     "metadata": {},
     "outputs": [],
     "prompt_number": 20
    },
    {
     "cell_type": "markdown",
     "metadata": {},
     "source": [
      "Show the middle slice (slice over the third dimension) from the first component C volume:"
     ]
    },
    {
     "cell_type": "code",
     "collapsed": false,
     "input": [
      "plt.imshow(vol0[:, :, 14], cmap='gray')"
     ],
     "language": "python",
     "metadata": {},
     "outputs": [
      {
       "metadata": {},
       "output_type": "pyout",
       "prompt_number": 21,
       "text": [
        "<matplotlib.image.AxesImage at 0x109f6ab90>"
       ]
      },
      {
       "metadata": {},
       "output_type": "display_data",
       "png": "[encoded data removed]",
       "text": [
        "<matplotlib.figure.Figure at 0x106fb28d0>"
       ]
      }
     ],
     "prompt_number": 21
    },
    {
     "cell_type": "markdown",
     "metadata": {},
     "source": [
      "Show the middle slice (slice over the third dimension) from the second component C volume:"
     ]
    },
    {
     "cell_type": "code",
     "collapsed": false,
     "input": [
      "plt.imshow(vol1[:, :, 14], cmap='gray')"
     ],
     "language": "python",
     "metadata": {},
     "outputs": [
      {
       "metadata": {},
       "output_type": "pyout",
       "prompt_number": 22,
       "text": [
        "<matplotlib.image.AxesImage at 0x10a4ef710>"
       ]
      },
      {
       "metadata": {},
       "output_type": "display_data",
       "png": "[encoded data removed]",
       "text": [
        "<matplotlib.figure.Figure at 0x10a4c3f50>"
       ]
      }
     ],
     "prompt_number": 22
    },
    {
     "cell_type": "markdown",
     "metadata": {},
     "source": [
      "Now we are ready to do the same thing for all the time points, instead of just the first two."
     ]
    },
    {
     "cell_type": "markdown",
     "metadata": {},
     "source": [
      "Take the original array data matrix with 173 volumes.  Reshape to be shape (N, 173).  Take the transpose to get an array shape (173, N):"
     ]
    },
    {
     "cell_type": "code",
     "collapsed": false,
     "input": [
      "arr = data.reshape(N, 173).T\n",
      "arr.shape"
     ],
     "language": "python",
     "metadata": {},
     "outputs": [
      {
       "metadata": {},
       "output_type": "pyout",
       "prompt_number": 23,
       "text": [
        "(173, 122880)"
       ]
      }
     ],
     "prompt_number": 23
    },
    {
     "cell_type": "markdown",
     "metadata": {},
     "source": [
      "Use numpy broadcasting, `np.newaxis` to remove the mean across columns (mean per volume).  Call this mean-corrected variable `X`:"
     ]
    },
    {
     "cell_type": "code",
     "collapsed": false,
     "input": [
      "X = arr - np.mean(arr, axis=1)[:, np.newaxis]"
     ],
     "language": "python",
     "metadata": {},
     "outputs": [],
     "prompt_number": 24
    },
    {
     "cell_type": "markdown",
     "metadata": {},
     "source": [
      "Get the version of the variance / covariance matrix (not dividing by N):"
     ]
    },
    {
     "cell_type": "code",
     "collapsed": false,
     "input": [
      "XXt = X.dot(X.T)\n",
      "XXt.shape"
     ],
     "language": "python",
     "metadata": {},
     "outputs": [
      {
       "metadata": {},
       "output_type": "pyout",
       "prompt_number": 25,
       "text": [
        "(173, 173)"
       ]
      }
     ],
     "prompt_number": 25
    },
    {
     "cell_type": "markdown",
     "metadata": {},
     "source": [
      "Get U, S, V outputs from the SVD:"
     ]
    },
    {
     "cell_type": "code",
     "collapsed": false,
     "input": [
      "U, S, V = npl.svd(XXt)"
     ],
     "language": "python",
     "metadata": {},
     "outputs": [],
     "prompt_number": 26
    },
    {
     "cell_type": "markdown",
     "metadata": {},
     "source": [
      "On the same plot, plot the first 3 rows of V (one line for each row).  These are the first 10 principal components:"
     ]
    },
    {
     "cell_type": "code",
     "collapsed": false,
     "input": [
      "for i in range(3):\n",
      "    plt.plot(V[i])"
     ],
     "language": "python",
     "metadata": {},
     "outputs": [
      {
       "metadata": {},
       "output_type": "display_data",
       "png": "[encoded data removed]",
       "text": [
        "<matplotlib.figure.Figure at 0x10616df50>"
       ]
      }
     ],
     "prompt_number": 27
    },
    {
     "cell_type": "markdown",
     "metadata": {},
     "source": [
      "Project the data `X` onto the principal components `V` using matrix dot to give (173, N) shape array `C`:"
     ]
    },
    {
     "cell_type": "code",
     "collapsed": false,
     "input": [
      "C = V.dot(X)"
     ],
     "language": "python",
     "metadata": {},
     "outputs": [],
     "prompt_number": 28
    },
    {
     "cell_type": "markdown",
     "metadata": {},
     "source": [
      "Remember, each row of `C` is a full volume of projection coefficients, one row per principal component."
     ]
    },
    {
     "cell_type": "markdown",
     "metadata": {},
     "source": [
      "Reconstruct these rows as volumes by taking the transpose of `C` and reshaping the first dimension length `N` to the original three dimensions of the original data volumes."
     ]
    },
    {
     "cell_type": "code",
     "collapsed": false,
     "input": [
      "C_vols = C.T.reshape(img.shape)"
     ],
     "language": "python",
     "metadata": {},
     "outputs": [],
     "prompt_number": 29
    },
    {
     "cell_type": "markdown",
     "metadata": {},
     "source": [
      "Take the first volume (corresponding to the first principal component) and display the middle slice:"
     ]
    },
    {
     "cell_type": "code",
     "collapsed": false,
     "input": [
      "plt.imshow(C_vols[:, :, 14, 0], cmap='gray')"
     ],
     "language": "python",
     "metadata": {},
     "outputs": [
      {
       "metadata": {},
       "output_type": "pyout",
       "prompt_number": 30,
       "text": [
        "<matplotlib.image.AxesImage at 0x10a4f71d0>"
       ]
      },
      {
       "metadata": {},
       "output_type": "display_data",
       "png": "[encoded data removed]",
       "text": [
        "<matplotlib.figure.Figure at 0x10616df50>"
       ]
      }
     ],
     "prompt_number": 30
    },
    {
     "cell_type": "code",
     "collapsed": false,
     "input": [
      "plt.imshow(C_vols[:, :, 14, 1], cmap='gray')"
     ],
     "language": "python",
     "metadata": {},
     "outputs": [
      {
       "metadata": {},
       "output_type": "pyout",
       "prompt_number": 31,
       "text": [
        "<matplotlib.image.AxesImage at 0x11728aed0>"
       ]
      },
      {
       "metadata": {},
       "output_type": "display_data",
       "png": "[encoded data removed]",
       "text": [
        "<matplotlib.figure.Figure at 0x10a4fca90>"
       ]
      }
     ],
     "prompt_number": 31
    },
    {
     "cell_type": "code",
     "collapsed": false,
     "input": [
      "plt.imshow(C_vols[:, :, 14, 2], cmap='gray')"
     ],
     "language": "python",
     "metadata": {},
     "outputs": [
      {
       "metadata": {},
       "output_type": "pyout",
       "prompt_number": 32,
       "text": [
        "<matplotlib.image.AxesImage at 0x1172c9250>"
       ]
      },
      {
       "metadata": {},
       "output_type": "display_data",
       "png": "[encoded data removed]",
       "text": [
        "<matplotlib.figure.Figure at 0x10a679b10>"
       ]
      }
     ],
     "prompt_number": 32
    },
    {
     "cell_type": "code",
     "collapsed": false,
     "input": [
      "from sklearn.decomposition import PCA"
     ],
     "language": "python",
     "metadata": {},
     "outputs": [],
     "prompt_number": 33
    },
    {
     "cell_type": "code",
     "collapsed": false,
     "input": [
      "pca = PCA()\n",
      "pca.fit(X.T)"
     ],
     "language": "python",
     "metadata": {},
     "outputs": [
      {
       "metadata": {},
       "output_type": "pyout",
       "prompt_number": 34,
       "text": [
        "PCA(copy=True, n_components=None, whiten=False)"
       ]
      }
     ],
     "prompt_number": 34
    },
    {
     "cell_type": "code",
     "collapsed": false,
     "input": [
      "sign_flips = np.sum(pca.components_ * V, axis=1)[:, np.newaxis]\n",
      "sign_flips"
     ],
     "language": "python",
     "metadata": {},
     "outputs": [
      {
       "metadata": {},
       "output_type": "pyout",
       "prompt_number": 35,
       "text": [
        "memmap([[-1.],\n",
        "       [ 1.],\n",
        "       [ 1.],\n",
        "       [ 1.],\n",
        "       [ 1.],\n",
        "       [ 1.],\n",
        "       [ 1.],\n",
        "       [ 1.],\n",
        "       [-1.],\n",
        "       [-1.],\n",
        "       [-1.],\n",
        "       [-1.],\n",
        "       [-1.],\n",
        "       [-1.],\n",
        "       [-1.],\n",
        "       [ 1.],\n",
        "       [-1.],\n",
        "       [ 1.],\n",
        "       [ 1.],\n",
        "       [-1.],\n",
        "       [ 1.],\n",
        "       [ 1.],\n",
        "       [ 1.],\n",
        "       [ 1.],\n",
        "       [ 1.],\n",
        "       [ 1.],\n",
        "       [ 1.],\n",
        "       [-1.],\n",
        "       [-1.],\n",
        "       [ 1.],\n",
        "       [-1.],\n",
        "       [ 1.],\n",
        "       [-1.],\n",
        "       [ 1.],\n",
        "       [-1.],\n",
        "       [ 1.],\n",
        "       [ 1.],\n",
        "       [ 1.],\n",
        "       [-1.],\n",
        "       [-1.],\n",
        "       [ 1.],\n",
        "       [-1.],\n",
        "       [-1.],\n",
        "       [-1.],\n",
        "       [-1.],\n",
        "       [-1.],\n",
        "       [-1.],\n",
        "       [-1.],\n",
        "       [-1.],\n",
        "       [-1.],\n",
        "       [-1.],\n",
        "       [-1.],\n",
        "       [-1.],\n",
        "       [-1.],\n",
        "       [-1.],\n",
        "       [-1.],\n",
        "       [ 1.],\n",
        "       [ 1.],\n",
        "       [ 1.],\n",
        "       [ 1.],\n",
        "       [-1.],\n",
        "       [-1.],\n",
        "       [-1.],\n",
        "       [-1.],\n",
        "       [-1.],\n",
        "       [-1.],\n",
        "       [ 1.],\n",
        "       [ 1.],\n",
        "       [-1.],\n",
        "       [-1.],\n",
        "       [-1.],\n",
        "       [-1.],\n",
        "       [ 1.],\n",
        "       [ 1.],\n",
        "       [-1.],\n",
        "       [-1.],\n",
        "       [-1.],\n",
        "       [-1.],\n",
        "       [-1.],\n",
        "       [-1.],\n",
        "       [-1.],\n",
        "       [-1.],\n",
        "       [-1.],\n",
        "       [-1.],\n",
        "       [ 1.],\n",
        "       [-1.],\n",
        "       [-1.],\n",
        "       [-1.],\n",
        "       [-1.],\n",
        "       [-1.],\n",
        "       [-1.],\n",
        "       [-1.],\n",
        "       [-1.],\n",
        "       [-1.],\n",
        "       [-1.],\n",
        "       [-1.],\n",
        "       [ 1.],\n",
        "       [-1.],\n",
        "       [-1.],\n",
        "       [-1.],\n",
        "       [-1.],\n",
        "       [ 1.],\n",
        "       [ 1.],\n",
        "       [-1.],\n",
        "       [-1.],\n",
        "       [-1.],\n",
        "       [ 1.],\n",
        "       [ 1.],\n",
        "       [-1.],\n",
        "       [-1.],\n",
        "       [-1.],\n",
        "       [-1.],\n",
        "       [-1.],\n",
        "       [-1.],\n",
        "       [-1.],\n",
        "       [ 1.],\n",
        "       [ 1.],\n",
        "       [-1.],\n",
        "       [-1.],\n",
        "       [-1.],\n",
        "       [-1.],\n",
        "       [ 1.],\n",
        "       [ 1.],\n",
        "       [-1.],\n",
        "       [-1.],\n",
        "       [-1.],\n",
        "       [-1.],\n",
        "       [ 1.],\n",
        "       [ 1.],\n",
        "       [ 1.],\n",
        "       [ 1.],\n",
        "       [-1.],\n",
        "       [-1.],\n",
        "       [-1.],\n",
        "       [ 1.],\n",
        "       [ 1.],\n",
        "       [ 1.],\n",
        "       [ 1.],\n",
        "       [-1.],\n",
        "       [-1.],\n",
        "       [-1.],\n",
        "       [ 1.],\n",
        "       [ 1.],\n",
        "       [ 1.],\n",
        "       [ 1.],\n",
        "       [ 1.],\n",
        "       [-1.],\n",
        "       [ 1.],\n",
        "       [ 1.],\n",
        "       [ 1.],\n",
        "       [ 1.],\n",
        "       [ 1.],\n",
        "       [ 1.],\n",
        "       [ 1.],\n",
        "       [ 1.],\n",
        "       [ 1.],\n",
        "       [ 1.],\n",
        "       [ 1.],\n",
        "       [ 1.],\n",
        "       [ 1.],\n",
        "       [-1.],\n",
        "       [-1.],\n",
        "       [ 1.],\n",
        "       [ 1.],\n",
        "       [-1.],\n",
        "       [ 1.],\n",
        "       [ 1.],\n",
        "       [-1.],\n",
        "       [-1.],\n",
        "       [-1.],\n",
        "       [-1.],\n",
        "       [-1.],\n",
        "       [-1.]])"
       ]
      }
     ],
     "prompt_number": 35
    },
    {
     "cell_type": "code",
     "collapsed": false,
     "input": [
      "np.allclose(pca.components_ * sign_flips, V, atol=1e-5)"
     ],
     "language": "python",
     "metadata": {},
     "outputs": [
      {
       "metadata": {},
       "output_type": "pyout",
       "prompt_number": 36,
       "text": [
        "True"
       ]
      }
     ],
     "prompt_number": 36
    },
    {
     "cell_type": "code",
     "collapsed": false,
     "input": [
      "np.allclose(pca.explained_variance_, S / (N-1))"
     ],
     "language": "python",
     "metadata": {},
     "outputs": [
      {
       "metadata": {},
       "output_type": "pyout",
       "prompt_number": 37,
       "text": [
        "True"
       ]
      }
     ],
     "prompt_number": 37
    },
    {
     "cell_type": "code",
     "collapsed": false,
     "input": [
      "C_skl = pca.transform(X.T).T"
     ],
     "language": "python",
     "metadata": {},
     "outputs": [],
     "prompt_number": 38
    },
    {
     "cell_type": "code",
     "collapsed": false,
     "input": [
      "C_skl.shape"
     ],
     "language": "python",
     "metadata": {},
     "outputs": [
      {
       "metadata": {},
       "output_type": "pyout",
       "prompt_number": 39,
       "text": [
        "(173, 122880)"
       ]
      }
     ],
     "prompt_number": 39
    },
    {
     "cell_type": "code",
     "collapsed": false,
     "input": [
      "np.allclose(C_skl * sign_flips, C, atol=1e-3)"
     ],
     "language": "python",
     "metadata": {},
     "outputs": [
      {
       "metadata": {},
       "output_type": "pyout",
       "prompt_number": 40,
       "text": [
        "True"
       ]
      }
     ],
     "prompt_number": 40
    }
   ],
   "metadata": {}
  }
 ]
}