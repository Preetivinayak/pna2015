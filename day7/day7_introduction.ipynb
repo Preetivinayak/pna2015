{
 "metadata": {
  "name": "",
  "signature": "sha256:e4e78f24b1b22af6ae3fed829557185e9d70dc69fd1edaa2bcb23649aa5fa834"
 },
 "nbformat": 3,
 "nbformat_minor": 0,
 "worksheets": [
  {
   "cells": [
    {
     "cell_type": "code",
     "collapsed": false,
     "input": [
      "# - compatibility with Python 3\n",
      "from __future__ import print_function  # print('me') instead of print 'me'\n",
      "from __future__ import division  # 1/2 == 0.5, not 0"
     ],
     "language": "python",
     "metadata": {},
     "outputs": [],
     "prompt_number": 1
    },
    {
     "cell_type": "code",
     "collapsed": false,
     "input": [
      "# - show figures inside the notebook\n",
      "%matplotlib inline"
     ],
     "language": "python",
     "metadata": {},
     "outputs": [],
     "prompt_number": 2
    },
    {
     "cell_type": "code",
     "collapsed": false,
     "input": [
      "# - import common modules\n",
      "import numpy as np  # the Python array package\n",
      "import matplotlib.pyplot as plt  # the Python plotting package"
     ],
     "language": "python",
     "metadata": {},
     "outputs": [],
     "prompt_number": 3
    },
    {
     "cell_type": "markdown",
     "metadata": {},
     "source": [
      "## Stuff you need for the tutorial"
     ]
    },
    {
     "cell_type": "markdown",
     "metadata": {},
     "source": [
      "## Methods vs functions in numpy"
     ]
    },
    {
     "cell_type": "markdown",
     "metadata": {},
     "source": [
      "Many things are implemented in numpy as both *functions* and *methods.  For example, there is a `np.sum` function, that adds up all the elements:"
     ]
    },
    {
     "cell_type": "code",
     "collapsed": false,
     "input": [
      "arr = np.array([1, 2, 0, 1])\n",
      "np.sum(arr)"
     ],
     "language": "python",
     "metadata": {},
     "outputs": [
      {
       "metadata": {},
       "output_type": "pyout",
       "prompt_number": 4,
       "text": [
        "4"
       ]
      }
     ],
     "prompt_number": 4
    },
    {
     "cell_type": "markdown",
     "metadata": {},
     "source": [
      "There is also a `sum` method of the numpy `array` object:"
     ]
    },
    {
     "cell_type": "code",
     "collapsed": false,
     "input": [
      "type(arr)"
     ],
     "language": "python",
     "metadata": {},
     "outputs": [
      {
       "metadata": {},
       "output_type": "pyout",
       "prompt_number": 5,
       "text": [
        "numpy.ndarray"
       ]
      }
     ],
     "prompt_number": 5
    },
    {
     "cell_type": "code",
     "collapsed": false,
     "input": [
      "arr.sum()"
     ],
     "language": "python",
     "metadata": {},
     "outputs": [
      {
       "metadata": {},
       "output_type": "pyout",
       "prompt_number": 6,
       "text": [
        "4"
       ]
      }
     ],
     "prompt_number": 6
    },
    {
     "cell_type": "markdown",
     "metadata": {},
     "source": [
      "Nearly all the method versions do the same thing as the function versions.  Examples are `mean`, `min`, `max`, `sum`, `reshape`.  Choosing the method or the function will usually depend on which one is easier to read."
     ]
    },
    {
     "cell_type": "markdown",
     "metadata": {},
     "source": [
      "### Reshape arrays"
     ]
    },
    {
     "cell_type": "markdown",
     "metadata": {},
     "source": [
      "The obvious example - making an array flat (1D):"
     ]
    },
    {
     "cell_type": "code",
     "collapsed": false,
     "input": [
      "arr = np.array([[0, 1, 2, 3, 4, 5], [6, 7, 8, 9, 10, 11]])\n",
      "arr"
     ],
     "language": "python",
     "metadata": {},
     "outputs": [
      {
       "metadata": {},
       "output_type": "pyout",
       "prompt_number": 7,
       "text": [
        "array([[ 0,  1,  2,  3,  4,  5],\n",
        "       [ 6,  7,  8,  9, 10, 11]])"
       ]
      }
     ],
     "prompt_number": 7
    },
    {
     "cell_type": "code",
     "collapsed": false,
     "input": [
      "arr_1d = arr.reshape(12)\n",
      "arr_1d"
     ],
     "language": "python",
     "metadata": {},
     "outputs": [
      {
       "metadata": {},
       "output_type": "pyout",
       "prompt_number": 8,
       "text": [
        "array([ 0,  1,  2,  3,  4,  5,  6,  7,  8,  9, 10, 11])"
       ]
      }
     ],
     "prompt_number": 8
    },
    {
     "cell_type": "markdown",
     "metadata": {},
     "source": [
      "Notice what happened.  Numpy first makes an output array shape `(12,)`.  It then proceeds along the *last* axis, element by element, taking the element and putting it into the output array.  When it has finished each line on the last axis, it continues to the next line (on the second-to-last axis)."
     ]
    },
    {
     "cell_type": "markdown",
     "metadata": {},
     "source": [
      "We can reverse the process, like this:"
     ]
    },
    {
     "cell_type": "code",
     "collapsed": false,
     "input": [
      "arr_1d.reshape((2, 6))"
     ],
     "language": "python",
     "metadata": {},
     "outputs": [
      {
       "metadata": {},
       "output_type": "pyout",
       "prompt_number": 9,
       "text": [
        "array([[ 0,  1,  2,  3,  4,  5],\n",
        "       [ 6,  7,  8,  9, 10, 11]])"
       ]
      }
     ],
     "prompt_number": 9
    },
    {
     "cell_type": "markdown",
     "metadata": {},
     "source": [
      "Making an N-D array into a 1D array is very common, so numpy has a short-cut for that:"
     ]
    },
    {
     "cell_type": "code",
     "collapsed": false,
     "input": [
      "arr.ravel()"
     ],
     "language": "python",
     "metadata": {},
     "outputs": [
      {
       "metadata": {},
       "output_type": "pyout",
       "prompt_number": 10,
       "text": [
        "array([ 0,  1,  2,  3,  4,  5,  6,  7,  8,  9, 10, 11])"
       ]
      }
     ],
     "prompt_number": 10
    },
    {
     "cell_type": "markdown",
     "metadata": {},
     "source": [
      "For a 3D array, there are three axes.  In this case numpy first proceeds along the lines over the third axis.  When it reaches the end of the line it moves to the next line on the *second* axis, and when it gets to the end of the second axis it goes to the first axis."
     ]
    },
    {
     "cell_type": "code",
     "collapsed": false,
     "input": [
      "arr_3d = np.array([ # now define first of 2 2D arrays (arr_3d[0, :, :])\n",
      "                    [[0,  1,  2,  3],\n",
      "                     [4,  5,  6,  7],\n",
      "                     [8,  9, 10, 11]],\n",
      "                    # define second of 2 2D arrays (arr_3d[1, :, :])\n",
      "                    [[12, 13, 14, 15],\n",
      "                     [16, 17, 18, 19],\n",
      "                     [20, 21, 22, 23]]\n",
      "                  ])\n",
      "arr_3d"
     ],
     "language": "python",
     "metadata": {},
     "outputs": [
      {
       "metadata": {},
       "output_type": "pyout",
       "prompt_number": 11,
       "text": [
        "array([[[ 0,  1,  2,  3],\n",
        "        [ 4,  5,  6,  7],\n",
        "        [ 8,  9, 10, 11]],\n",
        "\n",
        "       [[12, 13, 14, 15],\n",
        "        [16, 17, 18, 19],\n",
        "        [20, 21, 22, 23]]])"
       ]
      }
     ],
     "prompt_number": 11
    },
    {
     "cell_type": "code",
     "collapsed": false,
     "input": [
      "n_elements = 2 * 3 * 4\n",
      "arr_3d.reshape(n_elements)"
     ],
     "language": "python",
     "metadata": {},
     "outputs": [
      {
       "metadata": {},
       "output_type": "pyout",
       "prompt_number": 12,
       "text": [
        "array([ 0,  1,  2,  3,  4,  5,  6,  7,  8,  9, 10, 11, 12, 13, 14, 15, 16,\n",
        "       17, 18, 19, 20, 21, 22, 23])"
       ]
      }
     ],
     "prompt_number": 12
    },
    {
     "cell_type": "markdown",
     "metadata": {},
     "source": [
      "You can reshape to any shape.  For example, you might want to reshape only the first two dimensions, leaving the last the same.  This will take you from an array of shape (2, 3, 4), to an array of shape (6, 4).  The procedure is the same in numpy.  It makes an output array shape (6, 4), then takes each element over the last dimension in the input, and fills the last dimension of the output, moves one across on the second dimension of the input, then fills a line in the first dimension of the output, and so on."
     ]
    },
    {
     "cell_type": "code",
     "collapsed": false,
     "input": [
      "arr_2d = arr_3d.reshape(6, 4)\n",
      "arr_2d.shape"
     ],
     "language": "python",
     "metadata": {},
     "outputs": [
      {
       "metadata": {},
       "output_type": "pyout",
       "prompt_number": 13,
       "text": [
        "(6, 4)"
       ]
      }
     ],
     "prompt_number": 13
    },
    {
     "cell_type": "code",
     "collapsed": false,
     "input": [
      "arr_2d"
     ],
     "language": "python",
     "metadata": {},
     "outputs": [
      {
       "metadata": {},
       "output_type": "pyout",
       "prompt_number": 14,
       "text": [
        "array([[ 0,  1,  2,  3],\n",
        "       [ 4,  5,  6,  7],\n",
        "       [ 8,  9, 10, 11],\n",
        "       [12, 13, 14, 15],\n",
        "       [16, 17, 18, 19],\n",
        "       [20, 21, 22, 23]])"
       ]
      }
     ],
     "prompt_number": 14
    },
    {
     "cell_type": "markdown",
     "metadata": {},
     "source": [
      "Of course we can do this with image data arrays:"
     ]
    },
    {
     "cell_type": "code",
     "collapsed": false,
     "input": [
      "import nibabel as nib\n",
      "img = nib.load('ds114_sub009_t2r1.nii')\n",
      "data = img.get_data()\n",
      "data.shape"
     ],
     "language": "python",
     "metadata": {},
     "outputs": [
      {
       "metadata": {},
       "output_type": "pyout",
       "prompt_number": 15,
       "text": [
        "(64, 64, 30, 173)"
       ]
      }
     ],
     "prompt_number": 15
    },
    {
     "cell_type": "code",
     "collapsed": false,
     "input": [
      "vol_shape = data.shape[:-1]\n",
      "vol_shape"
     ],
     "language": "python",
     "metadata": {},
     "outputs": [
      {
       "metadata": {},
       "output_type": "pyout",
       "prompt_number": 16,
       "text": [
        "(64, 64, 30)"
       ]
      }
     ],
     "prompt_number": 16
    },
    {
     "cell_type": "markdown",
     "metadata": {},
     "source": [
      "Here I am using the `np.prod` function, which is like `np.sum`, but instead of adding the elements, it multiplies them:"
     ]
    },
    {
     "cell_type": "code",
     "collapsed": false,
     "input": [
      "n_voxels = np.prod(vol_shape)\n",
      "n_voxels"
     ],
     "language": "python",
     "metadata": {},
     "outputs": [
      {
       "metadata": {},
       "output_type": "pyout",
       "prompt_number": 17,
       "text": [
        "122880"
       ]
      }
     ],
     "prompt_number": 17
    },
    {
     "cell_type": "code",
     "collapsed": false,
     "input": [
      "voxel_by_time = data.reshape(n_voxels, data.shape[-1])\n",
      "voxel_by_time.shape"
     ],
     "language": "python",
     "metadata": {},
     "outputs": [
      {
       "metadata": {},
       "output_type": "pyout",
       "prompt_number": 18,
       "text": [
        "(122880, 173)"
       ]
      }
     ],
     "prompt_number": 18
    },
    {
     "cell_type": "markdown",
     "metadata": {},
     "source": [
      "### The outer product"
     ]
    },
    {
     "cell_type": "markdown",
     "metadata": {},
     "source": [
      "We can use the rules of matrix multiplication for row vectors and column vectors."
     ]
    },
    {
     "cell_type": "markdown",
     "metadata": {},
     "source": [
      "A row vector is a 2D vector where the first dimension is length 1."
     ]
    },
    {
     "cell_type": "code",
     "collapsed": false,
     "input": [
      "row_vector = np.array([[1, 3, 2]])\n",
      "row_vector"
     ],
     "language": "python",
     "metadata": {},
     "outputs": [
      {
       "metadata": {},
       "output_type": "pyout",
       "prompt_number": 19,
       "text": [
        "array([[1, 3, 2]])"
       ]
      }
     ],
     "prompt_number": 19
    },
    {
     "cell_type": "markdown",
     "metadata": {},
     "source": [
      "A column vector is a 2D vector where the second dimension is length 1."
     ]
    },
    {
     "cell_type": "code",
     "collapsed": false,
     "input": [
      "col_vector = np.array([[2], [0], [1]])\n",
      "col_vector"
     ],
     "language": "python",
     "metadata": {},
     "outputs": [
      {
       "metadata": {},
       "output_type": "pyout",
       "prompt_number": 20,
       "text": [
        "array([[2],\n",
        "       [0],\n",
        "       [1]])"
       ]
      }
     ],
     "prompt_number": 20
    },
    {
     "cell_type": "markdown",
     "metadata": {},
     "source": [
      "We know what will happen if we matrix multiply the row vector and the column vector:"
     ]
    },
    {
     "cell_type": "code",
     "collapsed": false,
     "input": [
      "row_vector.dot(col_vector)"
     ],
     "language": "python",
     "metadata": {},
     "outputs": [
      {
       "metadata": {},
       "output_type": "pyout",
       "prompt_number": 21,
       "text": [
        "array([[4]])"
       ]
      }
     ],
     "prompt_number": 21
    },
    {
     "cell_type": "markdown",
     "metadata": {},
     "source": [
      "What happens with we matrix multiply the column vector by the row vector?  We know this will work because we are multiplying a 3 by 1 array by a 1 by 3 array, so this should generate a 3 by 3 array: "
     ]
    },
    {
     "cell_type": "code",
     "collapsed": false,
     "input": [
      "col_vector.dot(row_vector)"
     ],
     "language": "python",
     "metadata": {},
     "outputs": [
      {
       "metadata": {},
       "output_type": "pyout",
       "prompt_number": 22,
       "text": [
        "array([[2, 6, 4],\n",
        "       [0, 0, 0],\n",
        "       [1, 3, 2]])"
       ]
      }
     ],
     "prompt_number": 22
    },
    {
     "cell_type": "markdown",
     "metadata": {},
     "source": [
      "This arises from the rules of matrix multiplication, except there is only one row * value pair for each dot product making up the rows and columns:"
     ]
    },
    {
     "cell_type": "code",
     "collapsed": false,
     "input": [
      "print(col_vector[0] * row_vector)\n",
      "print(col_vector[1] * row_vector)\n",
      "print(col_vector[2] * row_vector)"
     ],
     "language": "python",
     "metadata": {},
     "outputs": [
      {
       "output_type": "stream",
       "stream": "stdout",
       "text": [
        "[[2 6 4]]\n",
        "[[0 0 0]]\n",
        "[[1 3 2]]\n"
       ]
      }
     ],
     "prompt_number": 23
    },
    {
     "cell_type": "markdown",
     "metadata": {},
     "source": [
      "This (M by 1) vector matrix multiply with a (1 by N) vector is also called the *outer product* of two vectors.  We can generate the same thing from 1D vectors, by using the numpy `np.outer` function:"
     ]
    },
    {
     "cell_type": "code",
     "collapsed": false,
     "input": [
      "np.outer(col_vector.ravel(), row_vector.ravel())"
     ],
     "language": "python",
     "metadata": {},
     "outputs": [
      {
       "metadata": {},
       "output_type": "pyout",
       "prompt_number": 24,
       "text": [
        "array([[2, 6, 4],\n",
        "       [0, 0, 0],\n",
        "       [1, 3, 2]])"
       ]
      }
     ],
     "prompt_number": 24
    },
    {
     "cell_type": "markdown",
     "metadata": {},
     "source": [
      "### Subtracting the mean"
     ]
    },
    {
     "cell_type": "markdown",
     "metadata": {},
     "source": [
      "We often want to do operations like subtract the mean from the columns or rows of a 2D array. For example, here is a 4 by 3 array:"
     ]
    },
    {
     "cell_type": "code",
     "collapsed": false,
     "input": [
      "arr = np.array([[3., 1, 4], [1, 5, 9], [2, 6, 5], [3, 5, 8]])\n",
      "arr"
     ],
     "language": "python",
     "metadata": {},
     "outputs": [
      {
       "metadata": {},
       "output_type": "pyout",
       "prompt_number": 25,
       "text": [
        "array([[ 3.,  1.,  4.],\n",
        "       [ 1.,  5.,  9.],\n",
        "       [ 2.,  6.,  5.],\n",
        "       [ 3.,  5.,  8.]])"
       ]
      }
     ],
     "prompt_number": 25
    },
    {
     "cell_type": "markdown",
     "metadata": {},
     "source": [
      "Let's say I wanted to remove the mean across the columns (the row mean).  Here is the row mean:"
     ]
    },
    {
     "cell_type": "code",
     "collapsed": false,
     "input": [
      "row_means = np.mean(arr, axis=1)  # mean across the second (column) axis\n",
      "row_means"
     ],
     "language": "python",
     "metadata": {},
     "outputs": [
      {
       "metadata": {},
       "output_type": "pyout",
       "prompt_number": 26,
       "text": [
        "array([ 2.66666667,  5.        ,  4.33333333,  5.33333333])"
       ]
      }
     ],
     "prompt_number": 26
    },
    {
     "cell_type": "markdown",
     "metadata": {},
     "source": [
      "This is a 1D array:"
     ]
    },
    {
     "cell_type": "code",
     "collapsed": false,
     "input": [
      "row_means.shape"
     ],
     "language": "python",
     "metadata": {},
     "outputs": [
      {
       "metadata": {},
       "output_type": "pyout",
       "prompt_number": 27,
       "text": [
        "(4,)"
       ]
      }
     ],
     "prompt_number": 27
    },
    {
     "cell_type": "markdown",
     "metadata": {},
     "source": [
      "I want do something like the following, but in a neater and faster way:"
     ]
    },
    {
     "cell_type": "code",
     "collapsed": false,
     "input": [
      "de_meaned = arr.copy()\n",
      "for i in range(arr.shape[0]):  # iterate over rows\n",
      "    de_meaned[i] = de_meaned[i] - row_means[i]\n",
      "# The rows now have very near 0 mean\n",
      "de_meaned.mean(axis=1)"
     ],
     "language": "python",
     "metadata": {},
     "outputs": [
      {
       "metadata": {},
       "output_type": "pyout",
       "prompt_number": 28,
       "text": [
        "array([  1.48029737e-16,   0.00000000e+00,   2.96059473e-16,\n",
        "         2.96059473e-16])"
       ]
      }
     ],
     "prompt_number": 28
    },
    {
     "cell_type": "markdown",
     "metadata": {},
     "source": [
      "One way of doing this, is expanding 1D shape (4,) mean vector out to a shape (3, 4) array, where the new columns are all the same as the (4,) mean vector.  In fact you can do this with `np.outer` and a vector of ones:"
     ]
    },
    {
     "cell_type": "code",
     "collapsed": false,
     "input": [
      "means_expanded = np.outer(row_means, np.ones(3))\n",
      "means_expanded"
     ],
     "language": "python",
     "metadata": {},
     "outputs": [
      {
       "metadata": {},
       "output_type": "pyout",
       "prompt_number": 29,
       "text": [
        "array([[ 2.66666667,  2.66666667,  2.66666667],\n",
        "       [ 5.        ,  5.        ,  5.        ],\n",
        "       [ 4.33333333,  4.33333333,  4.33333333],\n",
        "       [ 5.33333333,  5.33333333,  5.33333333]])"
       ]
      }
     ],
     "prompt_number": 29
    },
    {
     "cell_type": "markdown",
     "metadata": {},
     "source": [
      "Now we can subtract this expanded array to remove the row means:"
     ]
    },
    {
     "cell_type": "code",
     "collapsed": false,
     "input": [
      "re_de_meaned = arr - means_expanded\n",
      "# The row means are now very close to zero\n",
      "re_de_meaned.mean(axis=1)"
     ],
     "language": "python",
     "metadata": {},
     "outputs": [
      {
       "metadata": {},
       "output_type": "pyout",
       "prompt_number": 30,
       "text": [
        "array([  1.48029737e-16,   0.00000000e+00,   2.96059473e-16,\n",
        "         2.96059473e-16])"
       ]
      }
     ],
     "prompt_number": 30
    },
    {
     "cell_type": "markdown",
     "metadata": {},
     "source": [
      "This is an example of *vectorizing*.  We worked out a way of doing the operation we wanted by using arrays, rather than having to loop over the rows of the matrix."
     ]
    },
    {
     "cell_type": "markdown",
     "metadata": {},
     "source": [
      "We'll see later that there are even neater ways to do this, using a technique called *broadcasting*."
     ]
    },
    {
     "cell_type": "markdown",
     "metadata": {},
     "source": [
      "### Subplots and axes"
     ]
    },
    {
     "cell_type": "markdown",
     "metadata": {},
     "source": [
      "We often want to do several plots on the same figure.\n",
      "\n",
      "We've already seen examples of doing this with the matplotlib `subplots` command.\n",
      "\n",
      "The standard input arguments to `subplots` are the number of rows and the number of columns you want in your grid of axes.  For example, if you want two plots underneath each other you would call `subplots(2, 1)` for two rows and one column.\n",
      "\n",
      "`subplots` returns a `figure` object, that is an object representing the figure containing the axes.  It also returns a list of `axes`.  The axes are objects represting the axes on which we can plot.  The axis objects have methods like `plot` and `imshow` that allow us to plot on the given axes:"
     ]
    },
    {
     "cell_type": "code",
     "collapsed": false,
     "input": [
      "x = np.arange(0, np.pi * 2, 0.1)\n",
      "fig, axes = plt.subplots(2, 1)\n",
      "axes[0].plot(x, np.sin(x))\n",
      "axes[1].plot(x, np.cos(x))"
     ],
     "language": "python",
     "metadata": {},
     "outputs": [
      {
       "metadata": {},
       "output_type": "pyout",
       "prompt_number": 31,
       "text": [
        "[<matplotlib.lines.Line2D at 0x10caabb50>]"
       ]
      },
      {
       "metadata": {},
       "output_type": "display_data",
       "png": "[encoded data removed]",
       "text": [
        "<matplotlib.figure.Figure at 0x1078f9550>"
       ]
      }
     ],
     "prompt_number": 31
    }
   ],
   "metadata": {}
  }
 ]
}