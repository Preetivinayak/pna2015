{
 "metadata": {
  "name": "",
  "signature": "sha256:dca6159eaf9e77ab5e182a812e766b366057c57c9c3ba0a31e23ffa7283b1c74"
 },
 "nbformat": 3,
 "nbformat_minor": 0,
 "worksheets": [
  {
   "cells": [
    {
     "cell_type": "code",
     "collapsed": false,
     "input": [
      "# Compatibility with Python 3\n",
      "from __future__ import print_function  # print('me') instead of print 'me'\n",
      "from __future__ import division  # 1/2 == 0.5, not 0"
     ],
     "language": "python",
     "metadata": {},
     "outputs": [],
     "prompt_number": 1
    },
    {
     "cell_type": "code",
     "collapsed": false,
     "input": [
      "# Show figures inside the notebook\n",
      "%matplotlib inline"
     ],
     "language": "python",
     "metadata": {},
     "outputs": [],
     "prompt_number": 2
    },
    {
     "cell_type": "code",
     "collapsed": false,
     "input": [
      "import numpy as np  # the Python array package\n",
      "import matplotlib.pyplot as plt  # the Python plotting package"
     ],
     "language": "python",
     "metadata": {},
     "outputs": [],
     "prompt_number": 3
    },
    {
     "cell_type": "markdown",
     "metadata": {},
     "source": [
      "We've previously had a look at the file `ds114_sub009_t2r1.nii`.  This is a 4D FMRI image.\n",
      "\n",
      "Now we want to see whether we can detect any signal in that image relating to the task.\n",
      "\n",
      "The task was a block design with 10 seconds rest followed by 7 repeats of (30 seconds when the subject thought of verbs followed by 30 seconds rest).\n",
      "\n",
      "There's a file in this directory called `ds114_sub009_t2r1_cond.txt` with the task information in it.   It comes from subject 9 task 2 and run 1 from OpenFMRI dataset https://openfmri.org/dataset/ds000114 .\n",
      "\n",
      "The has one line per \"on\" block, giving the onset time (in seconds), the duration (in seconds) and the amplitude (expected amount of activation for this block).\n",
      "\n",
      "Here are the first four lines:\n",
      "\n",
      "```\n",
      "10\t30.000000\t1\n",
      "70\t30.000000\t1\n",
      "130\t30.000000\t1\n",
      "190\t30.000000\t1\n",
      "```"
     ]
    },
    {
     "cell_type": "code",
     "collapsed": false,
     "input": [
      "# Read the file into an array called \"task\".\n",
      "# \"task\" should have 3 columns (onset, duration, amplitude)\n",
      "# HINT: np.loadtxt\n",
      "task = np.loadtxt('ds114_sub009_t2r1_cond.txt')\n",
      "task.shape"
     ],
     "language": "python",
     "metadata": {},
     "outputs": [
      {
       "metadata": {},
       "output_type": "pyout",
       "prompt_number": 4,
       "text": [
        "(7, 3)"
       ]
      }
     ],
     "prompt_number": 4
    },
    {
     "cell_type": "markdown",
     "metadata": {},
     "source": [
      "The TR for this FMRI run was 2.5 seconds.  We need to convert the onsets and durations to TRs - so for example the first onset was at 10 seconds, which was the start of TR 4 (10 / 2.5).\n",
      "\n",
      "Select out the first two colums of task, and divide by the TR to convert the onset and duration times to be in terms of TRs:"
     ]
    },
    {
     "cell_type": "code",
     "collapsed": false,
     "input": [
      "# Select first two columns and divide by TR\n",
      "ons_durs = task[:, :2] / 2.5\n",
      "ons_durs"
     ],
     "language": "python",
     "metadata": {},
     "outputs": [
      {
       "metadata": {},
       "output_type": "pyout",
       "prompt_number": 5,
       "text": [
        "array([[   4.,   12.],\n",
        "       [  28.,   12.],\n",
        "       [  52.,   12.],\n",
        "       [  76.,   12.],\n",
        "       [ 100.,   12.],\n",
        "       [ 124.,   12.],\n",
        "       [ 148.,   12.]])"
       ]
      }
     ],
     "prompt_number": 5
    },
    {
     "cell_type": "markdown",
     "metadata": {},
     "source": [
      "Our next step is to make an on-off vector that is 0 when the subject is doing nothing and 1 when the subject is doing the covert verb task.\n",
      "\n",
      "The vector will have one value (either 0 or 1) for each TR."
     ]
    },
    {
     "cell_type": "markdown",
     "metadata": {},
     "source": [
      "First use nibabel to load the image `ds114_sub009_t2r1.nii`.  Check the image shape to find the number of TRs."
     ]
    },
    {
     "cell_type": "code",
     "collapsed": false,
     "input": [
      "# Load the image and check the image shape to get the number of TRs\n",
      "import nibabel as nib\n",
      "img = nib.load('ds114_sub009_t2r1.nii')\n",
      "img.shape"
     ],
     "language": "python",
     "metadata": {},
     "outputs": [
      {
       "metadata": {},
       "output_type": "pyout",
       "prompt_number": 6,
       "text": [
        "(64, 64, 30, 173)"
       ]
      }
     ],
     "prompt_number": 6
    },
    {
     "cell_type": "markdown",
     "metadata": {},
     "source": [
      "Next make a new vector called `time_course` with one entry per TR, with all elements in the vector being zero:"
     ]
    },
    {
     "cell_type": "code",
     "collapsed": false,
     "input": [
      "# Make new zero vector\n",
      "time_course = np.zeros(img.shape[-1])"
     ],
     "language": "python",
     "metadata": {},
     "outputs": [],
     "prompt_number": 7
    },
    {
     "cell_type": "markdown",
     "metadata": {},
     "source": [
      "Loop over the rows in the onsets / durations array to give you an onset / duration pair.  For each of these pairs, set the matching positions in the `time_course` vector to 1.  For example, the first pair will be `4, 12`.  For that row, you will want to set `time_course[4]` through `time_course[15]` equal to 1."
     ]
    },
    {
     "cell_type": "code",
     "collapsed": false,
     "input": [
      "# Fill in 1s for positions of on blocks in time course\n",
      "for onset, duration in ons_durs:\n",
      "    time_course[onset:onset + duration] = 1"
     ],
     "language": "python",
     "metadata": {},
     "outputs": [],
     "prompt_number": 8
    },
    {
     "cell_type": "markdown",
     "metadata": {},
     "source": [
      "Plot the time course:"
     ]
    },
    {
     "cell_type": "code",
     "collapsed": false,
     "input": [
      "# Plot the time course\n",
      "plt.plot(time_course)"
     ],
     "language": "python",
     "metadata": {},
     "outputs": [
      {
       "metadata": {},
       "output_type": "pyout",
       "prompt_number": 9,
       "text": [
        "[<matplotlib.lines.Line2D at 0x107038bd0>]"
       ]
      },
      {
       "metadata": {},
       "output_type": "display_data",
       "png": "[encoded data removed]",
       "text": [
        "<matplotlib.figure.Figure at 0x1060b8950>"
       ]
      }
     ],
     "prompt_number": 9
    },
    {
     "cell_type": "markdown",
     "metadata": {},
     "source": [
      "Make a boolean array which is True when `time_course` is 1 and False when `time_course` is 0.\n",
      "\n",
      "Make another array that is the opposite - False when `time_course` is 0 and True when time course is 1."
     ]
    },
    {
     "cell_type": "code",
     "collapsed": false,
     "input": [
      "# Make two boolean arrays\n",
      "is_task_tr = time_course == 1\n",
      "is_rest_tr = time_course == 0"
     ],
     "language": "python",
     "metadata": {},
     "outputs": [],
     "prompt_number": 10
    },
    {
     "cell_type": "markdown",
     "metadata": {},
     "source": [
      "Now read the image data into an array:"
     ]
    },
    {
     "cell_type": "code",
     "collapsed": false,
     "input": [
      "# Read the image data into an array.\n",
      "data = img.get_data()"
     ],
     "language": "python",
     "metadata": {},
     "outputs": [],
     "prompt_number": 11
    },
    {
     "cell_type": "markdown",
     "metadata": {},
     "source": [
      "Remember that the 4D array consists of one volume (3D array) per TR.\n",
      "\n",
      "We want to select the volumes where the time course is 1 (task volumes). Do this by slicing, using the boolean array you just made."
     ]
    },
    {
     "cell_type": "code",
     "collapsed": false,
     "input": [
      "# Create a new 4D array only containing the task volumes\n",
      "on_volumes = data[..., is_task_tr]"
     ],
     "language": "python",
     "metadata": {},
     "outputs": [],
     "prompt_number": 12
    },
    {
     "cell_type": "markdown",
     "metadata": {},
     "source": [
      "Now select the volumes where the time course is 0 (rest volumes):"
     ]
    },
    {
     "cell_type": "code",
     "collapsed": false,
     "input": [
      "# Create a new 4D array only containing the rest volumes\n",
      "off_volumes = data[..., time_course == 0]"
     ],
     "language": "python",
     "metadata": {},
     "outputs": [],
     "prompt_number": 13
    },
    {
     "cell_type": "markdown",
     "metadata": {},
     "source": [
      "We want to know whether there is a difference in signal in the task volumes compared to the rest volumes.  Take the mean over the task volumes and mean over the rest volumes.  You should end up with two 3D volumes."
     ]
    },
    {
     "cell_type": "code",
     "collapsed": false,
     "input": [
      "# Create the mean volume across all the task volumes\n",
      "# Then create the mean volume across all the rest volumes\n",
      "# Hint: remember the `axis` keyword.\n",
      "on_mean = on_volumes.mean(axis=-1)\n",
      "off_mean = off_volumes.mean(axis=-1)"
     ],
     "language": "python",
     "metadata": {},
     "outputs": [],
     "prompt_number": 14
    },
    {
     "cell_type": "markdown",
     "metadata": {},
     "source": [
      "Now subtract the rest mean from the task mean to get a difference volume."
     ]
    },
    {
     "cell_type": "code",
     "collapsed": false,
     "input": [
      "# Create a difference volume\n",
      "difference = on_mean - off_mean"
     ],
     "language": "python",
     "metadata": {},
     "outputs": [],
     "prompt_number": 15
    },
    {
     "cell_type": "markdown",
     "metadata": {},
     "source": [
      "Show a slice over the third dimension of the difference volume, from somewhere around the center of the third axis:"
     ]
    },
    {
     "cell_type": "code",
     "collapsed": false,
     "input": [
      "# Show a slice over the third dimension\n",
      "plt.imshow(difference[:, :, 14], cmap='gray')"
     ],
     "language": "python",
     "metadata": {},
     "outputs": [
      {
       "metadata": {},
       "output_type": "pyout",
       "prompt_number": 16,
       "text": [
        "<matplotlib.image.AxesImage at 0x10c5ac550>"
       ]
      },
      {
       "metadata": {},
       "output_type": "display_data",
       "png": "[encoded data removed]",
       "text": [
        "<matplotlib.figure.Figure at 0x107066390>"
       ]
      }
     ],
     "prompt_number": 16
    },
    {
     "cell_type": "markdown",
     "metadata": {},
     "source": [
      "This is the difference between activation and rest.  It looks a little strange.  Maybe there are some artefacts here."
     ]
    },
    {
     "cell_type": "markdown",
     "metadata": {},
     "source": [
      "Now let's use our `spm_globals` function to see if there are any volumes with odd values for this estimate of the mean."
     ]
    },
    {
     "cell_type": "markdown",
     "metadata": {},
     "source": [
      "First we have to make sure that Python can find our new module.\n",
      "\n",
      "Import the `sys` module, and show the `path` variable from the `sys` module."
     ]
    },
    {
     "cell_type": "code",
     "collapsed": false,
     "input": [
      "# Show path in sys module\n",
      "import sys\n",
      "sys.path"
     ],
     "language": "python",
     "metadata": {},
     "outputs": [
      {
       "metadata": {},
       "output_type": "pyout",
       "prompt_number": 17,
       "text": [
        "['',\n",
        " '/Users/mb312/dev_trees/pna2015/day4',\n",
        " '/Users/mb312/tmp/junk/lib64/python2.7/site-packages',\n",
        " '/Users/mb312/tmp/junk/lib/python2.7/site-packages',\n",
        " '/Users/mb312/tmp/local/lib64/python2.7/site-packages',\n",
        " '/Users/mb312/tmp/local/lib/python2.7/site-packages',\n",
        " '/Users/mb312/usr/lib64/python2.7/site-packages',\n",
        " '/Users/mb312/usr/lib/python2.7/site-packages',\n",
        " '/Users/mb312/usr/opt/lib64/python2.7/site-packages',\n",
        " '/Users/mb312/usr/opt/lib/python2.7/site-packages',\n",
        " '/Users/mb312/usr/local/lib64/python2.7/site-packages',\n",
        " '/Users/mb312/usr/local/lib/python2.7/site-packages',\n",
        " '/local/lib64/python2.7/site-packages',\n",
        " '/local/lib/python2.7/site-packages',\n",
        " '/opt/lib64/python2.7/site-packages',\n",
        " '/opt/lib/python2.7/site-packages',\n",
        " '/Library/Frameworks/Python.framework/Versions/2.7/lib/python27.zip',\n",
        " '/Library/Frameworks/Python.framework/Versions/2.7/lib/python2.7',\n",
        " '/Library/Frameworks/Python.framework/Versions/2.7/lib/python2.7/plat-darwin',\n",
        " '/Library/Frameworks/Python.framework/Versions/2.7/lib/python2.7/plat-mac',\n",
        " '/Library/Frameworks/Python.framework/Versions/2.7/lib/python2.7/plat-mac/lib-scriptpackages',\n",
        " '/Library/Frameworks/Python.framework/Versions/2.7/lib/python2.7/lib-tk',\n",
        " '/Library/Frameworks/Python.framework/Versions/2.7/lib/python2.7/lib-old',\n",
        " '/Library/Frameworks/Python.framework/Versions/2.7/lib/python2.7/lib-dynload',\n",
        " '/Users/mb312/Library/Python/2.7/lib/python/site-packages',\n",
        " '/Library/Frameworks/Python.framework/Versions/2.7/lib/python2.7/site-packages',\n",
        " '/Library/Python/2.7/site-packages',\n",
        " '/Users/mb312/tmp/junk/lib64/python2.7/site-packages',\n",
        " '/Users/mb312/tmp/junk/lib/python2.7/site-packages',\n",
        " '/Users/mb312/tmp/local/lib64/python2.7/site-packages',\n",
        " '/Users/mb312/tmp/local/lib/python2.7/site-packages',\n",
        " '/Users/mb312/usr/lib64/python2.7/site-packages',\n",
        " '/Users/mb312/usr/lib/python2.7/site-packages',\n",
        " '/Users/mb312/usr/opt/lib64/python2.7/site-packages',\n",
        " '/Users/mb312/usr/opt/lib/python2.7/site-packages',\n",
        " '/Users/mb312/usr/local/lib64/python2.7/site-packages',\n",
        " '/local/lib64/python2.7/site-packages',\n",
        " '/local/lib/python2.7/site-packages',\n",
        " '/opt/lib64/python2.7/site-packages',\n",
        " '/opt/lib/python2.7/site-packages',\n",
        " '/Library/Frameworks/Python.framework/Versions/2.7/lib/python2.7/site-packages/IPython/extensions']"
       ]
      }
     ],
     "prompt_number": 17
    },
    {
     "cell_type": "markdown",
     "metadata": {},
     "source": [
      "Find the directory where you put the `spm_funcs.py` module.  For example, for me, that would be `/Users/mb312/pna_code`.   Use the `insert` method of the `path` variable to insert this directory at the top of the `path`.  Check the help for the `insert` method for how to do this."
     ]
    },
    {
     "cell_type": "code",
     "collapsed": false,
     "input": [
      "# Insert the directory containing `spm_funcs.py` at the top\n",
      "# of sys.path\n",
      "sys.path.insert(0, '/Users/mb312/pna_code')"
     ],
     "language": "python",
     "metadata": {},
     "outputs": [],
     "prompt_number": 18
    },
    {
     "cell_type": "code",
     "collapsed": false,
     "input": [
      "# Check you can import spm_funcs\n",
      "import spm_funcs"
     ],
     "language": "python",
     "metadata": {},
     "outputs": [],
     "prompt_number": 19
    },
    {
     "cell_type": "markdown",
     "metadata": {},
     "source": [
      "Use the `get_spm_globals` function in `spm_funcs` to get the SPM global values for each volume in `ds114_sub009_t2r1.nii`."
     ]
    },
    {
     "cell_type": "code",
     "collapsed": false,
     "input": [
      "# Get SPM global values for each volume\n",
      "spm_globals = spm_funcs.get_spm_globals('ds114_sub009_t2r1.nii')"
     ],
     "language": "python",
     "metadata": {},
     "outputs": [],
     "prompt_number": 20
    },
    {
     "cell_type": "code",
     "collapsed": false,
     "input": [
      "# Plot the SPM global values for each volume\n",
      "plt.plot(spm_globals)"
     ],
     "language": "python",
     "metadata": {},
     "outputs": [
      {
       "metadata": {},
       "output_type": "pyout",
       "prompt_number": 21,
       "text": [
        "[<matplotlib.lines.Line2D at 0x10c7ff590>]"
       ]
      },
      {
       "metadata": {},
       "output_type": "display_data",
       "png": "[encoded data removed]",
       "text": [
        "<matplotlib.figure.Figure at 0x10c5cf250>"
       ]
      }
     ],
     "prompt_number": 21
    },
    {
     "cell_type": "markdown",
     "metadata": {},
     "source": [
      "There is one volume that is a large outlier in the SPM globals.\n",
      "\n",
      "Hint - it is one of the rest volumes.\n",
      "\n",
      "Use your slicing skills to remove this volume from your selection of rest volumes."
     ]
    },
    {
     "cell_type": "code",
     "collapsed": false,
     "input": [
      "# Use slicing to remove outlier volume from rest volumes\n",
      "off_volumes = off_volumes[..., 1:]"
     ],
     "language": "python",
     "metadata": {},
     "outputs": [],
     "prompt_number": 22
    },
    {
     "cell_type": "markdown",
     "metadata": {},
     "source": [
      "Make a new mean for the rest volumes, and subtract this mean from the mean for the task volumes."
     ]
    },
    {
     "cell_type": "code",
     "collapsed": false,
     "input": [
      "# Make new mean for rest volumes, subtract from task mean\n",
      "off_mean = off_volumes.mean(axis=-1)\n",
      "difference = on_mean - off_mean"
     ],
     "language": "python",
     "metadata": {},
     "outputs": [],
     "prompt_number": 23
    },
    {
     "cell_type": "markdown",
     "metadata": {},
     "source": [
      "Show the same slice from the difference volume as you plotted before.  Does it look much different?"
     ]
    },
    {
     "cell_type": "code",
     "collapsed": false,
     "input": [
      "# Show slice from new difference volume\n",
      "plt.imshow(difference[:, :, 15], cmap='gray')"
     ],
     "language": "python",
     "metadata": {},
     "outputs": [
      {
       "metadata": {},
       "output_type": "pyout",
       "prompt_number": 24,
       "text": [
        "<matplotlib.image.AxesImage at 0x10ca159d0>"
       ]
      },
      {
       "metadata": {},
       "output_type": "display_data",
       "png": "[encoded data removed]",
       "text": [
        "<matplotlib.figure.Figure at 0x10c822490>"
       ]
      }
     ],
     "prompt_number": 24
    }
   ],
   "metadata": {}
  }
 ]
}