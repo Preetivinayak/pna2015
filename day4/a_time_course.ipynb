{
 "metadata": {
  "name": "",
  "signature": "sha256:7222342e191b54a18062984628a1d67412778e2c1bba4f46702607dacc1949f4"
 },
 "nbformat": 3,
 "nbformat_minor": 0,
 "worksheets": [
  {
   "cells": [
    {
     "cell_type": "code",
     "collapsed": false,
     "input": [
      "# Compatibility with Python 3\n",
      "from __future__ import print_function  # print('me') instead of print 'me'\n",
      "from __future__ import division  # 1/2 == 0.5, not 0"
     ],
     "language": "python",
     "metadata": {},
     "outputs": [],
     "prompt_number": 1
    },
    {
     "cell_type": "code",
     "collapsed": false,
     "input": [
      "# Show figures inside the notebook\n",
      "%matplotlib inline"
     ],
     "language": "python",
     "metadata": {},
     "outputs": [],
     "prompt_number": 2
    },
    {
     "cell_type": "code",
     "collapsed": false,
     "input": [
      "import numpy as np  # the Python array package\n",
      "import matplotlib.pyplot as plt  # the Python plotting package"
     ],
     "language": "python",
     "metadata": {},
     "outputs": [],
     "prompt_number": 3
    },
    {
     "cell_type": "markdown",
     "metadata": {},
     "source": [
      "We've previously had a look at the file `ds114_sub009_t2r1.nii`.  This is a 4D FMRI image.\n",
      "\n",
      "Now we want to see whether we can detect any signal in that image relating to the task.\n",
      "\n",
      "The task was a block design, 30 seconds on, 30 seconds off, with where the \"on\" task was thinking of verbs (without saying them out loud).\n",
      "\n",
      "There's a file in this directory called `ds114_sub009_t2r1_cond.txt` with the task information in it.   It comes from subject 9 task 2 and run 1 from OpenFMRI dataset https://openfmri.org/dataset/ds000114 .\n",
      "\n",
      "The has one line per \"on\" block, giving the onset time (in seconds), the duration (in seconds) and the amplitude (expected amount of activation for this block.\n",
      "\n",
      "Here are the first four lines:\n",
      "\n",
      "```\n",
      "10\t30.000000\t1\n",
      "70\t30.000000\t1\n",
      "130\t30.000000\t1\n",
      "190\t30.000000\t1\n",
      "```"
     ]
    },
    {
     "cell_type": "code",
     "collapsed": false,
     "input": [
      "# Read the file into an array called \"task\".\n",
      "# \"task\" should have 3 columns (onset, duration, amplitude)\n",
      "# HINT: np.loadtxt"
     ],
     "language": "python",
     "metadata": {},
     "outputs": [
      {
       "metadata": {},
       "output_type": "pyout",
       "prompt_number": 4,
       "text": [
        "(7, 3)"
       ]
      }
     ],
     "prompt_number": 4
    },
    {
     "cell_type": "markdown",
     "metadata": {},
     "source": [
      "The TR for this FMRI run was 2.5 seconds.  Select out the first two colums of task, and divide by the TR to onset and duration times in seconds:"
     ]
    },
    {
     "cell_type": "code",
     "collapsed": false,
     "input": [
      "# Select first two columns and divide by TR"
     ],
     "language": "python",
     "metadata": {},
     "outputs": [
      {
       "metadata": {},
       "output_type": "pyout",
       "prompt_number": 5,
       "text": [
        "array([[   4.,   12.],\n",
        "       [  28.,   12.],\n",
        "       [  52.,   12.],\n",
        "       [  76.,   12.],\n",
        "       [ 100.,   12.],\n",
        "       [ 124.,   12.],\n",
        "       [ 148.,   12.]])"
       ]
      }
     ],
     "prompt_number": 5
    },
    {
     "cell_type": "markdown",
     "metadata": {},
     "source": [
      "The next task is to make an on-off vector that is 0 when the subject is doing nothing and 1 when the subject is doing the covert verb task.\n",
      "\n",
      "The vector will have one value (either 0 or 1) for each TR."
     ]
    },
    {
     "cell_type": "markdown",
     "metadata": {},
     "source": [
      "First use nibabel to load the image `ds114_sub009_t2r1.nii`.  Check the image shape to find the number of TRs."
     ]
    },
    {
     "cell_type": "code",
     "collapsed": false,
     "input": [
      "# Load the image and check the image shape to get the number of TRs"
     ],
     "language": "python",
     "metadata": {},
     "outputs": [
      {
       "metadata": {},
       "output_type": "pyout",
       "prompt_number": 6,
       "text": [
        "(64, 64, 30, 173)"
       ]
      }
     ],
     "prompt_number": 6
    },
    {
     "cell_type": "markdown",
     "metadata": {},
     "source": [
      "Next make a new vector called `time_course` with one entry per TR, with all elements in the vector being zero:"
     ]
    },
    {
     "cell_type": "code",
     "collapsed": false,
     "input": [
      "# Make new zero vector"
     ],
     "language": "python",
     "metadata": {},
     "outputs": [],
     "prompt_number": 7
    },
    {
     "cell_type": "markdown",
     "metadata": {},
     "source": [
      "Loop over the rows in the onsets / durations array to give you an onset / duration pair.  For each of these pairs, set the matching positions in the `time_course` vector to 1.  For example, the first pair will be `4, 12`.  For that row, you will want to set `time_course[4]` through `time_course[15]` equal to 1."
     ]
    },
    {
     "cell_type": "code",
     "collapsed": false,
     "input": [
      "# Fill in 1s for positions of on blocks in time course"
     ],
     "language": "python",
     "metadata": {},
     "outputs": [],
     "prompt_number": 8
    },
    {
     "cell_type": "markdown",
     "metadata": {},
     "source": [
      "Plot the time course:"
     ]
    },
    {
     "cell_type": "code",
     "collapsed": false,
     "input": [
      "# Plot the time course"
     ],
     "language": "python",
     "metadata": {},
     "outputs": [],
     "prompt_number": 11
    },
    {
     "cell_type": "markdown",
     "metadata": {},
     "source": [
      "Now save this array to a text file to use later.  Hint: you can use `np.savetxt`:"
     ]
    },
    {
     "cell_type": "code",
     "collapsed": false,
     "input": [
      "# Save time_course to text file `time_course.txt`"
     ],
     "language": "python",
     "metadata": {},
     "outputs": [],
     "prompt_number": 10
    }
   ],
   "metadata": {}
  }
 ]
}