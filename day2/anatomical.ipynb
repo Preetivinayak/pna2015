{
 "metadata": {
  "name": "",
  "signature": "sha256:c5dac9707a3a35d743d9c1d531a8bc3ac40421c4faee921d510dd8aaa5391ff9"
 },
 "nbformat": 3,
 "nbformat_minor": 0,
 "worksheets": [
  {
   "cells": [
    {
     "cell_type": "code",
     "collapsed": false,
     "input": [
      "# Compatibility with Python 3\n",
      "from __future__ import print_function  # print('me') instead of print 'me'\n",
      "from __future__ import division  # 1/2 = 0.5, not 0"
     ],
     "language": "python",
     "metadata": {},
     "outputs": []
    },
    {
     "cell_type": "code",
     "collapsed": false,
     "input": [
      "# Show figures inside the notebook\n",
      "%matplotlib inline"
     ],
     "language": "python",
     "metadata": {},
     "outputs": []
    },
    {
     "cell_type": "code",
     "collapsed": false,
     "input": [
      "import numpy as np\n",
      "import matplotlib.pyplot as plt"
     ],
     "language": "python",
     "metadata": {},
     "outputs": []
    },
    {
     "cell_type": "markdown",
     "metadata": {},
     "source": [
      "Now we will work with a 3D brain image.\n",
      "\n",
      "Like the camera image in [camera.ipynb], for some reason, the pixel data is in a text file called `anatomical.txt`.  I happen to know it has 32 slices (length 32 on the third dimension), but I don't know what the size of the first two dimensions are.\n",
      "\n",
      "Here are the first four lines of `anatomical.txt`. \n",
      "\n",
      "```\n",
      "0.0000\n",
      "0.0000\n",
      "0.0000\n",
      "0.0000\n",
      "```\n",
      "\n",
      "So the data is in the same floating point text format as the camera picture pixel data.\n",
      "\n",
      "Collect all the float values into a list, as before."
     ]
    },
    {
     "cell_type": "code",
     "collapsed": false,
     "input": [],
     "language": "python",
     "metadata": {},
     "outputs": []
    },
    {
     "cell_type": "markdown",
     "metadata": {},
     "source": [
      "How many pixel values does this file contain?  So, how many pixel values per slice?"
     ]
    },
    {
     "cell_type": "code",
     "collapsed": false,
     "input": [],
     "language": "python",
     "metadata": {},
     "outputs": []
    },
    {
     "cell_type": "markdown",
     "metadata": {},
     "source": [
      "Is this slice square?\n",
      "\n",
      "We need to find the slice size now, which is a pair of numbers (A, B).\n",
      "\n",
      "Find candidates for A by using the modulus operator (`%`) to find a few numbers between 120 and 200 that divide exactly into the slice size."
     ]
    },
    {
     "cell_type": "code",
     "collapsed": false,
     "input": [],
     "language": "python",
     "metadata": {},
     "outputs": []
    },
    {
     "cell_type": "markdown",
     "metadata": {},
     "source": [
      "These numbers are candidates for A - the first number in the pair.  We now need to find the B in each pair corresponding to A.\n",
      "\n",
      "Use the integer division operator (`//`) to get a list of pairs of numbers `A` and `B` such that `A * B == slice_size`:"
     ]
    },
    {
     "cell_type": "code",
     "collapsed": false,
     "input": [],
     "language": "python",
     "metadata": {},
     "outputs": []
    },
    {
     "cell_type": "markdown",
     "metadata": {},
     "source": [
      "The full image size will be three values, with one of these A, B pairs followed by 32.  Try reshaping the pixel data with a few of these to see which one is likely to be right.  You might want to plot a slice to see how it looks."
     ]
    },
    {
     "cell_type": "code",
     "collapsed": false,
     "input": [],
     "language": "python",
     "metadata": {},
     "outputs": []
    },
    {
     "cell_type": "code",
     "collapsed": false,
     "input": [],
     "language": "python",
     "metadata": {},
     "outputs": []
    }
   ],
   "metadata": {}
  }
 ]
}