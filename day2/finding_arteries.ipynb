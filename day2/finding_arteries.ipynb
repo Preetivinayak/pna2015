{
 "metadata": {
  "name": "",
  "signature": "sha256:a1bbb9fd3baa5acc7c6a0ad093c0a81d53685313662085fd89a9aa670cf365ae"
 },
 "nbformat": 3,
 "nbformat_minor": 0,
 "worksheets": [
  {
   "cells": [
    {
     "cell_type": "code",
     "collapsed": false,
     "input": [
      "# Compatibility with Python 3\n",
      "from __future__ import print_function  # print('me') instead of print 'me'\n",
      "from __future__ import division  # 1/2 = 0.5, not 0"
     ],
     "language": "python",
     "metadata": {},
     "outputs": []
    },
    {
     "cell_type": "code",
     "collapsed": false,
     "input": [
      "# Show figures inside the notebook\n",
      "%matplotlib inline"
     ],
     "language": "python",
     "metadata": {},
     "outputs": []
    },
    {
     "cell_type": "code",
     "collapsed": false,
     "input": [
      "import numpy as np\n",
      "import matplotlib.pyplot as plt"
     ],
     "language": "python",
     "metadata": {},
     "outputs": []
    },
    {
     "cell_type": "markdown",
     "metadata": {},
     "source": [
      "This time we are going to load an image using the `nibabel` library.\n",
      "\n",
      "We want to see if we can use some simple thresholding to find the major arteries in the MRI image.  The arteries are often white in T1 MRI images."
     ]
    },
    {
     "cell_type": "code",
     "collapsed": false,
     "input": [
      "import nibabel as nib"
     ],
     "language": "python",
     "metadata": {},
     "outputs": []
    },
    {
     "cell_type": "markdown",
     "metadata": {},
     "source": [
      "Try loading the image using nibabel, to make an image object, and then getting the image array data using the nibabel image object."
     ]
    },
    {
     "cell_type": "code",
     "collapsed": false,
     "input": [],
     "language": "python",
     "metadata": {},
     "outputs": []
    },
    {
     "cell_type": "markdown",
     "metadata": {},
     "source": [
      "Try plotting a few slices to see whether you can see the arteries."
     ]
    },
    {
     "cell_type": "markdown",
     "metadata": {},
     "source": [
      "Now try looking for a good threshold so that you pick up only the very high signal in the brain.\n",
      "\n",
      "Try making a binarized image with your threshold and displaying slices with that.  What structures are you picking up?"
     ]
    },
    {
     "cell_type": "markdown",
     "metadata": {},
     "source": [
      "Now try taking a slice out of the center of the image (the center in all three axes) to pick out a subset of the image that still contains the big arteries.  Try binarizing that with some thresholds to see whether you can pick out the arteries.  (Hint - you might consider using `np.percentile` to find a good threshold)."
     ]
    },
    {
     "cell_type": "markdown",
     "metadata": {},
     "source": [
      "If you have a good threshold and a good binarized subset, see if you can see the arterial structure using this fancy function to plot the binarized image with a 3D rendering."
     ]
    },
    {
     "cell_type": "code",
     "collapsed": false,
     "input": [
      "from mpl_toolkits.mplot3d.art3d import Poly3DCollection\n",
      "from skimage import measure\n",
      "\n",
      "def binarized_surface(binary_array):\n",
      "    \"\"\" Do a 3D plot of the surfaces in a binarized image\n",
      "    \n",
      "    This uses scikit-image and some fancy commands that we don't\n",
      "    need to worry about at the moment, to do the plot.\n",
      "    \"\"\"\n",
      "    verts, faces = measure.marching_cubes(binary_array, 0)\n",
      "    fig = plt.figure(figsize=(10, 12))\n",
      "    ax = fig.add_subplot(111, projection='3d')\n",
      "\n",
      "    # Fancy indexing: `verts[faces]` to generate a collection of triangles\n",
      "    mesh = Poly3DCollection(verts[faces], linewidths=0, alpha=0.5)\n",
      "    ax.add_collection3d(mesh)\n",
      "    ax.set_xlim(0, binary_array.shape[0])\n",
      "    ax.set_ylim(0, binary_array.shape[1])\n",
      "    ax.set_zlim(0, binary_array.shape[2])"
     ],
     "language": "python",
     "metadata": {},
     "outputs": []
    },
    {
     "cell_type": "code",
     "collapsed": false,
     "input": [
      "# binarized_surface(binarized_array)"
     ],
     "language": "python",
     "metadata": {},
     "outputs": []
    },
    {
     "cell_type": "code",
     "collapsed": false,
     "input": [],
     "language": "python",
     "metadata": {},
     "outputs": []
    }
   ],
   "metadata": {}
  }
 ]
}