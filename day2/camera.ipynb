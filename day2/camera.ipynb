{
 "metadata": {
  "name": "",
  "signature": "sha256:416497fd596fe46b125fa663fdf907553bf6b769c7cabbc7ed2ff363a80a28d1"
 },
 "nbformat": 3,
 "nbformat_minor": 0,
 "worksheets": [
  {
   "cells": [
    {
     "cell_type": "code",
     "collapsed": false,
     "input": [
      "# Compatibility with Python 3\n",
      "from __future__ import print_function  # print('me') instead of print 'me'\n",
      "from __future__ import division  # 1/2 = 0.5, not 0"
     ],
     "language": "python",
     "metadata": {},
     "outputs": []
    },
    {
     "cell_type": "code",
     "collapsed": false,
     "input": [
      "# Show figures inside the notebook\n",
      "%matplotlib inline"
     ],
     "language": "python",
     "metadata": {},
     "outputs": []
    },
    {
     "cell_type": "code",
     "collapsed": false,
     "input": [
      "import numpy as np  # the Python array package\n",
      "import matplotlib.pyplot as plt  # the Python plotting package"
     ],
     "language": "python",
     "metadata": {},
     "outputs": []
    },
    {
     "cell_type": "markdown",
     "metadata": {},
     "source": [
      "In the same directory as this notebook, you will find a file called `camera.txt`.  It contains the pixel values for a picture, and it's your job to find what picture that is.  The file contains a single floating point value per line.  Here are the first four lines of the file:\n",
      "\n",
      "```\n",
      "0.6118\n",
      "0.6118\n",
      "0.6196\n",
      "0.6275\n",
      "```"
     ]
    },
    {
     "cell_type": "markdown",
     "metadata": {},
     "source": [
      "You will first need to read in the file as a list of floating point values.  You probably want to start something like this:\n",
      "\n",
      "```pixel_values = []  # empty list\n",
      "```"
     ]
    },
    {
     "cell_type": "markdown",
     "metadata": {},
     "source": [
      "How many pixel values does this image contain?\n",
      "\n",
      "What do you think the (2D) size of the image will be?"
     ]
    },
    {
     "cell_type": "markdown",
     "metadata": {},
     "source": [
      "Next we want to display the image.  Convert the pixel_values list to an array, and reshape it to some sensible shape."
     ]
    },
    {
     "cell_type": "code",
     "collapsed": false,
     "input": [],
     "language": "python",
     "metadata": {},
     "outputs": []
    },
    {
     "cell_type": "markdown",
     "metadata": {},
     "source": [
      "Show this as an image using matplotlib's `plt` module:"
     ]
    },
    {
     "cell_type": "code",
     "collapsed": false,
     "input": [],
     "language": "python",
     "metadata": {},
     "outputs": []
    },
    {
     "cell_type": "markdown",
     "metadata": {},
     "source": [
      "Is this the right shape already?\n",
      "\n",
      "What do we need to do to make it look right on the plot?\n",
      "\n",
      "Hint - the default `colormap` in matplotlib is called 'jet'."
     ]
    },
    {
     "cell_type": "code",
     "collapsed": false,
     "input": [],
     "language": "python",
     "metadata": {},
     "outputs": []
    },
    {
     "cell_type": "markdown",
     "metadata": {},
     "source": [
      "Now let's say we want to binarize this image so the man's coat and hair and the camera tripod are black and most everything else is white.  How would we do that? We might first take one line out of the image to have a look:"
     ]
    },
    {
     "cell_type": "code",
     "collapsed": false,
     "input": [],
     "language": "python",
     "metadata": {},
     "outputs": []
    },
    {
     "cell_type": "markdown",
     "metadata": {},
     "source": [
      "Now make and plot a binarized version of the image:"
     ]
    },
    {
     "cell_type": "code",
     "collapsed": false,
     "input": [],
     "language": "python",
     "metadata": {},
     "outputs": []
    },
    {
     "cell_type": "markdown",
     "metadata": {},
     "source": [
      "For extra points - the camera guy has a pocket on side of his coat, that you can't see well at the moment.  Can you make a good picture to show the pocket, by thresholding the image?"
     ]
    }
   ],
   "metadata": {}
  }
 ]
}