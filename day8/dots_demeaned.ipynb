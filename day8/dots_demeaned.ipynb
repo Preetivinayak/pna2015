{
 "metadata": {
  "name": "",
  "signature": "sha256:053e9480ae9c5fd25cd71e8b66afe284f62a72e353f73bea46dafc591eed3c36"
 },
 "nbformat": 3,
 "nbformat_minor": 0,
 "worksheets": [
  {
   "cells": [
    {
     "cell_type": "markdown",
     "metadata": {},
     "source": [
      "# Same dot product with vector demeaned and not"
     ]
    },
    {
     "cell_type": "markdown",
     "metadata": {},
     "source": [
      "If we take a vector `x`, then subtract the mean to give `x_demeaned`, and do the same for a vector `y` / `y_demeaned`, then:\n",
      "\n",
      "`x_demeaned.dot(y_demeaned) == x_demeaned.dot(y)`\n",
      "\n",
      "That seems a bit odd, so here's why."
     ]
    },
    {
     "cell_type": "markdown",
     "metadata": {},
     "source": [
      "## It is true, numerically"
     ]
    },
    {
     "cell_type": "code",
     "collapsed": false,
     "input": [
      "import numpy as np"
     ],
     "language": "python",
     "metadata": {},
     "outputs": [],
     "prompt_number": 1
    },
    {
     "cell_type": "code",
     "collapsed": false,
     "input": [
      "x = np.random.normal(5, size=10)\n",
      "y = np.random.normal(5, size=10)\n",
      "x.mean(), y.mean()"
     ],
     "language": "python",
     "metadata": {},
     "outputs": [
      {
       "metadata": {},
       "output_type": "pyout",
       "prompt_number": 2,
       "text": [
        "(4.9396462622635324, 5.7333323837106427)"
       ]
      }
     ],
     "prompt_number": 2
    },
    {
     "cell_type": "code",
     "collapsed": false,
     "input": [
      "x_demeaned = x - x.mean()\n",
      "y_demeaned = y - y.mean()\n",
      "x_demeaned.mean(), y_demeaned.mean()"
     ],
     "language": "python",
     "metadata": {},
     "outputs": [
      {
       "metadata": {},
       "output_type": "pyout",
       "prompt_number": 3,
       "text": [
        "(7.1054273576010023e-16, -8.8817841970012528e-17)"
       ]
      }
     ],
     "prompt_number": 3
    },
    {
     "cell_type": "code",
     "collapsed": false,
     "input": [
      "x_demeaned.dot(y_demeaned)"
     ],
     "language": "python",
     "metadata": {},
     "outputs": [
      {
       "metadata": {},
       "output_type": "pyout",
       "prompt_number": 4,
       "text": [
        "-0.29263185682125592"
       ]
      }
     ],
     "prompt_number": 4
    },
    {
     "cell_type": "markdown",
     "metadata": {},
     "source": [
      "But, strange to relate, the same answer for `y` not demeaned:"
     ]
    },
    {
     "cell_type": "code",
     "collapsed": false,
     "input": [
      "x_demeaned.dot(y)"
     ],
     "language": "python",
     "metadata": {},
     "outputs": [
      {
       "metadata": {},
       "output_type": "pyout",
       "prompt_number": 5,
       "text": [
        "-0.29263185682121495"
       ]
      }
     ],
     "prompt_number": 5
    },
    {
     "cell_type": "markdown",
     "metadata": {},
     "source": [
      "Why?"
     ]
    },
    {
     "cell_type": "markdown",
     "metadata": {},
     "source": [
      "## Demeaned case"
     ]
    },
    {
     "cell_type": "markdown",
     "metadata": {},
     "source": [
      "$$\n",
      "(\\vec{x} - \\bar{x}) \\cdot (\\vec{y} - \\bar{y}) = \\sum_i \\left( (x_i - \\bar{x}) (y_i - \\bar{y}) \\right)\n",
      "$$\n",
      "\n",
      "where $\\bar{x}$ is the mean of $\\vec{x}$: \n",
      "\n",
      "$$\n",
      "\\bar{x} = \\frac{1}{n} \\sum_i x_i\n",
      "$$"
     ]
    },
    {
     "cell_type": "markdown",
     "metadata": {},
     "source": [
      "Expand and separate the sums:\n",
      "\n",
      "$$\n",
      "(\\vec{x} - \\bar{x}) \\cdot (\\vec{y} - \\bar{y}) \\\\\n",
      "= \\sum_i \\left( (x_i - \\bar{x}) (y_i - \\bar{y}) \\right) \\\\\n",
      "= \\sum_i \\left( x_i y_i - \\bar{y}x_i - \\bar{x}y_i - \\bar{x}\\bar{y} \\right) \\\\\n",
      "= \\sum_i x_i y_i - \\bar{y}\\sum_i x_i - \\bar{x} \\sum_i y_i - n\\bar{x}\\bar{y}\n",
      "$$"
     ]
    },
    {
     "cell_type": "markdown",
     "metadata": {},
     "source": [
      "From: $\\bar{x} = \\frac{1}{n} \\sum_i x_i$ and $\\bar{y} = \\frac{1}{n} \\sum_i y_i$:\n",
      "\n",
      "$$\n",
      "\\sum_i x_i y_i - \\bar{y}\\sum_i x_i - \\bar{x} \\sum_i y_i - n\\bar{x}\\bar{y}) = \\\\\n",
      "\\sum_i x_i y_i - \\bar{y} n \\bar{x} - \\bar{x} n \\bar{y} - n\\bar{x}\\bar{y}) = \\\\\n",
      "\\sum_i x_i y_i - \\bar{x} n \\bar{y}\n",
      "$$"
     ]
    },
    {
     "cell_type": "markdown",
     "metadata": {},
     "source": [
      "Let's show that numerically:"
     ]
    },
    {
     "cell_type": "code",
     "collapsed": false,
     "input": [
      "x_demeaned.dot(y_demeaned)  # again"
     ],
     "language": "python",
     "metadata": {},
     "outputs": [
      {
       "metadata": {},
       "output_type": "pyout",
       "prompt_number": 6,
       "text": [
        "-0.29263185682125592"
       ]
      }
     ],
     "prompt_number": 6
    },
    {
     "cell_type": "code",
     "collapsed": false,
     "input": [
      "n = len(x)\n",
      "x.dot(y) - n * x.mean() * y.mean()"
     ],
     "language": "python",
     "metadata": {},
     "outputs": [
      {
       "metadata": {},
       "output_type": "pyout",
       "prompt_number": 7,
       "text": [
        "-0.29263185682123094"
       ]
      }
     ],
     "prompt_number": 7
    },
    {
     "cell_type": "markdown",
     "metadata": {},
     "source": [
      "## Not demeaned case"
     ]
    },
    {
     "cell_type": "markdown",
     "metadata": {},
     "source": [
      "$$\n",
      "(\\vec{x} - \\bar{x}) \\cdot \\vec{y} \\\\\n",
      "= \\sum_i \\left( (x_i - \\bar{x}) y_i \\right) \\\\\n",
      "= \\sum_i x_i y_i - \\bar{x}\\sum_i y_i \\\\\n",
      "= \\sum_i x_i y_i - \\bar{x} n \\bar{y} \n",
      "$$\n",
      "\n",
      "The same as above."
     ]
    }
   ],
   "metadata": {}
  }
 ]
}