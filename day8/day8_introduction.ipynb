{
 "metadata": {
  "name": "",
  "signature": "sha256:0f8f9b243bc80ff16a79fab314bbe82077d29bde621ef54f71c566797040c1d4"
 },
 "nbformat": 3,
 "nbformat_minor": 0,
 "worksheets": [
  {
   "cells": [
    {
     "cell_type": "code",
     "collapsed": false,
     "input": [
      "# - compatibility with Python 3\n",
      "from __future__ import print_function  # print('me') instead of print 'me'\n",
      "from __future__ import division  # 1/2 == 0.5, not 0"
     ],
     "language": "python",
     "metadata": {},
     "outputs": [],
     "prompt_number": 1
    },
    {
     "cell_type": "code",
     "collapsed": false,
     "input": [
      "# - show figures inside the notebook\n",
      "%matplotlib inline"
     ],
     "language": "python",
     "metadata": {},
     "outputs": [],
     "prompt_number": 2
    },
    {
     "cell_type": "code",
     "collapsed": false,
     "input": [
      "# - import common modules\n",
      "import numpy as np  # the Python array package\n",
      "import matplotlib.pyplot as plt  # the Python plotting package"
     ],
     "language": "python",
     "metadata": {},
     "outputs": [],
     "prompt_number": 3
    },
    {
     "cell_type": "markdown",
     "metadata": {},
     "source": [
      "### Reshaping with `np.newaxis`"
     ]
    },
    {
     "cell_type": "markdown",
     "metadata": {},
     "source": [
      "We often want to reshape, adding a single axis length 1.  For example, let's say we had a 1d array:"
     ]
    },
    {
     "cell_type": "code",
     "collapsed": false,
     "input": [
      "arr_1d = np.array([3, 2, 5])\n",
      "arr_1d"
     ],
     "language": "python",
     "metadata": {},
     "outputs": [
      {
       "metadata": {},
       "output_type": "pyout",
       "prompt_number": 4,
       "text": [
        "array([3, 2, 5])"
       ]
      }
     ],
     "prompt_number": 4
    },
    {
     "cell_type": "markdown",
     "metadata": {},
     "source": [
      "We may want to make this into a 2D column vector array, with shape `(3, 1)`.  Obviously we could do that with `reshape`:"
     ]
    },
    {
     "cell_type": "code",
     "collapsed": false,
     "input": [
      "col_vector = arr_1d.reshape(3, 1)\n",
      "col_vector"
     ],
     "language": "python",
     "metadata": {},
     "outputs": [
      {
       "metadata": {},
       "output_type": "pyout",
       "prompt_number": 5,
       "text": [
        "array([[3],\n",
        "       [2],\n",
        "       [5]])"
       ]
      }
     ],
     "prompt_number": 5
    },
    {
     "cell_type": "markdown",
     "metadata": {},
     "source": [
      "This need, of adding a single length 1 dimension, is so common, that numpy has a fancy way of doing that.  To do this, you use the constant `np.newaxis` inside a slicing operation, to return the requested slice, but with an extra length 1 axis in the position you specified:"
     ]
    },
    {
     "cell_type": "code",
     "collapsed": false,
     "input": [
      "arr_1d[:, np.newaxis]  # Add length 1 axis to end, make column vector"
     ],
     "language": "python",
     "metadata": {},
     "outputs": [
      {
       "metadata": {},
       "output_type": "pyout",
       "prompt_number": 6,
       "text": [
        "array([[3],\n",
        "       [2],\n",
        "       [5]])"
       ]
      }
     ],
     "prompt_number": 6
    },
    {
     "cell_type": "code",
     "collapsed": false,
     "input": [
      "arr_1d[np.newaxis, :]  # Add length 1 axis to start, make row vector"
     ],
     "language": "python",
     "metadata": {},
     "outputs": [
      {
       "metadata": {},
       "output_type": "pyout",
       "prompt_number": 7,
       "text": [
        "array([[3, 2, 5]])"
       ]
      }
     ],
     "prompt_number": 7
    },
    {
     "cell_type": "markdown",
     "metadata": {},
     "source": [
      "### Repeating data over axes with `np.tile`"
     ]
    },
    {
     "cell_type": "markdown",
     "metadata": {},
     "source": [
      "``np.tile`` can be used to replicate data within an array."
     ]
    },
    {
     "cell_type": "markdown",
     "metadata": {},
     "source": [
      "For example, let's say I have a row vector `R`:"
     ]
    },
    {
     "cell_type": "code",
     "collapsed": false,
     "input": [
      "R = np.array([[1, 2]])\n",
      "R"
     ],
     "language": "python",
     "metadata": {},
     "outputs": [
      {
       "metadata": {},
       "output_type": "pyout",
       "prompt_number": 8,
       "text": [
        "array([[1, 2]])"
       ]
      }
     ],
     "prompt_number": 8
    },
    {
     "cell_type": "markdown",
     "metadata": {},
     "source": [
      "I might want to make a new array, where I repeat the row 4 times, to make a 4 by 2 array.  I specify the number of repeats on each axis.  In this case I want to repeat the first axis 4 times, and the second axis I don't want to repeat - so I repeat 1 time:"
     ]
    },
    {
     "cell_type": "code",
     "collapsed": false,
     "input": [
      "np.tile(R, [4, 1])"
     ],
     "language": "python",
     "metadata": {},
     "outputs": [
      {
       "metadata": {},
       "output_type": "pyout",
       "prompt_number": 9,
       "text": [
        "array([[1, 2],\n",
        "       [1, 2],\n",
        "       [1, 2],\n",
        "       [1, 2]])"
       ]
      }
     ],
     "prompt_number": 9
    },
    {
     "cell_type": "markdown",
     "metadata": {},
     "source": [
      "### Basic broadcasting"
     ]
    },
    {
     "cell_type": "markdown",
     "metadata": {},
     "source": [
      "Numpy has a very useful but somewhat advanced feature called *broadcasting*.  Broadcasting is a system that numpy uses when trying to match the shapes of two arrays, that do not have the same shape.\n",
      "\n",
      "Let's say you have two arrays, `A` and `B`:"
     ]
    },
    {
     "cell_type": "code",
     "collapsed": false,
     "input": [
      "A = np.array([[2, 3], [4, 5], [6, 7]])\n",
      "A"
     ],
     "language": "python",
     "metadata": {},
     "outputs": [
      {
       "metadata": {},
       "output_type": "pyout",
       "prompt_number": 10,
       "text": [
        "array([[2, 3],\n",
        "       [4, 5],\n",
        "       [6, 7]])"
       ]
      }
     ],
     "prompt_number": 10
    },
    {
     "cell_type": "code",
     "collapsed": false,
     "input": [
      "B = np.array([1, 3])\n",
      "B"
     ],
     "language": "python",
     "metadata": {},
     "outputs": [
      {
       "metadata": {},
       "output_type": "pyout",
       "prompt_number": 11,
       "text": [
        "array([1, 3])"
       ]
      }
     ],
     "prompt_number": 11
    },
    {
     "cell_type": "markdown",
     "metadata": {},
     "source": [
      "`A` has shape `(3, 2)` and `B` has shape `(2,)`.  What will happen if I try and add the arrays `A` and `B`?\n",
      "\n",
      "One thing that could happen, is that numpy raises an error.  Another thing that might happen, is that numpy might realize that you meant to match the only axis of `B` to the last axis of `A`, and make enough copies of the only axis of `B` to match the 3 columns of `A`.  Something like this:"
     ]
    },
    {
     "cell_type": "code",
     "collapsed": false,
     "input": [
      "new_B = np.tile(B, (3, 1))\n",
      "new_B"
     ],
     "language": "python",
     "metadata": {},
     "outputs": [
      {
       "metadata": {},
       "output_type": "pyout",
       "prompt_number": 12,
       "text": [
        "array([[1, 3],\n",
        "       [1, 3],\n",
        "       [1, 3]])"
       ]
      }
     ],
     "prompt_number": 12
    },
    {
     "cell_type": "markdown",
     "metadata": {},
     "source": [
      "Then the subtraction would be:"
     ]
    },
    {
     "cell_type": "code",
     "collapsed": false,
     "input": [
      "A - new_B"
     ],
     "language": "python",
     "metadata": {},
     "outputs": [
      {
       "metadata": {},
       "output_type": "pyout",
       "prompt_number": 13,
       "text": [
        "array([[1, 0],\n",
        "       [3, 2],\n",
        "       [5, 4]])"
       ]
      }
     ],
     "prompt_number": 13
    },
    {
     "cell_type": "markdown",
     "metadata": {},
     "source": [
      "In fact, that is exactly what numpy does by default, using broadcasting:"
     ]
    },
    {
     "cell_type": "code",
     "collapsed": false,
     "input": [
      "A - B"
     ],
     "language": "python",
     "metadata": {},
     "outputs": [
      {
       "metadata": {},
       "output_type": "pyout",
       "prompt_number": 14,
       "text": [
        "array([[1, 0],\n",
        "       [3, 2],\n",
        "       [5, 4]])"
       ]
      }
     ],
     "prompt_number": 14
    },
    {
     "cell_type": "markdown",
     "metadata": {},
     "source": [
      "A simplified version of the rules that numpy uses is the following:\n",
      "\n",
      "* If `B` has fewer dimensions than `A`, prepend as many new 1-length dimensions to `B` as necessary (shape of `B` goes from `(2,)` to `(1, 2)` in this case;\n",
      "* If there are any 1-length dimensions in the new `B` shape, and the corresponding dimension in `A` is not 1, make as many repeats of the data along this axis as needed to fill out the 1-length dimension to the length of the matching dimension in `A`.\n",
      "* Do the operation on the original `A` and the modified `B`.\n",
      "\n",
      "So, in our case, that would look like:"
     ]
    },
    {
     "cell_type": "code",
     "collapsed": false,
     "input": [
      "B_1 = B.reshape(1, 2)\n",
      "B_1"
     ],
     "language": "python",
     "metadata": {},
     "outputs": [
      {
       "metadata": {},
       "output_type": "pyout",
       "prompt_number": 15,
       "text": [
        "array([[1, 3]])"
       ]
      }
     ],
     "prompt_number": 15
    },
    {
     "cell_type": "code",
     "collapsed": false,
     "input": [
      "B_2 = np.tile(B_1, [3, 1])\n",
      "B_2"
     ],
     "language": "python",
     "metadata": {},
     "outputs": [
      {
       "metadata": {},
       "output_type": "pyout",
       "prompt_number": 16,
       "text": [
        "array([[1, 3],\n",
        "       [1, 3],\n",
        "       [1, 3]])"
       ]
      }
     ],
     "prompt_number": 16
    },
    {
     "cell_type": "code",
     "collapsed": false,
     "input": [
      "A - B_2"
     ],
     "language": "python",
     "metadata": {},
     "outputs": [
      {
       "metadata": {},
       "output_type": "pyout",
       "prompt_number": 17,
       "text": [
        "array([[1, 0],\n",
        "       [3, 2],\n",
        "       [5, 4]])"
       ]
      }
     ],
     "prompt_number": 17
    }
   ],
   "metadata": {}
  }
 ]
}