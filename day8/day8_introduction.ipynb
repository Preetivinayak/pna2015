{
 "metadata": {
  "name": "",
  "signature": "sha256:d69183743fd0e1160bf16b5170ee7c05488e662d9404ead9b62235e7fdf23f6d"
 },
 "nbformat": 3,
 "nbformat_minor": 0,
 "worksheets": [
  {
   "cells": [
    {
     "cell_type": "code",
     "collapsed": false,
     "input": [
      "# - compatibility with Python 3\n",
      "from __future__ import print_function  # print('me') instead of print 'me'\n",
      "from __future__ import division  # 1/2 == 0.5, not 0"
     ],
     "language": "python",
     "metadata": {},
     "outputs": [],
     "prompt_number": 1
    },
    {
     "cell_type": "code",
     "collapsed": false,
     "input": [
      "# - show figures inside the notebook\n",
      "%matplotlib inline"
     ],
     "language": "python",
     "metadata": {},
     "outputs": [],
     "prompt_number": 2
    },
    {
     "cell_type": "code",
     "collapsed": false,
     "input": [
      "# - import common modules\n",
      "import numpy as np  # the Python array package\n",
      "import matplotlib.pyplot as plt  # the Python plotting package"
     ],
     "language": "python",
     "metadata": {},
     "outputs": [],
     "prompt_number": 3
    },
    {
     "cell_type": "markdown",
     "metadata": {},
     "source": [
      "### Reshaping with `np.newaxis`"
     ]
    },
    {
     "cell_type": "markdown",
     "metadata": {},
     "source": [
      "We often want to reshape, adding a single axis length 1.  For example, let's say we had a 1d array:"
     ]
    },
    {
     "cell_type": "code",
     "collapsed": false,
     "input": [
      "arr_1d = np.array([3, 2, 5])\n",
      "arr_1d"
     ],
     "language": "python",
     "metadata": {},
     "outputs": [
      {
       "metadata": {},
       "output_type": "pyout",
       "prompt_number": 4,
       "text": [
        "array([3, 2, 5])"
       ]
      }
     ],
     "prompt_number": 4
    },
    {
     "cell_type": "markdown",
     "metadata": {},
     "source": [
      "We may want to make this into a 2D column vector array, with shape `(3, 1)`.  Obviously we could do that with `reshape`:"
     ]
    },
    {
     "cell_type": "code",
     "collapsed": false,
     "input": [
      "col_vector = arr_1d.reshape(3, 1)\n",
      "col_vector"
     ],
     "language": "python",
     "metadata": {},
     "outputs": [
      {
       "metadata": {},
       "output_type": "pyout",
       "prompt_number": 5,
       "text": [
        "array([[3],\n",
        "       [2],\n",
        "       [5]])"
       ]
      }
     ],
     "prompt_number": 5
    },
    {
     "cell_type": "markdown",
     "metadata": {},
     "source": [
      "This need, of adding a single length 1 dimension, is so common, that numpy has a fancy way of doing that.  To do this, you use the constant `np.newaxis` inside a slicing operation, to return the requested slice, but with an extra length 1 axis in the position you specified:"
     ]
    },
    {
     "cell_type": "code",
     "collapsed": false,
     "input": [
      "arr_1d[:, np.newaxis]  # Add length 1 axis to end, make column vector"
     ],
     "language": "python",
     "metadata": {},
     "outputs": [
      {
       "metadata": {},
       "output_type": "pyout",
       "prompt_number": 6,
       "text": [
        "array([[3],\n",
        "       [2],\n",
        "       [5]])"
       ]
      }
     ],
     "prompt_number": 6
    },
    {
     "cell_type": "code",
     "collapsed": false,
     "input": [
      "arr_1d[np.newaxis, :]  # Add length 1 axis to start, make row vector"
     ],
     "language": "python",
     "metadata": {},
     "outputs": [
      {
       "metadata": {},
       "output_type": "pyout",
       "prompt_number": 7,
       "text": [
        "array([[3, 2, 5]])"
       ]
      }
     ],
     "prompt_number": 7
    },
    {
     "cell_type": "markdown",
     "metadata": {},
     "source": [
      "### Repeating data over axes with `np.tile`"
     ]
    },
    {
     "cell_type": "markdown",
     "metadata": {},
     "source": [
      "``np.tile`` can be used to replicate data within an array."
     ]
    },
    {
     "cell_type": "markdown",
     "metadata": {},
     "source": [
      "For example, let's say I have a row vector `R`:"
     ]
    },
    {
     "cell_type": "code",
     "collapsed": false,
     "input": [
      "R = np.array([[1, 2]])\n",
      "R"
     ],
     "language": "python",
     "metadata": {},
     "outputs": [
      {
       "metadata": {},
       "output_type": "pyout",
       "prompt_number": 8,
       "text": [
        "array([[1, 2]])"
       ]
      }
     ],
     "prompt_number": 8
    },
    {
     "cell_type": "markdown",
     "metadata": {},
     "source": [
      "I might want to make a new array, where I repeat the row 4 times, to make a 4 by 2 array.  I specify the number of repeats on each axis.  In this case I want to repeat the first axis 4 times, and the second axis I don't want to repeat - so I repeat 1 time:"
     ]
    },
    {
     "cell_type": "code",
     "collapsed": false,
     "input": [
      "np.tile(R, [4, 1])"
     ],
     "language": "python",
     "metadata": {},
     "outputs": [
      {
       "metadata": {},
       "output_type": "pyout",
       "prompt_number": 9,
       "text": [
        "array([[1, 2],\n",
        "       [1, 2],\n",
        "       [1, 2],\n",
        "       [1, 2]])"
       ]
      }
     ],
     "prompt_number": 9
    },
    {
     "cell_type": "markdown",
     "metadata": {},
     "source": [
      "### Basic broadcasting"
     ]
    },
    {
     "cell_type": "markdown",
     "metadata": {},
     "source": [
      "Numpy has a very useful but somewhat advanced feature called *broadcasting*.  Broadcasting is a system that numpy uses when trying to match the shapes of two arrays, that do not have the same shape.\n",
      "\n",
      "Let's say you have two arrays, `A` and `B`:"
     ]
    },
    {
     "cell_type": "code",
     "collapsed": false,
     "input": [
      "A = np.array([[2, 3], [4, 5], [6, 7]])\n",
      "A"
     ],
     "language": "python",
     "metadata": {},
     "outputs": [
      {
       "metadata": {},
       "output_type": "pyout",
       "prompt_number": 10,
       "text": [
        "array([[2, 3],\n",
        "       [4, 5],\n",
        "       [6, 7]])"
       ]
      }
     ],
     "prompt_number": 10
    },
    {
     "cell_type": "code",
     "collapsed": false,
     "input": [
      "B = np.array([1, 3])\n",
      "B"
     ],
     "language": "python",
     "metadata": {},
     "outputs": [
      {
       "metadata": {},
       "output_type": "pyout",
       "prompt_number": 11,
       "text": [
        "array([1, 3])"
       ]
      }
     ],
     "prompt_number": 11
    },
    {
     "cell_type": "markdown",
     "metadata": {},
     "source": [
      "`A` has shape `(3, 2)` and `B` has shape `(2,)`.  What will happen if I try and add the arrays `A` and `B`?\n",
      "\n",
      "One thing that could happen, is that numpy raises an error.  Another thing that might happen, is that numpy might realize that you meant to match the only axis of `B` to the last axis of `A`, and make enough copies of the only axis of `B` to match the 3 columns of `A`.  Something like this:"
     ]
    },
    {
     "cell_type": "code",
     "collapsed": false,
     "input": [
      "new_B = np.tile(B, (3, 1))\n",
      "new_B"
     ],
     "language": "python",
     "metadata": {},
     "outputs": [
      {
       "metadata": {},
       "output_type": "pyout",
       "prompt_number": 12,
       "text": [
        "array([[1, 3],\n",
        "       [1, 3],\n",
        "       [1, 3]])"
       ]
      }
     ],
     "prompt_number": 12
    },
    {
     "cell_type": "markdown",
     "metadata": {},
     "source": [
      "Then the subtraction would be:"
     ]
    },
    {
     "cell_type": "code",
     "collapsed": false,
     "input": [
      "A - new_B"
     ],
     "language": "python",
     "metadata": {},
     "outputs": [
      {
       "metadata": {},
       "output_type": "pyout",
       "prompt_number": 13,
       "text": [
        "array([[1, 0],\n",
        "       [3, 2],\n",
        "       [5, 4]])"
       ]
      }
     ],
     "prompt_number": 13
    },
    {
     "cell_type": "markdown",
     "metadata": {},
     "source": [
      "In fact, that is exactly what numpy does by default, using broadcasting:"
     ]
    },
    {
     "cell_type": "code",
     "collapsed": false,
     "input": [
      "A - B"
     ],
     "language": "python",
     "metadata": {},
     "outputs": [
      {
       "metadata": {},
       "output_type": "pyout",
       "prompt_number": 14,
       "text": [
        "array([[1, 0],\n",
        "       [3, 2],\n",
        "       [5, 4]])"
       ]
      }
     ],
     "prompt_number": 14
    },
    {
     "cell_type": "markdown",
     "metadata": {},
     "source": [
      "A simplified version of the rules that numpy uses is the following:\n",
      "\n",
      "* If `B` has fewer dimensions than `A`, prepend as many new 1-length dimensions to `B` as necessary (shape of `B` goes from `(2,)` to `(1, 2)` in this case;\n",
      "* If there are any 1-length dimensions in the new `B` shape, and the corresponding dimension in `A` is not 1, make as many repeats of the data along this axis as needed to fill out the 1-length dimension to the length of the matching dimension in `A`.\n",
      "* Do the operation on the original `A` and the modified `B`.\n",
      "\n",
      "So, in our case, that would look like:"
     ]
    },
    {
     "cell_type": "code",
     "collapsed": false,
     "input": [
      "B_1 = B.reshape(1, 2)\n",
      "B_1"
     ],
     "language": "python",
     "metadata": {},
     "outputs": [
      {
       "metadata": {},
       "output_type": "pyout",
       "prompt_number": 15,
       "text": [
        "array([[1, 3]])"
       ]
      }
     ],
     "prompt_number": 15
    },
    {
     "cell_type": "code",
     "collapsed": false,
     "input": [
      "B_2 = np.tile(B_1, [3, 1])\n",
      "B_2"
     ],
     "language": "python",
     "metadata": {},
     "outputs": [
      {
       "metadata": {},
       "output_type": "pyout",
       "prompt_number": 16,
       "text": [
        "array([[1, 3],\n",
        "       [1, 3],\n",
        "       [1, 3]])"
       ]
      }
     ],
     "prompt_number": 16
    },
    {
     "cell_type": "code",
     "collapsed": false,
     "input": [
      "A - B_2"
     ],
     "language": "python",
     "metadata": {},
     "outputs": [
      {
       "metadata": {},
       "output_type": "pyout",
       "prompt_number": 17,
       "text": [
        "array([[1, 0],\n",
        "       [3, 2],\n",
        "       [5, 4]])"
       ]
      }
     ],
     "prompt_number": 17
    },
    {
     "cell_type": "markdown",
     "metadata": {},
     "source": [
      "## Dictionaries - key, value containers"
     ]
    },
    {
     "cell_type": "markdown",
     "metadata": {},
     "source": [
      "The *dictionary* is a very useful fundamental type in Python.\n",
      "\n",
      "The dictionary is made up of key, value pairs.\n",
      "\n",
      "The *key* is the thing that allows you to look up a *value*.  Like this:"
     ]
    },
    {
     "cell_type": "code",
     "collapsed": false,
     "input": [
      "some_scores = {'matthew': 11, 'jb': 21}\n",
      "some_scores"
     ],
     "language": "python",
     "metadata": {},
     "outputs": [
      {
       "metadata": {},
       "output_type": "pyout",
       "prompt_number": 18,
       "text": [
        "{'jb': 21, 'matthew': 11}"
       ]
      }
     ],
     "prompt_number": 18
    },
    {
     "cell_type": "markdown",
     "metadata": {},
     "source": [
      "Here `jb` and `matthew` are *keys*.  If I want the `jb` *value*, I can look it up, using the `jb` key:"
     ]
    },
    {
     "cell_type": "code",
     "collapsed": false,
     "input": [
      "some_scores['jb']"
     ],
     "language": "python",
     "metadata": {},
     "outputs": [
      {
       "metadata": {},
       "output_type": "pyout",
       "prompt_number": 19,
       "text": [
        "21"
       ]
      }
     ],
     "prompt_number": 19
    },
    {
     "cell_type": "markdown",
     "metadata": {},
     "source": [
      "Same for the `matthew` value:"
     ]
    },
    {
     "cell_type": "code",
     "collapsed": false,
     "input": [
      "some_scores['matthew']"
     ],
     "language": "python",
     "metadata": {},
     "outputs": [
      {
       "metadata": {},
       "output_type": "pyout",
       "prompt_number": 20,
       "text": [
        "11"
       ]
      }
     ],
     "prompt_number": 20
    },
    {
     "cell_type": "markdown",
     "metadata": {},
     "source": [
      "I can add a key, value pair, by assigning like this:"
     ]
    },
    {
     "cell_type": "code",
     "collapsed": false,
     "input": [
      "some_scores['stefan'] = 2  # oh dear"
     ],
     "language": "python",
     "metadata": {},
     "outputs": [],
     "prompt_number": 21
    },
    {
     "cell_type": "code",
     "collapsed": false,
     "input": [
      "some_scores"
     ],
     "language": "python",
     "metadata": {},
     "outputs": [
      {
       "metadata": {},
       "output_type": "pyout",
       "prompt_number": 22,
       "text": [
        "{'jb': 21, 'matthew': 11, 'stefan': 2}"
       ]
      }
     ],
     "prompt_number": 22
    },
    {
     "cell_type": "markdown",
     "metadata": {},
     "source": [
      "The keys are often strings, as here, but the keys can be lots of different things, such as numbers or tuples:"
     ]
    },
    {
     "cell_type": "code",
     "collapsed": false,
     "input": [
      "some_scores[99] = 7  # 0 is just a number, doesn't refer to position\n",
      "some_scores"
     ],
     "language": "python",
     "metadata": {},
     "outputs": [
      {
       "metadata": {},
       "output_type": "pyout",
       "prompt_number": 23,
       "text": [
        "{99: 7, 'jb': 21, 'matthew': 11, 'stefan': 2}"
       ]
      }
     ],
     "prompt_number": 23
    },
    {
     "cell_type": "markdown",
     "metadata": {},
     "source": [
      "As you may see from the output above, the order of the keys is unpredictable, because Python arranges them as it likes.  Only the relationship between the keys and the values is guaranteed."
     ]
    },
    {
     "cell_type": "markdown",
     "metadata": {},
     "source": [
      "We'll see dictionaries coming up often as we use Python more."
     ]
    },
    {
     "cell_type": "markdown",
     "metadata": {},
     "source": [
      "## Setting defaults for plotting"
     ]
    },
    {
     "cell_type": "markdown",
     "metadata": {},
     "source": [
      "We often want to display images with a gray colormap, and with nearest neighbor interpolation:"
     ]
    },
    {
     "cell_type": "code",
     "collapsed": false,
     "input": [
      "import nibabel as nib\n",
      "img = nib.load('ds114_sub009_t2r1.nii')\n",
      "data = img.get_data()\n",
      "# Not like this:\n",
      "plt.imshow(data[:, :, 15, 0])"
     ],
     "language": "python",
     "metadata": {},
     "outputs": [
      {
       "metadata": {},
       "output_type": "pyout",
       "prompt_number": 24,
       "text": [
        "<matplotlib.image.AxesImage at 0x1076502d0>"
       ]
      },
      {
       "metadata": {},
       "output_type": "display_data",
       "png": "[encoded data removed]",
       "text": [
        "<matplotlib.figure.Figure at 0x10608f810>"
       ]
      }
     ],
     "prompt_number": 24
    },
    {
     "cell_type": "code",
     "collapsed": false,
     "input": [
      "# But like this:\n",
      "plt.imshow(data[:, :, 15, 0], cmap='gray', interpolation='nearest')"
     ],
     "language": "python",
     "metadata": {},
     "outputs": [
      {
       "metadata": {},
       "output_type": "pyout",
       "prompt_number": 25,
       "text": [
        "<matplotlib.image.AxesImage at 0x10a0a5050>"
       ]
      },
      {
       "metadata": {},
       "output_type": "display_data",
       "png": "[encoded data removed]",
       "text": [
        "<matplotlib.figure.Figure at 0x107662e10>"
       ]
      }
     ],
     "prompt_number": 25
    },
    {
     "cell_type": "markdown",
     "metadata": {},
     "source": [
      "Notice this second image is - grayscale - but also - less blurry - showing us the individual pixels."
     ]
    },
    {
     "cell_type": "markdown",
     "metadata": {},
     "source": [
      "We can tell matplotlib to use these settings by default, by using the `rcParams` dictionary:"
     ]
    },
    {
     "cell_type": "code",
     "collapsed": false,
     "input": [
      "# Set gray colormap and nearest neighbor interpolation by default\n",
      "plt.rcParams['image.cmap'] = 'gray'\n",
      "plt.rcParams['image.interpolation'] = 'nearest'"
     ],
     "language": "python",
     "metadata": {},
     "outputs": [],
     "prompt_number": 26
    },
    {
     "cell_type": "markdown",
     "metadata": {},
     "source": [
      "Now we don't need to set these setting specifically:"
     ]
    },
    {
     "cell_type": "code",
     "collapsed": false,
     "input": [
      "plt.imshow(data[:, :, 15, 0])"
     ],
     "language": "python",
     "metadata": {},
     "outputs": [
      {
       "metadata": {},
       "output_type": "pyout",
       "prompt_number": 28,
       "text": [
        "<matplotlib.image.AxesImage at 0x10a452310>"
       ]
      },
      {
       "metadata": {},
       "output_type": "display_data",
       "png": "[encoded data removed]",
       "text": [
        "<matplotlib.figure.Figure at 0x10a183690>"
       ]
      }
     ],
     "prompt_number": 28
    },
    {
     "cell_type": "markdown",
     "metadata": {},
     "source": [
      "## Make a copy of an array"
     ]
    },
    {
     "cell_type": "code",
     "collapsed": false,
     "input": [
      "arr = np.arange(10)\n",
      "arr"
     ],
     "language": "python",
     "metadata": {},
     "outputs": [
      {
       "metadata": {},
       "output_type": "pyout",
       "prompt_number": 29,
       "text": [
        "array([0, 1, 2, 3, 4, 5, 6, 7, 8, 9])"
       ]
      }
     ],
     "prompt_number": 29
    },
    {
     "cell_type": "markdown",
     "metadata": {},
     "source": [
      "We can make another variable point to this, but that's probably not a good idea:"
     ]
    },
    {
     "cell_type": "code",
     "collapsed": false,
     "input": [
      "arr2 = arr\n",
      "arr2[0] = 42\n",
      "arr"
     ],
     "language": "python",
     "metadata": {},
     "outputs": [
      {
       "metadata": {},
       "output_type": "pyout",
       "prompt_number": 30,
       "text": [
        "array([42,  1,  2,  3,  4,  5,  6,  7,  8,  9])"
       ]
      }
     ],
     "prompt_number": 30
    },
    {
     "cell_type": "markdown",
     "metadata": {},
     "source": [
      "Oops, we have modified the original array.  It's often better to make an explicit copy:"
     ]
    },
    {
     "cell_type": "code",
     "collapsed": false,
     "input": [
      "arr3 = arr.copy()  # The copy method"
     ],
     "language": "python",
     "metadata": {},
     "outputs": [],
     "prompt_number": 31
    },
    {
     "cell_type": "markdown",
     "metadata": {},
     "source": [
      "We can modify the new copy without modifying the original:"
     ]
    },
    {
     "cell_type": "code",
     "collapsed": false,
     "input": [
      "arr3[0] = 99\n",
      "arr3"
     ],
     "language": "python",
     "metadata": {},
     "outputs": [
      {
       "metadata": {},
       "output_type": "pyout",
       "prompt_number": 32,
       "text": [
        "array([99,  1,  2,  3,  4,  5,  6,  7,  8,  9])"
       ]
      }
     ],
     "prompt_number": 32
    },
    {
     "cell_type": "code",
     "collapsed": false,
     "input": [
      "arr"
     ],
     "language": "python",
     "metadata": {},
     "outputs": [
      {
       "metadata": {},
       "output_type": "pyout",
       "prompt_number": 33,
       "text": [
        "array([42,  1,  2,  3,  4,  5,  6,  7,  8,  9])"
       ]
      }
     ],
     "prompt_number": 33
    }
   ],
   "metadata": {}
  }
 ]
}