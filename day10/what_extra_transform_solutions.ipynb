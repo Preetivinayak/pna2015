{
 "metadata": {
  "name": "",
  "signature": "sha256:ce22b3ae1f927ff541f322d81f675441d2e96ec25aa921e34025a5a63e5a6141"
 },
 "nbformat": 3,
 "nbformat_minor": 0,
 "worksheets": [
  {
   "cells": [
    {
     "cell_type": "code",
     "collapsed": false,
     "input": [
      "# - compatibility with Python 3\n",
      "from __future__ import print_function  # print('me') instead of print 'me'\n",
      "from __future__ import division  # 1/2 == 0.5, not 0"
     ],
     "language": "python",
     "metadata": {},
     "outputs": [],
     "prompt_number": 1
    },
    {
     "cell_type": "code",
     "collapsed": false,
     "input": [
      "# - show figures inside the notebook\n",
      "%matplotlib inline"
     ],
     "language": "python",
     "metadata": {},
     "outputs": [],
     "prompt_number": 2
    },
    {
     "cell_type": "code",
     "collapsed": false,
     "input": [
      "# - import common modules\n",
      "import numpy as np  # the Python array package\n",
      "import matplotlib.pyplot as plt  # the Python plotting package"
     ],
     "language": "python",
     "metadata": {},
     "outputs": [],
     "prompt_number": 3
    },
    {
     "cell_type": "code",
     "collapsed": false,
     "input": [
      "# - set gray colormap and nearest neighbor interpolation by default\n",
      "plt.rcParams['image.cmap'] = 'gray'\n",
      "plt.rcParams['image.interpolation'] = 'nearest'"
     ],
     "language": "python",
     "metadata": {},
     "outputs": [],
     "prompt_number": 4
    },
    {
     "cell_type": "code",
     "collapsed": false,
     "input": [
      "# - import numpy.linalg with a shorter name\n",
      "import numpy.linalg as npl"
     ],
     "language": "python",
     "metadata": {},
     "outputs": [],
     "prompt_number": 5
    },
    {
     "cell_type": "code",
     "collapsed": false,
     "input": [
      "# - make numpy print out values in less verbose form\n",
      "np.set_printoptions(suppress=True, precision=4)"
     ],
     "language": "python",
     "metadata": {},
     "outputs": [],
     "prompt_number": 6
    },
    {
     "cell_type": "markdown",
     "metadata": {},
     "source": [
      "## What transforms did I add?"
     ]
    },
    {
     "cell_type": "markdown",
     "metadata": {},
     "source": [
      "I took this image\n",
      "\n",
      "* `ds114_sub009_highres.nii`\n",
      "\n",
      "and I made a new copy, in `img, hdr` format:\n",
      "\n",
      "* `ds114_sub009_highres_moved.img`\n",
      "\n",
      "I then modified the affine in `ds114_sub009_highres_moved.hdr` to add an extra rotation and translation.\n",
      "\n",
      "What extra translation and rotation did I add?"
     ]
    },
    {
     "cell_type": "markdown",
     "metadata": {},
     "source": [
      "Hint: remember the rotation formulae:\n",
      "\n",
      "$$\n",
      "\\begin{alignat}{1}\n",
      "R_x(\\theta) &= \\begin{bmatrix}\n",
      "1 & 0 & 0 \\\\\n",
      "0 & \\cos \\theta &  -\\sin \\theta \\\\[3pt]\n",
      "0 & \\sin \\theta  &  \\cos \\theta \\\\[3pt]\n",
      "\\end{bmatrix} \\\\[6pt]\n",
      "R_y(\\theta) &= \\begin{bmatrix}\n",
      "\\cos \\theta & 0 & \\sin \\theta \\\\[3pt]\n",
      "0 & 1 & 0 \\\\[3pt]\n",
      "-\\sin \\theta & 0 & \\cos \\theta \\\\\n",
      "\\end{bmatrix} \\\\[6pt]\n",
      "R_z(\\theta) &= \\begin{bmatrix}\n",
      "\\cos \\theta &  -\\sin \\theta & 0 \\\\[3pt]\n",
      "\\sin \\theta & \\cos \\theta & 0\\\\[3pt]\n",
      "0 & 0 & 1\\\\\n",
      "\\end{bmatrix}\n",
      "\\end{alignat}\n",
      "$$"
     ]
    },
    {
     "cell_type": "markdown",
     "metadata": {},
     "source": [
      "You might also want to compare against results from our `rotations` code:"
     ]
    },
    {
     "cell_type": "code",
     "collapsed": false,
     "input": [
      "# - get functions to make rotation matrices\n",
      "from rotations import x_rotmat, y_rotmat, x_rotmat"
     ],
     "language": "python",
     "metadata": {},
     "outputs": [
      {
       "ename": "ImportError",
       "evalue": "No module named rotations",
       "output_type": "pyerr",
       "traceback": [
        "\u001b[0;31m---------------------------------------------------------------------------\u001b[0m\n\u001b[0;31mImportError\u001b[0m                               Traceback (most recent call last)",
        "\u001b[0;32m<ipython-input-7-55f0bfb449e8>\u001b[0m in \u001b[0;36m<module>\u001b[0;34m()\u001b[0m\n\u001b[1;32m      1\u001b[0m \u001b[0;31m# - get functions to make rotation matrices\u001b[0m\u001b[0;34m\u001b[0m\u001b[0;34m\u001b[0m\u001b[0m\n\u001b[0;32m----> 2\u001b[0;31m \u001b[0;32mfrom\u001b[0m \u001b[0mrotations\u001b[0m \u001b[0;32mimport\u001b[0m \u001b[0mx_rotmat\u001b[0m\u001b[0;34m,\u001b[0m \u001b[0my_rotmat\u001b[0m\u001b[0;34m,\u001b[0m \u001b[0mx_rotmat\u001b[0m\u001b[0;34m\u001b[0m\u001b[0m\n\u001b[0m",
        "\u001b[0;31mImportError\u001b[0m: No module named rotations"
       ]
      }
     ],
     "prompt_number": 7
    },
    {
     "cell_type": "code",
     "collapsed": false,
     "input": [
      "# Get the original image affine\n",
      "import nibabel as nib\n",
      "orig_img = nib.load('ds114_sub009_highres.nii')\n",
      "print(orig_img.affine)"
     ],
     "language": "python",
     "metadata": {},
     "outputs": []
    },
    {
     "cell_type": "code",
     "collapsed": false,
     "input": [
      "# Get the new image affine\n",
      "moved_img = nib.load('ds114_sub009_highres_moved.img')\n",
      "moved_img.affine"
     ],
     "language": "python",
     "metadata": {},
     "outputs": []
    },
    {
     "cell_type": "code",
     "collapsed": false,
     "input": [
      "# Work out what transform has been added in the new affine\n",
      "extra = moved_img.affine.dot(npl.inv(orig_img.affine))\n",
      "extra"
     ],
     "language": "python",
     "metadata": {},
     "outputs": []
    },
    {
     "cell_type": "code",
     "collapsed": false,
     "input": [
      "# What rotation and translation has been applied?\n",
      "z_angle = np.arccos(extra[0, 0])"
     ],
     "language": "python",
     "metadata": {},
     "outputs": [
      {
       "ename": "NameError",
       "evalue": "name 'extra' is not defined",
       "output_type": "pyerr",
       "traceback": [
        "\u001b[0;31m---------------------------------------------------------------------------\u001b[0m\n\u001b[0;31mNameError\u001b[0m                                 Traceback (most recent call last)",
        "\u001b[0;32m<ipython-input-9-892da472d33a>\u001b[0m in \u001b[0;36m<module>\u001b[0;34m()\u001b[0m\n\u001b[1;32m      1\u001b[0m \u001b[0;31m# What rotation and translation has been applied?\u001b[0m\u001b[0;34m\u001b[0m\u001b[0;34m\u001b[0m\u001b[0m\n\u001b[0;32m----> 2\u001b[0;31m \u001b[0mz_angle\u001b[0m \u001b[0;34m=\u001b[0m \u001b[0mnp\u001b[0m\u001b[0;34m.\u001b[0m\u001b[0marccos\u001b[0m\u001b[0;34m(\u001b[0m\u001b[0mextra\u001b[0m\u001b[0;34m[\u001b[0m\u001b[0;36m0\u001b[0m\u001b[0;34m,\u001b[0m \u001b[0;36m0\u001b[0m\u001b[0;34m]\u001b[0m\u001b[0;34m)\u001b[0m\u001b[0;34m\u001b[0m\u001b[0m\n\u001b[0m",
        "\u001b[0;31mNameError\u001b[0m: name 'extra' is not defined"
       ]
      }
     ],
     "prompt_number": 9
    },
    {
     "cell_type": "code",
     "collapsed": false,
     "input": [],
     "language": "python",
     "metadata": {},
     "outputs": []
    }
   ],
   "metadata": {}
  }
 ]
}